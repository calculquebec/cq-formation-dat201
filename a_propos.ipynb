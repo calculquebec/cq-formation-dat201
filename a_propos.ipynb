{
 "cells": [
  {
   "cell_type": "markdown",
   "metadata": {},
   "source": [
    "# Analyse de données et visualisation en Python"
   ]
  },
  {
   "cell_type": "markdown",
   "metadata": {},
   "source": [
    "## À propos\n",
    "\n",
    "Cet atelier est une adaptation du tutoriel\n",
    "[Data Carpentry - Data Analysis and Visualization in Python for Ecologists](https://datacarpentry.org/python-ecology-lesson/).\n",
    "\n",
    "Note : les *notebooks* IPython du présent\n",
    "atelier et les données associées sont\n",
    "[publiés sur GitHub](https://github.com/calculquebec/cq-formation-dat201)."
   ]
  },
  {
   "cell_type": "markdown",
   "metadata": {},
   "source": [
    "### Table des matières\n",
    "**Jour 1** (3 heures)\n",
    "* [Démarrer avec des données](fr/01-dataframe.ipynb)\n",
    "* [Sélectionner des lignes et des colonnes de données](fr/02-selection.ipynb)\n",
    "* [Formatage des données](fr/03-format.ipynb)\n",
    "\n",
    "**Jour 2** (3 heures)\n",
    "* [Combiner des DataFrames avec Pandas](fr/04-combine.ipynb)\n",
    "* [Créer des graphiques avec Altair](fr/05-altair.ipynb)\n",
    "\n",
    "**Extras** (si le temps le permet)\n",
    "* Automatisation"
   ]
  },
  {
   "cell_type": "markdown",
   "metadata": {},
   "source": [
    "### Comment utiliser l'interface Jupyter\n",
    "Lorsqu'une cellule est en **mode édition** :\n",
    "\n",
    "  Raccourci | Description\n",
    "----------- | -----------\n",
    "MAJ+Entrée  | Exécuter une cellule et aller à la suivante\n",
    "Entrée      | Insérer un saut de ligne\n",
    "Tab         | Indenter le code ou autocomplétion\n",
    "Échap       | Aller en **mode commande**\n",
    "\n",
    "Lorsqu'une cellule est en **mode commande** :\n",
    "\n",
    "  Raccourci | Description\n",
    "----------- | -----------\n",
    "MAJ+Entrée  | Exécuter une cellule et aller à la suivante\n",
    "Entrée      | Aller en **mode édition**\n",
    "A           | Insérer une cellule en haut\n",
    "B           | Insérer une cellule en bas\n",
    "C           | Copier la cellule\n",
    "V           | Coller la cellule en bas\n",
    "D D         | Supprimer la cellule\n",
    "M           | Changer la cellule en code Markdown\n",
    "Y           | Changer la cellule en code Python\n",
    "\n",
    "Pour réinitialiser toutes les cellules :\n",
    "* Aller dans le menu du haut et sélectionner\n",
    "  Kernel -> Restart & Clear Output"
   ]
  },
  {
   "cell_type": "code",
   "execution_count": null,
   "metadata": {},
   "outputs": [],
   "source": [
    "1 + 2  # Faites Maj+Entrée pour exécuter cette cellule"
   ]
  },
  {
   "cell_type": "markdown",
   "metadata": {},
   "source": [
    "### Les données utilisées\n",
    "\n",
    "Pour le présent atelier, nous utiliserons un sous-ensemble des données du\n",
    "[*Portal Project Teaching Database*](https://figshare.com/articles/Portal_Project_Teaching_Database/1314459).\n",
    "En effet, notre fichier [`data/surveys.csv`](data/surveys.csv)\n",
    "est une version simplifiée du\n",
    "[fichier original](https://ndownloader.figshare.com/files/2292172).\n",
    "\n",
    "La cellule suivante permet d'avoir un aperçu des données CSV :"
   ]
  },
  {
   "cell_type": "code",
   "execution_count": null,
   "metadata": {},
   "outputs": [],
   "source": [
    "!head data/surveys.csv"
   ]
  },
  {
   "cell_type": "markdown",
   "metadata": {},
   "source": [
    " Colonne          | Description\n",
    "----------------- | -----------\n",
    "`record_id`       | Identifiant unique de l'enregistrement\n",
    "`month`           | Mois de l'enregistrement\n",
    "`day`             | Jour de l'enregistrement\n",
    "`year`            | Année de l'enregistrement\n",
    "`plot_id`         | Identifiant du site\n",
    "`species_id`      | Identifiant de l'espèce, encodé avec deux lettres\n",
    "`sex`             | Sexe de l'animal (\"F\", \"M\")\n",
    "`hindfoot_length` | Longueur de l'arrière-pied (mm)\n",
    "`weight`          | Poids de l'animal (g)"
   ]
  },
  {
   "cell_type": "markdown",
   "metadata": {},
   "source": [
    "Avec ce fichier de données, nous allons étudier les caractéristiques de\n",
    "différentes espèces animales vues dans différents sites de la zone de recherche.\n",
    "Chaque enregistrement dans ce fichier CSV contient l'information d'un seul animal observé.\n",
    "\n",
    "Le détail des différentes espèces est ensuite donné dans le fichier\n",
    "[`data/species.csv`](data/species.csv).\n",
    "La cellule suivante permet d'avoir un aperçu de ces espèces :"
   ]
  },
  {
   "cell_type": "code",
   "execution_count": null,
   "metadata": {},
   "outputs": [],
   "source": [
    "!head data/species.csv"
   ]
  },
  {
   "cell_type": "markdown",
   "metadata": {},
   "source": [
    " Colonne     | Description\n",
    "------------ | -----------\n",
    "`species_id` | Identifiant de l'espèce, encodé avec deux lettres\n",
    "`genus`      | Genre d'espèce\n",
    "`species`    | Nom latin de l'espèce\n",
    "`taxa`       | Taxon (famille) de l'espèce"
   ]
  },
  {
   "cell_type": "markdown",
   "metadata": {},
   "source": [
    "Référence : Ernst *et al*,\n",
    "[Long-term monitoring and experimental manipulation of a Chihuahuan Desert ecosystem near Portal, Arizona, USA](https://esapubs.org/archive/ecol/E090/118/)"
   ]
  },
  {
   "cell_type": "markdown",
   "metadata": {},
   "source": [
    "### Références\n",
    "Modules Python :\n",
    "* [`pandas`](https://pandas.pydata.org/docs/reference/index.html)\n",
    "* [`altair`](https://altair-viz.github.io/index.html),\n",
    "  grammaire [Vega-Lite](https://vega.github.io/vega-lite/)\n",
    "  des graphiques interactifs\n",
    "* Autres modules de visualisation :\n",
    "  * [`plotnine`](https://plotnine.org)\n",
    "  * [`seaborn`](https://seaborn.pydata.org/)\n",
    "  * [`bokeh`](https://docs.bokeh.org/en/latest/)\n",
    "    et [`plotly`](https://plotly.com/python/)\n",
    "    pour des graphiques interactifs en page Web\n",
    "\n",
    "Outils d'édition de codes Python :\n",
    "* Via [JupyterLab](https://docs.alliancecan.ca/wiki/Jupyter/fr#JupyterLab)\n",
    "* L'éditeur [Spyder](https://www.spyder-ide.org)\n",
    "* [Visual Studio Code](https://code.visualstudio.com)\n",
    "\n",
    "Formation :\n",
    "* Les prochains ateliers à\n",
    "  [Calcul Québec](https://www.eventbrite.ca/o/calcul-quebec-8295332683)\n",
    "  et à\n",
    "  [l'Alliance de recherche numérique du Canada](https://alliancecan.ca/fr/services/calcul-informatique-de-pointe/soutien-la-recherche/calendrier-de-formation)\n",
    "* Tutoriels en ligne [Software Carpentry](https://software-carpentry.org/lessons/)\n",
    "  et [Data Carpentry](https://datacarpentry.org/lessons/) :\n",
    "  * [Introduction à la ligne de commande Bash](https://swcarpentry.github.io/shell-novice/)\n",
    "  * [Introduction à la programmation en Python](https://swcarpentry.github.io/python-novice-inflammation/)\n",
    "  * [Nettoyage des données avec OpenRefine](https://datacarpentry.org/OpenRefine-ecology-lesson/)\n",
    "  * [Gestion de données avec SQL](https://datacarpentry.org/sql-ecology-lesson/)\n",
    "  * [Analyse de données et visualisation en R](https://datacarpentry.org/R-ecology-lesson/)"
   ]
  },
  {
   "cell_type": "code",
   "execution_count": null,
   "metadata": {},
   "outputs": [],
   "source": []
  }
 ],
 "metadata": {
  "kernelspec": {
   "display_name": "Python 3 (ipykernel)",
   "language": "python",
   "name": "python3"
  },
  "language_info": {
   "codemirror_mode": {
    "name": "ipython",
    "version": 3
   },
   "file_extension": ".py",
   "mimetype": "text/x-python",
   "name": "python",
   "nbconvert_exporter": "python",
   "pygments_lexer": "ipython3",
   "version": "3.11.7"
  }
 },
 "nbformat": 4,
 "nbformat_minor": 4
}
