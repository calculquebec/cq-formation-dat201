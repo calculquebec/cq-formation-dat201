{
 "cells": [
  {
   "cell_type": "markdown",
   "id": "50643418-74f8-4f4e-a3be-4ee68bd113cb",
   "metadata": {
    "lang": "fr"
   },
   "source": [
    "# Analyse et visualisation de données avec Python\n",
    "## Démarrer avec des données\n",
    "\n",
    "Questions\n",
    "* Comment importer des données dans Python?\n",
    "* Qu'est-ce que Pandas?\n",
    "* Pourquoi utiliser Pandas pour traiter des données tabulaires?\n",
    "\n",
    "Objectifs\n",
    "* Charger une bibliothèque d'analyse de données Python (Pandas).\n",
    "* Utiliser `read_csv` pour lire des données tabulaires dans Python.\n",
    "* Décrire ce qu'est un DataFrame et une série.\n",
    "* Accéder et résumer les données d'un DataFrames.\n",
    "* Effectuer des opérations mathématiques et statistiques avec un DataFrame.\n",
    "* Effectuer une première visualisation des données."
   ]
  },
  {
   "cell_type": "markdown",
   "id": "45cee959-3db0-4a2b-ba7b-da37ab995536",
   "metadata": {
    "lang": "fr"
   },
   "source": [
    "## Utiliser les DataFrames Pandas dans Python\n",
    "\n",
    "### Pandas dans Python\n",
    "L'une des meilleures options pour traiter des données tabulaires dans Python est d'utiliser la bibliothèque d'analyse de données Python, c'est-à-dire *Pandas*. La bibliothèque Pandas fournit des structures de données, produit des graphiques de haute qualité avec *Matplotlib* et s'intègre bien avec d'autres bibliothèques utilisant des tableaux *NumPy* (qui est une autre bibliothèque Python)."
   ]
  },
  {
   "cell_type": "code",
   "execution_count": null,
   "id": "8a2ccdb4-9395-483a-8362-202f305ef658",
   "metadata": {
    "lang": "fr"
   },
   "outputs": [],
   "source": [
    "# Importer la bibliothèque \"pandas\"\n",
    "import pandas as pd"
   ]
  },
  {
   "cell_type": "markdown",
   "id": "7717ef88-dfea-4b9f-bcf1-eb4dc1c54aa6",
   "metadata": {
    "lang": "fr"
   },
   "source": [
    "## Charger un fichier CSV avec Pandas\n",
    "### Qu'est-ce qu'un DataFrame?"
   ]
  },
  {
   "cell_type": "code",
   "execution_count": null,
   "id": "041ad4ed-b411-4b97-a62f-15a6e1c527d9",
   "metadata": {
    "lang": "fr",
    "tags": [
     "exer"
    ]
   },
   "outputs": [],
   "source": [
    "# Chargement des données du fichier surveys.csv\n",
    "pd.read_csv('../data/surveys.csv')"
   ]
  },
  {
   "cell_type": "code",
   "execution_count": null,
   "id": "be923975-166d-4fcf-8989-ca84b496f190",
   "metadata": {
    "lang": "fr"
   },
   "outputs": [],
   "source": [
    "# Afficher les quelques première lignes\n",
    "surveys_df.head()"
   ]
  },
  {
   "cell_type": "code",
   "execution_count": null,
   "id": "c2f82186-0f9a-4486-935d-03eb2d122328",
   "metadata": {
    "lang": "fr"
   },
   "outputs": [],
   "source": [
    "# Accéder aux dimensions du DataFrame\n",
    "surveys_df.shape"
   ]
  },
  {
   "cell_type": "code",
   "execution_count": null,
   "id": "242e7422-75e1-47a3-8ecc-aa15f91cedae",
   "metadata": {
    "lang": "fr"
   },
   "outputs": [],
   "source": [
    "# Accéder à la liste des noms de colonnes\n",
    "surveys_df.columns"
   ]
  },
  {
   "cell_type": "code",
   "execution_count": null,
   "id": "d85d3e33-2e50-48da-b27e-d728cf09cc61",
   "metadata": {
    "lang": "fr"
   },
   "outputs": [],
   "source": [
    "# Une colonne est un objet de type Series\n",
    "surveys_df['weight'].describe()"
   ]
  },
  {
   "cell_type": "code",
   "execution_count": null,
   "id": "d43c23c9-7956-428e-8a1d-7a292ed8f146",
   "metadata": {
    "lang": "fr"
   },
   "outputs": [],
   "source": [
    "# Calculer des statistiques descriptives par colonne\n",
    "print(\"Valeurs non nulles:  \", surveys_df['weight'].count())\n",
    "print(\"Moyenne des valeurs: \", surveys_df['weight'].mean())\n",
    "print(\"Deviation standard:  \", surveys_df['weight'].std())\n",
    "print(\"Valeur minimale:     \", surveys_df['weight'].min())\n",
    "print(\"Valeur médiane:      \", surveys_df['weight'].median())\n",
    "print(\"Valeur maximale:     \", surveys_df['weight'].max())"
   ]
  },
  {
   "cell_type": "code",
   "execution_count": null,
   "id": "534ba325-1da0-4423-8a6e-735bc9b1da72",
   "metadata": {
    "lang": "fr"
   },
   "outputs": [],
   "source": [
    "# Créer une nouvelle colonne\n",
    "surveys_df['poids_kg'] = surveys_df['weight'] / 1000\n",
    "\n",
    "# Afficher les dernières lignes\n",
    "surveys_df.tail()"
   ]
  },
  {
   "cell_type": "markdown",
   "id": "9d8b2793-5c10-42fa-8b18-b47be6a34d2d",
   "metadata": {
    "lang": "fr"
   },
   "source": [
    "### Exercice - DataFrame et Series\n",
    "\n",
    "1. Chargez la table des espèces animales du fichier\n",
    "   `species.csv` et assignez le résultat à `especes_df`. (3 min.)"
   ]
  },
  {
   "cell_type": "code",
   "execution_count": null,
   "id": "6c055d32-aa23-4adf-82c0-861c6becfe55",
   "metadata": {
    "tags": [
     "exer"
    ]
   },
   "outputs": [],
   "source": []
  },
  {
   "cell_type": "markdown",
   "id": "5ab5b372-8f20-4218-84c6-82124c40559e",
   "metadata": {
    "lang": "fr"
   },
   "source": [
    "2. Utilisez la méthode `.unique()` pour obtenir la\n",
    "   liste des différents taxons (colonne `taxa`). (2 min.)"
   ]
  },
  {
   "cell_type": "code",
   "execution_count": null,
   "id": "a52e8ff1-de10-4564-b7fb-cbeffdfbe644",
   "metadata": {
    "lang": "fr",
    "tags": [
     "exer"
    ]
   },
   "outputs": [],
   "source": [
    "especes_df###"
   ]
  },
  {
   "cell_type": "markdown",
   "id": "bfc89490-6735-4c42-a1e8-39939fc0227c",
   "metadata": {
    "lang": "fr"
   },
   "source": [
    "3. Utilisez la méthode `.nunique()` pour obtenir\n",
    "   le nombre de différents taxons. (1 min.)"
   ]
  },
  {
   "cell_type": "code",
   "execution_count": null,
   "id": "bfa62205-2efa-4be5-9fda-96d5bda99108",
   "metadata": {
    "lang": "fr",
    "tags": [
     "exer"
    ]
   },
   "outputs": [],
   "source": [
    "especes_df###"
   ]
  },
  {
   "cell_type": "markdown",
   "id": "ec4f39dd-bbe5-4ca1-ac25-9498ac7f839f",
   "metadata": {
    "lang": "fr"
   },
   "source": [
    "## Grouper des données"
   ]
  },
  {
   "cell_type": "code",
   "execution_count": null,
   "id": "32293e04-8d67-430b-8cc3-a083b131567f",
   "metadata": {
    "lang": "fr",
    "tags": [
     "exer"
    ]
   },
   "outputs": [],
   "source": [
    "# Grouper les données par sexe\n",
    "surveys_df.groupby('sex')"
   ]
  },
  {
   "cell_type": "code",
   "execution_count": null,
   "id": "b24bc35c-2513-4b72-ac3b-70ef6c239ac3",
   "metadata": {
    "lang": "fr"
   },
   "outputs": [],
   "source": [
    "# Obtenir des statistiques pour toutes les variables numériques\n",
    "par_sex.describe()"
   ]
  },
  {
   "cell_type": "code",
   "execution_count": null,
   "id": "30290cef-7efd-4386-896b-3920bdf432d0",
   "metadata": {
    "lang": "fr"
   },
   "outputs": [],
   "source": [
    "# Obtenir uniquement la moyenne de chaque colonne\n",
    "par_sex.mean(numeric_only=True)"
   ]
  },
  {
   "cell_type": "code",
   "execution_count": null,
   "id": "94bf4d11-9733-442e-ad97-9ea281fe94a0",
   "metadata": {
    "lang": "fr",
    "tags": [
     "exer"
    ]
   },
   "outputs": [],
   "source": [
    "# Obtenir le nombre d'enregistrements par code d'espèce\n",
    "surveys_df.groupby('species_id').count()#['record_id']"
   ]
  },
  {
   "cell_type": "markdown",
   "id": "16c50364-d666-40f3-829d-4940cf94aa5e",
   "metadata": {
    "lang": "fr"
   },
   "source": [
    "### Exercice - Grouper des données\n",
    "`1`. Combien de femelles `F` et combien de mâles `M`?\n",
    "Indice : c'est possible de sélectionner une\n",
    "seule colonne après avoir groupé les données. (2 min.)"
   ]
  },
  {
   "cell_type": "code",
   "execution_count": null,
   "id": "c4458e0b-d4c3-49ab-b116-94aa4d909654",
   "metadata": {
    "lang": "fr",
    "tags": [
     "exer"
    ]
   },
   "outputs": [],
   "source": [
    "par_sex###"
   ]
  },
  {
   "cell_type": "markdown",
   "id": "0bb3a9d5-a59e-41d7-84a5-c30f02d5e01b",
   "metadata": {
    "lang": "fr"
   },
   "source": [
    "`2`. Qu'arrive-t-il si on groupe par deux colonnes\n",
    "et si on recalcule les moyennes? (2 min.)"
   ]
  },
  {
   "cell_type": "code",
   "execution_count": null,
   "id": "ff0779a4-fdd8-4500-84b2-40da7dac1a26",
   "metadata": {
    "lang": "en,fr",
    "tags": [
     "exer"
    ]
   },
   "outputs": [],
   "source": [
    "surveys_df.groupby(['plot_id', 'sex'])###"
   ]
  },
  {
   "cell_type": "markdown",
   "id": "d92d57cd-2f9d-4c0a-baf1-826625eb20e4",
   "metadata": {
    "lang": "fr"
   },
   "source": [
    "`3`. Faites calculer un sommaire des statistiques descriptives\n",
    "des poids (`weight`) pour chaque site (`plot_id`). (3 min.)"
   ]
  },
  {
   "cell_type": "code",
   "execution_count": null,
   "id": "af3cc7b1-4d3c-447b-ae51-8ba000ae1466",
   "metadata": {
    "lang": "en,fr",
    "tags": [
     "exer"
    ]
   },
   "outputs": [],
   "source": [
    "surveys_df###"
   ]
  },
  {
   "cell_type": "markdown",
   "id": "290f187f-3947-4bab-8fa4-d97f1d3d01bc",
   "metadata": {
    "lang": "fr"
   },
   "source": [
    "## Créer des graphiques à partir de Pandas"
   ]
  },
  {
   "cell_type": "code",
   "execution_count": null,
   "id": "96bb19b9-0fe0-43f0-82f2-7789ff219086",
   "metadata": {
    "lang": "en,fr"
   },
   "outputs": [],
   "source": [
    "surveys_df.groupby('species_id')['record_id'].count().plot(kind='bar')"
   ]
  },
  {
   "cell_type": "markdown",
   "id": "4b7cdb7f-80e3-4153-98b5-1d2126536a3c",
   "metadata": {
    "lang": "fr"
   },
   "source": [
    "### Exercice - Créer un graphique\n",
    "Créez un graphique de type `line` montrant\n",
    "[la médiane](https://pandas.pydata.org/docs/reference/api/pandas.Series.median.html)\n",
    "des poids `weight` pour chaque mois. (3 min.)"
   ]
  },
  {
   "cell_type": "code",
   "execution_count": null,
   "id": "079abe5f-2859-4ce9-aa15-ecc2c9d07064",
   "metadata": {
    "lang": "en,fr",
    "tags": [
     "exer"
    ]
   },
   "outputs": [],
   "source": [
    "surveys_df###"
   ]
  },
  {
   "cell_type": "markdown",
   "id": "0dd4a508-f205-406a-8c1b-6476a67474f9",
   "metadata": {
    "lang": "fr"
   },
   "source": [
    "## Exemple résumé"
   ]
  },
  {
   "cell_type": "code",
   "execution_count": null,
   "id": "df838e7a-e272-4c36-aa9f-83986036ce78",
   "metadata": {
    "lang": "fr"
   },
   "outputs": [],
   "source": [
    "par_espece_sex = surveys_df.groupby(['species_id', 'sex'])\n",
    "espece_sex_poids_moyen = par_espece_sex['weight'].mean()\n",
    "espece_sex_poids_moyen.head(15)"
   ]
  },
  {
   "cell_type": "code",
   "execution_count": null,
   "id": "f22d321c-645d-4bb8-a7c8-0fe561503e59",
   "metadata": {
    "lang": "fr"
   },
   "outputs": [],
   "source": [
    "# Convertir les valeurs de la catégorie la plus à droite en colonnes\n",
    "espm = espece_sex_poids_moyen.unstack()\n",
    "espm"
   ]
  },
  {
   "cell_type": "code",
   "execution_count": null,
   "id": "922b3380-1b3b-494a-b2ca-99692cde7b93",
   "metadata": {
    "lang": "fr"
   },
   "outputs": [],
   "source": [
    "# Ajouter le titre et le nom des axes\n",
    "e_plot = espm.plot(kind='bar', title='Poids moyen par espèce et sexe')\n",
    "e_plot.set_xlabel('Espèce (identifiant)')\n",
    "e_plot.set_ylabel('Poids moyen (g)')"
   ]
  },
  {
   "cell_type": "markdown",
   "id": "a96f6358-ba62-4a01-b95f-df05e771fceb",
   "metadata": {
    "lang": "fr"
   },
   "source": [
    "## Résumé technique\n",
    "* **Importer le module Pandas** : `import pandas as pd`\n",
    "* **Chargement des données** : `pd.read_csv()`\n",
    "  * Argument obligatoire : le **nom du fichier**\n",
    "  * `index_col` : pour spécifier la colonne qui sera l'index\n",
    "* Pour un **DataFrame** :\n",
    "  * **Attributs** : `shape`, `index`, `columns`\n",
    "  * **Méthodes** : `head()`, `tail()`, `describe()`\n",
    "* Pour une **colonne** :\n",
    "  * **Sélection** : `df['nom_colonne']`\n",
    "  * **Méthodes** :\n",
    "    * Statistiques descriptives :\n",
    "      `count()`, `mean()`, `median()`, `min()`, `max()`\n",
    "    * Autres : `describe()`, `nunique()`, `unique()`\n",
    "* **Grouper selon les valeurs** d'une ou plusieurs colonnes :\n",
    "  * `groupby(nom_col)`\n",
    "  * `groupby([nom_col1, nom_col2])`\n",
    "* **Transformer le DataFrame** : `unstack()`\n",
    "* **Créer un graphique à partir d'un DataFrame** :\n",
    "  * `df.plot()`, où `df` contient une ou plusieurs colonnes\n",
    "    * `kind='bar'` (défaut: linéaire)\n",
    "    * `stacked=True`\n",
    "    * `title=''`\n",
    "  * `objet_plot.set_xlabel('')`\n",
    "  * `objet_plot.set_ylabel('')`"
   ]
  },
  {
   "cell_type": "code",
   "execution_count": null,
   "id": "e1b5adc9-5fdf-4c19-be45-999249dbd57d",
   "metadata": {},
   "outputs": [],
   "source": []
  }
 ],
 "metadata": {
  "kernelspec": {
   "display_name": "Python 3 (ipykernel)",
   "language": "python",
   "name": "python3"
  },
  "language_info": {
   "codemirror_mode": {
    "name": "ipython",
    "version": 3
   },
   "file_extension": ".py",
   "mimetype": "text/x-python",
   "name": "python",
   "nbconvert_exporter": "python",
   "pygments_lexer": "ipython3",
   "version": "3.11.7"
  }
 },
 "nbformat": 4,
 "nbformat_minor": 5
}
