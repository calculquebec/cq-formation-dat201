{
 "cells": [
  {
   "cell_type": "markdown",
   "id": "8ea5f2eb-8e85-4c64-bed0-f8dd82a3aa85",
   "metadata": {
    "lang": "fr"
   },
   "source": [
    "# Analyse et visualisation de données avec Python\n",
    "## Formatage des données\n",
    "Questions\n",
    "* Quels sont les différents types de données dans Pandas?\n",
    "* Quel est l'impact des types sur les statistiques descriptives?\n",
    "* Comment gérer les valeurs non définies ou nulles?\n",
    "* Comment sauvegarder un dataframe?\n",
    "\n",
    "Objectifs\n",
    "* Manipuler les types de données\n",
    "* Créer une copie d'un dataframe.\n",
    "* Transformer ou éliminer les valeurs non définies ou nulles.\n",
    "* Écrire les données manipulées dans un fichier CSV."
   ]
  },
  {
   "cell_type": "markdown",
   "id": "73c2d445-3e6f-4c67-bdb2-75a196007c14",
   "metadata": {
    "lang": "fr"
   },
   "source": [
    "## Charger nos données"
   ]
  },
  {
   "cell_type": "code",
   "execution_count": null,
   "id": "93c8fec1-0ce7-4fa4-9844-109d52d3cebe",
   "metadata": {
    "lang": "fr"
   },
   "outputs": [],
   "source": [
    "# Charger le module pandas\n",
    "import pandas as pd\n",
    "\n",
    "# Charger les données\n",
    "surveys_df = pd.read_csv(\"../data/surveys.csv\")"
   ]
  },
  {
   "cell_type": "markdown",
   "id": "f5015805-da75-42cf-ab64-439be3177dcc",
   "metadata": {
    "lang": "fr"
   },
   "source": [
    "## Types de données\n",
    "### Vérifier le type de données pour chaque colonne"
   ]
  },
  {
   "cell_type": "code",
   "execution_count": null,
   "id": "f5260077-a222-40b6-b621-4764bc78df71",
   "metadata": {
    "lang": "fr"
   },
   "outputs": [],
   "source": [
    "# Obtenir le type de données pour chaque colonne\n",
    "surveys_df.dtypes"
   ]
  },
  {
   "cell_type": "code",
   "execution_count": null,
   "id": "ddf2e653-5338-4256-a843-fb39af23dec7",
   "metadata": {
    "lang": "fr"
   },
   "outputs": [],
   "source": [
    "# Le type de données pour la colonne des mois\n",
    "surveys_df['month'].dtype"
   ]
  },
  {
   "cell_type": "markdown",
   "id": "bff92e0f-ea1a-45c2-b6cb-ce919ac96cf1",
   "metadata": {
    "lang": "fr"
   },
   "source": [
    "Types Python | Types Pandas | Description\n",
    ":-----------:|:------------:|:-----------\n",
    "`str`        | `object`     | Type générique, aussi utilisé en cas de multiples types\n",
    "`int`        | `int64`      | Nombres entiers représentés avec 64 bits\n",
    "`float`      | `float64`    | Nombres réels représentés avec 64 bits, ou non-définis (NaN)\n",
    " N/A         | `datetime64` | Dates et heures, avec une précision allant jusqu'à la nanoseconde"
   ]
  },
  {
   "cell_type": "markdown",
   "id": "3a66f54c-0bda-4321-a030-bb742f3ea75a",
   "metadata": {
    "lang": "fr"
   },
   "source": [
    "### Impacts sur les statistiques descriptives"
   ]
  },
  {
   "cell_type": "code",
   "execution_count": null,
   "id": "140c3889-db47-423e-9efa-67108feb1c57",
   "metadata": {
    "lang": "fr"
   },
   "outputs": [],
   "source": [
    "# Statistiques descriptives sur les valeurs numériques\n",
    "surveys_df.describe()"
   ]
  },
  {
   "cell_type": "code",
   "execution_count": null,
   "id": "d2be283c-28b8-44fb-af75-0d382d6b6973",
   "metadata": {
    "lang": "fr"
   },
   "outputs": [],
   "source": [
    "# Convertir les numéros de mois en valeurs nominales\n",
    "surveys_df['month'] = surveys_df['month'].astype('str')\n",
    "surveys_df['month'].dtype"
   ]
  },
  {
   "cell_type": "code",
   "execution_count": null,
   "id": "dbc131b1-66cc-4961-a02b-326cb9746dde",
   "metadata": {
    "lang": "fr"
   },
   "outputs": [],
   "source": [
    "# Statistiques descriptives sur une variable qualitative\n",
    "surveys_df['month'].describe()"
   ]
  },
  {
   "cell_type": "code",
   "execution_count": null,
   "id": "be80e0de-00af-4b9d-bf6c-7ee75a9467da",
   "metadata": {
    "lang": "fr"
   },
   "outputs": [],
   "source": [
    "# Lister les différents mois\n",
    "surveys_df['month'].unique()"
   ]
  },
  {
   "cell_type": "code",
   "execution_count": null,
   "id": "5ca0c7ef-645d-42ef-a798-202ce930b9a2",
   "metadata": {
    "lang": "fr"
   },
   "outputs": [],
   "source": [
    "# Lister les différentes années\n",
    "surveys_df['year'].unique()"
   ]
  },
  {
   "cell_type": "markdown",
   "id": "0a2549c6-117a-4954-91c4-4807e3f5d11b",
   "metadata": {
    "lang": "fr"
   },
   "source": [
    "### Démo - Types et statistiques descriptives"
   ]
  },
  {
   "cell_type": "markdown",
   "id": "79df39bd-e6c1-4ad6-9274-1cf6d98ff9d3",
   "metadata": {
    "lang": "fr"
   },
   "source": [
    "`1`. Convertir les valeurs de `weight` en entiers `int64` produira une erreur. Pourquoi?"
   ]
  },
  {
   "cell_type": "code",
   "execution_count": null,
   "id": "b793b8de-ca8e-441a-ba6a-d0c0c017e3c8",
   "metadata": {
    "lang": "fr"
   },
   "outputs": [],
   "source": [
    "try:\n",
    "    surveys_df['weight'].astype('int64')\n",
    "except BaseException as erreur:\n",
    "    print(f'La raison : {erreur}')"
   ]
  },
  {
   "cell_type": "markdown",
   "id": "6a70d004-19cd-4068-ab39-0ec8d99a3182",
   "metadata": {
    "lang": "fr"
   },
   "source": [
    "`2`. Essayez de convertir la colonne `plot_id` au type Python `float`."
   ]
  },
  {
   "cell_type": "code",
   "execution_count": null,
   "id": "2f964b73-10e9-4e09-911a-05d2e68b126e",
   "metadata": {
    "lang": "en,fr",
    "tags": [
     "exer"
    ]
   },
   "outputs": [],
   "source": [
    "surveys_df['plot_id'] = ###\n",
    "surveys_df['plot_id'].dtype"
   ]
  },
  {
   "cell_type": "markdown",
   "id": "f4477bb2-8cf0-448b-a339-b2e5f3bf1ddc",
   "metadata": {
    "lang": "fr"
   },
   "source": [
    "## Sélection et nettoyage des valeurs non définies"
   ]
  },
  {
   "cell_type": "code",
   "execution_count": null,
   "id": "6b03e43d-da38-4145-9fd2-3b1de947feda",
   "metadata": {
    "lang": "fr"
   },
   "outputs": [],
   "source": [
    "# Pour chaque valeur, déterminer si non définie\n",
    "surveys_df.isnull()"
   ]
  },
  {
   "cell_type": "code",
   "execution_count": null,
   "id": "e6e72e66-a5cc-4867-970f-269dca33ca81",
   "metadata": {
    "lang": "fr"
   },
   "outputs": [],
   "source": [
    "# Sélectionner les enregistrements ayant au moins une valeur NaN\n",
    "masque_nan = surveys_df.isnull().any(axis='columns')\n",
    "surveys_df[masque_nan]"
   ]
  },
  {
   "cell_type": "code",
   "execution_count": null,
   "id": "3912f86f-0c9b-4c7e-ad9b-2157ab040256",
   "metadata": {
    "lang": "fr"
   },
   "outputs": [],
   "source": [
    "# Qu'est-ce que le code suivant va retourner?\n",
    "masque_nan = surveys_df['weight'].isnull()\n",
    "une_selection = surveys_df[masque_nan]\n",
    "une_selection.groupby('species_id')['record_id'].count()"
   ]
  },
  {
   "cell_type": "markdown",
   "id": "90d56b13-5e74-47ec-9a7e-6ac6304c39b7",
   "metadata": {
    "lang": "fr"
   },
   "source": [
    "### Recréer des données manquantes"
   ]
  },
  {
   "cell_type": "code",
   "execution_count": null,
   "id": "93239f2a-6858-4fa1-8836-102333d3587f",
   "metadata": {
    "lang": "fr"
   },
   "outputs": [],
   "source": [
    "# Le \"avant\" - nombre et moyenne\n",
    "print(surveys_df['weight'].count(), surveys_df['weight'].mean())"
   ]
  },
  {
   "cell_type": "code",
   "execution_count": null,
   "id": "85d30535-4895-4b76-a7e5-c5639eac093e",
   "metadata": {
    "lang": "fr"
   },
   "outputs": [],
   "source": [
    "# Créer une copie pour ne pas modifier l'objet original\n",
    "copie_surveys = surveys_df.copy()"
   ]
  },
  {
   "cell_type": "code",
   "execution_count": null,
   "id": "c9d6c51a-24c2-4475-9e2d-bfcb73e89354",
   "metadata": {
    "lang": "fr"
   },
   "outputs": [],
   "source": [
    "# Pour une valeur moyenne stable\n",
    "moyennePoids = copie_surveys['weight'].mean()\n",
    "copie_surveys['weight'] = copie_surveys['weight'].fillna(moyennePoids)"
   ]
  },
  {
   "cell_type": "code",
   "execution_count": null,
   "id": "8dd398d4-574d-4caa-acd7-6ba5f73c1339",
   "metadata": {
    "lang": "fr"
   },
   "outputs": [],
   "source": [
    "# Le \"après\" - nombre et moyenne\n",
    "print(copie_surveys['weight'].count(), copie_surveys['weight'].mean())"
   ]
  },
  {
   "cell_type": "code",
   "execution_count": null,
   "id": "48636b4b-aabd-4f04-ae43-b56ba2b30130",
   "metadata": {
    "lang": "fr"
   },
   "outputs": [],
   "source": [
    "# Tester la conversion en entiers\n",
    "copie_surveys['weight'] = copie_surveys['weight'].astype('int64')\n",
    "copie_surveys['weight'].mean()"
   ]
  },
  {
   "cell_type": "markdown",
   "id": "5225a4e2-bed5-4de5-b226-c9e66d4032c7",
   "metadata": {
    "lang": "fr"
   },
   "source": [
    "### Exercice - Nettoyage\n",
    "Dans la colonne `sex` de `copie_surveys` :\n",
    "* Remplacez les valeurs non-définies par `'F|M'`\n",
    "* Tout ce qui n'est pas `'F'`, `'M'` ou `'F|M'` est considéré\n",
    "  invalide et on veut remplacer ces valeurs par `'F|M'`"
   ]
  },
  {
   "cell_type": "code",
   "execution_count": null,
   "id": "2007c314-2d14-4a38-95ac-0780902f70ec",
   "metadata": {
    "lang": "fr",
    "tags": [
     "exer"
    ]
   },
   "outputs": [],
   "source": [
    "# Générer des données invalides\n",
    "copie_surveys.loc[::123, 'sex'] = 'NA'\n",
    "\n",
    "# Traiter les données manquantes\n",
    "#copie_surveys['sex'] = ###\n",
    "\n",
    "# Traiter toute donnée invalide\n",
    "#selection_invalides = ###.isin(['F', 'F|M', 'M'])\n",
    "#copie_surveys.loc[selection_invalides, ###] = ###\n",
    "\n",
    "copie_surveys['sex'].unique()"
   ]
  },
  {
   "cell_type": "markdown",
   "id": "29da742b-8614-4b16-9a0e-f4e11e63f0fa",
   "metadata": {
    "lang": "fr"
   },
   "source": [
    "### Sauvegarde après nettoyage"
   ]
  },
  {
   "cell_type": "code",
   "execution_count": null,
   "id": "fa528cf9-aee3-4ec8-a829-1169cc641a11",
   "metadata": {
    "lang": "fr"
   },
   "outputs": [],
   "source": [
    "# Ne garder que les lignes sans aucun NA\n",
    "df_sans_na = copie_surveys.dropna()\n",
    "df_sans_na"
   ]
  },
  {
   "cell_type": "code",
   "execution_count": null,
   "id": "de543b44-667b-4236-9983-8d4080f4ebc3",
   "metadata": {
    "lang": "fr"
   },
   "outputs": [],
   "source": [
    "# Sauvegarder le dataframe filtré dans un fichier CSV\n",
    "df_sans_na.to_csv('surveys_sans_NA.csv', index=False)"
   ]
  },
  {
   "cell_type": "markdown",
   "id": "a3b9bc93-eb36-46b5-8611-121895ddcea6",
   "metadata": {
    "lang": "fr"
   },
   "source": [
    "## Résumé technique\n",
    "* **Gestion des types**\n",
    "    * Pour un **DataFrame** :\n",
    "        * Attributs : `dtypes`\n",
    "    * Pour une **série** (colonne) :\n",
    "        * Attributs : `dtype`\n",
    "        * Méthodes : `astype()`\n",
    "* **Nettoyage**\n",
    "    * `df.copy()`\n",
    "    * `isna()`, `isnull()` (le second est un alias du premier)\n",
    "    * `notna()`, `notnull()`  (le second est un alias du premier)\n",
    "    * `colonne.fillna(valeur, inplace=True)`\n",
    "* **Sauvegarde**\n",
    "    * `df.to_csv(nom_csv, index=False)`"
   ]
  },
  {
   "cell_type": "code",
   "execution_count": null,
   "id": "2b9fa7a9-2286-499f-99f7-836fcb03ef47",
   "metadata": {},
   "outputs": [],
   "source": []
  }
 ],
 "metadata": {
  "kernelspec": {
   "display_name": "Python 3 (ipykernel)",
   "language": "python",
   "name": "python3"
  },
  "language_info": {
   "codemirror_mode": {
    "name": "ipython",
    "version": 3
   },
   "file_extension": ".py",
   "mimetype": "text/x-python",
   "name": "python",
   "nbconvert_exporter": "python",
   "pygments_lexer": "ipython3",
   "version": "3.11.7"
  }
 },
 "nbformat": 4,
 "nbformat_minor": 5
}
