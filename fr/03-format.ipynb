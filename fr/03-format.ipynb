{
 "cells": [
  {
   "cell_type": "markdown",
   "id": "8ea5f2eb-8e85-4c64-bed0-f8dd82a3aa85",
   "metadata": {
    "lang": "fr"
   },
   "source": [
    "# Analyse de données avec Python\n",
    "## Formatage des données\n",
    "Questions\n",
    "* Comment gérer les valeurs non définies ou nulles?\n",
    "* Comment sauvegarder un dataframe?\n",
    "\n",
    "Objectifs\n",
    "* Créer une copie d'un dataframe.\n",
    "* Transformer ou éliminer les valeurs non définies ou nulles.\n",
    "* Écrire les données manipulées dans un fichier CSV."
   ]
  },
  {
   "cell_type": "markdown",
   "id": "73c2d445-3e6f-4c67-bdb2-75a196007c14",
   "metadata": {
    "lang": "fr"
   },
   "source": [
    "## Charger nos données"
   ]
  },
  {
   "cell_type": "code",
   "execution_count": null,
   "id": "93c8fec1-0ce7-4fa4-9844-109d52d3cebe",
   "metadata": {
    "lang": "fr"
   },
   "outputs": [],
   "source": [
    "# Charger le module pandas\n",
    "import pandas as pd\n",
    "\n",
    "# Charger les données\n",
    "surveys_df = pd.read_csv(\"../data/surveys.csv\")"
   ]
  },
  {
   "cell_type": "markdown",
   "id": "f4477bb2-8cf0-448b-a339-b2e5f3bf1ddc",
   "metadata": {
    "lang": "fr"
   },
   "source": [
    "## Sélection et nettoyage des valeurs non définies"
   ]
  },
  {
   "cell_type": "code",
   "execution_count": null,
   "id": "6b03e43d-da38-4145-9fd2-3b1de947feda",
   "metadata": {
    "lang": "fr"
   },
   "outputs": [],
   "source": [
    "# Pour chaque valeur, déterminer si non définie\n",
    "surveys_df.isna()"
   ]
  },
  {
   "cell_type": "code",
   "execution_count": null,
   "id": "e6e72e66-a5cc-4867-970f-269dca33ca81",
   "metadata": {
    "lang": "fr"
   },
   "outputs": [],
   "source": [
    "# Sélectionner les enregistrements ayant au moins une valeur NaN\n",
    "masque_nan = surveys_df.isna().any(axis='columns')\n",
    "surveys_df[masque_nan]"
   ]
  },
  {
   "cell_type": "code",
   "execution_count": null,
   "id": "3912f86f-0c9b-4c7e-ad9b-2157ab040256",
   "metadata": {
    "lang": "fr"
   },
   "outputs": [],
   "source": [
    "# Qu'est-ce que le code suivant va retourner?\n",
    "une_selection = surveys_df[surveys_df['weight'].isna()]\n",
    "une_selection.groupby('species_id')['record_id'].count()"
   ]
  },
  {
   "cell_type": "markdown",
   "id": "90d56b13-5e74-47ec-9a7e-6ac6304c39b7",
   "metadata": {
    "lang": "fr"
   },
   "source": [
    "### Recréer des données manquantes"
   ]
  },
  {
   "cell_type": "code",
   "execution_count": null,
   "id": "93239f2a-6858-4fa1-8836-102333d3587f",
   "metadata": {
    "lang": "fr"
   },
   "outputs": [],
   "source": [
    "def etat_par_species(df, colonne:str):\n",
    "    '''\n",
    "    Affiche le décompte, la moyenne et la déviation standard d'une\n",
    "    colonne donnée pour chaque identifiant d'espèce de DM à NL.\n",
    "    - df:      objet DataFrame\n",
    "    - colonne: nom d'une colonne de df\n",
    "    '''\n",
    "    print(\n",
    "        df.groupby('species_id')[colonne].aggregate(\n",
    "            ['count', 'mean', 'std']\n",
    "        ).loc['DM':'NL'],\n",
    "        '\\n\\nDécompte total :', df[colonne].count()\n",
    "    )\n",
    "\n",
    "# Avant le nettoyage\n",
    "etat_par_species(surveys_df, 'weight')"
   ]
  },
  {
   "cell_type": "code",
   "execution_count": null,
   "id": "85d30535-4895-4b76-a7e5-c5639eac093e",
   "metadata": {
    "lang": "fr"
   },
   "outputs": [],
   "source": [
    "# Créer une copie pour ne pas modifier l'objet original\n",
    "copie_surveys = surveys_df.copy()\n",
    "copie_surveys.head()"
   ]
  },
  {
   "cell_type": "code",
   "execution_count": null,
   "id": "b319809e-7a4c-47e1-9f16-1f5dfc998bd2",
   "metadata": {
    "lang": "fr"
   },
   "outputs": [],
   "source": [
    "# Pour une valeur moyenne stable par espèce\n",
    "copie_surveys.groupby('species_id')['weight'].transform('mean')"
   ]
  },
  {
   "cell_type": "code",
   "execution_count": null,
   "id": "c9d6c51a-24c2-4475-9e2d-bfcb73e89354",
   "metadata": {
    "lang": "fr"
   },
   "outputs": [],
   "source": [
    "# Remplacer les valeurs manquantes par les moyennes connues\n",
    "copie_surveys['weight'] = copie_surveys['weight'].fillna(\n",
    "    copie_surveys.groupby('species_id')['weight'].transform('mean')\n",
    ")"
   ]
  },
  {
   "cell_type": "code",
   "execution_count": null,
   "id": "8dd398d4-574d-4caa-acd7-6ba5f73c1339",
   "metadata": {
    "lang": "fr"
   },
   "outputs": [],
   "source": [
    "# Avant et après le nettoyage\n",
    "etat_par_species(surveys_df, 'weight')\n",
    "print()  # Afficher une ligne vide\n",
    "etat_par_species(copie_surveys, 'weight')"
   ]
  },
  {
   "cell_type": "markdown",
   "id": "5225a4e2-bed5-4de5-b226-c9e66d4032c7",
   "metadata": {
    "lang": "fr"
   },
   "source": [
    "### Exercice - Nettoyage\n",
    "Refaites les mêmes étapes de remplissage des valeurs\n",
    "non définies, mais pour la colonne `'hindfoot_length'`.\n",
    "Par contre, cette fois-ci, on veut calculer\n",
    "les moyennes selon `'species_id'` et `'sex'`.\n",
    "\n",
    "La fonction `etat_par_species_et_sex()` vous est fournie\n",
    "pour afficher des statistiques avant et après le nettoyage.\n",
    "\n",
    "(5 min.)"
   ]
  },
  {
   "cell_type": "code",
   "execution_count": null,
   "id": "e1e7117a-a9ba-40d4-9d4e-43360f6c2f31",
   "metadata": {
    "lang": "fr"
   },
   "outputs": [],
   "source": [
    "def etat_par_species_et_sex(df, colonne:str):\n",
    "    '''\n",
    "    Affiche le décompte, la moyenne et la déviation standard d'une\n",
    "    colonne donnée pour les 5 premières espèces et pour chaque sexe.\n",
    "    - df:      objet DataFrame\n",
    "    - colonne: nom d'une colonne de df\n",
    "    '''\n",
    "    print(\n",
    "        df.groupby(\n",
    "            ['species_id', 'sex']\n",
    "        )[colonne].aggregate(\n",
    "            ['count', 'mean', 'std']\n",
    "        ).unstack().head(),\n",
    "        '\\n\\nDécompte total :', df[colonne].count()\n",
    "    )"
   ]
  },
  {
   "cell_type": "code",
   "execution_count": null,
   "id": "2007c314-2d14-4a38-95ac-0780902f70ec",
   "metadata": {
    "lang": "fr",
    "tags": [
     "exer"
    ]
   },
   "outputs": [],
   "source": [
    "colonne = ###\n",
    "etat_par_species_et_sex(copie_surveys, colonne)\n",
    "print()  # Afficher une ligne vide\n",
    "\n",
    "copie_surveys[colonne] = copie_surveys[colonne].###(\n",
    "    copie_surveys.groupby(\n",
    "        ###\n",
    "    )[colonne].###('mean')\n",
    ")\n",
    "\n",
    "etat_par_species_et_sex(copie_surveys, colonne)"
   ]
  },
  {
   "cell_type": "markdown",
   "id": "29da742b-8614-4b16-9a0e-f4e11e63f0fa",
   "metadata": {
    "lang": "fr"
   },
   "source": [
    "### Sauvegarde après nettoyage"
   ]
  },
  {
   "cell_type": "code",
   "execution_count": null,
   "id": "fa528cf9-aee3-4ec8-a829-1169cc641a11",
   "metadata": {
    "lang": "fr"
   },
   "outputs": [],
   "source": [
    "# Ne garder que les lignes sans aucun NA\n",
    "df_sans_na = copie_surveys.dropna()\n",
    "df_sans_na"
   ]
  },
  {
   "cell_type": "code",
   "execution_count": null,
   "id": "de543b44-667b-4236-9983-8d4080f4ebc3",
   "metadata": {
    "lang": "fr"
   },
   "outputs": [],
   "source": [
    "# Sauvegarder le dataframe filtré dans un fichier CSV\n",
    "df_sans_na.to_csv('surveys_sans_NA.csv', index=False)"
   ]
  },
  {
   "cell_type": "markdown",
   "id": "a3b9bc93-eb36-46b5-8611-121895ddcea6",
   "metadata": {
    "lang": "fr"
   },
   "source": [
    "## Résumé technique\n",
    "* **Gestion des types**\n",
    "    * Pour un **DataFrame** :\n",
    "        * Attributs : `dtypes`\n",
    "    * Pour une **série** (colonne) :\n",
    "        * Attributs : `dtype`\n",
    "        * Méthodes : `astype()`\n",
    "* **Nettoyage**\n",
    "    * `df.copy()`\n",
    "    * `isna()`, `notna()`\n",
    "    * `colonne.fillna(valeur, inplace=True)`\n",
    "* **Sauvegarde**\n",
    "    * `df.to_csv(nom_csv, index=False)`"
   ]
  },
  {
   "cell_type": "code",
   "execution_count": null,
   "id": "2b9fa7a9-2286-499f-99f7-836fcb03ef47",
   "metadata": {},
   "outputs": [],
   "source": []
  }
 ],
 "metadata": {
  "kernelspec": {
   "display_name": "Python 3 (ipykernel)",
   "language": "python",
   "name": "python3"
  },
  "language_info": {
   "codemirror_mode": {
    "name": "ipython",
    "version": 3
   },
   "file_extension": ".py",
   "mimetype": "text/x-python",
   "name": "python",
   "nbconvert_exporter": "python",
   "pygments_lexer": "ipython3",
   "version": "3.11.7"
  }
 },
 "nbformat": 4,
 "nbformat_minor": 5
}
