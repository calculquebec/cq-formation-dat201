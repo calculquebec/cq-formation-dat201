{
 "cells": [
  {
   "cell_type": "markdown",
   "id": "b1fd36b3-4405-4dcd-b44e-d323b6f2ddb4",
   "metadata": {
    "lang": "fr"
   },
   "source": [
    "# Analyse et visualisation de données avec Python\n",
    "## Sélectionner des lignes et des colonnes de données\n",
    "Questions\n",
    "* Comment accéder à des données spécifiques dans un dataframe?\n",
    "\n",
    "Objectives\n",
    "* Utiliser les tranches pour sélectionner un intervalle de données.\n",
    "* Utiliser les étiquettes de lignes de données et\n",
    "  les noms de colonnes pour délimiter une tranche.\n",
    "* Réassigner des valeurs à une sélection dans un dataframe.\n",
    "* Effectuer une sélection en utilisant un critère contenant\n",
    "  un opérateur : `=`, `!=`, `>`, `<`, `>=`, `<=`.\n",
    "* Manipuler les données avec des masques de valeurs booléennes."
   ]
  },
  {
   "cell_type": "markdown",
   "id": "94325bfa-8b63-4dba-af81-d2ffd61798ef",
   "metadata": {
    "lang": "fr"
   },
   "source": [
    "## Charger nos données"
   ]
  },
  {
   "cell_type": "code",
   "execution_count": null,
   "id": "29429144-2e71-46ed-9479-9137b95ef34f",
   "metadata": {
    "lang": "fr"
   },
   "outputs": [],
   "source": [
    "# Charger le module pandas\n",
    "import pandas as pd\n",
    "\n",
    "# Charger les données\n",
    "surveys_df = pd.read_csv(\"../data/surveys.csv\")"
   ]
  },
  {
   "cell_type": "markdown",
   "id": "8470f4e3-2faf-4930-addf-6662ed08132e",
   "metadata": {
    "lang": "fr"
   },
   "source": [
    "## Les tranches de données\n",
    "### Sélectionner des données en utilisant des noms de colonne"
   ]
  },
  {
   "cell_type": "code",
   "execution_count": null,
   "id": "d85cbc48-7180-4574-8724-a2304bb1f8ab",
   "metadata": {
    "lang": "fr"
   },
   "outputs": [],
   "source": [
    "# Sélectionner la colonne des identifiants d'espèces\n",
    "surveys_df['species_id']"
   ]
  },
  {
   "cell_type": "code",
   "execution_count": null,
   "id": "ef96efdd-1f11-4aa1-9286-7c25445f4ad7",
   "metadata": {
    "lang": "fr"
   },
   "outputs": [],
   "source": [
    "# Sélectionner plusieurs colonnes à l'aide d'une liste\n",
    "colonnes = ['year', 'month', 'day']\n",
    "surveys_df[colonnes]"
   ]
  },
  {
   "cell_type": "markdown",
   "id": "f1bbb48d-2803-43c8-b861-88690336d42f",
   "metadata": {
    "lang": "fr"
   },
   "source": [
    "### Faire une sélection selon des lignes et des colonnes de données\n",
    "On peut sélectionner un sous-ensemble de lignes\n",
    "et de colonnes de données avec l'attribut `loc` :\n",
    "c'est basé sur les index de ligne et de colonne."
   ]
  },
  {
   "cell_type": "code",
   "execution_count": null,
   "id": "23c536be-e3a0-4468-88a0-088e5b4e2af3",
   "metadata": {
    "lang": "fr"
   },
   "outputs": [],
   "source": [
    "# Qu'est-ce que cela donne?\n",
    "surveys_df.loc[0, ['species_id', 'plot_id', 'weight']]"
   ]
  },
  {
   "cell_type": "code",
   "execution_count": null,
   "id": "a400da60-f541-48c8-a76f-82ca7d47aa5e",
   "metadata": {
    "lang": "fr"
   },
   "outputs": [],
   "source": [
    "# Sélectionner toutes les colonnes pour les lignes 0 et 10\n",
    "surveys_df.loc[[0, 10], :]"
   ]
  },
  {
   "cell_type": "code",
   "execution_count": null,
   "id": "384110f3-b095-48f5-85bc-646a8f7ea029",
   "metadata": {
    "lang": "fr",
    "tags": [
     "exer"
    ]
   },
   "outputs": [],
   "source": [
    "# 1) Qu'arrive-t-il si on exécute le code ci-dessous?\n",
    "try:\n",
    "    print(surveys_df.loc[[0, 10, 35549], :])\n",
    "except BaseException as erreur:\n",
    "    print(f'Le problème : {erreur}')"
   ]
  },
  {
   "cell_type": "code",
   "execution_count": null,
   "id": "6ce59b23-1933-45b8-b570-8cf65b5cbe5f",
   "metadata": {
    "lang": "fr",
    "tags": [
     "exer"
    ]
   },
   "outputs": [],
   "source": [
    "# 2) Qu'arrive-t-il si on exécute le code ci-dessous?\n",
    "try:\n",
    "    print(surveys_df.loc[0:4, 1:4])  # 'month':'plot_id'\n",
    "except BaseException as erreur:\n",
    "    print(f'Le problème : {erreur}')"
   ]
  },
  {
   "cell_type": "markdown",
   "id": "73db3a2a-4d6f-4342-b408-9c4a4f116759",
   "metadata": {
    "lang": "fr"
   },
   "source": [
    "### Exercice - Une sélection de données\n",
    "Obtenez la moyenne des **longueurs d'arrière-pieds** et\n",
    "des **poids** de chaque **espèce** de `'NL'` à `'PB'` :\n",
    "\n",
    "1. Commencez par sélectionner uniquement les colonnes requises.\n",
    "2. À la fin, sélectionnez les lignes de `'NL'` à `'PB'`.\n",
    "\n",
    "(3 min.)"
   ]
  },
  {
   "cell_type": "code",
   "execution_count": null,
   "id": "d7a08eaf-4ab2-4b57-b8e2-aca33f42b8b3",
   "metadata": {
    "lang": "fr",
    "tags": [
     "exer"
    ]
   },
   "outputs": [],
   "source": [
    "colonnes = ['species_id', 'hindfoot_length', 'weight']\n",
    "surveys_df###.groupby('species_id').mean()###"
   ]
  },
  {
   "cell_type": "markdown",
   "id": "8f2ce1e8-85cd-4df4-b129-ae9326e305dd",
   "metadata": {
    "lang": "fr"
   },
   "source": [
    "## Sélection par des critères"
   ]
  },
  {
   "cell_type": "code",
   "execution_count": null,
   "id": "61155f99-8c34-4f10-8434-0348b351706f",
   "metadata": {
    "lang": "fr",
    "tags": [
     "exer"
    ]
   },
   "outputs": [],
   "source": [
    "# Sélectionner les enregistrements pour l'année 2002\n",
    "surveys_df['year'] == 2002"
   ]
  },
  {
   "cell_type": "code",
   "execution_count": null,
   "id": "90ca78b2-0b88-429c-81ef-dba8dc9781f5",
   "metadata": {
    "lang": "fr"
   },
   "outputs": [],
   "source": [
    "# Sélectionner les enregistrements des autres années\n",
    "surveys_df[surveys_df['year'] != 2002]"
   ]
  },
  {
   "cell_type": "code",
   "execution_count": null,
   "id": "76e7aa2b-3a97-49d4-93f0-4b01dbf5c084",
   "metadata": {
    "lang": "fr"
   },
   "outputs": [],
   "source": [
    "# Avec deux critères\n",
    "surveys_df[(surveys_df['year'] >= 2001) & (surveys_df['weight'] <= 8)]"
   ]
  },
  {
   "cell_type": "markdown",
   "id": "a7569a46-3c78-4e9b-9d90-aa770ed7ce5d",
   "metadata": {
    "lang": "fr"
   },
   "source": [
    "Voici les opérateurs de condition les plus courants :\n",
    "\n",
    "* Égal, pas égal : `==`, `!=`\n",
    "* Plus grand que, plus petit que : `>`, `<`\n",
    "* Plus grand ou égal, plus petit ou égal : `>=`, `<=`\n",
    "* Opérateurs par élément ET et OU : `&` et `|`\n",
    "* Opérateur d'inversion : `~`"
   ]
  },
  {
   "cell_type": "code",
   "execution_count": null,
   "id": "43358a98-ed2e-42ed-bcce-8054ad7bb8a0",
   "metadata": {
    "lang": "fr"
   },
   "outputs": [],
   "source": [
    "# Sélection de trois années\n",
    "surveys_df[\n",
    "    (surveys_df['year'] == 1991) |\n",
    "    (surveys_df['year'] == 1996) |\n",
    "    (surveys_df['year'] == 2001)\n",
    "].shape"
   ]
  },
  {
   "cell_type": "code",
   "execution_count": null,
   "id": "7615c90f-77ae-425d-b955-6218e9956f89",
   "metadata": {
    "lang": "fr"
   },
   "outputs": [],
   "source": [
    "# Sélection de trois années avec isin()\n",
    "surveys_df[\n",
    "    surveys_df['year'].isin([1991, 1996, 2001])\n",
    "].shape"
   ]
  },
  {
   "cell_type": "code",
   "execution_count": null,
   "id": "d4c51e4d-b68d-40a8-8cff-088e54fa34cb",
   "metadata": {
    "lang": "fr"
   },
   "outputs": [],
   "source": [
    "# Sélection des poids sur trois années avec .loc[]\n",
    "surveys_df.loc[surveys_df['year'].isin([1991, 1996, 2001]), 'weight']"
   ]
  },
  {
   "cell_type": "code",
   "execution_count": null,
   "id": "e62ce6d3-edc1-4fce-9474-4abaa80b4ba9",
   "metadata": {
    "lang": "fr"
   },
   "outputs": [],
   "source": [
    "# Chercher des données manquantes ou erronées\n",
    "surveys_df.loc[~surveys_df['sex'].isin(['F', 'M']), 'sex']"
   ]
  },
  {
   "cell_type": "markdown",
   "id": "91936ad6-b35a-4ae9-8c16-3971f0f6f41e",
   "metadata": {
    "lang": "fr"
   },
   "source": [
    "### Exercices - Sélections par la présence\n",
    "`1`. Utilisez la méthode `isin()` pour trouver tous les\n",
    "différents sites (`plot_id`) ayant certaines espèces\n",
    "(`AS`, `CQ`, `OX` et `UL`) dans le DataFrame. (4 min.)"
   ]
  },
  {
   "cell_type": "code",
   "execution_count": null,
   "id": "58750d14-1c55-4f0a-b66e-a2b7d6f86464",
   "metadata": {
    "lang": "fr",
    "tags": [
     "exer"
    ]
   },
   "outputs": [],
   "source": [
    "# Masque booléen selon le code de l'espèce\n",
    "cond_especes = ###(['AS', 'CQ', 'OX', 'UL'])\n",
    "\n",
    "# Lister les différents sites\n",
    "surveys_df.###[###].unique()"
   ]
  },
  {
   "cell_type": "markdown",
   "id": "e5b46502-1878-4c1d-9d44-6e73a255b8c0",
   "metadata": {
    "lang": "fr"
   },
   "source": [
    "`2`. Calculez la moyenne des poids\n",
    "selon le site (`plot_id`) et le sexe :\n",
    "* Créez une sélection contenant seulement :\n",
    "  * Les observations ayant une valeur de sexe `F` ou `M`\n",
    "    et ayant un poids supérieur à `0`;\n",
    "  * Les colonnes de poids, de site et de sexe.\n",
    "* Groupez les données et calculez les moyennes de poids.\n",
    "\n",
    "(5 min.)"
   ]
  },
  {
   "cell_type": "code",
   "execution_count": null,
   "id": "c5b7ea25-8b83-4aaa-8308-c8997940c76d",
   "metadata": {
    "lang": "fr",
    "tags": [
     "exer"
    ]
   },
   "outputs": [],
   "source": [
    "# Sélection des enregistrements et des colonnes nécessaires\n",
    "cond_sexe = surveys_df['sex'].isin(['F', 'M'])\n",
    "cond_poids = surveys_df['weight'] ###\n",
    "colonnes = ['weight', 'plot_id', 'sex']\n",
    "\n",
    "selection = surveys_df###\n",
    "selection.tail()"
   ]
  },
  {
   "cell_type": "code",
   "execution_count": null,
   "id": "2cce5b19-9ea7-46cd-9e9d-e566cf962be1",
   "metadata": {
    "lang": "fr",
    "tags": [
     "exer"
    ]
   },
   "outputs": [],
   "source": [
    "# Grouper selon les sites et les sexes, calculer les moyennes\n",
    "moy_par_site_sexe = selection###\n",
    "moy_par_site_sexe.tail()"
   ]
  },
  {
   "cell_type": "markdown",
   "id": "9fcb21ff-d26b-48c5-8218-9f06d29eae21",
   "metadata": {
    "lang": "fr"
   },
   "source": [
    "## Résumé technique\n",
    "* **Sélection**\n",
    "  * `df[]` :\n",
    "    * Avec une liste : sélection de colonnes\n",
    "    * Avec un vecteur de valeurs booléennes : sélection de lignes\n",
    "  * `df.loc[lignes, colonnes]` :\n",
    "    * Avec une liste : pour des lignes ou colonnes de données\n",
    "    * Intervalle avec `:` : pour des lignes ou colonnes de données\n",
    "      * Les deux limites sont incluses\n",
    "    * Avec un vecteur de valeurs booléennes :\n",
    "      sélection de lignes de données\n",
    "    * Permet l'assignation d'une valeur selon la sélection\n",
    "  * `colonne.isin([valeur1, valeur2, ...])`\n",
    "* **Opérateurs** sur les valeurs d'une ou de deux colonnes :\n",
    "  * De comparaison : `<`, `<=`, `==`, `!=`, `>=`, `>`\n",
    "  * Booléens : `~`, `|`, `&`"
   ]
  },
  {
   "cell_type": "code",
   "execution_count": null,
   "id": "47b7b252-bebd-4d19-9237-24b9b075f433",
   "metadata": {},
   "outputs": [],
   "source": []
  }
 ],
 "metadata": {
  "kernelspec": {
   "display_name": "Python 3 (ipykernel)",
   "language": "python",
   "name": "python3"
  },
  "language_info": {
   "codemirror_mode": {
    "name": "ipython",
    "version": 3
   },
   "file_extension": ".py",
   "mimetype": "text/x-python",
   "name": "python",
   "nbconvert_exporter": "python",
   "pygments_lexer": "ipython3",
   "version": "3.11.7"
  }
 },
 "nbformat": 4,
 "nbformat_minor": 5
}
