{
 "cells": [
  {
   "cell_type": "markdown",
   "id": "4a24a22d-a82f-4bd6-a9fb-2cda373c5791",
   "metadata": {
    "lang": "en"
   },
   "source": [
    "# Data Analysis and Visualization in Python\n",
    "## Data Formatting\n",
    "Questions\n",
    "* What are the different data types in Pandas?\n",
    "* What impacts have data types on descriptive statistics?\n",
    "* How can I manage undefined (null) values?\n",
    "* How can I save a dataframe to a file?\n",
    "\n",
    "Objectives\n",
    "* Manipulate the data types.\n",
    "* Create a copy of a DataFrame.\n",
    "* Transform or remove null values.\n",
    "* Write modified data to a CSV file."
   ]
  },
  {
   "cell_type": "markdown",
   "id": "4dca7b28-a94e-4fab-8c2b-9066b6d16d43",
   "metadata": {
    "lang": "en"
   },
   "source": [
    "## Loading our data"
   ]
  },
  {
   "cell_type": "code",
   "execution_count": null,
   "id": "5b3a9096-866e-4e41-ae5f-207882f8105b",
   "metadata": {
    "lang": "en"
   },
   "outputs": [],
   "source": [
    "# First make sure pandas is loaded\n",
    "import pandas as pd\n",
    "\n",
    "# Read in the survey csv\n",
    "surveys_df = pd.read_csv(\"../data/surveys.csv\")"
   ]
  },
  {
   "cell_type": "markdown",
   "id": "4ddfe818-c6dc-4f16-8813-a54aeb69b4a2",
   "metadata": {
    "lang": "en"
   },
   "source": [
    "## Types of Data\n",
    "### Checking the format of our data"
   ]
  },
  {
   "cell_type": "markdown",
   "id": "888faaed-8326-47b3-b9e7-7f24a6af09ac",
   "metadata": {
    "lang": "en"
   },
   "source": [
    "Native Python Type | Pandas Type | Description\n",
    ":-----------------:|:-----------:|:-----------\n",
    "`str`              | `object`    | The most general dtype. Will be assigned to your column if column has mixed types (numbers and strings).\n",
    "`int`              | `int64`     | 64 bits integer\n",
    "`float`            | `float64`   | Numeric characters with decimals. If a column contains numbers and NaNs(see below), pandas will default to float64.\n",
    " N/A               | `datetime64`| Values meant to hold time data."
   ]
  },
  {
   "cell_type": "code",
   "execution_count": null,
   "id": "a7fc2dd4-ccf3-44a5-a9be-e032b426f937",
   "metadata": {
    "lang": "en"
   },
   "outputs": [],
   "source": [
    "# Getting the data type of species identifiers\n",
    "surveys_df['species_id'].dtype"
   ]
  },
  {
   "cell_type": "code",
   "execution_count": null,
   "id": "57da11f7-9eae-4528-bb98-059ad69b3be9",
   "metadata": {
    "lang": "en"
   },
   "outputs": [],
   "source": [
    "# Getting the data type of month values\n",
    "surveys_df['month'].dtype"
   ]
  },
  {
   "cell_type": "code",
   "execution_count": null,
   "id": "52b2c88d-886b-4369-b632-d5302b48f303",
   "metadata": {
    "lang": "en"
   },
   "outputs": [],
   "source": [
    "# Getting the data types of all columns\n",
    "surveys_df.dtypes"
   ]
  },
  {
   "cell_type": "markdown",
   "id": "87645009-6c0c-4524-9474-fe17227ec173",
   "metadata": {
    "lang": "en"
   },
   "source": [
    "### Working With Our Survey Data"
   ]
  },
  {
   "cell_type": "code",
   "execution_count": null,
   "id": "58c0ec42-0674-494c-bba5-f5971d56e6be",
   "metadata": {
    "lang": "en"
   },
   "outputs": [],
   "source": [
    "# Summary of descriptive statistics\n",
    "surveys_df.describe()"
   ]
  },
  {
   "cell_type": "code",
   "execution_count": null,
   "id": "5f81ef00-77a3-40e4-b6c8-ba2f63879170",
   "metadata": {
    "lang": "en"
   },
   "outputs": [],
   "source": [
    "# Convert month numbers to nominal values\n",
    "surveys_df['month'] = surveys_df['month'].astype('str')\n",
    "surveys_df['month'].dtype"
   ]
  },
  {
   "cell_type": "code",
   "execution_count": null,
   "id": "ad7ab467-04a3-45d9-9d8c-5b7d4d213753",
   "metadata": {
    "lang": "en"
   },
   "outputs": [],
   "source": [
    "# Descriptive statistics on a categorical variable\n",
    "surveys_df['month'].describe()"
   ]
  },
  {
   "cell_type": "code",
   "execution_count": null,
   "id": "19644c2f-bdb0-43fd-a067-bf7f7cb604e1",
   "metadata": {
    "lang": "en"
   },
   "outputs": [],
   "source": [
    "# Listing all different months\n",
    "surveys_df['month'].unique()"
   ]
  },
  {
   "cell_type": "code",
   "execution_count": null,
   "id": "0b3d92d1-f692-4db3-95e9-25f0065dd9f8",
   "metadata": {
    "lang": "en"
   },
   "outputs": [],
   "source": [
    "# Listing all different years\n",
    "surveys_df['year'].unique()"
   ]
  },
  {
   "cell_type": "code",
   "execution_count": null,
   "id": "7d3a076f-576b-4ad4-a7a2-090c05dacf41",
   "metadata": {
    "lang": "en"
   },
   "outputs": [],
   "source": [
    "# What happens if we try to convert weight values to int64 integers?\n",
    "try:\n",
    "    surveys_df['weight'].astype('int64')\n",
    "except BaseException as error:\n",
    "    print(f'The problem: {error}')"
   ]
  },
  {
   "cell_type": "markdown",
   "id": "38c6ef4b-1d61-41e2-889d-b140cad6b044",
   "metadata": {
    "lang": "en"
   },
   "source": [
    "## Selecting and cleaning undefined values"
   ]
  },
  {
   "cell_type": "code",
   "execution_count": null,
   "id": "04cff3ef-ac26-4494-a390-64b8c7335a48",
   "metadata": {
    "lang": "en"
   },
   "outputs": [],
   "source": [
    "# For each value, is the value undefined\n",
    "surveys_df.isna()"
   ]
  },
  {
   "cell_type": "code",
   "execution_count": null,
   "id": "bbd2cc62-1955-4c33-b791-118f1a25e7af",
   "metadata": {
    "lang": "en"
   },
   "outputs": [],
   "source": [
    "# Select rows with at least one undefined value\n",
    "nan_mask = surveys_df.isna().any(axis='columns')\n",
    "surveys_df[nan_mask]"
   ]
  },
  {
   "cell_type": "code",
   "execution_count": null,
   "id": "721d602c-b67c-4a2e-b611-9883734ddd63",
   "metadata": {
    "lang": "en"
   },
   "outputs": [],
   "source": [
    "# What does this do?\n",
    "one_selection = surveys_df[surveys_df['weight'].isna()]\n",
    "one_selection.groupby('species_id')['record_id'].count()"
   ]
  },
  {
   "cell_type": "markdown",
   "id": "57ab553c-99a1-4834-8cd5-097faa9a9ac4",
   "metadata": {
    "lang": "en"
   },
   "source": [
    "### Getting Rid of the NaN’s"
   ]
  },
  {
   "cell_type": "code",
   "execution_count": null,
   "id": "aee21507-3c7a-4faf-b530-2a449d093a2b",
   "metadata": {
    "lang": "en"
   },
   "outputs": [],
   "source": [
    "def state_by_species(df, column):\n",
    "    print(\n",
    "        df.groupby('species_id')[column].aggregate(\n",
    "            ['count', 'mean', 'std']\n",
    "        ).loc['DM':'NL']\n",
    "    )\n",
    "    print()\n",
    "    print('Total count:', df[column].count())\n",
    "\n",
    "# Before the cleanup\n",
    "state_by_species(surveys_df, 'weight')"
   ]
  },
  {
   "cell_type": "code",
   "execution_count": null,
   "id": "98cc54f4-44f3-4a10-a9b5-2a07ae4c24cc",
   "metadata": {
    "lang": "en"
   },
   "outputs": [],
   "source": [
    "# Create a copy to avoid modifying the original object\n",
    "copy_surveys = surveys_df.copy()\n",
    "copy_surveys.head()"
   ]
  },
  {
   "cell_type": "code",
   "execution_count": null,
   "id": "0b8c2a17-40aa-412d-b97b-069deb6f1cfd",
   "metadata": {
    "lang": "en"
   },
   "outputs": [],
   "source": [
    "# For a stable mean value per species\n",
    "copy_surveys.groupby('species_id')['weight'].transform('mean')"
   ]
  },
  {
   "cell_type": "code",
   "execution_count": null,
   "id": "e1401d0b-51dc-4d4a-83f6-e1537541a96b",
   "metadata": {
    "lang": "en"
   },
   "outputs": [],
   "source": [
    "# Replace unknown values by known mean values\n",
    "copy_surveys['weight'] = copy_surveys['weight'].fillna(\n",
    "    copy_surveys.groupby('species_id')['weight'].transform('mean')\n",
    ")"
   ]
  },
  {
   "cell_type": "code",
   "execution_count": null,
   "id": "63117d63-713f-4160-87c5-38e4dbee7fed",
   "metadata": {
    "lang": "en"
   },
   "outputs": [],
   "source": [
    "# Before and after the cleanup\n",
    "state_by_species(surveys_df, 'weight')\n",
    "print()  # Print an empty line\n",
    "state_by_species(copy_surveys, 'weight')"
   ]
  },
  {
   "cell_type": "markdown",
   "id": "10a1a0a1-5628-4f78-a132-b34e57be00b3",
   "metadata": {
    "lang": "en"
   },
   "source": [
    "### Exercise - Data Cleanup\n",
    "Repeat the same steps to fill in the undefined\n",
    "values, but for the `'hindfoot_length'` column.\n",
    "However, this time we want to calculate the averages\n",
    "according to `'species_id'` and `'sex'`.\n",
    "\n",
    "The `state_by_species_and_sex()` function is provided\n",
    "to display statistics before and after cleaning.\n",
    "\n",
    "(5 min.)"
   ]
  },
  {
   "cell_type": "code",
   "execution_count": null,
   "id": "024a4e34-e8d1-4a73-a341-8f099d57131e",
   "metadata": {
    "lang": "en"
   },
   "outputs": [],
   "source": [
    "def state_by_species_and_sex(df, column):\n",
    "    print(\n",
    "        df.groupby(\n",
    "            ['species_id', 'sex']\n",
    "        )[column].aggregate(\n",
    "            ['count', 'mean', 'std']\n",
    "        ).unstack().head()\n",
    "    )\n",
    "    print()\n",
    "    print('Total count:', df[column].count())"
   ]
  },
  {
   "cell_type": "code",
   "execution_count": null,
   "id": "c911964b-9b50-45f1-a911-f67ab281f1fa",
   "metadata": {
    "lang": "en",
    "tags": [
     "soln"
    ]
   },
   "outputs": [],
   "source": [
    "column = 'hindfoot_length'\n",
    "state_by_species_and_sex(copy_surveys, column)\n",
    "print()  # Print an empty line\n",
    "\n",
    "copy_surveys[column] = copy_surveys[column].fillna(\n",
    "    copy_surveys.groupby(\n",
    "        ['species_id', 'sex']\n",
    "    )[column].transform('mean')\n",
    ")\n",
    "\n",
    "state_by_species_and_sex(copy_surveys, column)"
   ]
  },
  {
   "cell_type": "markdown",
   "id": "6ef629dd-a396-4133-b526-4a730210675d",
   "metadata": {
    "lang": "en"
   },
   "source": [
    "### Writing Out Data to CSV"
   ]
  },
  {
   "cell_type": "code",
   "execution_count": null,
   "id": "c4e3e96e-454e-460d-94a9-d0d94c479b4c",
   "metadata": {
    "lang": "en"
   },
   "outputs": [],
   "source": [
    "# Only keep (complete) records that have no NA\n",
    "df_no_na = copy_surveys.dropna()\n",
    "df_no_na"
   ]
  },
  {
   "cell_type": "code",
   "execution_count": null,
   "id": "c8f80c37-05a7-4cae-929e-77c4f1f4c691",
   "metadata": {
    "lang": "en"
   },
   "outputs": [],
   "source": [
    "# Save the cleaned DataFrame to a CSV file\n",
    "df_no_na.to_csv('surveys_complete.csv', index=False)"
   ]
  },
  {
   "cell_type": "markdown",
   "id": "cffe6fd5-de9b-425a-b6f8-b465edb602fc",
   "metadata": {
    "lang": "en"
   },
   "source": [
    "## Technical Summary\n",
    "* **Managing data types**\n",
    "    * For a **DataFrame**:\n",
    "        * Attribute: `dtypes`\n",
    "    * For a **Series** (column):\n",
    "        * Attribute: `dtype`\n",
    "        * Method: `astype()`\n",
    "* **Cleaning data**\n",
    "    * `df.copy()`\n",
    "    * `isna()`, `notna()`\n",
    "    * `column.fillna(value, inplace=True)`\n",
    "* **Saving a DataFrame**\n",
    "    * `df.to_csv(csv_filename, index=False)`"
   ]
  },
  {
   "cell_type": "code",
   "execution_count": null,
   "id": "2b9fa7a9-2286-499f-99f7-836fcb03ef47",
   "metadata": {},
   "outputs": [],
   "source": []
  }
 ],
 "metadata": {
  "kernelspec": {
   "display_name": "Python 3 (ipykernel)",
   "language": "python",
   "name": "python3"
  },
  "language_info": {
   "codemirror_mode": {
    "name": "ipython",
    "version": 3
   },
   "file_extension": ".py",
   "mimetype": "text/x-python",
   "name": "python",
   "nbconvert_exporter": "python",
   "pygments_lexer": "ipython3",
   "version": "3.11.7"
  }
 },
 "nbformat": 4,
 "nbformat_minor": 5
}
