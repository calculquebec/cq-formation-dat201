{
 "cells": [
  {
   "cell_type": "markdown",
   "id": "44b77937-5fb9-41b4-aa8f-0f542e30702d",
   "metadata": {
    "lang": "en"
   },
   "source": [
    "# Data Analysis and Visualization in Python\n",
    "## Starting With Data\n",
    "Questions\n",
    "* How can I import data in Python?\n",
    "* What is Pandas?\n",
    "* Why should I use Pandas to work with data?\n",
    "\n",
    "Objectives\n",
    "* Load the Python Data Analysis Library (Pandas).\n",
    "* Use `read_csv` to read tabular data into Python.\n",
    "* Describe what a DataFrame and a Series are in Python.\n",
    "* Access and summarize data stored in a DataFrame.\n",
    "* Perform basic mathematical operations and summary statistics on data in a Pandas DataFrame.\n",
    "* Create simple plots."
   ]
  },
  {
   "cell_type": "markdown",
   "id": "1c681eb4-cd20-4ad4-ba6c-2b1b1a17a17b",
   "metadata": {
    "lang": "en"
   },
   "source": [
    "## Working With Pandas DataFrames in Python\n",
    "\n",
    "### Pandas in Python\n",
    "One of the best options for working with tabular data in Python is to use the Python Data Analysis Library (a.k.a. Pandas). The Pandas library provides data structures, produces high quality plots with matplotlib and integrates nicely with other libraries that use NumPy (which is another Python library) arrays."
   ]
  },
  {
   "cell_type": "code",
   "execution_count": null,
   "id": "b7983759-e77d-4c12-b52e-8666e756fcbc",
   "metadata": {
    "lang": "en"
   },
   "outputs": [],
   "source": [
    "# Import the \"pandas\" library\n",
    "import pandas as pd"
   ]
  },
  {
   "cell_type": "markdown",
   "id": "1384c372-494f-483f-9bee-9f008b30080f",
   "metadata": {
    "lang": "en"
   },
   "source": [
    "## Reading CSV Data Using Pandas\n",
    "### So What’s a DataFrame?"
   ]
  },
  {
   "cell_type": "code",
   "execution_count": null,
   "id": "fa5c99f6-a2b2-4b43-bf1a-1e696dc2573d",
   "metadata": {
    "lang": "en",
    "tags": [
     "soln"
    ]
   },
   "outputs": [],
   "source": [
    "# Note that pd.read_csv is used because we imported pandas as pd\n",
    "surveys_df = pd.read_csv(\"../data/surveys.csv\")"
   ]
  },
  {
   "cell_type": "code",
   "execution_count": null,
   "id": "d4578d20-6013-4853-8dd1-909d858b6f6f",
   "metadata": {
    "lang": "en"
   },
   "outputs": [],
   "source": [
    "# Display the first rows of the DataFrame\n",
    "surveys_df.head()"
   ]
  },
  {
   "cell_type": "code",
   "execution_count": null,
   "id": "8aaa0297-9e91-4731-a615-fd0fbb2268ea",
   "metadata": {
    "lang": "en"
   },
   "outputs": [],
   "source": [
    "# What format does it return the shape of the DataFrame in?\n",
    "surveys_df.shape"
   ]
  },
  {
   "cell_type": "code",
   "execution_count": null,
   "id": "a63ce9c2-8866-4c12-b975-2617c9f667df",
   "metadata": {
    "lang": "en"
   },
   "outputs": [],
   "source": [
    "# Accessing the list of column names\n",
    "surveys_df.columns"
   ]
  },
  {
   "cell_type": "code",
   "execution_count": null,
   "id": "43c5c367-2b70-4998-b81a-9a539efd3a31",
   "metadata": {
    "lang": "en"
   },
   "outputs": [],
   "source": [
    "# A column is an object of type Series\n",
    "surveys_df['weight'].describe()"
   ]
  },
  {
   "cell_type": "code",
   "execution_count": null,
   "id": "80209d8e-a186-42d6-8a50-edfba6d6b9e6",
   "metadata": {
    "lang": "en"
   },
   "outputs": [],
   "source": [
    "# Compute descriptive statistics per column\n",
    "print(\"Count:    \", surveys_df['weight'].count())\n",
    "print(\"Mean:     \", surveys_df['weight'].mean())\n",
    "print(\"Std Dev.: \", surveys_df['weight'].std())\n",
    "print(\"Min:      \", surveys_df['weight'].min())\n",
    "print(\"Median:   \", surveys_df['weight'].median())\n",
    "print(\"Max:      \", surveys_df['weight'].max())"
   ]
  },
  {
   "cell_type": "code",
   "execution_count": null,
   "id": "ce78baeb-019d-4c45-b925-c0133497baca",
   "metadata": {
    "lang": "en"
   },
   "outputs": [],
   "source": [
    "# New column - Convert all weights from grams to kilograms\n",
    "surveys_df['weight_kg'] = surveys_df['weight'] / 1000\n",
    "\n",
    "# Display the last rows of the DataFrame\n",
    "surveys_df.tail()"
   ]
  },
  {
   "cell_type": "markdown",
   "id": "218c9c96-5c21-4533-b9cc-418fb5781123",
   "metadata": {
    "lang": "en"
   },
   "source": [
    "### Exercise - DataFrame and Series\n",
    "\n",
    "1. Load the table of species from the `species.csv` file and assign the result to `species_df`."
   ]
  },
  {
   "cell_type": "code",
   "execution_count": null,
   "id": "7f8e9474-59d3-4c55-be9c-3e4aaf3240a6",
   "metadata": {
    "lang": "en",
    "tags": [
     "soln"
    ]
   },
   "outputs": [],
   "source": [
    "species_df = pd.read_csv('../data/species.csv')"
   ]
  },
  {
   "cell_type": "markdown",
   "id": "6a7dbec3-6fb3-4205-aefc-acb5cf93b0ad",
   "metadata": {
    "lang": "en"
   },
   "source": [
    "2. Use the `.unique()` function to get\n",
    "   the list of all different `taxa`."
   ]
  },
  {
   "cell_type": "code",
   "execution_count": null,
   "id": "a9830297-7173-4c33-9584-65a298f19e95",
   "metadata": {
    "lang": "en",
    "tags": [
     "soln"
    ]
   },
   "outputs": [],
   "source": [
    "species_df['taxa'].unique()"
   ]
  },
  {
   "cell_type": "markdown",
   "id": "6c1333b1-8a54-4122-ae1c-5464bfd6329b",
   "metadata": {
    "lang": "en"
   },
   "source": [
    "3. Use the `.nunique()` function to\n",
    "   get the number of different taxa.\n",
    "   Note: `nan` will not be accounted."
   ]
  },
  {
   "cell_type": "code",
   "execution_count": null,
   "id": "e70e3001-9d56-48bb-a71c-aaaec05c905b",
   "metadata": {
    "lang": "en",
    "tags": [
     "soln"
    ]
   },
   "outputs": [],
   "source": [
    "species_df['taxa'].nunique()"
   ]
  },
  {
   "cell_type": "markdown",
   "id": "2ad50f69-2afb-4008-a239-57ff69ff7f2e",
   "metadata": {
    "lang": "en"
   },
   "source": [
    "## Groups in Pandas"
   ]
  },
  {
   "cell_type": "code",
   "execution_count": null,
   "id": "9fb0f4d8-7656-40a3-a699-61c7b800fe20",
   "metadata": {
    "lang": "en",
    "tags": [
     "soln"
    ]
   },
   "outputs": [],
   "source": [
    "# Group data by sex\n",
    "by_sex = surveys_df.groupby('sex')"
   ]
  },
  {
   "cell_type": "code",
   "execution_count": null,
   "id": "ca4fb05e-701d-40f8-8077-e18137fe074e",
   "metadata": {
    "lang": "en"
   },
   "outputs": [],
   "source": [
    "# Summary statistics for all numeric columns by sex\n",
    "by_sex.describe()"
   ]
  },
  {
   "cell_type": "code",
   "execution_count": null,
   "id": "99ae24fb-e4bc-488d-ba3c-19490b927f45",
   "metadata": {
    "lang": "en"
   },
   "outputs": [],
   "source": [
    "# Provide the mean for each numeric column by sex\n",
    "by_sex.mean(numeric_only=True)"
   ]
  },
  {
   "cell_type": "code",
   "execution_count": null,
   "id": "420ea5c6-15a8-4077-8adc-f0df1598d398",
   "metadata": {
    "lang": "en"
   },
   "outputs": [],
   "source": [
    "# Get the number of records of the 'AB' species\n",
    "surveys_df.groupby('species_id')['record_id'].count()['AB']"
   ]
  },
  {
   "cell_type": "markdown",
   "id": "4c3c01d3-c97d-41fd-8d76-4a4540dcaeca",
   "metadata": {
    "lang": "en"
   },
   "source": [
    "### Exercise - Grouping\n",
    "`1`. How many recorded individuals are female `F`, and how many male `M`?"
   ]
  },
  {
   "cell_type": "code",
   "execution_count": null,
   "id": "85248859-8d63-4b55-87ef-7486c0f95c28",
   "metadata": {
    "lang": "en",
    "tags": [
     "soln"
    ]
   },
   "outputs": [],
   "source": [
    "by_sex['record_id'].count()"
   ]
  },
  {
   "cell_type": "markdown",
   "id": "520f326b-132b-47fa-b735-2a484eff27af",
   "metadata": {
    "lang": "en"
   },
   "source": [
    "`2`. What happens when you group by two columns using the following syntax and then grab mean values:"
   ]
  },
  {
   "cell_type": "code",
   "execution_count": null,
   "id": "251b6c52-c2e0-4fa8-9a79-6570c42df687",
   "metadata": {
    "lang": "en,fr",
    "tags": [
     "soln"
    ]
   },
   "outputs": [],
   "source": [
    "surveys_df.groupby(['plot_id', 'sex']).mean(numeric_only=True)"
   ]
  },
  {
   "cell_type": "markdown",
   "id": "3fd8931a-8e07-4703-b47f-53708ab8cedc",
   "metadata": {
    "lang": "en"
   },
   "source": [
    "`3`. Summarize `weight` values for each site (`plot_id`) in your data. HINT: it is possible to select a column once the data has been grouped."
   ]
  },
  {
   "cell_type": "code",
   "execution_count": null,
   "id": "d0b5b58a-0aa5-4e14-afad-21252299ae9b",
   "metadata": {
    "lang": "en,fr",
    "tags": [
     "soln"
    ]
   },
   "outputs": [],
   "source": [
    "surveys_df.groupby('plot_id')['weight'].describe()"
   ]
  },
  {
   "cell_type": "markdown",
   "id": "d4259bd9-f099-445c-9ca6-375ed2c3fa0a",
   "metadata": {
    "lang": "en"
   },
   "source": [
    "## Quick & Easy Plotting Data Using Pandas"
   ]
  },
  {
   "cell_type": "code",
   "execution_count": null,
   "id": "96bb19b9-0fe0-43f0-82f2-7789ff219086",
   "metadata": {
    "lang": "en,fr"
   },
   "outputs": [],
   "source": [
    "surveys_df.groupby('plot_id')['record_id'].count().plot(kind='bar')"
   ]
  },
  {
   "cell_type": "markdown",
   "id": "7b1df014-65b6-4526-a414-42fad86e8e1a",
   "metadata": {
    "lang": "en"
   },
   "source": [
    "### Exercise - Plotting Challenge\n",
    "Create a `line` plot of the median `weight` per month."
   ]
  },
  {
   "cell_type": "code",
   "execution_count": null,
   "id": "5aa52e78-48f6-4e59-8c5b-a02bc5dc88f0",
   "metadata": {
    "lang": "en,fr",
    "tags": [
     "soln"
    ]
   },
   "outputs": [],
   "source": [
    "surveys_df.groupby('month')['weight'].median().plot(kind='line')"
   ]
  },
  {
   "cell_type": "markdown",
   "id": "556c3342-ebac-4ef4-9562-f1a1326419ab",
   "metadata": {
    "lang": "en"
   },
   "source": [
    "## Summary Example"
   ]
  },
  {
   "cell_type": "code",
   "execution_count": null,
   "id": "1b205f0d-ca75-4f6a-b038-a47c125a86c4",
   "metadata": {
    "lang": "en"
   },
   "outputs": [],
   "source": [
    "by_site_sex = surveys_df.groupby(['plot_id', 'sex'])\n",
    "site_sex_total_weight = by_site_sex['weight'].sum()\n",
    "site_sex_total_weight.head(15)"
   ]
  },
  {
   "cell_type": "code",
   "execution_count": null,
   "id": "1e4b2477-497d-4653-adc4-d5de7d7935dc",
   "metadata": {
    "lang": "en"
   },
   "outputs": [],
   "source": [
    "# Change the right-most categorical values into columns\n",
    "sstw = site_sex_total_weight.unstack()\n",
    "sstw"
   ]
  },
  {
   "cell_type": "code",
   "execution_count": null,
   "id": "5a6ace18-a8fa-4c7c-a938-c04413080338",
   "metadata": {
    "lang": "en"
   },
   "outputs": [],
   "source": [
    "# Add a title and the axis labels\n",
    "s_plot = sstw.plot(kind='bar', title=\"Total weight by site and sex\")\n",
    "s_plot.set_xlabel(\"Site\")\n",
    "s_plot.set_ylabel(\"Weight (g)\")"
   ]
  },
  {
   "cell_type": "markdown",
   "id": "ccff77fd-99c7-428e-854e-f771da6851a1",
   "metadata": {
    "lang": "en"
   },
   "source": [
    "## Technical Summary\n",
    "* **Import Pandas**: `import pandas as pd`\n",
    "* **Load data**: `pd.read_csv()`\n",
    "  * Argument: the **filename**\n",
    "  * `index_col`: the column to interpret as the DataFrame index\n",
    "* **DataFrame** object:\n",
    "  * **Attributes**: `shape`, `index`, `columns`\n",
    "  * **Methods**: `head()`, `tail()`, `describe()`\n",
    "* Series object or **column**:\n",
    "  * **Selection**: `df['column_name']`\n",
    "  * **Methods**:\n",
    "    * Descriptive statistics:\n",
    "      `count()`, `mean()`, `median()`, `min()`, `max()`\n",
    "    * Others: `describe()`, `nunique()`, `unique()`\n",
    "* **Grouping by values** of one or many columns:\n",
    "  * `groupby(column_name)`\n",
    "  * `groupby([column_name1, column_name2])`\n",
    "* **Reshaping a DataFrame** from values in the index: `unstack()`\n",
    "* **Making a plot from a DataFrame**:\n",
    "  * `df.plot()`, where `df` has one or many columns\n",
    "    * `kind='bar'` (line plot by default)\n",
    "    * `stacked=True`\n",
    "    * `title=\"\"`\n",
    "  * `plot_object.set_xlabel(\"\")`\n",
    "  * `plot_object.set_ylabel(\"\")`"
   ]
  },
  {
   "cell_type": "code",
   "execution_count": null,
   "id": "e1b5adc9-5fdf-4c19-be45-999249dbd57d",
   "metadata": {},
   "outputs": [],
   "source": []
  }
 ],
 "metadata": {
  "kernelspec": {
   "display_name": "Python 3 (ipykernel)",
   "language": "python",
   "name": "python3"
  },
  "language_info": {
   "codemirror_mode": {
    "name": "ipython",
    "version": 3
   },
   "file_extension": ".py",
   "mimetype": "text/x-python",
   "name": "python",
   "nbconvert_exporter": "python",
   "pygments_lexer": "ipython3",
   "version": "3.11.7"
  }
 },
 "nbformat": 4,
 "nbformat_minor": 5
}
