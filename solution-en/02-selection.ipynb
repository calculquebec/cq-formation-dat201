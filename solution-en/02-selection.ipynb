{
 "cells": [
  {
   "cell_type": "markdown",
   "id": "44ffe0d5-251d-4ac5-9bb4-fa7d8da4d984",
   "metadata": {
    "lang": "en"
   },
   "source": [
    "# Data Analysis and Visualization in Python\n",
    "## Indexing, Slicing and Subsetting DataFrames\n",
    "Questions\n",
    "* How can I access specific data within my data set?\n",
    "\n",
    "Objectives\n",
    "* Employ slicing to select sets of data from a DataFrame.\n",
    "* Employ label and integer-based indexing\n",
    "  to select ranges of data in a dataframe.\n",
    "* Reassign values within subsets of a DataFrame.\n",
    "* Query/select a subset of data using a set of criteria using\n",
    "  the following operators: `=`, `!=`, `>`, `<`, `>=`, `<=`.\n",
    "* Manipulate data using boolean masks."
   ]
  },
  {
   "cell_type": "markdown",
   "id": "5670609e-958d-4e12-9888-e08f5e26bcda",
   "metadata": {
    "lang": "en"
   },
   "source": [
    "## Loading our data"
   ]
  },
  {
   "cell_type": "code",
   "execution_count": null,
   "id": "d7514568-c494-4838-8b28-bf649f0a1c7a",
   "metadata": {
    "lang": "en"
   },
   "outputs": [],
   "source": [
    "# First make sure pandas is loaded\n",
    "import pandas as pd\n",
    "\n",
    "# Read in the survey csv\n",
    "surveys_df = pd.read_csv(\"../data/surveys.csv\")"
   ]
  },
  {
   "cell_type": "markdown",
   "id": "3c6deb7a-554b-43ea-b644-336ab8dd89da",
   "metadata": {
    "lang": "en"
   },
   "source": [
    "## Indexing & Slicing in Python\n",
    "### Selecting Data Using Labels (Column Headings)"
   ]
  },
  {
   "cell_type": "code",
   "execution_count": null,
   "id": "5524b7a9-a717-45cd-984d-1167941cc7a1",
   "metadata": {
    "lang": "en",
    "tags": [
     "soln"
    ]
   },
   "outputs": [],
   "source": [
    "# Assign the column of species IDs\n",
    "surveys_species = surveys_df['species_id']"
   ]
  },
  {
   "cell_type": "code",
   "execution_count": null,
   "id": "388d9e8f-fa24-46bb-a54d-213fc03e19ea",
   "metadata": {
    "lang": "en"
   },
   "outputs": [],
   "source": [
    "# Get the length of the column\n",
    "surveys_species.shape"
   ]
  },
  {
   "cell_type": "code",
   "execution_count": null,
   "id": "57434df0-9646-4858-8e57-df141e7ad6ba",
   "metadata": {
    "lang": "en"
   },
   "outputs": [],
   "source": [
    "# Select many columns with a list of column names\n",
    "columns = ['year', 'month', 'day']\n",
    "surveys_df[columns]"
   ]
  },
  {
   "cell_type": "markdown",
   "id": "c14f9dde-2599-408f-a33d-074c47267159",
   "metadata": {
    "lang": "en"
   },
   "source": [
    "### Slicing Subsets of Rows and Columns in Python\n",
    "We can select specific ranges of our data in both the row and\n",
    "column directions using `loc`: primarily label based indexing.\n",
    "Integers may be used but they are interpreted as a label."
   ]
  },
  {
   "cell_type": "code",
   "execution_count": null,
   "id": "08f86963-5b47-44fb-884d-cc4d07b82d5d",
   "metadata": {
    "lang": "en"
   },
   "outputs": [],
   "source": [
    "# What does this do?\n",
    "surveys_df.loc[0, ['species_id', 'plot_id', 'weight']]"
   ]
  },
  {
   "cell_type": "code",
   "execution_count": null,
   "id": "dd739054-fdfc-4f98-91a2-c4ddb129f7bd",
   "metadata": {
    "lang": "en"
   },
   "outputs": [],
   "source": [
    "# Select all columns for rows of index values 0 and 10\n",
    "surveys_df.loc[[0, 10], :]"
   ]
  },
  {
   "cell_type": "code",
   "execution_count": null,
   "id": "20a4e3b6-56e1-4ba2-a177-9c273ff08e9b",
   "metadata": {
    "lang": "en",
    "tags": [
     "soln"
    ]
   },
   "outputs": [],
   "source": [
    "# What happens when you type the code below?\n",
    "try:\n",
    "    print(surveys_df.loc[[0, 10, 35548], :])\n",
    "except BaseException as error:\n",
    "    print(f'The problem: {error}')"
   ]
  },
  {
   "cell_type": "markdown",
   "id": "10f17b04-1797-442b-8975-244888a67cfd",
   "metadata": {
    "lang": "en"
   },
   "source": [
    "### Demo - Range\n",
    "What happens when you execute:"
   ]
  },
  {
   "cell_type": "code",
   "execution_count": null,
   "id": "c3434487-cebb-4852-b052-d0ccea6154b0",
   "metadata": {
    "lang": "en",
    "tags": [
     "soln"
    ]
   },
   "outputs": [],
   "source": [
    "try:\n",
    "    print(surveys_df.loc[0:4, 'month':'plot_id'])\n",
    "except BaseException as error:\n",
    "    print(f'The problem: {error}')"
   ]
  },
  {
   "cell_type": "markdown",
   "id": "f1babaa7-f6a5-4445-b15c-fdb063e00682",
   "metadata": {
    "lang": "en"
   },
   "source": [
    "## Subsetting Data Using Criteria"
   ]
  },
  {
   "cell_type": "code",
   "execution_count": null,
   "id": "de434a49-5460-4f81-a994-7e97391d82bc",
   "metadata": {
    "lang": "en",
    "tags": [
     "soln"
    ]
   },
   "outputs": [],
   "source": [
    "# Select records for the year 2002\n",
    "surveys_df[surveys_df['year'] == 2002]"
   ]
  },
  {
   "cell_type": "code",
   "execution_count": null,
   "id": "e0687bd0-26d4-4da6-8483-69b1f24676dc",
   "metadata": {
    "lang": "en"
   },
   "outputs": [],
   "source": [
    "# Select records for the other years\n",
    "surveys_df[surveys_df['year'] != 2002]"
   ]
  },
  {
   "cell_type": "code",
   "execution_count": null,
   "id": "96f00934-0f94-441c-a0ad-9969c4f491a8",
   "metadata": {
    "lang": "en"
   },
   "outputs": [],
   "source": [
    "# With two conditions\n",
    "surveys_df[(surveys_df['year'] >= 2001) & (surveys_df['weight'] <= 8)]"
   ]
  },
  {
   "cell_type": "markdown",
   "id": "97797571-bbe5-4b84-8938-5be59929f392",
   "metadata": {
    "lang": "en"
   },
   "source": [
    "Here are the most common operators for conditions:\n",
    "\n",
    "* Equal, not equal: `==`, `!=`\n",
    "* Greater than, less than: `>`, `<`\n",
    "* Greater than or equal to, less than or equal to: `>=`, `<=`\n",
    "* Element-wise AND and OR operators: `&` and `|`"
   ]
  },
  {
   "cell_type": "markdown",
   "id": "dc925620-4572-42d9-b42e-8de2d0a4b315",
   "metadata": {
    "lang": "en"
   },
   "source": [
    "### Exercises - Selection by presence\n",
    "`1`. You can use the `isin()` method in python to query\n",
    "a DataFrame based upon a list of values as follows:\n",
    "```\n",
    "surveys_df[surveys_df['column_name'].isin([value1, value2, ...])]\n",
    "```\n",
    "Use the `isin()` method to find all different\n",
    "sites (`plot_id`) that contain particular species\n",
    "(`AS`, `CQ`, `OX` and `UL`) in the surveys DataFrame."
   ]
  },
  {
   "cell_type": "code",
   "execution_count": null,
   "id": "63b71bc4-1597-4d29-8747-dd910e6832d6",
   "metadata": {
    "lang": "en",
    "tags": [
     "soln"
    ]
   },
   "outputs": [],
   "source": [
    "# Boolean mask of valid species IDs\n",
    "species_mask = surveys_df['species_id'].isin(['AS', 'CQ', 'OX', 'UL'])\n",
    "\n",
    "# List all different sites\n",
    "surveys_df[species_mask]['plot_id'].unique()"
   ]
  },
  {
   "cell_type": "markdown",
   "id": "706100f9-4081-4e50-8e5a-3ec4feee99f0",
   "metadata": {
    "lang": "en"
   },
   "source": [
    "`2`. Create a stacked bar plot of average weight by site\n",
    "with male vs female values stacked for each site (`plot_id`).\n",
    "* Create a new DataFrame that contains only observations that are\n",
    "  of sex female or male and where weight values are greater than 0\n",
    "* For the final plot, only select the\n",
    "  weight, the site and the sex columns"
   ]
  },
  {
   "cell_type": "code",
   "execution_count": null,
   "id": "edfaa7d7-e418-4cec-87ef-876894e141ad",
   "metadata": {
    "lang": "en",
    "tags": [
     "soln"
    ]
   },
   "outputs": [],
   "source": [
    "# Selection of the data with isin()\n",
    "sex_mask = surveys_df['sex'].isin(['F', 'M'])\n",
    "weight_mask = surveys_df['weight'] > 0\n",
    "columns = ['weight', 'plot_id', 'sex']\n",
    "\n",
    "selection = surveys_df[sex_mask & weight_mask][columns]\n",
    "selection.tail()"
   ]
  },
  {
   "cell_type": "code",
   "execution_count": null,
   "id": "25667d05-1ae4-4eda-bd88-4a54ae02b13d",
   "metadata": {
    "lang": "en",
    "tags": [
     "soln"
    ]
   },
   "outputs": [],
   "source": [
    "# Calculate the mean weight for each plot_id and sex combination: \n",
    "avg_by_site_sex = selection.groupby(['plot_id', 'sex']).mean()\n",
    "avg_by_site_sex.head()"
   ]
  },
  {
   "cell_type": "code",
   "execution_count": null,
   "id": "f9deccad-37a1-4489-b5d9-e3f8284dda00",
   "metadata": {
    "lang": "en",
    "tags": [
     "soln"
    ]
   },
   "outputs": [],
   "source": [
    "# Transform categorical values into columns\n",
    "table_site_sex = avg_by_site_sex.unstack()\n",
    "\n",
    "# The legend header contains two levels. To remove the first level:\n",
    "table_site_sex.columns = table_site_sex.columns.droplevel()\n",
    "table_site_sex.tail()"
   ]
  },
  {
   "cell_type": "code",
   "execution_count": null,
   "id": "f9139ad6-7662-46bf-98d5-b3c5bfadd9a7",
   "metadata": {
    "lang": "en"
   },
   "outputs": [],
   "source": [
    "# And we can make a stacked bar plot from this:\n",
    "table_site_sex.plot(kind='bar', stacked=True)"
   ]
  },
  {
   "cell_type": "markdown",
   "id": "7ffd5c69-247f-46e1-99b2-32a035f1554f",
   "metadata": {
    "lang": "en"
   },
   "source": [
    "`3`. The `~` symbol in Python can be used to return the OPPOSITE\n",
    "of the selection that you specify in python. It is equivalent\n",
    "to **is not in**. Write a query that selects all rows\n",
    "that are NOT equal to `F` or `M` in the surveys data."
   ]
  },
  {
   "cell_type": "code",
   "execution_count": null,
   "id": "1ef4b2e5-808d-4f9b-83e2-c47a7be6f8b1",
   "metadata": {
    "lang": "en",
    "tags": [
     "soln"
    ]
   },
   "outputs": [],
   "source": [
    "surveys_df[~sex_mask]"
   ]
  },
  {
   "cell_type": "markdown",
   "id": "787a73d0-7757-41b7-81e1-fa3d85f64b20",
   "metadata": {
    "lang": "en"
   },
   "source": [
    "## Technical Summary\n",
    "* **Selection**\n",
    "  * `df[]` :\n",
    "    * With a list: selection of columns\n",
    "    * With a vector of boolean values: selection of rows\n",
    "  * `df.loc[rows, columns]` :\n",
    "    * With a list: for rows and columns\n",
    "    * With a range with the `:` notation: for rows and columns\n",
    "      * Both limits in the range are included\n",
    "    * With a vector of boolean values: selection of rows\n",
    "    * Allows overwriting the selection with new values\n",
    "  * `column.isin([value1, value2, ...])`\n",
    "* **Operators** on values of one or two columns:\n",
    "  * Comparison: `<`, `<=`, `==`, `!=`, `>=`, `>`\n",
    "  * Boolean: `~`, `|`, `&`"
   ]
  },
  {
   "cell_type": "code",
   "execution_count": null,
   "id": "47b7b252-bebd-4d19-9237-24b9b075f433",
   "metadata": {},
   "outputs": [],
   "source": []
  }
 ],
 "metadata": {
  "kernelspec": {
   "display_name": "Python 3 (ipykernel)",
   "language": "python",
   "name": "python3"
  },
  "language_info": {
   "codemirror_mode": {
    "name": "ipython",
    "version": 3
   },
   "file_extension": ".py",
   "mimetype": "text/x-python",
   "name": "python",
   "nbconvert_exporter": "python",
   "pygments_lexer": "ipython3",
   "version": "3.11.7"
  }
 },
 "nbformat": 4,
 "nbformat_minor": 5
}
