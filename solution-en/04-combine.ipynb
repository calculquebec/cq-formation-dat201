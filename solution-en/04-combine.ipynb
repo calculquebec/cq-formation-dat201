{
 "cells": [
  {
   "cell_type": "markdown",
   "id": "9cfffc51-c9a5-4dc7-b1aa-6a370e3356e2",
   "metadata": {
    "lang": "en"
   },
   "source": [
    "# Data Analysis with Python\n",
    "## Combining DataFrames with pandas\n",
    "Questions\n",
    "* Can I work with data from multiple sources?\n",
    "* How can I combine data from different data sets?\n",
    "\n",
    "Objectives\n",
    "* Combine data from multiple files into a single DataFrame using `concat` and `merge`.\n",
    "* Combine two DataFrames using a unique ID found in both DataFrames."
   ]
  },
  {
   "cell_type": "markdown",
   "id": "6e68a265-f190-499f-bf65-6a6d01939d17",
   "metadata": {
    "lang": "en"
   },
   "source": [
    "## List data files"
   ]
  },
  {
   "cell_type": "code",
   "execution_count": null,
   "id": "60f159db-e97b-4e25-a153-38169c6cb668",
   "metadata": {
    "lang": "en"
   },
   "outputs": [],
   "source": [
    "# Function for \"globbing\" (searching by file name pattern)\n",
    "from glob import glob\n",
    "\n",
    "# List a collection of CSV files\n",
    "csv_files = glob('../data/by_year/*.csv')\n",
    "csv_files[-5:]"
   ]
  },
  {
   "cell_type": "markdown",
   "id": "db86a855-e8f4-4398-afb9-0d65e7bcf63e",
   "metadata": {
    "lang": "en"
   },
   "source": [
    "## Concatenating DataFrames"
   ]
  },
  {
   "cell_type": "code",
   "execution_count": null,
   "id": "0244dce5-9e9d-46bf-890c-8fed49da06b1",
   "metadata": {
    "lang": "en"
   },
   "outputs": [],
   "source": [
    "import pandas as pd\n",
    "\n",
    "year2001 = pd.read_csv('../data/by_year/surveys_2001.csv')\n",
    "year2002 = pd.read_csv('../data/by_year/surveys_2002.csv')\n",
    "\n",
    "print(year2001.shape, year2002.shape)"
   ]
  },
  {
   "cell_type": "code",
   "execution_count": null,
   "id": "b341989a-9d5a-464e-85d0-4202165742b1",
   "metadata": {
    "lang": "en"
   },
   "outputs": [],
   "source": [
    "# Stack the DataFrames on top of each other\n",
    "vertical = pd.concat([year2001, year2002], axis='index')\n",
    "vertical"
   ]
  },
  {
   "cell_type": "code",
   "execution_count": null,
   "id": "4790592e-20d8-4581-91e1-6ab3040daa4a",
   "metadata": {
    "lang": "en"
   },
   "outputs": [],
   "source": [
    "# Reset index values of the dataframe\n",
    "# The drop=True option avoids adding new index column with old index values\n",
    "vertical = vertical.reset_index(drop=True)\n",
    "vertical"
   ]
  },
  {
   "cell_type": "code",
   "execution_count": null,
   "id": "c0bf78a2-7880-4e13-9a1e-03fc5af1ca42",
   "metadata": {
    "lang": "en"
   },
   "outputs": [],
   "source": [
    "# Accumulate data from all files in the collection\n",
    "df_list = []\n",
    "\n",
    "for filename in glob('../data/by_year/*.csv'):\n",
    "    df_by_year = pd.read_csv(filename)\n",
    "    df_list.append(df_by_year)\n",
    "\n",
    "surveys_df = pd.concat(df_list, axis='index')\n",
    "surveys_df = surveys_df.reset_index(drop=True)\n",
    "surveys_df"
   ]
  },
  {
   "cell_type": "markdown",
   "id": "581fbb73-48de-49ca-bef7-3ab59258d5e3",
   "metadata": {
    "lang": "en"
   },
   "source": [
    "## Exercise - Concatenating DataFrames\n",
    "* Load the data from all CSV files in the directory\n",
    "  `../data/by_species_id/` and accumulate them in a list.\n",
    "* Concatenate the DataFrames of that list.\n",
    "* Reset the index without preserving it.\n",
    "\n",
    "(4 min.)"
   ]
  },
  {
   "cell_type": "code",
   "execution_count": null,
   "id": "326d5477-682d-4806-a599-cb3480c3ac90",
   "metadata": {
    "lang": "en",
    "tags": [
     "soln"
    ]
   },
   "outputs": [],
   "source": [
    "df_list = []\n",
    "\n",
    "for filename in glob('../data/by_species_id/*.csv'):\n",
    "    df_list.append(pd.read_csv(filename))\n",
    "\n",
    "surveys_sp = pd.concat(df_list, axis='index').reset_index(drop=True)\n",
    "surveys_sp"
   ]
  },
  {
   "cell_type": "markdown",
   "id": "4eacaca5-19e9-48c4-bbe7-74e28323d13a",
   "metadata": {
    "lang": "en"
   },
   "source": [
    "* Compute the average weight by sex for each species. (1 min.)"
   ]
  },
  {
   "cell_type": "code",
   "execution_count": null,
   "id": "18cc5c80-2f89-4821-9b9a-265aaffa16a5",
   "metadata": {
    "lang": "en",
    "tags": [
     "soln"
    ]
   },
   "outputs": [],
   "source": [
    "# Get the average weight by sex for each species\n",
    "weight_species = surveys_sp.groupby(\n",
    "    ['species_id', 'sex'])['weight'].mean().unstack()\n",
    "weight_species"
   ]
  },
  {
   "cell_type": "markdown",
   "id": "96877605-e612-45fb-8203-438b2b72a9c1",
   "metadata": {
    "lang": "en"
   },
   "source": [
    "* Export your results as a CSV file and make sure\n",
    "  it reads back into python properly. (3 min.)"
   ]
  },
  {
   "cell_type": "code",
   "execution_count": null,
   "id": "17c8f9fc-72f4-45a5-902e-30e22f43d32c",
   "metadata": {
    "lang": "en",
    "tags": [
     "soln"
    ]
   },
   "outputs": [],
   "source": [
    "# Writing to file while keeping the index\n",
    "csv_file = 'weight_by_species.csv'\n",
    "weight_species.to_csv(csv_file, index=True)\n",
    "\n",
    "# Reading it back in with a specified index column\n",
    "pd.read_csv(csv_file, index_col='species_id')"
   ]
  },
  {
   "cell_type": "markdown",
   "id": "614e90c6-0591-4503-a36b-6f07fc0f6bbb",
   "metadata": {
    "lang": "en"
   },
   "source": [
    "## Joining Two DataFrames"
   ]
  },
  {
   "cell_type": "code",
   "execution_count": null,
   "id": "588cde42-08c6-4d94-a2eb-43dfff281316",
   "metadata": {
    "lang": "en"
   },
   "outputs": [],
   "source": [
    "# Import a small subset of the species data designed for this part of the lesson\n",
    "species_sub = pd.read_csv('../data/speciesSubset.csv')\n",
    "species_sub"
   ]
  },
  {
   "cell_type": "code",
   "execution_count": null,
   "id": "e9729aee-b862-4229-ade9-8ca2a52ce273",
   "metadata": {
    "lang": "en"
   },
   "outputs": [],
   "source": [
    "# The first ten records\n",
    "head10 = surveys_df.head(10)\n",
    "head10"
   ]
  },
  {
   "cell_type": "markdown",
   "id": "8886c399-91c5-49f9-afe5-7095d303ed78",
   "metadata": {
    "lang": "en"
   },
   "source": [
    "### Identifying join keys"
   ]
  },
  {
   "cell_type": "code",
   "execution_count": null,
   "id": "07441fe7-284b-4458-8561-fa91b50e32d1",
   "metadata": {
    "lang": "en"
   },
   "outputs": [],
   "source": [
    "head10.columns"
   ]
  },
  {
   "cell_type": "code",
   "execution_count": null,
   "id": "a6d18e56-0971-48fe-943d-5c69e230c882",
   "metadata": {
    "lang": "en"
   },
   "outputs": [],
   "source": [
    "species_sub.columns"
   ]
  },
  {
   "cell_type": "markdown",
   "id": "337270c3-6552-447b-9bd4-c2871f2ff5fa",
   "metadata": {
    "lang": "en"
   },
   "source": [
    "### Inner joins"
   ]
  },
  {
   "cell_type": "markdown",
   "id": "b7884627-7d4c-42bd-8f39-01888a859a63",
   "metadata": {
    "lang": "en,fr"
   },
   "source": [
    "![Inner join of tables A and B](https://datacarpentry.org/python-ecology-lesson/fig/inner-join.png)"
   ]
  },
  {
   "cell_type": "code",
   "execution_count": null,
   "id": "3546893f-e483-4cc0-9880-7997abc8d7ed",
   "metadata": {
    "lang": "en"
   },
   "outputs": [],
   "source": [
    "# Computing the inner join of head10 and species_sub\n",
    "key = 'species_id'\n",
    "merged_inner = pd.merge(\n",
    "    left=head10,\n",
    "    right=species_sub,\n",
    "    left_on=key,\n",
    "    right_on=key\n",
    ")\n",
    "# What's the size of the output data?\n",
    "merged_inner.shape"
   ]
  },
  {
   "cell_type": "code",
   "execution_count": null,
   "id": "a86e40a8-485c-49b4-bf18-a190bf29dd76",
   "metadata": {
    "lang": "en"
   },
   "outputs": [],
   "source": [
    "merged_inner"
   ]
  },
  {
   "cell_type": "markdown",
   "id": "2d97c671-947c-4a12-b7d1-f7cc3d9d1dcd",
   "metadata": {
    "lang": "en"
   },
   "source": [
    "### Left joins"
   ]
  },
  {
   "cell_type": "markdown",
   "id": "07ceaa41-1012-4ea2-817d-c7be7671f7d3",
   "metadata": {
    "lang": "en,fr"
   },
   "source": [
    "![Left join of tables A and B](https://datacarpentry.org/python-ecology-lesson/fig/left-join.png)"
   ]
  },
  {
   "cell_type": "code",
   "execution_count": null,
   "id": "a2ed8150-1371-472f-ab05-ccfe447a93f3",
   "metadata": {
    "lang": "en"
   },
   "outputs": [],
   "source": [
    "merged_left = pd.merge(\n",
    "    left=head10,\n",
    "    right=species_sub,\n",
    "    how='left',\n",
    "    on=key\n",
    ")\n",
    "# What's the size of the output data?\n",
    "merged_left.shape"
   ]
  },
  {
   "cell_type": "code",
   "execution_count": null,
   "id": "d84c5d8d-97c4-439d-99b6-682884f7c813",
   "metadata": {
    "lang": "en"
   },
   "outputs": [],
   "source": [
    "merged_left"
   ]
  },
  {
   "cell_type": "markdown",
   "id": "534ffdf2-f5c2-443e-a1a3-f8c366fd37b9",
   "metadata": {
    "lang": "en"
   },
   "source": [
    "### Other join types\n",
    "* `how='right'` : all rows from the right DataFrame are kept\n",
    "* `how='outer'` : all pairwise combinations of rows from both DataFrames"
   ]
  },
  {
   "cell_type": "markdown",
   "id": "c36b0730-bb64-4853-b8ec-72ce5bcfe177",
   "metadata": {
    "lang": "en"
   },
   "source": [
    "## Exercise - Joining all data\n",
    "`1`. Create a new DataFrame by joining the contents of the\n",
    "`surveys_df` and `species.csv` tables. Keep all survey records.\n",
    "(3 min.)"
   ]
  },
  {
   "cell_type": "code",
   "execution_count": null,
   "id": "7384e3f2-d1a7-47d7-83d4-24c99d25bc8c",
   "metadata": {
    "lang": "en",
    "tags": [
     "soln"
    ]
   },
   "outputs": [],
   "source": [
    "species_df = pd.read_csv('../data/species.csv')\n",
    "\n",
    "merged_left = pd.merge(\n",
    "    left=surveys_df,\n",
    "    right=species_df,\n",
    "    how='left',\n",
    "    on='species_id'\n",
    ")\n",
    "merged_left.shape"
   ]
  },
  {
   "cell_type": "markdown",
   "id": "f05959ac-89bf-4741-9abc-103a24855936",
   "metadata": {
    "lang": "en"
   },
   "source": [
    "`2`. Calculate the evolution of the average hindfoot\n",
    "length for each genus from year to year. Transform the\n",
    "result such that each genus gets its own column. (4 min.)"
   ]
  },
  {
   "cell_type": "code",
   "execution_count": null,
   "id": "613f393e-d873-4d71-8318-e39db606d60f",
   "metadata": {
    "lang": "en",
    "tags": [
     "soln"
    ]
   },
   "outputs": [],
   "source": [
    "average_lengths = merged_left.groupby(\n",
    "    ['year', 'genus'])['hindfoot_length'].mean().unstack()\n",
    "average_lengths.tail()"
   ]
  },
  {
   "cell_type": "markdown",
   "id": "706256da-5ac4-49ab-b593-92611792fcc7",
   "metadata": {
    "lang": "en"
   },
   "source": [
    "`3`. Calculate the average weight per sex for each genus. For this\n",
    "exercise, we will use a pivot table instead of `unstack()`. (3 min.)"
   ]
  },
  {
   "cell_type": "code",
   "execution_count": null,
   "id": "5542192f-8c3f-4996-b07a-78d40d035f94",
   "metadata": {
    "lang": "en",
    "tags": [
     "soln"
    ]
   },
   "outputs": [],
   "source": [
    "# Use pivot_table() instead of groupby() + unstack()\n",
    "merged_left.pivot_table(\n",
    "    values='weight',\n",
    "    index='genus',\n",
    "    columns='sex',\n",
    "    aggfunc='mean'\n",
    ")"
   ]
  },
  {
   "cell_type": "markdown",
   "id": "92341e8f-6b76-4812-b4ae-8fe5cd6b63e7",
   "metadata": {
    "lang": "en"
   },
   "source": [
    "## Technical Summary\n",
    "* **Concatenate** DataFrames with `pandas.concat()`\n",
    "  * Requires a list of DataFrames\n",
    "  * Vertically if `axis='index'` (by default)\n",
    "  * Horizontally if `axis='columns'`\n",
    "  * Resetting the index: `reset_index(drop=True)`\n",
    "* **Joining** DataFrames with `pandas.merge()`\n",
    "  * `left=`, `right=`: both DataFrames to join\n",
    "  * `how=`: `'inner'` (default), `'left'`, `'right'`, `'outer'`\n",
    "  * `left_on=`, `right_on=`: join key for each DataFrame\n",
    "  * `on=`: join key for both DataFrames"
   ]
  },
  {
   "cell_type": "code",
   "execution_count": null,
   "id": "b91ca622-bb19-4f74-88d1-56b7d902bfb0",
   "metadata": {},
   "outputs": [],
   "source": []
  }
 ],
 "metadata": {
  "kernelspec": {
   "display_name": "Python 3 (ipykernel)",
   "language": "python",
   "name": "python3"
  },
  "language_info": {
   "codemirror_mode": {
    "name": "ipython",
    "version": 3
   },
   "file_extension": ".py",
   "mimetype": "text/x-python",
   "name": "python",
   "nbconvert_exporter": "python",
   "pygments_lexer": "ipython3",
   "version": "3.11.7"
  }
 },
 "nbformat": 4,
 "nbformat_minor": 5
}
