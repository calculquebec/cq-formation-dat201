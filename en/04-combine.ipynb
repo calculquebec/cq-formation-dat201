{
 "cells": [
  {
   "cell_type": "markdown",
   "id": "9cfffc51-c9a5-4dc7-b1aa-6a370e3356e2",
   "metadata": {
    "lang": "en"
   },
   "source": [
    "# Data Analysis and Visualization in Python\n",
    "## Combining DataFrames with pandas\n",
    "Questions\n",
    "* Can I work with data from multiple sources?\n",
    "* How can I combine data from different data sets?\n",
    "\n",
    "Objectives\n",
    "* Combine data from multiple files into a single DataFrame using `concat` and `merge`.\n",
    "* Combine two DataFrames using a unique ID found in both DataFrames."
   ]
  },
  {
   "cell_type": "markdown",
   "id": "6e68a265-f190-499f-bf65-6a6d01939d17",
   "metadata": {
    "lang": "en"
   },
   "source": [
    "## Loading our data"
   ]
  },
  {
   "cell_type": "code",
   "execution_count": null,
   "id": "60f159db-e97b-4e25-a153-38169c6cb668",
   "metadata": {
    "lang": "en"
   },
   "outputs": [],
   "source": [
    "# First make sure pandas is loaded\n",
    "import pandas as pd\n",
    "\n",
    "# Read in the survey csv\n",
    "surveys_df = pd.read_csv('../data/surveys.csv')"
   ]
  },
  {
   "cell_type": "markdown",
   "id": "db86a855-e8f4-4398-afb9-0d65e7bcf63e",
   "metadata": {
    "lang": "en"
   },
   "source": [
    "## Concatenating DataFrames"
   ]
  },
  {
   "cell_type": "code",
   "execution_count": null,
   "id": "0244dce5-9e9d-46bf-890c-8fed49da06b1",
   "metadata": {
    "lang": "en"
   },
   "outputs": [],
   "source": [
    "# Read in first 10 lines of surveys table\n",
    "surveys_head10 = surveys_df.head(10)\n",
    "surveys_head10"
   ]
  },
  {
   "cell_type": "code",
   "execution_count": null,
   "id": "b341989a-9d5a-464e-85d0-4202165742b1",
   "metadata": {
    "lang": "en"
   },
   "outputs": [],
   "source": [
    "# Grab the last 10 rows\n",
    "surveys_tail10 = surveys_df.tail(10)\n",
    "surveys_tail10"
   ]
  },
  {
   "cell_type": "code",
   "execution_count": null,
   "id": "4790592e-20d8-4581-91e1-6ab3040daa4a",
   "metadata": {
    "lang": "en"
   },
   "outputs": [],
   "source": [
    "# Stack the DataFrames on top of each other\n",
    "df_list = [surveys_head10, surveys_tail10]\n",
    "vertical_stack = pd.concat(df_list, axis='index')\n",
    "vertical_stack"
   ]
  },
  {
   "cell_type": "code",
   "execution_count": null,
   "id": "c0bf78a2-7880-4e13-9a1e-03fc5af1ca42",
   "metadata": {
    "lang": "en"
   },
   "outputs": [],
   "source": [
    "# Reset index values of the dataframe\n",
    "# The drop=True option avoids adding new index column with old index values\n",
    "vertical_stack = vertical_stack.reset_index(drop=True)\n",
    "vertical_stack"
   ]
  },
  {
   "cell_type": "markdown",
   "id": "fe789f15-c5db-42ef-b925-7ff4d453ea0d",
   "metadata": {
    "lang": "en"
   },
   "source": [
    "### Writing Out Data to CSV"
   ]
  },
  {
   "cell_type": "code",
   "execution_count": null,
   "id": "e6a1e85c-1d49-461d-bafe-5442341723ee",
   "metadata": {
    "lang": "en"
   },
   "outputs": [],
   "source": [
    "# Write DataFrame to CSV without the index\n",
    "csv_file = 'surveys_sub.csv'\n",
    "vertical_stack.to_csv(csv_file, index=False)"
   ]
  },
  {
   "cell_type": "code",
   "execution_count": null,
   "id": "57e79123-7529-474f-8810-884e72b79641",
   "metadata": {
    "lang": "en"
   },
   "outputs": [],
   "source": [
    "# Read our output back into python and make sure all looks good\n",
    "new_output = pd.read_csv(csv_file)\n",
    "new_output"
   ]
  },
  {
   "cell_type": "markdown",
   "id": "581fbb73-48de-49ca-bef7-3ab59258d5e3",
   "metadata": {
    "lang": "en"
   },
   "source": [
    "## Exercise - Concatenating DataFrames\n",
    "* In `surveys_df`, select rows where the year is 2001.\n",
    "  Do the same for year 2002.\n",
    "* Concatenate both dataframes.\n",
    "\n",
    "(3 min.)"
   ]
  },
  {
   "cell_type": "code",
   "execution_count": null,
   "id": "87b1c91f-2600-401e-9952-7cf1aee0e2d2",
   "metadata": {
    "lang": "en",
    "tags": [
     "exer"
    ]
   },
   "outputs": [],
   "source": [
    "# Get data for each year\n",
    "survey2001 = surveys_df[surveys_df['year'] ###]\n",
    "survey2002 = surveys_df[surveys_df['year'] ###]\n",
    "\n",
    "# Concatenate vertically\n",
    "survey_all = ###"
   ]
  },
  {
   "cell_type": "markdown",
   "id": "4eacaca5-19e9-48c4-bbe7-74e28323d13a",
   "metadata": {
    "lang": "en"
   },
   "source": [
    "* Compute the average weight by sex for each year. (1 min.)"
   ]
  },
  {
   "cell_type": "code",
   "execution_count": null,
   "id": "7fb672b3-f055-4347-98b2-c42f8d034409",
   "metadata": {
    "lang": "en",
    "tags": [
     "exer"
    ]
   },
   "outputs": [],
   "source": [
    "# Get the average weight by sex for each year\n",
    "weight_year = survey_all.groupby(['year', 'sex'])###\n",
    "weight_year = weight_year.unstack()\n",
    "weight_year"
   ]
  },
  {
   "cell_type": "markdown",
   "id": "96877605-e612-45fb-8203-438b2b72a9c1",
   "metadata": {
    "lang": "en"
   },
   "source": [
    "* Export your results as a CSV and make sure\n",
    "  it reads back into python properly. (2 min.)"
   ]
  },
  {
   "cell_type": "code",
   "execution_count": null,
   "id": "7e550995-8596-450b-bcbf-d08baf66d7e8",
   "metadata": {
    "lang": "en",
    "tags": [
     "exer"
    ]
   },
   "outputs": [],
   "source": [
    "# Writing to file while keeping the index\n",
    "csv_file = 'weight_for_year.csv'\n",
    "weight_year###\n",
    "\n",
    "# Reading it back in with a specified index column\n",
    "pd.read_csv(csv_file, index_col=###)"
   ]
  },
  {
   "cell_type": "markdown",
   "id": "614e90c6-0591-4503-a36b-6f07fc0f6bbb",
   "metadata": {
    "lang": "en"
   },
   "source": [
    "## Joining Two DataFrames"
   ]
  },
  {
   "cell_type": "code",
   "execution_count": null,
   "id": "588cde42-08c6-4d94-a2eb-43dfff281316",
   "metadata": {
    "lang": "en"
   },
   "outputs": [],
   "source": [
    "# Import a small subset of the species data designed for this part of the lesson\n",
    "species_sub = pd.read_csv('../data/speciesSubset.csv')\n",
    "species_sub"
   ]
  },
  {
   "cell_type": "markdown",
   "id": "8886c399-91c5-49f9-afe5-7095d303ed78",
   "metadata": {
    "lang": "en"
   },
   "source": [
    "### Identifying join keys"
   ]
  },
  {
   "cell_type": "code",
   "execution_count": null,
   "id": "e8192e6e-ecdd-4cef-bc8c-41dcac175415",
   "metadata": {
    "lang": "en"
   },
   "outputs": [],
   "source": [
    "surveys_head10.columns"
   ]
  },
  {
   "cell_type": "code",
   "execution_count": null,
   "id": "a6d18e56-0971-48fe-943d-5c69e230c882",
   "metadata": {
    "lang": "en"
   },
   "outputs": [],
   "source": [
    "species_sub.columns"
   ]
  },
  {
   "cell_type": "markdown",
   "id": "337270c3-6552-447b-9bd4-c2871f2ff5fa",
   "metadata": {
    "lang": "en"
   },
   "source": [
    "### Inner joins"
   ]
  },
  {
   "cell_type": "markdown",
   "id": "b7884627-7d4c-42bd-8f39-01888a859a63",
   "metadata": {
    "lang": "en,fr"
   },
   "source": [
    "![Inner join of tables A and B](https://datacarpentry.org/python-ecology-lesson/fig/inner-join.png)"
   ]
  },
  {
   "cell_type": "code",
   "execution_count": null,
   "id": "3546893f-e483-4cc0-9880-7997abc8d7ed",
   "metadata": {
    "lang": "en"
   },
   "outputs": [],
   "source": [
    "# Computing the inner join of surveys_head10 and species_sub\n",
    "key = 'species_id'\n",
    "merged_inner = pd.merge(left=surveys_head10, right=species_sub,\n",
    "                        left_on=key, right_on=key)\n",
    "# What's the size of the output data?\n",
    "merged_inner.shape"
   ]
  },
  {
   "cell_type": "code",
   "execution_count": null,
   "id": "a86e40a8-485c-49b4-bf18-a190bf29dd76",
   "metadata": {
    "lang": "en"
   },
   "outputs": [],
   "source": [
    "merged_inner"
   ]
  },
  {
   "cell_type": "markdown",
   "id": "2d97c671-947c-4a12-b7d1-f7cc3d9d1dcd",
   "metadata": {
    "lang": "en"
   },
   "source": [
    "### Left joins"
   ]
  },
  {
   "cell_type": "markdown",
   "id": "07ceaa41-1012-4ea2-817d-c7be7671f7d3",
   "metadata": {
    "lang": "en,fr"
   },
   "source": [
    "![Left join of tables A and B](https://datacarpentry.org/python-ecology-lesson/fig/left-join.png)"
   ]
  },
  {
   "cell_type": "code",
   "execution_count": null,
   "id": "a2ed8150-1371-472f-ab05-ccfe447a93f3",
   "metadata": {
    "lang": "en"
   },
   "outputs": [],
   "source": [
    "merged_left = pd.merge(left=surveys_head10, right=species_sub,\n",
    "                       on=key, how='left')\n",
    "# What's the size of the output data?\n",
    "merged_left.shape"
   ]
  },
  {
   "cell_type": "code",
   "execution_count": null,
   "id": "d84c5d8d-97c4-439d-99b6-682884f7c813",
   "metadata": {
    "lang": "en"
   },
   "outputs": [],
   "source": [
    "merged_left"
   ]
  },
  {
   "cell_type": "markdown",
   "id": "534ffdf2-f5c2-443e-a1a3-f8c366fd37b9",
   "metadata": {
    "lang": "en"
   },
   "source": [
    "### Other join types\n",
    "* `how='right'` : all rows from the right DataFrame are kept\n",
    "* `how='outer'` : all pairwise combinations of rows from both DataFrames"
   ]
  },
  {
   "cell_type": "markdown",
   "id": "c36b0730-bb64-4853-b8ec-72ce5bcfe177",
   "metadata": {
    "lang": "en"
   },
   "source": [
    "## Exercise - Joining all data\n",
    "`1`. Create a new DataFrame by joining the contents of the\n",
    "`surveys.csv` and `species.csv` tables. Keep all survey records.\n",
    "(3 min.)"
   ]
  },
  {
   "cell_type": "code",
   "execution_count": null,
   "id": "0b4c1071-e88d-49fc-97c6-d7b748ca7631",
   "metadata": {
    "lang": "en",
    "tags": [
     "exer"
    ]
   },
   "outputs": [],
   "source": [
    "species_df = pd.read_csv('../data/species.csv')\n",
    "key = 'species_id'\n",
    "\n",
    "merged_left = pd.merge(\n",
    "    left=surveys_df, right=###, on=###, how=###)\n",
    "merged_left.shape"
   ]
  },
  {
   "cell_type": "markdown",
   "id": "f05959ac-89bf-4741-9abc-103a24855936",
   "metadata": {
    "lang": "en"
   },
   "source": [
    "`2`. Calculate and plot the distribution of surveys (i.e. the\n",
    "number of `record_id`) by `taxa` for each `plot_id`. (3 min.)"
   ]
  },
  {
   "cell_type": "code",
   "execution_count": null,
   "id": "44b1c34b-313b-475a-9965-48a829107ed1",
   "metadata": {
    "lang": "en",
    "tags": [
     "exer"
    ]
   },
   "outputs": [],
   "source": [
    "by_site_taxa = merged_left###\n",
    "taxa_site = by_site_taxa['record_id']###\n",
    "taxa_site.tail()"
   ]
  },
  {
   "cell_type": "code",
   "execution_count": null,
   "id": "e678c22f-2a1c-4e90-ad93-f3df07a7e09d",
   "metadata": {
    "lang": "en"
   },
   "outputs": [],
   "source": [
    "taxa_site.plot(kind='bar', stacked=True)"
   ]
  },
  {
   "cell_type": "markdown",
   "id": "706256da-5ac4-49ab-b593-92611792fcc7",
   "metadata": {
    "lang": "en"
   },
   "source": [
    "`3`. Calculate and plot the distribution\n",
    "of `taxa` by `sex` for each `plot_id`. (2 min.)"
   ]
  },
  {
   "cell_type": "code",
   "execution_count": null,
   "id": "f15d004d-3619-46e8-9ed1-df35f2153c5a",
   "metadata": {
    "lang": "en"
   },
   "outputs": [],
   "source": [
    "# Data cleanup\n",
    "merged_left['sex'] = merged_left['sex'].fillna('F|M')\n",
    "invalid_mask = ~merged_left['sex'].isin(['F', 'F|M', 'M'])\n",
    "merged_left.loc[invalid_mask, 'sex'] = \"F|M\""
   ]
  },
  {
   "cell_type": "code",
   "execution_count": null,
   "id": "f0d64bba-7946-4db8-89e1-de978eda2434",
   "metadata": {
    "lang": "en",
    "tags": [
     "exer"
    ]
   },
   "outputs": [],
   "source": [
    "ntaxa_sex_site = merged_left.groupby(\n",
    "    ['plot_id', 'sex'])[###].nunique()#.reset_index(level=1)\n",
    "ntaxa_sex_site.tail()"
   ]
  },
  {
   "cell_type": "code",
   "execution_count": null,
   "id": "5542192f-8c3f-4996-b07a-78d40d035f94",
   "metadata": {
    "lang": "en"
   },
   "outputs": [],
   "source": [
    "# Use pivot_table() instead of unstack()\n",
    "pivot_taxa_sex_site = ntaxa_sex_site.pivot_table(\n",
    "    values='taxa', columns='sex', index=ntaxa_sex_site.index)\n",
    "pivot_taxa_sex_site.head()"
   ]
  },
  {
   "cell_type": "code",
   "execution_count": null,
   "id": "b45d6a03-66f8-429d-9fbe-d1bda91ae9f8",
   "metadata": {
    "lang": "en,fr"
   },
   "outputs": [],
   "source": [
    "pivot_taxa_sex_site.plot(kind=\"bar\", stacked=True)"
   ]
  },
  {
   "cell_type": "markdown",
   "id": "92341e8f-6b76-4812-b4ae-8fe5cd6b63e7",
   "metadata": {
    "lang": "en"
   },
   "source": [
    "## Technical Summary\n",
    "* **Concatenate** DataFrames with `pandas.concat()`\n",
    "  * Requires a list of DataFrames\n",
    "  * Vertically if `axis='index'` (by default)\n",
    "  * Horizontally if `axis='columns'`\n",
    "  * Resetting the index: `reset_index(drop=True)`\n",
    "* **Joining** DataFrmaes with `pandas.merge()`\n",
    "  * `left=`, `right=`: both DataFrames to join\n",
    "  * `left_on=`, `right_on=`: join key for each DataFrame\n",
    "  * `on=`: join key for both DataFrames\n",
    "  * `how=`: `'inner'` (default), `'left'`, `'right'`, `'outer'`\n",
    "* **Pivot table**  `pivot_table()`\n",
    "  * `values=colX`\n",
    "  * `index=[col_ind]`\n",
    "  * `columns=[category1, category2]`\n",
    "  * `aggfunc=numpy.mean` (default: mean)"
   ]
  },
  {
   "cell_type": "code",
   "execution_count": null,
   "id": "b91ca622-bb19-4f74-88d1-56b7d902bfb0",
   "metadata": {},
   "outputs": [],
   "source": []
  }
 ],
 "metadata": {
  "kernelspec": {
   "display_name": "Python 3 (ipykernel)",
   "language": "python",
   "name": "python3"
  },
  "language_info": {
   "codemirror_mode": {
    "name": "ipython",
    "version": 3
   },
   "file_extension": ".py",
   "mimetype": "text/x-python",
   "name": "python",
   "nbconvert_exporter": "python",
   "pygments_lexer": "ipython3",
   "version": "3.11.7"
  }
 },
 "nbformat": 4,
 "nbformat_minor": 5
}
