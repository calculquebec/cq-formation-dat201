{
 "cells": [
  {
   "cell_type": "markdown",
   "id": "44b77937-5fb9-41b4-aa8f-0f542e30702d",
   "metadata": {
    "lang": "en"
   },
   "source": [
    "# Data Analysis with Python\n",
    "## Starting With Data\n",
    "Questions\n",
    "* How can I import data in Python?\n",
    "* What is Pandas?\n",
    "* Why should I use Pandas to work with data?\n",
    "\n",
    "Objectives\n",
    "* Load the Python Data Analysis Library (Pandas).\n",
    "* Use `read_csv` to read tabular data into Python.\n",
    "* Describe what a DataFrame and a Series are in Python.\n",
    "* Access and summarize data stored in a DataFrame.\n",
    "* Perform basic mathematical operations and summary statistics on data\n",
    "  in a Pandas DataFrame."
   ]
  },
  {
   "cell_type": "markdown",
   "id": "1c681eb4-cd20-4ad4-ba6c-2b1b1a17a17b",
   "metadata": {
    "lang": "en"
   },
   "source": [
    "## Working With Pandas DataFrames\n",
    "\n",
    "### Pandas in Python\n",
    "One of the best options for working with tabular data in Python is to use the Python Data Analysis Library (a.k.a. Pandas). The Pandas library provides data structures, produces high quality plots with matplotlib and integrates nicely with other libraries that use NumPy (which is another Python library) arrays."
   ]
  },
  {
   "cell_type": "code",
   "execution_count": null,
   "id": "b7983759-e77d-4c12-b52e-8666e756fcbc",
   "metadata": {
    "lang": "en"
   },
   "outputs": [],
   "source": [
    "# Import the \"pandas\" library\n",
    "import pandas as pd"
   ]
  },
  {
   "cell_type": "markdown",
   "id": "1384c372-494f-483f-9bee-9f008b30080f",
   "metadata": {
    "lang": "en"
   },
   "source": [
    "## Reading CSV Data Using Pandas\n",
    "### So What’s a DataFrame?"
   ]
  },
  {
   "cell_type": "code",
   "execution_count": null,
   "id": "362dd31d-92c4-4a63-b702-29fa53702e5b",
   "metadata": {
    "lang": "en",
    "tags": [
     "exer"
    ]
   },
   "outputs": [],
   "source": [
    "# Note that pd.read_csv is used because we imported pandas as pd\n",
    "pd.read_csv('../data/surveys.csv')"
   ]
  },
  {
   "cell_type": "code",
   "execution_count": null,
   "id": "d4578d20-6013-4853-8dd1-909d858b6f6f",
   "metadata": {
    "lang": "en"
   },
   "outputs": [],
   "source": [
    "# Display the first rows of the DataFrame\n",
    "surveys_df.head()"
   ]
  },
  {
   "cell_type": "code",
   "execution_count": null,
   "id": "8aaa0297-9e91-4731-a615-fd0fbb2268ea",
   "metadata": {
    "lang": "en"
   },
   "outputs": [],
   "source": [
    "# What format does it return the shape of the DataFrame in?\n",
    "surveys_df.shape"
   ]
  },
  {
   "cell_type": "code",
   "execution_count": null,
   "id": "a63ce9c2-8866-4c12-b975-2617c9f667df",
   "metadata": {
    "lang": "en"
   },
   "outputs": [],
   "source": [
    "# Accessing the list of column names\n",
    "surveys_df.columns"
   ]
  },
  {
   "cell_type": "code",
   "execution_count": null,
   "id": "43c5c367-2b70-4998-b81a-9a539efd3a31",
   "metadata": {
    "lang": "en"
   },
   "outputs": [],
   "source": [
    "# A column is an object of type Series\n",
    "surveys_df['weight'].describe()"
   ]
  },
  {
   "cell_type": "code",
   "execution_count": null,
   "id": "80209d8e-a186-42d6-8a50-edfba6d6b9e6",
   "metadata": {
    "lang": "en"
   },
   "outputs": [],
   "source": [
    "# Compute descriptive statistics per column\n",
    "print(\"Count:    \", surveys_df['weight'].count())\n",
    "print(\"Mean:     \", surveys_df['weight'].mean())\n",
    "print(\"Std Dev.: \", surveys_df['weight'].std())\n",
    "print(\"Min:      \", surveys_df['weight'].min())\n",
    "print(\"Median:   \", surveys_df['weight'].median())\n",
    "print(\"Max:      \", surveys_df['weight'].max())"
   ]
  },
  {
   "cell_type": "code",
   "execution_count": null,
   "id": "ce78baeb-019d-4c45-b925-c0133497baca",
   "metadata": {
    "lang": "en"
   },
   "outputs": [],
   "source": [
    "# New column - Convert all weights from grams to kilograms\n",
    "surveys_df['weight_kg'] = surveys_df['weight'] / 1000\n",
    "\n",
    "# Display the last rows of the DataFrame\n",
    "surveys_df.tail()"
   ]
  },
  {
   "cell_type": "markdown",
   "id": "218c9c96-5c21-4533-b9cc-418fb5781123",
   "metadata": {
    "lang": "en"
   },
   "source": [
    "### Exercises - DataFrame and Series\n",
    "\n",
    "1. Load the table of species from the `species.csv`\n",
    "   file and assign the result to `species_df`. (3 min.)"
   ]
  },
  {
   "cell_type": "code",
   "execution_count": null,
   "id": "6c055d32-aa23-4adf-82c0-861c6becfe55",
   "metadata": {
    "tags": [
     "exer"
    ]
   },
   "outputs": [],
   "source": []
  },
  {
   "cell_type": "markdown",
   "id": "6a7dbec3-6fb3-4205-aefc-acb5cf93b0ad",
   "metadata": {
    "lang": "en"
   },
   "source": [
    "2. Use the `.unique()` function to get\n",
    "   the list of all different `taxa`. (2 min.)"
   ]
  },
  {
   "cell_type": "code",
   "execution_count": null,
   "id": "a89051b2-d5f3-4f86-8a06-f46d720c550e",
   "metadata": {
    "lang": "en",
    "tags": [
     "exer"
    ]
   },
   "outputs": [],
   "source": [
    "species_df###"
   ]
  },
  {
   "cell_type": "markdown",
   "id": "6c1333b1-8a54-4122-ae1c-5464bfd6329b",
   "metadata": {
    "lang": "en"
   },
   "source": [
    "3. Use the `.nunique()` function to\n",
    "   get the number of different taxa. (1 min.)"
   ]
  },
  {
   "cell_type": "code",
   "execution_count": null,
   "id": "e3e06737-b06e-4734-bbea-4f0d02a837f7",
   "metadata": {
    "lang": "en",
    "tags": [
     "exer"
    ]
   },
   "outputs": [],
   "source": [
    "species_df###"
   ]
  },
  {
   "cell_type": "markdown",
   "id": "2ad50f69-2afb-4008-a239-57ff69ff7f2e",
   "metadata": {
    "lang": "en"
   },
   "source": [
    "## Groups in Pandas"
   ]
  },
  {
   "cell_type": "code",
   "execution_count": null,
   "id": "d4c68b28-b981-4710-8906-69af8d331c09",
   "metadata": {
    "lang": "en"
   },
   "outputs": [],
   "source": [
    "# Group data by sex\n",
    "surveys_df.groupby('sex')"
   ]
  },
  {
   "cell_type": "code",
   "execution_count": null,
   "id": "ca4fb05e-701d-40f8-8077-e18137fe074e",
   "metadata": {
    "lang": "en"
   },
   "outputs": [],
   "source": [
    "# Provide the number of values for each column by sex\n",
    "surveys_df.groupby('sex').count()"
   ]
  },
  {
   "cell_type": "code",
   "execution_count": null,
   "id": "99ae24fb-e4bc-488d-ba3c-19490b927f45",
   "metadata": {
    "lang": "en"
   },
   "outputs": [],
   "source": [
    "# Provide the mean for each numeric column by sex\n",
    "surveys_df.groupby('sex').mean(numeric_only=True)"
   ]
  },
  {
   "cell_type": "code",
   "execution_count": null,
   "id": "c8a5d9c4-2182-4e14-9d9c-1c386831c151",
   "metadata": {
    "lang": "en",
    "tags": [
     "exer"
    ]
   },
   "outputs": [],
   "source": [
    "# Get the number of records per species ID\n",
    "surveys_df.groupby('species_id').count()#['record_id']"
   ]
  },
  {
   "cell_type": "code",
   "execution_count": null,
   "id": "01b06799-19e0-409a-9925-4bb7816f88cc",
   "metadata": {
    "lang": "en"
   },
   "outputs": [],
   "source": [
    "# Mean values and standard deviations of weights per species ID\n",
    "surveys_df.groupby('species_id')['weight'].aggregate(['mean', 'std'])"
   ]
  },
  {
   "cell_type": "markdown",
   "id": "4c3c01d3-c97d-41fd-8d76-4a4540dcaeca",
   "metadata": {
    "lang": "en"
   },
   "source": [
    "### Exercises - Grouping data\n",
    "1. Summarize `weight` values for each\n",
    "   species (`species_id`) in your data. (4 min.)"
   ]
  },
  {
   "cell_type": "code",
   "execution_count": null,
   "id": "af3cc7b1-4d3c-447b-ae51-8ba000ae1466",
   "metadata": {
    "lang": "en,fr",
    "tags": [
     "exer"
    ]
   },
   "outputs": [],
   "source": [
    "surveys_df###"
   ]
  },
  {
   "cell_type": "markdown",
   "id": "520f326b-132b-47fa-b735-2a484eff27af",
   "metadata": {
    "lang": "en"
   },
   "source": [
    "2. What happens when you group by two columns using\n",
    "   the following syntax and then grab mean values? (2 min.)"
   ]
  },
  {
   "cell_type": "code",
   "execution_count": null,
   "id": "ff0779a4-fdd8-4500-84b2-40da7dac1a26",
   "metadata": {
    "lang": "en,fr",
    "tags": [
     "exer"
    ]
   },
   "outputs": [],
   "source": [
    "surveys_df.groupby(['species_id', 'sex'])###"
   ]
  },
  {
   "cell_type": "markdown",
   "id": "7ad65751-a3da-4b2b-8f9e-7aeeb44e4f23",
   "metadata": {
    "lang": "en"
   },
   "source": [
    "## Pivot tables"
   ]
  },
  {
   "cell_type": "code",
   "execution_count": null,
   "id": "7c22df2f-041f-46d0-9704-c54da1e7125e",
   "metadata": {
    "lang": "en,fr",
    "tags": [
     "exer"
    ]
   },
   "outputs": [],
   "source": [
    "surveys_df.groupby(\n",
    "    ['species_id', 'sex']\n",
    ")['hindfoot_length'].median()#.unstack()#.head()"
   ]
  },
  {
   "cell_type": "code",
   "execution_count": null,
   "id": "d6ea30c5-4904-4efa-8111-611eba05f986",
   "metadata": {
    "lang": "en,fr"
   },
   "outputs": [],
   "source": [
    "surveys_df.pivot_table(\n",
    "    values='hindfoot_length',\n",
    "    index='species_id',\n",
    "    columns='sex',\n",
    "    aggfunc='median').head()"
   ]
  },
  {
   "cell_type": "markdown",
   "id": "ccff77fd-99c7-428e-854e-f771da6851a1",
   "metadata": {
    "lang": "en"
   },
   "source": [
    "## Technical Summary\n",
    "* **Import Pandas**: `import pandas as pd`\n",
    "* **Load data**: `pd.read_csv()`\n",
    "  * Argument: the **filename**\n",
    "  * `index_col`: the column to interpret as the DataFrame index\n",
    "* **DataFrame** object:\n",
    "  * **Attributes**: `shape`, `index`, `columns`\n",
    "  * **Methods**: `head()`, `tail()`, `describe()`\n",
    "* Series object or **column**:\n",
    "  * **Selection**: `df['column_name']`\n",
    "  * **Methods**:\n",
    "    * Descriptive statistics:\n",
    "      * `count()`, `mean()`, `std()`\n",
    "      * `min()`, `median()`, `max()`\n",
    "      * `nunique()`, `unique()`\n",
    "    * Statistical summary: `describe()`\n",
    "* **Grouping by values** of one or many columns:\n",
    "  * `groupby(column_name)`\n",
    "  * `groupby([column_name1, column_name2])`\n",
    "  * Descriptive statistics: `aggregate([function1, ...])`\n",
    "* **Pivot tables**\n",
    "  * Reshaping a DataFrame from values in the index: `unstack()`\n",
    "  * Aggregation in a pivot table: `pivot_table()`\n",
    "    * `values=colX`\n",
    "    * `index=[col_ind]`\n",
    "    * `columns=[category1, category2]`\n",
    "    * `aggfunc=function` (default: mean)"
   ]
  },
  {
   "cell_type": "code",
   "execution_count": null,
   "id": "e1b5adc9-5fdf-4c19-be45-999249dbd57d",
   "metadata": {},
   "outputs": [],
   "source": []
  }
 ],
 "metadata": {
  "kernelspec": {
   "display_name": "Python 3 (ipykernel)",
   "language": "python",
   "name": "python3"
  },
  "language_info": {
   "codemirror_mode": {
    "name": "ipython",
    "version": 3
   },
   "file_extension": ".py",
   "mimetype": "text/x-python",
   "name": "python",
   "nbconvert_exporter": "python",
   "pygments_lexer": "ipython3",
   "version": "3.11.7"
  }
 },
 "nbformat": 4,
 "nbformat_minor": 5
}
