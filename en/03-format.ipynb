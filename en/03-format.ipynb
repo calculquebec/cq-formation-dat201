{
 "cells": [
  {
   "cell_type": "markdown",
   "id": "4a24a22d-a82f-4bd6-a9fb-2cda373c5791",
   "metadata": {
    "lang": "en"
   },
   "source": [
    "# Data Analysis with Python\n",
    "## Data Formatting\n",
    "Questions\n",
    "* How can I manage undefined (null) values?\n",
    "* How can I save a dataframe to a file?\n",
    "\n",
    "Objectives\n",
    "* Create a copy of a DataFrame.\n",
    "* Transform or remove null values.\n",
    "* Write modified data to a CSV file."
   ]
  },
  {
   "cell_type": "markdown",
   "id": "4dca7b28-a94e-4fab-8c2b-9066b6d16d43",
   "metadata": {
    "lang": "en"
   },
   "source": [
    "## Loading our data"
   ]
  },
  {
   "cell_type": "code",
   "execution_count": null,
   "id": "5b3a9096-866e-4e41-ae5f-207882f8105b",
   "metadata": {
    "lang": "en"
   },
   "outputs": [],
   "source": [
    "# First make sure pandas is loaded\n",
    "import pandas as pd\n",
    "\n",
    "# Read in the survey csv\n",
    "surveys_df = pd.read_csv('../data/surveys.csv')"
   ]
  },
  {
   "cell_type": "markdown",
   "id": "38c6ef4b-1d61-41e2-889d-b140cad6b044",
   "metadata": {
    "lang": "en"
   },
   "source": [
    "## Selecting and cleaning undefined values"
   ]
  },
  {
   "cell_type": "code",
   "execution_count": null,
   "id": "04cff3ef-ac26-4494-a390-64b8c7335a48",
   "metadata": {
    "lang": "en"
   },
   "outputs": [],
   "source": [
    "# For each value, is the value undefined\n",
    "surveys_df.isna()"
   ]
  },
  {
   "cell_type": "code",
   "execution_count": null,
   "id": "bbd2cc62-1955-4c33-b791-118f1a25e7af",
   "metadata": {
    "lang": "en"
   },
   "outputs": [],
   "source": [
    "# Select rows with at least one undefined value\n",
    "nan_mask = surveys_df.isna().any(axis='columns')\n",
    "surveys_df[nan_mask]"
   ]
  },
  {
   "cell_type": "code",
   "execution_count": null,
   "id": "721d602c-b67c-4a2e-b611-9883734ddd63",
   "metadata": {
    "lang": "en"
   },
   "outputs": [],
   "source": [
    "# What does this do?\n",
    "one_selection = surveys_df[surveys_df['weight'].isna()]\n",
    "one_selection.groupby('species_id')['record_id'].count()"
   ]
  },
  {
   "cell_type": "markdown",
   "id": "57ab553c-99a1-4834-8cd5-097faa9a9ac4",
   "metadata": {
    "lang": "en"
   },
   "source": [
    "### Getting Rid of the NaN’s"
   ]
  },
  {
   "cell_type": "code",
   "execution_count": null,
   "id": "aee21507-3c7a-4faf-b530-2a449d093a2b",
   "metadata": {
    "lang": "en"
   },
   "outputs": [],
   "source": [
    "def state_by_species(df, column:str):\n",
    "    '''\n",
    "    Prints the count, the mean value and the standard deviation of a\n",
    "    given column for each species ID from DM to NL.\n",
    "    - df:     DataFrame object\n",
    "    - column: name of one column of df\n",
    "    '''\n",
    "    print(\n",
    "        df.groupby('species_id')[column].aggregate(\n",
    "            ['count', 'mean', 'std']\n",
    "        ).loc['DM':'NL'],\n",
    "        '\\n\\nTotal count:', df[column].count()\n",
    "    )\n",
    "\n",
    "# Before the cleanup\n",
    "state_by_species(surveys_df, 'weight')"
   ]
  },
  {
   "cell_type": "code",
   "execution_count": null,
   "id": "98cc54f4-44f3-4a10-a9b5-2a07ae4c24cc",
   "metadata": {
    "lang": "en"
   },
   "outputs": [],
   "source": [
    "# Create a copy to avoid modifying the original object\n",
    "copy_surveys = surveys_df.copy()\n",
    "copy_surveys.head()"
   ]
  },
  {
   "cell_type": "code",
   "execution_count": null,
   "id": "0b8c2a17-40aa-412d-b97b-069deb6f1cfd",
   "metadata": {
    "lang": "en"
   },
   "outputs": [],
   "source": [
    "# For a stable mean value per species\n",
    "copy_surveys.groupby('species_id')['weight'].transform('mean')"
   ]
  },
  {
   "cell_type": "code",
   "execution_count": null,
   "id": "e1401d0b-51dc-4d4a-83f6-e1537541a96b",
   "metadata": {
    "lang": "en"
   },
   "outputs": [],
   "source": [
    "# Replace unknown values by known mean values\n",
    "copy_surveys['weight'] = copy_surveys['weight'].fillna(\n",
    "    copy_surveys.groupby('species_id')['weight'].transform('mean')\n",
    ")"
   ]
  },
  {
   "cell_type": "code",
   "execution_count": null,
   "id": "63117d63-713f-4160-87c5-38e4dbee7fed",
   "metadata": {
    "lang": "en"
   },
   "outputs": [],
   "source": [
    "# Before and after the cleanup\n",
    "state_by_species(surveys_df, 'weight')\n",
    "print()  # Print an empty line\n",
    "state_by_species(copy_surveys, 'weight')"
   ]
  },
  {
   "cell_type": "markdown",
   "id": "10a1a0a1-5628-4f78-a132-b34e57be00b3",
   "metadata": {
    "lang": "en"
   },
   "source": [
    "### Exercise - Data Cleanup\n",
    "Repeat the same steps to fill in the undefined\n",
    "values, but for the `'hindfoot_length'` column.\n",
    "However, this time we want to calculate the averages\n",
    "according to `'species_id'` and `'sex'`.\n",
    "\n",
    "The `state_by_species_and_sex()` function is provided\n",
    "to display statistics before and after cleaning.\n",
    "\n",
    "(5 min.)"
   ]
  },
  {
   "cell_type": "code",
   "execution_count": null,
   "id": "024a4e34-e8d1-4a73-a341-8f099d57131e",
   "metadata": {
    "lang": "en"
   },
   "outputs": [],
   "source": [
    "def state_by_species_and_sex(df, column:str):\n",
    "    '''\n",
    "    Prints the count, the mean value and the standard deviation of a\n",
    "    given column for the first 5 species ID and for each sex.\n",
    "    - df:     DataFrame object\n",
    "    - column: name of one column of df\n",
    "    '''\n",
    "    print(\n",
    "        df.groupby(\n",
    "            ['species_id', 'sex']\n",
    "        )[column].aggregate(\n",
    "            ['count', 'mean', 'std']\n",
    "        ).unstack().head(),\n",
    "        '\\n\\nTotal count:', df[column].count()\n",
    "    )"
   ]
  },
  {
   "cell_type": "code",
   "execution_count": null,
   "id": "00958a77-c74f-4fc6-9f8a-fb000aa3eef9",
   "metadata": {
    "lang": "en",
    "tags": [
     "exer"
    ]
   },
   "outputs": [],
   "source": [
    "column = ###\n",
    "state_by_species_and_sex(copy_surveys, column)\n",
    "print()  # Print an empty line\n",
    "\n",
    "copy_surveys[column] = copy_surveys[column].###(\n",
    "    copy_surveys.groupby(\n",
    "        ###\n",
    "    )[column].###('mean')\n",
    ")\n",
    "\n",
    "state_by_species_and_sex(copy_surveys, column)"
   ]
  },
  {
   "cell_type": "markdown",
   "id": "6ef629dd-a396-4133-b526-4a730210675d",
   "metadata": {
    "lang": "en"
   },
   "source": [
    "### Writing Out Data to CSV"
   ]
  },
  {
   "cell_type": "code",
   "execution_count": null,
   "id": "c4e3e96e-454e-460d-94a9-d0d94c479b4c",
   "metadata": {
    "lang": "en"
   },
   "outputs": [],
   "source": [
    "# Only keep (complete) records that have no NA\n",
    "df_no_na = copy_surveys.dropna()\n",
    "df_no_na"
   ]
  },
  {
   "cell_type": "code",
   "execution_count": null,
   "id": "c8f80c37-05a7-4cae-929e-77c4f1f4c691",
   "metadata": {
    "lang": "en"
   },
   "outputs": [],
   "source": [
    "# Save the cleaned DataFrame to a CSV file\n",
    "df_no_na.to_csv('surveys_complete.csv', index=False)"
   ]
  },
  {
   "cell_type": "markdown",
   "id": "cffe6fd5-de9b-425a-b6f8-b465edb602fc",
   "metadata": {
    "lang": "en"
   },
   "source": [
    "## Technical Summary\n",
    "* **Descriptive statistic by groups with the index of** `df`\n",
    "    * `df.groupby()[column].transform(function)`\n",
    "* **Cleaning data**\n",
    "    * `df.copy()`\n",
    "    * `isna()`, `notna()`\n",
    "    * `column.fillna(value, inplace=True)`\n",
    "* **Saving a DataFrame**\n",
    "    * `df.to_csv(csv_filename, index)`"
   ]
  },
  {
   "cell_type": "code",
   "execution_count": null,
   "id": "2b9fa7a9-2286-499f-99f7-836fcb03ef47",
   "metadata": {},
   "outputs": [],
   "source": []
  }
 ],
 "metadata": {
  "kernelspec": {
   "display_name": "Python 3 (ipykernel)",
   "language": "python",
   "name": "python3"
  },
  "language_info": {
   "codemirror_mode": {
    "name": "ipython",
    "version": 3
   },
   "file_extension": ".py",
   "mimetype": "text/x-python",
   "name": "python",
   "nbconvert_exporter": "python",
   "pygments_lexer": "ipython3",
   "version": "3.11.7"
  }
 },
 "nbformat": 4,
 "nbformat_minor": 5
}
