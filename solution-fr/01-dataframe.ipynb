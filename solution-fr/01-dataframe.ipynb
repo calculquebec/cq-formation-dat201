{
 "cells": [
  {
   "cell_type": "markdown",
   "id": "50643418-74f8-4f4e-a3be-4ee68bd113cb",
   "metadata": {
    "lang": "fr"
   },
   "source": [
    "# Analyse et visualisation de données avec Python\n",
    "## Démarrer avec des données\n",
    "\n",
    "Questions\n",
    "* Comment importer des données dans Python?\n",
    "* Qu'est-ce que Pandas?\n",
    "* Pourquoi utiliser Pandas pour traiter des données tabulaires?\n",
    "\n",
    "Objectifs\n",
    "* Charger une bibliothèque d'analyse de données Python (Pandas).\n",
    "* Utiliser `read_csv` pour lire des données tabulaires dans Python.\n",
    "* Décrire ce qu'est un DataFrame et une série.\n",
    "* Accéder et résumer les données d'un DataFrames.\n",
    "* Effectuer des opérations mathématiques et statistiques sur des\n",
    "  données dans un DataFrame."
   ]
  },
  {
   "cell_type": "markdown",
   "id": "45cee959-3db0-4a2b-ba7b-da37ab995536",
   "metadata": {
    "lang": "fr"
   },
   "source": [
    "## Utiliser les DataFrames Pandas dans Python\n",
    "\n",
    "### Pandas dans Python\n",
    "L'une des meilleures options pour traiter des données tabulaires dans Python est d'utiliser la bibliothèque d'analyse de données Python, c'est-à-dire *Pandas*. La bibliothèque Pandas fournit des structures de données, produit des graphiques de haute qualité avec *Matplotlib* et s'intègre bien avec d'autres bibliothèques utilisant des tableaux *NumPy* (qui est une autre bibliothèque Python)."
   ]
  },
  {
   "cell_type": "code",
   "execution_count": null,
   "id": "8a2ccdb4-9395-483a-8362-202f305ef658",
   "metadata": {
    "lang": "fr"
   },
   "outputs": [],
   "source": [
    "# Importer la bibliothèque \"pandas\"\n",
    "import pandas as pd"
   ]
  },
  {
   "cell_type": "markdown",
   "id": "7717ef88-dfea-4b9f-bcf1-eb4dc1c54aa6",
   "metadata": {
    "lang": "fr"
   },
   "source": [
    "## Charger un fichier CSV avec Pandas\n",
    "### Qu'est-ce qu'un DataFrame?"
   ]
  },
  {
   "cell_type": "code",
   "execution_count": null,
   "id": "11979c97-4278-4135-a598-a7c5e3a2b729",
   "metadata": {
    "lang": "fr",
    "tags": [
     "soln"
    ]
   },
   "outputs": [],
   "source": [
    "# Chargement des données du fichier surveys.csv\n",
    "surveys_df = pd.read_csv('../data/surveys.csv')"
   ]
  },
  {
   "cell_type": "code",
   "execution_count": null,
   "id": "be923975-166d-4fcf-8989-ca84b496f190",
   "metadata": {
    "lang": "fr"
   },
   "outputs": [],
   "source": [
    "# Afficher les quelques première lignes\n",
    "surveys_df.head()"
   ]
  },
  {
   "cell_type": "code",
   "execution_count": null,
   "id": "c2f82186-0f9a-4486-935d-03eb2d122328",
   "metadata": {
    "lang": "fr"
   },
   "outputs": [],
   "source": [
    "# Accéder aux dimensions du DataFrame\n",
    "surveys_df.shape"
   ]
  },
  {
   "cell_type": "code",
   "execution_count": null,
   "id": "242e7422-75e1-47a3-8ecc-aa15f91cedae",
   "metadata": {
    "lang": "fr"
   },
   "outputs": [],
   "source": [
    "# Accéder à la liste des noms de colonnes\n",
    "surveys_df.columns"
   ]
  },
  {
   "cell_type": "code",
   "execution_count": null,
   "id": "d85d3e33-2e50-48da-b27e-d728cf09cc61",
   "metadata": {
    "lang": "fr"
   },
   "outputs": [],
   "source": [
    "# Une colonne est un objet de type Series\n",
    "surveys_df['weight'].describe()"
   ]
  },
  {
   "cell_type": "code",
   "execution_count": null,
   "id": "d43c23c9-7956-428e-8a1d-7a292ed8f146",
   "metadata": {
    "lang": "fr"
   },
   "outputs": [],
   "source": [
    "# Calculer des statistiques descriptives par colonne\n",
    "print(\"Valeurs non nulles:  \", surveys_df['weight'].count())\n",
    "print(\"Moyenne des valeurs: \", surveys_df['weight'].mean())\n",
    "print(\"Deviation standard:  \", surveys_df['weight'].std())\n",
    "print(\"Valeur minimale:     \", surveys_df['weight'].min())\n",
    "print(\"Valeur médiane:      \", surveys_df['weight'].median())\n",
    "print(\"Valeur maximale:     \", surveys_df['weight'].max())"
   ]
  },
  {
   "cell_type": "code",
   "execution_count": null,
   "id": "534ba325-1da0-4423-8a6e-735bc9b1da72",
   "metadata": {
    "lang": "fr"
   },
   "outputs": [],
   "source": [
    "# Créer une nouvelle colonne\n",
    "surveys_df['poids_kg'] = surveys_df['weight'] / 1000\n",
    "\n",
    "# Afficher les dernières lignes\n",
    "surveys_df.tail()"
   ]
  },
  {
   "cell_type": "markdown",
   "id": "9d8b2793-5c10-42fa-8b18-b47be6a34d2d",
   "metadata": {
    "lang": "fr"
   },
   "source": [
    "### Exercices - DataFrame et Series\n",
    "\n",
    "1. Chargez la table des espèces animales du fichier\n",
    "   `species.csv` et assignez le résultat à `especes_df`. (3 min.)"
   ]
  },
  {
   "cell_type": "code",
   "execution_count": null,
   "id": "a473ac0c-8941-436b-93d5-93b6239487ff",
   "metadata": {
    "lang": "fr",
    "tags": [
     "soln"
    ]
   },
   "outputs": [],
   "source": [
    "especes_df = pd.read_csv('../data/species.csv')"
   ]
  },
  {
   "cell_type": "markdown",
   "id": "5ab5b372-8f20-4218-84c6-82124c40559e",
   "metadata": {
    "lang": "fr"
   },
   "source": [
    "2. Utilisez la méthode `.unique()` pour obtenir la\n",
    "   liste des différents taxons (colonne `taxa`). (2 min.)"
   ]
  },
  {
   "cell_type": "code",
   "execution_count": null,
   "id": "d6137b09-75f6-48fb-a4b0-14089485f8f8",
   "metadata": {
    "lang": "fr",
    "tags": [
     "soln"
    ]
   },
   "outputs": [],
   "source": [
    "especes_df['taxa'].unique()"
   ]
  },
  {
   "cell_type": "markdown",
   "id": "bfc89490-6735-4c42-a1e8-39939fc0227c",
   "metadata": {
    "lang": "fr"
   },
   "source": [
    "3. Utilisez la méthode `.nunique()` pour obtenir\n",
    "   le nombre de différents taxons. (1 min.)"
   ]
  },
  {
   "cell_type": "code",
   "execution_count": null,
   "id": "12de3b0b-2787-483a-8a18-c4a7f76f36dc",
   "metadata": {
    "lang": "fr",
    "tags": [
     "soln"
    ]
   },
   "outputs": [],
   "source": [
    "especes_df['taxa'].nunique()"
   ]
  },
  {
   "cell_type": "markdown",
   "id": "ec4f39dd-bbe5-4ca1-ac25-9498ac7f839f",
   "metadata": {
    "lang": "fr"
   },
   "source": [
    "## Grouper des données"
   ]
  },
  {
   "cell_type": "code",
   "execution_count": null,
   "id": "32293e04-8d67-430b-8cc3-a083b131567f",
   "metadata": {
    "lang": "fr"
   },
   "outputs": [],
   "source": [
    "# Grouper les données par sexe\n",
    "surveys_df.groupby('sex')"
   ]
  },
  {
   "cell_type": "code",
   "execution_count": null,
   "id": "b24bc35c-2513-4b72-ac3b-70ef6c239ac3",
   "metadata": {
    "lang": "fr"
   },
   "outputs": [],
   "source": [
    "# Nombre de valeurs dans chaque colonne par sexe\n",
    "surveys_df.groupby('sex').count()"
   ]
  },
  {
   "cell_type": "code",
   "execution_count": null,
   "id": "30290cef-7efd-4386-896b-3920bdf432d0",
   "metadata": {
    "lang": "fr"
   },
   "outputs": [],
   "source": [
    "# Moyenne de chaque colonne à valeurs numériques par sexe\n",
    "surveys_df.groupby('sex').mean(numeric_only=True)"
   ]
  },
  {
   "cell_type": "code",
   "execution_count": null,
   "id": "ec43427e-dbe8-4ce4-96f9-32b543334bb4",
   "metadata": {
    "lang": "fr",
    "tags": [
     "soln"
    ]
   },
   "outputs": [],
   "source": [
    "# Obtenir le nombre d'enregistrements par code d'espèce\n",
    "surveys_df.groupby('species_id')['record_id'].count()"
   ]
  },
  {
   "cell_type": "code",
   "execution_count": null,
   "id": "1190a3ff-64b2-4ad4-9614-aa0a2ace6ee6",
   "metadata": {
    "lang": "fr"
   },
   "outputs": [],
   "source": [
    "# Moyennes et déviations standards des poids par code d'espèce\n",
    "surveys_df.groupby('species_id')['weight'].aggregate(['mean', 'std'])"
   ]
  },
  {
   "cell_type": "markdown",
   "id": "16c50364-d666-40f3-829d-4940cf94aa5e",
   "metadata": {
    "lang": "fr"
   },
   "source": [
    "### Exercices - Grouper des données\n",
    "1. Faites calculer un sommaire des statistiques descriptives des\n",
    "   poids (`weight`) pour chaque espèce (`species_id`). (4 min.)"
   ]
  },
  {
   "cell_type": "code",
   "execution_count": null,
   "id": "d0b5b58a-0aa5-4e14-afad-21252299ae9b",
   "metadata": {
    "lang": "en,fr",
    "tags": [
     "soln"
    ]
   },
   "outputs": [],
   "source": [
    "surveys_df.groupby('species_id')['weight'].describe()"
   ]
  },
  {
   "cell_type": "markdown",
   "id": "0bb3a9d5-a59e-41d7-84a5-c30f02d5e01b",
   "metadata": {
    "lang": "fr"
   },
   "source": [
    "2. Qu'arrive-t-il si on groupe par deux colonnes\n",
    "   et si on recalcule les moyennes? (2 min.)"
   ]
  },
  {
   "cell_type": "code",
   "execution_count": null,
   "id": "251b6c52-c2e0-4fa8-9a79-6570c42df687",
   "metadata": {
    "lang": "en,fr",
    "tags": [
     "soln"
    ]
   },
   "outputs": [],
   "source": [
    "surveys_df.groupby(['species_id', 'sex']).mean(numeric_only=True)"
   ]
  },
  {
   "cell_type": "markdown",
   "id": "a96f6358-ba62-4a01-b95f-df05e771fceb",
   "metadata": {
    "lang": "fr"
   },
   "source": [
    "## Résumé technique\n",
    "* **Importer le module Pandas** : `import pandas as pd`\n",
    "* **Chargement des données** : `pd.read_csv()`\n",
    "  * Argument obligatoire : le **nom du fichier**\n",
    "  * `index_col` : pour spécifier la colonne qui sera l'index\n",
    "* Pour un **DataFrame** :\n",
    "  * **Attributs** : `shape`, `index`, `columns`\n",
    "  * **Méthodes** : `head()`, `tail()`, `describe()`\n",
    "* Pour une **colonne** :\n",
    "  * **Sélection** : `df['nom_colonne']`\n",
    "  * **Méthodes** :\n",
    "    * Statistiques descriptives :\n",
    "      `count()`, `mean()`, `median()`, `min()`, `max()`\n",
    "    * Autres : `describe()`, `nunique()`, `unique()`\n",
    "* **Grouper selon les valeurs** d'une ou plusieurs colonnes :\n",
    "  * `groupby(nom_col)`\n",
    "  * `groupby([nom_col1, nom_col2])`\n",
    "* **Transformer le DataFrame** : `unstack()`"
   ]
  },
  {
   "cell_type": "code",
   "execution_count": null,
   "id": "e1b5adc9-5fdf-4c19-be45-999249dbd57d",
   "metadata": {},
   "outputs": [],
   "source": []
  }
 ],
 "metadata": {
  "kernelspec": {
   "display_name": "Python 3 (ipykernel)",
   "language": "python",
   "name": "python3"
  },
  "language_info": {
   "codemirror_mode": {
    "name": "ipython",
    "version": 3
   },
   "file_extension": ".py",
   "mimetype": "text/x-python",
   "name": "python",
   "nbconvert_exporter": "python",
   "pygments_lexer": "ipython3",
   "version": "3.11.7"
  }
 },
 "nbformat": 4,
 "nbformat_minor": 5
}
