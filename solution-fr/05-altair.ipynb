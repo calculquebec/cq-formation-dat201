{
 "cells": [
  {
   "cell_type": "markdown",
   "id": "9d214dd4-7850-46d2-b4b0-e6da9ea18b89",
   "metadata": {
    "lang": "fr"
   },
   "source": [
    "# Analyse et visualisation de données avec Python\n",
    "## Créer des graphiques avec Altair\n",
    "Questions\n",
    "* Comment faire davantage de visualisation en Python?\n",
    "* Comment faire des graphiques modernes et interactifs?\n",
    "* Qu'est-ce que la \"grammaire des graphiques\"?\n",
    "\n",
    "Objectifs\n",
    "* Créer un objet `alt.Chart`.\n",
    "* Créer différents types de graphiques.\n",
    "* Modifier l'apparence du graphique:\n",
    "  * Configurer les couleurs.\n",
    "  * Éditer le titre et le nom des axes.\n",
    "* Diviser une figure en facettes.\n",
    "* Sauvegarder une figure en image et en version interactive."
   ]
  },
  {
   "cell_type": "code",
   "execution_count": null,
   "id": "9dcc4806-bf36-48ea-88a6-5237d5329e4d",
   "metadata": {
    "lang": "fr"
   },
   "outputs": [],
   "source": [
    "import numpy as np\n",
    "import pandas as pd\n",
    "\n",
    "# Charger et nettoyer les données\n",
    "surveys_complet = pd.read_csv('../data/surveys.csv').dropna()\n",
    "surveys_complet"
   ]
  },
  {
   "cell_type": "markdown",
   "id": "5f0128a6-411d-4aa1-ad73-3ff6af52e787",
   "metadata": {
    "lang": "fr"
   },
   "source": [
    "## Pourquoi `altair`? Pourquoi pas `matplotlib`?\n",
    "\n",
    "Bien que `matplotlib` soit une bibliothèque de visualisation\n",
    "largement répandue et relativement flexible, la programmation\n",
    "des graphiques ne suit pas une *grammaire* spécifique.\n",
    "\n",
    "Ainsi, pour ce chapitre, nous avons fait le choix\n",
    "de vous présenter la bibliothèque `altair` qui\n",
    "[facilite la création de graphiques hautement informatifs](https://altair-viz.github.io/index.html)\n",
    "tout en s'intégrant bien avec Pandas. Le fonctionnement de\n",
    "`altair` se base sur la grammaire des graphiques interactifs\n",
    "de [Vega-Lite](https://vega.github.io/vega-lite/),\n",
    "ce qui rend la programmation à la fois élégante et puissante.\n",
    "\n",
    "Nous verrons différents concepts de visualisation qui peuvent être\n",
    "reproduits plus ou moins facilement avec d'autres bibliothèques\n",
    "telles que `matplotlib`, `plotnine`, `plotly` et `seaborn`."
   ]
  },
  {
   "cell_type": "code",
   "execution_count": null,
   "id": "15c7e41b-8f79-46d6-b4f0-19e56137ee02",
   "metadata": {
    "lang": "en,fr"
   },
   "outputs": [],
   "source": [
    "import altair as alt"
   ]
  },
  {
   "cell_type": "markdown",
   "id": "df5313bb-c969-4774-a67f-28e717ce9655",
   "metadata": {
    "lang": "fr"
   },
   "source": [
    "Étant donné que les graphiques générés par Altair ne sont pas que des\n",
    "images statiques, l'information générée est parfois très lourde et\n",
    "elle s'accumule dans le notebook s'il y a plusieurs graphiques.\n",
    "Néanmoins, pour contourner la limite de 5000 lignes dans le DataFrame\n",
    "de données, on peut désactiver cette limite, à nos risques."
   ]
  },
  {
   "cell_type": "code",
   "execution_count": null,
   "id": "6fda5a57-edd5-4b97-982e-4f41d2858abd",
   "metadata": {
    "lang": "en,fr"
   },
   "outputs": [],
   "source": [
    "alt.data_transformers.disable_max_rows()"
   ]
  },
  {
   "cell_type": "markdown",
   "id": "1820a9ec-b34d-41ff-9079-f862c093edee",
   "metadata": {
    "lang": "fr"
   },
   "source": [
    "## Générer des graphiques avec `altair`\n",
    "Les graphiques `altair` sont construits étape par étape à partir\n",
    "d'un objet de type `Chart`:\n",
    "* **Création du graphique** - La première méthode obligatoire débute\n",
    "  par `mark_`. Par exemple, `mark_point()`.\n",
    "  À ce stade, c'est normal que tout soit concentré en un point."
   ]
  },
  {
   "cell_type": "code",
   "execution_count": null,
   "id": "4bf487ea-c644-4c00-a0e4-6a32d4a50f68",
   "metadata": {
    "lang": "fr"
   },
   "outputs": [],
   "source": [
    "# Création de l'objet Chart et choix du type de graphique\n",
    "alt.Chart(surveys_complet).mark_point()"
   ]
  },
  {
   "cell_type": "markdown",
   "id": "85969e9f-d7cd-4514-a312-2ac9869df8e9",
   "metadata": {
    "lang": "fr"
   },
   "source": [
    "* **Encodage des canaux** - La prochaine étape consiste à\n",
    "  [encoder](https://altair-viz.github.io/user_guide/encodings/)\n",
    "  des canaux liant certaines variables du DataFrame à divers éléments\n",
    "  du graphiques. Les principaux paramètres de `encode()` sont :\n",
    "  `x`, `y`, `color`, `shape` et `size`."
   ]
  },
  {
   "cell_type": "code",
   "execution_count": null,
   "id": "a4e8f5e4-a401-4640-aab7-3c9a344fbd26",
   "metadata": {
    "lang": "fr"
   },
   "outputs": [],
   "source": [
    "# Définition des axes ; les points prennent leur position\n",
    "alt.Chart(surveys_complet).mark_point().encode(\n",
    "    x=alt.X('hindfoot_length'),\n",
    "    y=alt.Y('weight'),\n",
    ")"
   ]
  },
  {
   "cell_type": "markdown",
   "id": "c8bd1850-bae4-409c-a519-82a6a4091760",
   "metadata": {
    "lang": "fr"
   },
   "source": [
    "* **Navigation interactive** - On peut ensuite rendre le graphique\n",
    "  interactif, ce qui permet de naviguer dans le graphique à l'aide\n",
    "  de la souris."
   ]
  },
  {
   "cell_type": "code",
   "execution_count": null,
   "id": "f4a577ab-9f84-4bed-93bd-9dc8c60937ae",
   "metadata": {
    "lang": "fr"
   },
   "outputs": [],
   "source": [
    "# Permettre les interactions avec la souris\n",
    "alt.Chart(surveys_complet).mark_point().encode(\n",
    "    x=alt.X('hindfoot_length'),\n",
    "    y=alt.Y('weight'),\n",
    ").interactive()"
   ]
  },
  {
   "cell_type": "code",
   "execution_count": null,
   "id": "7ad67a32-51c6-4820-a947-dfcd1b2f0911",
   "metadata": {
    "lang": "fr"
   },
   "outputs": [],
   "source": [
    "# Ajouter du bruit aux longueurs et aux poids\n",
    "N = len(surveys_complet)\n",
    "surveys_complet['longueur_bruitee'] = (\n",
    "    surveys_complet['hindfoot_length'] + np.random.uniform(-0.5, 0.5, N)\n",
    ")\n",
    "surveys_complet['poids_bruite'] = (\n",
    "    surveys_complet['weight'] + np.random.uniform(-0.5, 0.5, N)\n",
    ")\n",
    "surveys_complet.columns"
   ]
  },
  {
   "cell_type": "markdown",
   "id": "37f81aca-74dd-4bf7-aa96-585d7f6c66a9",
   "metadata": {
    "lang": "fr"
   },
   "source": [
    "* **Affichage interactif des valeurs** - Encoder le canal `tooltip`\n",
    "  avec une liste de variables à afficher au passage de la souris."
   ]
  },
  {
   "cell_type": "code",
   "execution_count": null,
   "id": "1103b080-f795-418a-9881-c11f1ef69de1",
   "metadata": {
    "lang": "fr"
   },
   "outputs": [],
   "source": [
    "# Permettre de voir les valeurs associées aux points\n",
    "graphique = alt.Chart(surveys_complet).mark_point().encode(\n",
    "    x=alt.X('longueur_bruitee'),\n",
    "    y=alt.Y('poids_bruite'),\n",
    "    tooltip=['plot_id', 'species_id', 'hindfoot_length', 'weight'],\n",
    ")\n",
    "graphique"
   ]
  },
  {
   "cell_type": "markdown",
   "id": "514affec-c983-47c6-ac65-9b0edfa45798",
   "metadata": {
    "lang": "fr"
   },
   "source": [
    "* **Sauvegarde du graphique** - C'est possible de le sauvegarder dans le format de notre choix."
   ]
  },
  {
   "cell_type": "code",
   "execution_count": null,
   "id": "97639209-e70a-4331-8258-d4c0e89234f9",
   "metadata": {
    "lang": "fr"
   },
   "outputs": [],
   "source": [
    "graphique.save('poids_longueur.html')"
   ]
  },
  {
   "cell_type": "code",
   "execution_count": null,
   "id": "af2cdd20-5d82-43e6-a80f-d68b43cd4b61",
   "metadata": {
    "lang": "fr"
   },
   "outputs": [],
   "source": [
    "try:\n",
    "    graphique.save('poids_longueur.png')\n",
    "except BaseException as err:\n",
    "    print('Erreur:', err)\n",
    "    print('-> Il vaut mieux utiliser le bouton (•••)')"
   ]
  },
  {
   "cell_type": "markdown",
   "id": "6185f118-d9c3-4bae-b8a1-df200475b7d7",
   "metadata": {
    "lang": "fr"
   },
   "source": [
    "### Exercice - Créer un histogramme\n",
    "À partir du DataFrame `surveys_complet`, faites afficher le\n",
    "décompte du nombre d'enregistrements pour chaque `plot_id`. Instructions :\n",
    "* Utilisez\n",
    "  [`mark_bar()`](https://altair-viz.github.io/gallery/simple_bar_chart.html)\n",
    "  pour générer\n",
    "  [l'histogramme](https://altair-viz.github.io/gallery/simple_histogram.html)\n",
    "* Sur l'axe horizontal, spécifiez la variable `'plot_id'` et le\n",
    "  [type `'ordinal'`](https://altair-viz.github.io/user_guide/encodings/#encoding-data-types)\n",
    "* Sur l'axe vertical, spécifiez `'count()'` comme variable pour que\n",
    "  Altair fasse automatiquement le décompte, ce qui évite de passer\n",
    "  par la méthode `groupby()` du DataFrame\n",
    "\n",
    "(4 min.)"
   ]
  },
  {
   "cell_type": "code",
   "execution_count": null,
   "id": "2c981ddf-5aa1-4f75-a526-b854aba71108",
   "metadata": {
    "lang": "fr",
    "tags": [
     "soln"
    ]
   },
   "outputs": [],
   "source": [
    "alt.Chart(surveys_complet).mark_bar().encode(\n",
    "    x=alt.X('plot_id').type('ordinal'),\n",
    "    y=alt.Y('count()'),\n",
    ")"
   ]
  },
  {
   "cell_type": "markdown",
   "id": "cc3bf89e-5a1e-42f6-a62f-4ed637ad78f7",
   "metadata": {
    "lang": "fr"
   },
   "source": [
    "## Construire un graphique par étapes\n",
    "Rappel : les éléments de base de tout graphique Altair sont\n",
    "le `Chart()` avec le DataFrame, un type de graphique `mark_*()`\n",
    "et des variables utilisées dans `encode()`.\n",
    "\n",
    "* Ensuite, on commence à modifier le graphique pour en extraire\n",
    "  davantage d'information. Par exemple, avec de la transparence :"
   ]
  },
  {
   "cell_type": "code",
   "execution_count": null,
   "id": "122caa5d-e1a8-4b01-bb7b-f86b389aed56",
   "metadata": {
    "lang": "fr"
   },
   "outputs": [],
   "source": [
    "alt.Chart(surveys_complet).mark_point().encode(\n",
    "    x=alt.X('longueur_bruitee'),\n",
    "    y=alt.Y('poids_bruite'),\n",
    ").configure_mark(\n",
    "    opacity=0.05,\n",
    ")"
   ]
  },
  {
   "cell_type": "markdown",
   "id": "11d6bafa-7fb7-4b57-b04a-9b9ab27594ac",
   "metadata": {
    "lang": "fr"
   },
   "source": [
    "* Pour avoir une couleur différente pour chaque type d'espèce,\n",
    "  il faut lier la variable `species_id` au canal `color` :"
   ]
  },
  {
   "cell_type": "code",
   "execution_count": null,
   "id": "6f1e67ce-211a-4ac7-bf58-beb09127914b",
   "metadata": {
    "lang": "fr"
   },
   "outputs": [],
   "source": [
    "alt.Chart(surveys_complet).mark_point().encode(\n",
    "    x=alt.X('longueur_bruitee'),\n",
    "    y=alt.Y('poids_bruite'),\n",
    "    color=alt.Color('species_id'),\n",
    ").configure_mark(\n",
    "    opacity=0.05,\n",
    ")"
   ]
  },
  {
   "cell_type": "markdown",
   "id": "b4eb4080-c181-4709-a949-8725603d90a8",
   "metadata": {
    "lang": "fr"
   },
   "source": [
    "* Étant donné la similarité de certaines couleurs, on peut ensuite\n",
    "  activer les `tooltip` avec les identifiants de `species_id` :"
   ]
  },
  {
   "cell_type": "code",
   "execution_count": null,
   "id": "67954c84-dd4d-4965-8c57-c1cee5583153",
   "metadata": {
    "lang": "fr"
   },
   "outputs": [],
   "source": [
    "alt.Chart(surveys_complet).mark_point().encode(\n",
    "    x=alt.X('longueur_bruitee'),\n",
    "    y=alt.Y('poids_bruite'),\n",
    "    color=alt.Color('species_id'),\n",
    "    tooltip=['species_id'],\n",
    ").configure_mark(\n",
    "    opacity=0.05,\n",
    ")"
   ]
  },
  {
   "cell_type": "markdown",
   "id": "ce0a062c-3f3c-4460-b023-f1b4407fef01",
   "metadata": {
    "lang": "fr"
   },
   "source": [
    "* Utiliser une échelle verticale semi-log :"
   ]
  },
  {
   "cell_type": "code",
   "execution_count": null,
   "id": "90db3714-0fd5-4c1d-a585-e091df442431",
   "metadata": {
    "lang": "fr"
   },
   "outputs": [],
   "source": [
    "alt.Chart(surveys_complet).mark_point().encode(\n",
    "    x=alt.X('longueur_bruitee'),\n",
    "    y=alt.Y('poids_bruite').scale(type='log', base=2),\n",
    "    color=alt.Color('species_id'),\n",
    "    tooltip=['species_id'],\n",
    ").configure_mark(\n",
    "    opacity=0.05,\n",
    ").properties(\n",
    "    height=384,\n",
    ")"
   ]
  },
  {
   "cell_type": "markdown",
   "id": "78548080-4047-4f66-9c29-379e977acebe",
   "metadata": {
    "lang": "fr"
   },
   "source": [
    "* Modifier le nom des axes :"
   ]
  },
  {
   "cell_type": "code",
   "execution_count": null,
   "id": "7e06c50d-b6c5-448c-8a6a-80232af2c9b8",
   "metadata": {
    "lang": "fr"
   },
   "outputs": [],
   "source": [
    "alt.Chart(surveys_complet).mark_point().encode(\n",
    "    x=alt.X('longueur_bruitee').title('Longueur arrière-pied (mm)'),\n",
    "    y=alt.Y('poids_bruite').scale(type='log', base=2).title('Poids (g)'),\n",
    "    color=alt.Color('species_id'),\n",
    "    tooltip=['species_id'],\n",
    ").configure_mark(\n",
    "    opacity=0.05,\n",
    ").properties(\n",
    "    height=384,\n",
    "    title=\"Poids selon la longueur de l'arrière-pied\",\n",
    ")"
   ]
  },
  {
   "cell_type": "markdown",
   "id": "9a0a41e1-e2aa-4c86-ba65-08c187ad9497",
   "metadata": {
    "lang": "fr"
   },
   "source": [
    "### Exercice - Enrichir l'histogramme\n",
    "Adaptez l'histogramme de l'exercice précédent en associant la variable\n",
    "`sex` à une échelle de couleurs spécifique :\n",
    "* L'encodage du canal `color` doit donc se faire avec la variable\n",
    "  `'sex'`. La méthode `.scale()` permet ensuite d'associer les valeurs\n",
    "  de domaine `'F'` et `'M'` aux couleurs `'orange'` et `'green'`.\n",
    "  Voir [un exemple ici](https://altair-viz.github.io/user_guide/customization.html#color-domain-and-range)\n",
    "* Activez le canal `tooltip` avec `'count()'` pour avoir le décompte\n",
    "  par sexe\n",
    "\n",
    "(4 min.)"
   ]
  },
  {
   "cell_type": "code",
   "execution_count": null,
   "id": "c3adb2cc-8e98-4bc3-a295-ca5915fe3359",
   "metadata": {
    "lang": "fr",
    "tags": [
     "soln"
    ]
   },
   "outputs": [],
   "source": [
    "alt.Chart(surveys_complet).mark_bar().encode(\n",
    "    x=alt.X('plot_id').type('ordinal'),\n",
    "    y=alt.Y('count()'),\n",
    "    color=alt.Color('sex').scale(\n",
    "        domain=['F', 'M'],\n",
    "        range=['orange', 'green'],\n",
    "    ),\n",
    "    tooltip=['count()'],\n",
    ")"
   ]
  },
  {
   "cell_type": "markdown",
   "id": "9e48a84b-897d-4a6a-8882-a15326c6215a",
   "metadata": {
    "lang": "fr"
   },
   "source": [
    "## Visualiser des données selon le temps\n",
    "* Nombre d'enregistrements par type d'espèce pour chaque année :"
   ]
  },
  {
   "cell_type": "code",
   "execution_count": null,
   "id": "6e2bab8f-1975-4f60-8f1f-928a7408e723",
   "metadata": {
    "lang": "fr"
   },
   "outputs": [],
   "source": [
    "alt.Chart(surveys_complet).mark_line().encode(\n",
    "    x=alt.X('year').type('ordinal'),\n",
    "    y=alt.Y('count()').scale(type='log', base=2),\n",
    "    color=alt.Color('species_id'),\n",
    ")"
   ]
  },
  {
   "cell_type": "markdown",
   "id": "14635c5f-29f8-47c5-b1f7-71c1f9ad7931",
   "metadata": {
    "lang": "fr"
   },
   "source": [
    "* Poids médian par type d'espèce pour chaque mois :"
   ]
  },
  {
   "cell_type": "code",
   "execution_count": null,
   "id": "f341e448-4aa2-48a2-8668-b5ad6262255c",
   "metadata": {
    "lang": "fr"
   },
   "outputs": [],
   "source": [
    "alt.Chart(surveys_complet).mark_line().encode(\n",
    "    x=alt.X('month').type('ordinal'),\n",
    "    y=alt.Y('weight').aggregate('median'),\n",
    "    color=alt.Color('species_id'),\n",
    "    tooltip=['species_id'],\n",
    ")"
   ]
  },
  {
   "cell_type": "markdown",
   "id": "e03d0557-db3e-42eb-9390-52255dcab73d",
   "metadata": {
    "lang": "fr"
   },
   "source": [
    "### Exercice - Visualisation selon le temps\n",
    "`1`. Utilisez la fonction `pd.to_datetime()` pour générer une colonne\n",
    "     de dates à partir des colonnes `year`, `month` et `day`. (3 min.)"
   ]
  },
  {
   "cell_type": "code",
   "execution_count": null,
   "id": "5e3e25ef-da8a-4343-bafb-682d7dae3d4a",
   "metadata": {
    "lang": "fr",
    "tags": [
     "soln"
    ]
   },
   "outputs": [],
   "source": [
    "# Décennie 1990 - pour éviter avril et septembre 2000\n",
    "dec_1990 = surveys_complet[\n",
    "    surveys_complet['year'] // 10 == 199].copy()\n",
    "\n",
    "dec_1990['date'] = pd.to_datetime(dec_1990[['year', 'month', 'day']])\n",
    "dec_1990['date']"
   ]
  },
  {
   "cell_type": "markdown",
   "id": "0e952ee4-348c-4128-8b82-449bebbd6e13",
   "metadata": {
    "lang": "fr"
   },
   "source": [
    "`2`. Affichez le poids médian de chaque espèce selon la `date`.\n",
    "(3 min.)"
   ]
  },
  {
   "cell_type": "code",
   "execution_count": null,
   "id": "04d5b012-b557-402a-87b2-ec9fdca68efe",
   "metadata": {
    "lang": "en,fr",
    "tags": [
     "soln"
    ]
   },
   "outputs": [],
   "source": [
    "alt.Chart(dec_1990).mark_line().encode(\n",
    "    x=alt.X('date'),\n",
    "    y=alt.Y('weight').aggregate('median'),\n",
    "    color=alt.Color('species_id'),\n",
    "    tooltip=['species_id', 'date'],\n",
    ")"
   ]
  },
  {
   "cell_type": "markdown",
   "id": "1e03e448-127f-4dbe-92cc-da821104c6b0",
   "metadata": {
    "lang": "fr"
   },
   "source": [
    "## Création de facettes\n",
    "`altair` a une technique spéciale appelée *création de facettes*\n",
    "permettant de diviser un graphique en plusieurs sous-graphiques\n",
    "selon les valeurs d'une variable.\n",
    "\n",
    "* Avec les différentes valeurs de `sex` :"
   ]
  },
  {
   "cell_type": "code",
   "execution_count": null,
   "id": "ec56b654-86c7-4651-b453-722057862b94",
   "metadata": {
    "lang": "fr"
   },
   "outputs": [],
   "source": [
    "alt.Chart(surveys_complet).mark_point().encode(\n",
    "    x=alt.X('longueur_bruitee'),\n",
    "    y=alt.Y('poids_bruite').scale(type='log', base=2),\n",
    "    color=alt.Color('species_id'),\n",
    "    facet=alt.Facet('sex'),\n",
    "    tooltip=['species_id'],\n",
    ").configure_mark(\n",
    "    opacity=0.05,\n",
    ").properties(\n",
    "    width=240,\n",
    "    height=384,\n",
    ")"
   ]
  },
  {
   "cell_type": "markdown",
   "id": "9b0c89d9-161e-43b5-9606-3bc895e95573",
   "metadata": {
    "lang": "fr"
   },
   "source": [
    "* Avec les nombreuses valeurs de `plot_id` :"
   ]
  },
  {
   "cell_type": "code",
   "execution_count": null,
   "id": "c30e6b92-ac4b-4c12-96eb-83e3f583e893",
   "metadata": {
    "lang": "fr"
   },
   "outputs": [],
   "source": [
    "alt.Chart(surveys_complet).mark_point().encode(\n",
    "    x=alt.X('longueur_bruitee'),\n",
    "    y=alt.Y('poids_bruite').scale(type='log', base=2),\n",
    "    color=alt.Color('species_id'),\n",
    "    facet=alt.Facet('plot_id').columns(5),\n",
    "    tooltip=['species_id'],\n",
    ").configure_mark(\n",
    "    opacity=0.05,\n",
    ").properties(\n",
    "    width=90,\n",
    "    height=60,\n",
    ")"
   ]
  },
  {
   "cell_type": "markdown",
   "id": "ad4c88c8-299a-4861-9f01-1c212b7315ac",
   "metadata": {
    "lang": "fr"
   },
   "source": [
    "* Pour créer une grille de facettes telle qu'une variable change de\n",
    "  valeur d'une rangée à l'autre et qu'une seconde variable change\n",
    "  d'une colonne à l'autre, on utilisera les canaux `row` et `column` :"
   ]
  },
  {
   "cell_type": "code",
   "execution_count": null,
   "id": "9ec21330-b17f-46e4-b26d-0578b5d64f1f",
   "metadata": {
    "lang": "fr"
   },
   "outputs": [],
   "source": [
    "# Garder uniquement quelques années\n",
    "surveys2000 = surveys_complet[surveys_complet['year'].isin([2000, 2001, 2002])]\n",
    "\n",
    "alt.Chart(surveys2000).mark_point().encode(\n",
    "    x=alt.X('longueur_bruitee'),\n",
    "    y=alt.Y('poids_bruite').scale(type='log', base=2),\n",
    "    color=alt.Color('species_id'),\n",
    "    row=alt.Row('sex'),\n",
    "    column=alt.Column('year'),\n",
    "    tooltip=['species_id'],\n",
    ").configure_mark(\n",
    "    opacity=0.05,\n",
    ").properties(\n",
    "    width=128,\n",
    "    height=128,\n",
    ")"
   ]
  },
  {
   "cell_type": "markdown",
   "id": "f127e6ad-c7e1-4e53-9a20-89b42351be76",
   "metadata": {
    "lang": "fr"
   },
   "source": [
    "### Exercice - Facettes\n",
    "* Créez deux facettes selon le `sex`\n",
    "* Chaque facette aura :\n",
    "  * Les années en axe des x\n",
    "  * Le poids moyen en axe des y\n",
    "  * Une courbe de couleur par espèce\n",
    "\n",
    "(5 min.)"
   ]
  },
  {
   "cell_type": "code",
   "execution_count": null,
   "id": "8bfc2e96-a6e4-4d0d-a9c8-7bede14c19d6",
   "metadata": {
    "lang": "fr",
    "tags": [
     "soln"
    ]
   },
   "outputs": [],
   "source": [
    "alt.Chart(surveys_complet).mark_line().encode(\n",
    "    x=alt.X('year').type('ordinal'),\n",
    "    y=alt.Y('weight').aggregate('mean'),\n",
    "    color=alt.Color('species_id'),\n",
    "    facet=alt.Facet('sex'),\n",
    ").properties(\n",
    "    width=256,\n",
    ")"
   ]
  },
  {
   "cell_type": "markdown",
   "id": "b93ef28b-bfb8-4ccd-adfb-b8a6573ae97c",
   "metadata": {
    "lang": "fr"
   },
   "source": [
    "## Visualiser des distributions\n",
    "* Tout d'abord, un box-plot peut être utilisé :"
   ]
  },
  {
   "cell_type": "code",
   "execution_count": null,
   "id": "734e2fa7-fd82-4a55-86af-fc5aa63055d3",
   "metadata": {
    "lang": "fr"
   },
   "outputs": [],
   "source": [
    "alt.Chart(surveys_complet).mark_boxplot().encode(\n",
    "    x=alt.X('species_id').title(\"Identifiant d'espèce\"),\n",
    "    y=alt.Y('poids_bruite').scale(type='log', base=2).title('Poids (g)'),\n",
    "    color=alt.Color('species_id').legend(None),\n",
    ")"
   ]
  },
  {
   "cell_type": "markdown",
   "id": "9ce6f9be-7a7e-4933-ae8f-2957bc1957a5",
   "metadata": {
    "lang": "fr"
   },
   "source": [
    "* Des facettes étroites peuvent être utilisées pour afficher\n",
    "  plusieurs nuages de points :"
   ]
  },
  {
   "cell_type": "code",
   "execution_count": null,
   "id": "6548fc7c-75ca-4295-be11-ca7e2e356c05",
   "metadata": {
    "lang": "fr"
   },
   "outputs": [],
   "source": [
    "alt.Chart(surveys_complet).transform_calculate(\n",
    "    bruit='random()-0.5'  # Position horizontale dans la facette\n",
    ").mark_circle(size=4).encode(\n",
    "    x=alt.X('bruit').type('quantitative').axis(None).title(None),\n",
    "    y=alt.Y('poids_bruite').scale(type='log', base=2).title('Poids (g)'),\n",
    "    color=alt.Color('species_id').legend(None),\n",
    "    column=alt.Column('species_id').title('Poids selon les espèces'),\n",
    ").configure_mark(\n",
    "    opacity=0.25,  # Transparence des mark_circle()\n",
    ").configure_facet(\n",
    "    spacing=0,     # Supprimer la marge entre les facettes\n",
    ").configure_view(\n",
    "    stroke=None,   # Enlever la boîte autour des facettes\n",
    ").properties(\n",
    "    width=18,      # Largeur des facettes\n",
    ")"
   ]
  },
  {
   "cell_type": "markdown",
   "id": "bbf7e8ae-f934-4993-a7a6-923ba45344c9",
   "metadata": {
    "lang": "fr"
   },
   "source": [
    "### Exercice - Distributions\n",
    "Pour cet exercice, on cherche à avoir les vrais noms d'espèce sur\n",
    "l'axe horizontal d'un box-plot.\n",
    "\n",
    "`1`. Recalculez la jonction de gauche entre `surveys_complet` et\n",
    "     le détail des espèces dans `species.csv`. (3 min.)"
   ]
  },
  {
   "cell_type": "code",
   "execution_count": null,
   "id": "0deb8d5b-46a3-4af4-b203-730a13202659",
   "metadata": {
    "lang": "fr",
    "tags": [
     "soln"
    ]
   },
   "outputs": [],
   "source": [
    "species_df = pd.read_csv('../data/species.csv')\n",
    "\n",
    "jonc_gauche = pd.merge(\n",
    "    left=surveys_complet, right=species_df,\n",
    "    on='species_id', how='left')\n",
    "\n",
    "jonc_gauche.columns"
   ]
  },
  {
   "cell_type": "markdown",
   "id": "3adfc188-9694-4066-9d33-0310bb4792c1",
   "metadata": {
    "lang": "fr"
   },
   "source": [
    "`2`. Créez le box-plot:\n",
    "* Le nom des espèces sur l'axe horizontal, avec l'étiquette \"Espèce\"\n",
    "* Le poids bruité dans l'axe vertical, selon une échelle logarithmique\n",
    "  en base 2 et avec l'étiquette \"Poids (g)\"\n",
    "* Une couleur selon l'identifiant d'espèce\n",
    "* Un titre pour le graphique\n",
    "\n",
    "(6 min.)"
   ]
  },
  {
   "cell_type": "code",
   "execution_count": null,
   "id": "51662bc7-626e-4e8b-9b0b-711d917158e9",
   "metadata": {
    "lang": "fr",
    "tags": [
     "soln"
    ]
   },
   "outputs": [],
   "source": [
    "alt.Chart(jonc_gauche).mark_boxplot().encode(\n",
    "    x=alt.X('species').title('Espèce'),\n",
    "    y=alt.Y('poids_bruite').scale(type='log', base=2).title('Poids (g)'),\n",
    "    color=alt.Color('species_id').legend(None),\n",
    ").properties(\n",
    "    title='Distribution des poids par espèce',\n",
    ")"
   ]
  },
  {
   "cell_type": "markdown",
   "id": "78584e01-51c5-463a-8ad7-c86d95f4a86f",
   "metadata": {
    "lang": "fr"
   },
   "source": [
    "## Résumé technique\n",
    "* **Module Altair**\n",
    "  * `import altair as alt`\n",
    "  * Désactiver limite : `alt.data_transformers.disable_max_rows()`\n",
    "* **Création d'un graphique vierge**\n",
    "  * `graphique = alt.Chart(df)`\n",
    "* **Choix du type de marqueurs** à afficher\n",
    "  * `graphique.mark_point()`\n",
    "  * `graphique.mark_bar()`\n",
    "  * `graphique.mark_line()`\n",
    "  * `graphique.mark_boxplot()`\n",
    "  * `graphique.mark_circle(size=N)`\n",
    "  * `graphique.mark_area(orient='horizontal')`\n",
    "* **Assigner des variables** à des canaux du graphique\n",
    "  * `graphique.encode(...)`\n",
    "  * Différents canaux :\n",
    "    * `x=alt.X('varX')` et `y=alt.Y('varY')`\n",
    "      * `.type('type')`, avec les\n",
    "        [différents types](https://altair-viz.github.io/user_guide/encodings/index.html#encoding-data-types) :\n",
    "        * Quantités continues : `'quantitative'`, `'var:Q'`\n",
    "        * Quantités discrètes triées : `'ordinal'`, `'var:O'`\n",
    "        * Catégories discrètes : `'nominal'`, `'var:N'`\n",
    "        * Dates et heures : `'temporal'`, `'var:T'`\n",
    "      * `.aggregate('stat')`,\n",
    "        avec les statistiques `'mean'`, `'median'`, etc.\n",
    "      * `.scale(type='log', base=2)`\n",
    "      * `.title('Nom axe X ou Y')`\n",
    "    * `color=alt.Color('varCouleur')`\n",
    "      * `.legend(None)`\n",
    "      * `.scale(domain=[...], range=['#114499', ...])`\n",
    "    * `facet=alt.Facet('varFacet')`\n",
    "      * `.columns(N)`\n",
    "    * `row=alt.Row('varRangées')`\n",
    "    * `column=alt.Column('varColonne')`\n",
    "    * `tooltip=['varX', 'varY', 'varCouleur', ...]`\n",
    "* **Autres propriétés du graphique**\n",
    "  * `graphique.interactive()`\n",
    "  * `graphique.configure_mark(opacity=0.05)`\n",
    "  * `graphique.properties(...)`\n",
    "    * `width=400`\n",
    "    * `height=300`\n",
    "    * `title='Titre'`\n",
    "  * `graphique.configure_facet(spacing=0)`\n",
    "  * `graphique.configure_view(stroke=None, width=20)`\n",
    "* **Sauvegarde**\n",
    "  * `graphique.save(\"graphique.html\")`\n",
    "  * `graphique.save(\"graphique.png\")`"
   ]
  },
  {
   "cell_type": "code",
   "execution_count": null,
   "id": "2c51580a-3d74-499e-b47c-08d4d371892e",
   "metadata": {},
   "outputs": [],
   "source": []
  }
 ],
 "metadata": {
  "kernelspec": {
   "display_name": "Python 3 (ipykernel)",
   "language": "python",
   "name": "python3"
  },
  "language_info": {
   "codemirror_mode": {
    "name": "ipython",
    "version": 3
   },
   "file_extension": ".py",
   "mimetype": "text/x-python",
   "name": "python",
   "nbconvert_exporter": "python",
   "pygments_lexer": "ipython3",
   "version": "3.11.7"
  }
 },
 "nbformat": 4,
 "nbformat_minor": 5
}
