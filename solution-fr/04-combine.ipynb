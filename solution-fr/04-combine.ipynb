{
 "cells": [
  {
   "cell_type": "markdown",
   "id": "8ebf5518-0d7b-4374-b382-645b577b3a0b",
   "metadata": {
    "lang": "fr"
   },
   "source": [
    "# Analyse et visualisation de données avec Python\n",
    "## Combiner des DataFrames avec Pandas\n",
    "Questions\n",
    "* Peut-on travaillers avec plusieurs sources de données?\n",
    "* Comment combiner les données de deux DataFrames?\n",
    "\n",
    "Objectifs\n",
    "* Combiner les données de plusieurs fichiers en utilisant `concat` et `merge`.\n",
    "* Combiner deux DataFrames utilisant un identifiant commun."
   ]
  },
  {
   "cell_type": "markdown",
   "id": "097571c7-a0b7-4eb2-b4a4-1556dcc4e714",
   "metadata": {
    "lang": "fr"
   },
   "source": [
    "## Charger nos données"
   ]
  },
  {
   "cell_type": "code",
   "execution_count": null,
   "id": "3a09ffac-3947-4569-b4c2-936c75290d7b",
   "metadata": {
    "lang": "fr"
   },
   "outputs": [],
   "source": [
    "# Charger le module pandas\n",
    "import pandas as pd\n",
    "\n",
    "# Lister une collection de fichiers CSV\n",
    "from glob import glob\n",
    "glob('../data/by_year/*.csv')"
   ]
  },
  {
   "cell_type": "markdown",
   "id": "090b572f-109f-4ba9-a672-397fb1870adb",
   "metadata": {
    "lang": "fr"
   },
   "source": [
    "## Concaténer des DataFrames"
   ]
  },
  {
   "cell_type": "code",
   "execution_count": null,
   "id": "443bc07b-e599-4581-bbfc-532cf72fe895",
   "metadata": {
    "lang": "fr"
   },
   "outputs": [],
   "source": [
    "annee2001 = pd.read_csv('../data/by_year/surveys_2001.csv')\n",
    "annee2002 = pd.read_csv('../data/by_year/surveys_2002.csv')\n",
    "\n",
    "print(annee2001.shape, annee2002.shape)"
   ]
  },
  {
   "cell_type": "code",
   "execution_count": null,
   "id": "415f3781-4a2c-4a89-a93b-43f4f588fb48",
   "metadata": {
    "lang": "fr"
   },
   "outputs": [],
   "source": [
    "# Concaténer les dataframes verticalement\n",
    "vertical = pd.concat([annee2001, annee2002], axis='index')\n",
    "vertical"
   ]
  },
  {
   "cell_type": "code",
   "execution_count": null,
   "id": "1d8bcfde-4379-4ae0-9692-61e1a4fcf518",
   "metadata": {
    "lang": "fr"
   },
   "outputs": [],
   "source": [
    "# Réinitaliser l'index du dataframe\n",
    "# L'option drop=True évite l'ajout d'une colonne avec l'ancien index\n",
    "vertical = vertical.reset_index(drop=True)\n",
    "vertical"
   ]
  },
  {
   "cell_type": "code",
   "execution_count": null,
   "id": "4b6c2c9e-5fe9-47a5-b9f5-da8b9261730d",
   "metadata": {
    "lang": "fr"
   },
   "outputs": [],
   "source": [
    "# Accumuler les données de tous les fichiers de la collection\n",
    "surveys_df = pd.DataFrame()  # DataFrame vide\n",
    "\n",
    "for fichier in glob('../data/by_year/*.csv'):\n",
    "    df_annee = pd.read_csv(fichier)\n",
    "    surveys_df = pd.concat([surveys_df, df_annee], axis='index')\n",
    "\n",
    "surveys_df = surveys_df.reset_index(drop=True)\n",
    "surveys_df"
   ]
  },
  {
   "cell_type": "markdown",
   "id": "b461017c-5fce-468d-bde7-5efc9b6b5d09",
   "metadata": {
    "lang": "fr"
   },
   "source": [
    "## Exercice - Concaténer des DataFrames\n",
    "* Dans `surveys_df`, sélectionnez individuellement les enregistrements des années 2001 et 2002\n",
    "* Concaténez les deux dataframes verticalement\n",
    "\n",
    "(3 min.)"
   ]
  },
  {
   "cell_type": "code",
   "execution_count": null,
   "id": "5ee31d9d-3250-4dee-a251-1944abf96bb2",
   "metadata": {
    "lang": "fr",
    "tags": [
     "soln"
    ]
   },
   "outputs": [],
   "source": [
    "# Obtenir les données pour chaque année\n",
    "annee2001 = surveys_df[surveys_df['year'] == 2001]\n",
    "annee2002 = surveys_df[surveys_df['year'] == 2002]\n",
    "\n",
    "# Concaténer verticalement\n",
    "deux_annees = pd.concat([annee2001, annee2002], axis='index')"
   ]
  },
  {
   "cell_type": "markdown",
   "id": "706b172d-43e4-4fbe-957d-dc3fda02d15f",
   "metadata": {
    "lang": "fr"
   },
   "source": [
    "* Calculez le poids moyen selon l'année et le sexe (1 min.)"
   ]
  },
  {
   "cell_type": "code",
   "execution_count": null,
   "id": "dc8a6498-a938-40e4-aacb-408a92da46cc",
   "metadata": {
    "lang": "fr",
    "tags": [
     "soln"
    ]
   },
   "outputs": [],
   "source": [
    "# Calculer le poids moyen par année et par sexe\n",
    "poids_annee = deux_annees.groupby(['year', 'sex'])['weight'].mean()\n",
    "poids_annee = poids_annee.unstack()\n",
    "poids_annee"
   ]
  },
  {
   "cell_type": "markdown",
   "id": "7bcb08cd-40d9-45c1-bcca-8bdfe1e20b01",
   "metadata": {
    "lang": "fr"
   },
   "source": [
    "* Sauvegardez le tableau des moyennes\n",
    "  dans un fichier CSV et le recharger (2 min.)"
   ]
  },
  {
   "cell_type": "code",
   "execution_count": null,
   "id": "bcfef752-2a55-4855-964f-8f74cf470d34",
   "metadata": {
    "lang": "fr",
    "tags": [
     "soln"
    ]
   },
   "outputs": [],
   "source": [
    "# Écrire dans un fichier - garder l'index 'year' cette fois-ci\n",
    "fichier_csv = 'poids_par_annee.csv'\n",
    "poids_annee.to_csv(fichier_csv, index=True)\n",
    "\n",
    "# Relire les données, fournir le nom de l'index\n",
    "pd.read_csv(fichier_csv, index_col='year')"
   ]
  },
  {
   "cell_type": "markdown",
   "id": "dc896d73-d6c1-495b-a8c0-1696343f86c9",
   "metadata": {
    "lang": "fr"
   },
   "source": [
    "## Joindre deux DataFrames"
   ]
  },
  {
   "cell_type": "code",
   "execution_count": null,
   "id": "badf9df5-6d49-4df1-8991-9feb6b6a07e1",
   "metadata": {
    "lang": "fr"
   },
   "outputs": [],
   "source": [
    "# Importer un sous-ensemble des espèces pour cet exemple\n",
    "trois_especes = pd.read_csv('../data/speciesSubset.csv')\n",
    "trois_especes"
   ]
  },
  {
   "cell_type": "markdown",
   "id": "d7811c50-7961-422a-8091-d4f6dc2d6d6f",
   "metadata": {
    "lang": "fr"
   },
   "source": [
    "### Identifier les clés de jonction"
   ]
  },
  {
   "cell_type": "code",
   "execution_count": null,
   "id": "f2b0fb1d-0a90-47d1-b016-caf51a192033",
   "metadata": {
    "lang": "fr"
   },
   "outputs": [],
   "source": [
    "premiers10.columns"
   ]
  },
  {
   "cell_type": "code",
   "execution_count": null,
   "id": "aecd233d-0690-452a-a1b2-3095bde38a3e",
   "metadata": {
    "lang": "fr"
   },
   "outputs": [],
   "source": [
    "trois_especes.columns"
   ]
  },
  {
   "cell_type": "markdown",
   "id": "59ea3672-6e54-4386-8a24-b19e6aac3992",
   "metadata": {
    "lang": "fr"
   },
   "source": [
    "### Une intersection ou \"inner join\""
   ]
  },
  {
   "cell_type": "markdown",
   "id": "b7884627-7d4c-42bd-8f39-01888a859a63",
   "metadata": {
    "lang": "en,fr"
   },
   "source": [
    "![Inner join of tables A and B](https://datacarpentry.org/python-ecology-lesson/fig/inner-join.png)"
   ]
  },
  {
   "cell_type": "code",
   "execution_count": null,
   "id": "ff0d7ff4-8fef-401e-8a7b-98e8553876ff",
   "metadata": {
    "lang": "fr"
   },
   "outputs": [],
   "source": [
    "# Calculer l'intersection de premiers10 et trois_especes\n",
    "cle = 'species_id'\n",
    "intersection = pd.merge(left=premiers10, right=trois_especes,\n",
    "                        left_on=cle, right_on=cle)\n",
    "# Quelle est la taille de la jonction?\n",
    "intersection.shape"
   ]
  },
  {
   "cell_type": "code",
   "execution_count": null,
   "id": "6e2cfa44-d71c-45ba-a0c4-fd5feffec917",
   "metadata": {
    "lang": "fr"
   },
   "outputs": [],
   "source": [
    "intersection"
   ]
  },
  {
   "cell_type": "markdown",
   "id": "cdf28f38-42e0-4459-a68a-623bc4933f91",
   "metadata": {
    "lang": "fr"
   },
   "source": [
    "### Jonction de gauche"
   ]
  },
  {
   "cell_type": "markdown",
   "id": "07ceaa41-1012-4ea2-817d-c7be7671f7d3",
   "metadata": {
    "lang": "en,fr"
   },
   "source": [
    "![Left join of tables A and B](https://datacarpentry.org/python-ecology-lesson/fig/left-join.png)"
   ]
  },
  {
   "cell_type": "code",
   "execution_count": null,
   "id": "6f8bbcbb-20a9-46c5-82fd-146230b5fc75",
   "metadata": {
    "lang": "fr"
   },
   "outputs": [],
   "source": [
    "jonc_gauche = pd.merge(left=premiers10, right=trois_especes,\n",
    "                       on=cle, how='left')\n",
    "# Quelle est la taille de la jonction?\n",
    "jonc_gauche.shape"
   ]
  },
  {
   "cell_type": "code",
   "execution_count": null,
   "id": "193645c5-1ffc-43cb-8c58-a304ac29603e",
   "metadata": {
    "lang": "fr"
   },
   "outputs": [],
   "source": [
    "jonc_gauche"
   ]
  },
  {
   "cell_type": "markdown",
   "id": "97689730-27e0-498b-9567-b3cff0a96102",
   "metadata": {
    "lang": "fr"
   },
   "source": [
    "### Les autres types de jonction\n",
    "* `how='right'` : toutes les lignes du second DataFrame sont gardées\n",
    "* `how='outer'` : équivalent d'une union, toutes les lignes sont gardées"
   ]
  },
  {
   "cell_type": "markdown",
   "id": "69ec9242-bede-4bf0-8fa7-cab8109d5f3d",
   "metadata": {
    "lang": "fr"
   },
   "source": [
    "## Exercice - Joindre toutes les données\n",
    "`1`. Créez un nouveau DataFrame tel que tous les\n",
    "enregistrements de `surveys.csv` sont gardés dans une jonction\n",
    "impliquant les informations correspondantes de `species.csv`.\n",
    "(3 min.)"
   ]
  },
  {
   "cell_type": "code",
   "execution_count": null,
   "id": "917cc739-e4f1-4af2-8cc9-b2af31922c2f",
   "metadata": {
    "lang": "fr",
    "tags": [
     "soln"
    ]
   },
   "outputs": [],
   "source": [
    "species_df = pd.read_csv('../data/species.csv')\n",
    "\n",
    "jonc_gauche = pd.merge(\n",
    "    left=surveys_df, right=species_df, on='species_id', how='left')\n",
    "jonc_gauche.shape"
   ]
  },
  {
   "cell_type": "markdown",
   "id": "c73dbf89-6de4-49e5-b1e4-36871d6e51ce",
   "metadata": {
    "lang": "fr"
   },
   "source": [
    "`2`. Calculez et créez un graphique (*bar-plot*) montrant\n",
    "le nombre d'enregistrements (soit le nombre de `record_id`)\n",
    "par type de `taxa` pour chaque site (`plot_id`). (3 min.)"
   ]
  },
  {
   "cell_type": "code",
   "execution_count": null,
   "id": "129f208f-cd87-4e70-9d95-0b25353bff56",
   "metadata": {
    "lang": "fr",
    "tags": [
     "soln"
    ]
   },
   "outputs": [],
   "source": [
    "par_site_taxa = jonc_gauche.groupby(['plot_id', 'taxa'])\n",
    "nb_par_site_taxa = par_site_taxa['record_id'].count().unstack()\n",
    "nb_par_site_taxa.tail()"
   ]
  },
  {
   "cell_type": "code",
   "execution_count": null,
   "id": "37475258-fc0e-4c21-b778-3290460d2c0e",
   "metadata": {
    "lang": "fr"
   },
   "outputs": [],
   "source": [
    "nb_par_site_taxa.plot(kind='bar', logy=True)"
   ]
  },
  {
   "cell_type": "markdown",
   "id": "4a3a25fb-a68f-47c1-8f97-23f93e05cdb2",
   "metadata": {
    "lang": "fr"
   },
   "source": [
    "`3`. Calculez et créez un graphique (bar-plot) montrant le nombre\n",
    "de différents `taxa` par type de sexe pour chaque site (`plot_id`).\n",
    "(2 min.)"
   ]
  },
  {
   "cell_type": "code",
   "execution_count": null,
   "id": "fdc14b08-d825-44d1-a87b-480d8b5f2304",
   "metadata": {
    "lang": "fr"
   },
   "outputs": [],
   "source": [
    "# Nettoyage des données\n",
    "jonc_gauche['sex'] = jonc_gauche['sex'].fillna('F|M')\n",
    "invalides = ~jonc_gauche['sex'].isin(['F', 'F|M', 'M'])\n",
    "jonc_gauche.loc[invalides, 'sex'] = 'F|M'"
   ]
  },
  {
   "cell_type": "code",
   "execution_count": null,
   "id": "94b8f772-bf47-47b1-b705-18a93046e461",
   "metadata": {
    "lang": "fr",
    "tags": [
     "soln"
    ]
   },
   "outputs": [],
   "source": [
    "ntaxa_sex_site = jonc_gauche.groupby(\n",
    "    ['plot_id', 'sex'])['taxa'].nunique().reset_index(level=1)\n",
    "ntaxa_sex_site.tail()"
   ]
  },
  {
   "cell_type": "code",
   "execution_count": null,
   "id": "1a06db73-266b-4a63-9ec8-89c24e3714fa",
   "metadata": {
    "lang": "fr"
   },
   "outputs": [],
   "source": [
    "# Utiliser pivot_table() au lieu de unstack()\n",
    "pivot_taxa_sex_site = ntaxa_sex_site.pivot_table(\n",
    "    values='taxa', columns='sex', index=ntaxa_sex_site.index)\n",
    "pivot_taxa_sex_site.tail()"
   ]
  },
  {
   "cell_type": "code",
   "execution_count": null,
   "id": "b45d6a03-66f8-429d-9fbe-d1bda91ae9f8",
   "metadata": {
    "lang": "en,fr"
   },
   "outputs": [],
   "source": [
    "pivot_taxa_sex_site.plot(kind=\"bar\")"
   ]
  },
  {
   "cell_type": "markdown",
   "id": "72d9c6d7-402c-4e8d-a31b-b3e957c5dec3",
   "metadata": {
    "lang": "fr"
   },
   "source": [
    "## Résumé technique\n",
    "* **Concaténer** des DataFrames avec `pandas.concat()`\n",
    "  * Requiert une liste de DataFrames\n",
    "  * Verticalement si `axis='index'` (par défaut)\n",
    "  * Horizontalement si `axis='columns'`\n",
    "  * Réinitialiser l'index au besoin : `reset_index(drop=True)`\n",
    "* **Joindre** des DataFrames avec `pandas.merge()`\n",
    "  * `left=`, `right=` : les deux DataFrames à joindre\n",
    "  * `left_on=`, `right_on=` : les clés de jonction de chaque DataFrame\n",
    "  * `on=` : clés de jonction communes aux deux DataFrames\n",
    "  * `how=` : `'inner'` (défaut), `'left'`, `'right'`, `'outer'`\n",
    "* **Table de pivot** : `pivot_table()`\n",
    "  * `values=colX`\n",
    "  * `index=[col_ind]`\n",
    "  * `columns=[categorie1, categorie2]`\n",
    "  * `aggfunc=numpy.mean` (défaut: moyenne)"
   ]
  },
  {
   "cell_type": "code",
   "execution_count": null,
   "id": "b91ca622-bb19-4f74-88d1-56b7d902bfb0",
   "metadata": {},
   "outputs": [],
   "source": []
  }
 ],
 "metadata": {
  "kernelspec": {
   "display_name": "Python 3 (ipykernel)",
   "language": "python",
   "name": "python3"
  },
  "language_info": {
   "codemirror_mode": {
    "name": "ipython",
    "version": 3
   },
   "file_extension": ".py",
   "mimetype": "text/x-python",
   "name": "python",
   "nbconvert_exporter": "python",
   "pygments_lexer": "ipython3",
   "version": "3.11.7"
  }
 },
 "nbformat": 4,
 "nbformat_minor": 5
}
