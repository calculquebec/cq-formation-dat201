{
 "cells": [
  {
   "cell_type": "markdown",
   "id": "50643418-74f8-4f4e-a3be-4ee68bd113cb",
   "metadata": {
    "lang": "fr"
   },
   "source": [
    "# Analyse et visualisation de données avec Python\n",
    "## Démarrer avec des données\n",
    "\n",
    "Questions\n",
    "* Comment importer des données dans Python?\n",
    "* Qu'est-ce que Pandas?\n",
    "* Pourquoi utiliser Pandas pour traiter des données tabulaires?\n",
    "\n",
    "Objectifs\n",
    "* Charger une bibliothèque d'analyse de données Python (Pandas).\n",
    "* Utiliser `read_csv` pour lire des données tabulaires dans Python.\n",
    "* Décrire ce qu'est un DataFrame et une série.\n",
    "* Accéder et résumer les données d'un DataFrames.\n",
    "* Effectuer des opérations mathématiques et statistiques sur des\n",
    "  données dans un DataFrame."
   ]
  },
  {
   "cell_type": "markdown",
   "id": "44b77937-5fb9-41b4-aa8f-0f542e30702d",
   "metadata": {
    "lang": "en"
   },
   "source": [
    "# Data Analysis and Visualization in Python\n",
    "## Starting With Data\n",
    "Questions\n",
    "* How can I import data in Python?\n",
    "* What is Pandas?\n",
    "* Why should I use Pandas to work with data?\n",
    "\n",
    "Objectives\n",
    "* Load the Python Data Analysis Library (Pandas).\n",
    "* Use `read_csv` to read tabular data into Python.\n",
    "* Describe what a DataFrame and a Series are in Python.\n",
    "* Access and summarize data stored in a DataFrame.\n",
    "* Perform basic mathematical operations and summary statistics on data\n",
    "  in a Pandas DataFrame."
   ]
  },
  {
   "cell_type": "markdown",
   "id": "45cee959-3db0-4a2b-ba7b-da37ab995536",
   "metadata": {
    "lang": "fr"
   },
   "source": [
    "## Utiliser les DataFrames Pandas dans Python\n",
    "\n",
    "### Pandas dans Python\n",
    "L'une des meilleures options pour traiter des données tabulaires dans Python est d'utiliser la bibliothèque d'analyse de données Python, c'est-à-dire *Pandas*. La bibliothèque Pandas fournit des structures de données, produit des graphiques de haute qualité avec *Matplotlib* et s'intègre bien avec d'autres bibliothèques utilisant des tableaux *NumPy* (qui est une autre bibliothèque Python)."
   ]
  },
  {
   "cell_type": "markdown",
   "id": "1c681eb4-cd20-4ad4-ba6c-2b1b1a17a17b",
   "metadata": {
    "lang": "en"
   },
   "source": [
    "## Working With Pandas DataFrames in Python\n",
    "\n",
    "### Pandas in Python\n",
    "One of the best options for working with tabular data in Python is to use the Python Data Analysis Library (a.k.a. Pandas). The Pandas library provides data structures, produces high quality plots with matplotlib and integrates nicely with other libraries that use NumPy (which is another Python library) arrays."
   ]
  },
  {
   "cell_type": "code",
   "execution_count": null,
   "id": "8a2ccdb4-9395-483a-8362-202f305ef658",
   "metadata": {
    "lang": "fr"
   },
   "outputs": [],
   "source": [
    "# Importer la bibliothèque \"pandas\"\n",
    "import pandas as pd"
   ]
  },
  {
   "cell_type": "code",
   "execution_count": null,
   "id": "b7983759-e77d-4c12-b52e-8666e756fcbc",
   "metadata": {
    "lang": "en"
   },
   "outputs": [],
   "source": [
    "# Import the \"pandas\" library\n",
    "import pandas as pd"
   ]
  },
  {
   "cell_type": "markdown",
   "id": "7717ef88-dfea-4b9f-bcf1-eb4dc1c54aa6",
   "metadata": {
    "lang": "fr"
   },
   "source": [
    "## Charger un fichier CSV avec Pandas\n",
    "### Qu'est-ce qu'un DataFrame?"
   ]
  },
  {
   "cell_type": "markdown",
   "id": "1384c372-494f-483f-9bee-9f008b30080f",
   "metadata": {
    "lang": "en"
   },
   "source": [
    "## Reading CSV Data Using Pandas\n",
    "### So What’s a DataFrame?"
   ]
  },
  {
   "cell_type": "code",
   "execution_count": null,
   "id": "11979c97-4278-4135-a598-a7c5e3a2b729",
   "metadata": {
    "lang": "fr",
    "tags": [
     "soln"
    ]
   },
   "outputs": [],
   "source": [
    "# Chargement des données du fichier surveys.csv\n",
    "surveys_df = pd.read_csv('../data/surveys.csv')"
   ]
  },
  {
   "cell_type": "code",
   "execution_count": null,
   "id": "041ad4ed-b411-4b97-a62f-15a6e1c527d9",
   "metadata": {
    "lang": "fr",
    "tags": [
     "exer"
    ]
   },
   "outputs": [],
   "source": [
    "# Chargement des données du fichier surveys.csv\n",
    "pd.read_csv('../data/surveys.csv')"
   ]
  },
  {
   "cell_type": "code",
   "execution_count": null,
   "id": "fa5c99f6-a2b2-4b43-bf1a-1e696dc2573d",
   "metadata": {
    "lang": "en",
    "tags": [
     "soln"
    ]
   },
   "outputs": [],
   "source": [
    "# Note that pd.read_csv is used because we imported pandas as pd\n",
    "surveys_df = pd.read_csv(\"../data/surveys.csv\")"
   ]
  },
  {
   "cell_type": "code",
   "execution_count": null,
   "id": "362dd31d-92c4-4a63-b702-29fa53702e5b",
   "metadata": {
    "lang": "en",
    "tags": [
     "exer"
    ]
   },
   "outputs": [],
   "source": [
    "# Note that pd.read_csv is used because we imported pandas as pd\n",
    "pd.read_csv(\"../data/surveys.csv\")"
   ]
  },
  {
   "cell_type": "code",
   "execution_count": null,
   "id": "be923975-166d-4fcf-8989-ca84b496f190",
   "metadata": {
    "lang": "fr"
   },
   "outputs": [],
   "source": [
    "# Afficher les quelques première lignes\n",
    "surveys_df.head()"
   ]
  },
  {
   "cell_type": "code",
   "execution_count": null,
   "id": "d4578d20-6013-4853-8dd1-909d858b6f6f",
   "metadata": {
    "lang": "en"
   },
   "outputs": [],
   "source": [
    "# Display the first rows of the DataFrame\n",
    "surveys_df.head()"
   ]
  },
  {
   "cell_type": "code",
   "execution_count": null,
   "id": "c2f82186-0f9a-4486-935d-03eb2d122328",
   "metadata": {
    "lang": "fr"
   },
   "outputs": [],
   "source": [
    "# Accéder aux dimensions du DataFrame\n",
    "surveys_df.shape"
   ]
  },
  {
   "cell_type": "code",
   "execution_count": null,
   "id": "8aaa0297-9e91-4731-a615-fd0fbb2268ea",
   "metadata": {
    "lang": "en"
   },
   "outputs": [],
   "source": [
    "# What format does it return the shape of the DataFrame in?\n",
    "surveys_df.shape"
   ]
  },
  {
   "cell_type": "code",
   "execution_count": null,
   "id": "242e7422-75e1-47a3-8ecc-aa15f91cedae",
   "metadata": {
    "lang": "fr"
   },
   "outputs": [],
   "source": [
    "# Accéder à la liste des noms de colonnes\n",
    "surveys_df.columns"
   ]
  },
  {
   "cell_type": "code",
   "execution_count": null,
   "id": "a63ce9c2-8866-4c12-b975-2617c9f667df",
   "metadata": {
    "lang": "en"
   },
   "outputs": [],
   "source": [
    "# Accessing the list of column names\n",
    "surveys_df.columns"
   ]
  },
  {
   "cell_type": "code",
   "execution_count": null,
   "id": "d85d3e33-2e50-48da-b27e-d728cf09cc61",
   "metadata": {
    "lang": "fr"
   },
   "outputs": [],
   "source": [
    "# Une colonne est un objet de type Series\n",
    "surveys_df['weight'].describe()"
   ]
  },
  {
   "cell_type": "code",
   "execution_count": null,
   "id": "43c5c367-2b70-4998-b81a-9a539efd3a31",
   "metadata": {
    "lang": "en"
   },
   "outputs": [],
   "source": [
    "# A column is an object of type Series\n",
    "surveys_df['weight'].describe()"
   ]
  },
  {
   "cell_type": "code",
   "execution_count": null,
   "id": "d43c23c9-7956-428e-8a1d-7a292ed8f146",
   "metadata": {
    "lang": "fr"
   },
   "outputs": [],
   "source": [
    "# Calculer des statistiques descriptives par colonne\n",
    "print(\"Valeurs non nulles:  \", surveys_df['weight'].count())\n",
    "print(\"Moyenne des valeurs: \", surveys_df['weight'].mean())\n",
    "print(\"Deviation standard:  \", surveys_df['weight'].std())\n",
    "print(\"Valeur minimale:     \", surveys_df['weight'].min())\n",
    "print(\"Valeur médiane:      \", surveys_df['weight'].median())\n",
    "print(\"Valeur maximale:     \", surveys_df['weight'].max())"
   ]
  },
  {
   "cell_type": "code",
   "execution_count": null,
   "id": "80209d8e-a186-42d6-8a50-edfba6d6b9e6",
   "metadata": {
    "lang": "en"
   },
   "outputs": [],
   "source": [
    "# Compute descriptive statistics per column\n",
    "print(\"Count:    \", surveys_df['weight'].count())\n",
    "print(\"Mean:     \", surveys_df['weight'].mean())\n",
    "print(\"Std Dev.: \", surveys_df['weight'].std())\n",
    "print(\"Min:      \", surveys_df['weight'].min())\n",
    "print(\"Median:   \", surveys_df['weight'].median())\n",
    "print(\"Max:      \", surveys_df['weight'].max())"
   ]
  },
  {
   "cell_type": "code",
   "execution_count": null,
   "id": "534ba325-1da0-4423-8a6e-735bc9b1da72",
   "metadata": {
    "lang": "fr"
   },
   "outputs": [],
   "source": [
    "# Créer une nouvelle colonne\n",
    "surveys_df['poids_kg'] = surveys_df['weight'] / 1000\n",
    "\n",
    "# Afficher les dernières lignes\n",
    "surveys_df.tail()"
   ]
  },
  {
   "cell_type": "code",
   "execution_count": null,
   "id": "ce78baeb-019d-4c45-b925-c0133497baca",
   "metadata": {
    "lang": "en"
   },
   "outputs": [],
   "source": [
    "# New column - Convert all weights from grams to kilograms\n",
    "surveys_df['weight_kg'] = surveys_df['weight'] / 1000\n",
    "\n",
    "# Display the last rows of the DataFrame\n",
    "surveys_df.tail()"
   ]
  },
  {
   "cell_type": "markdown",
   "id": "9d8b2793-5c10-42fa-8b18-b47be6a34d2d",
   "metadata": {
    "lang": "fr"
   },
   "source": [
    "### Exercices - DataFrame et Series\n",
    "\n",
    "1. Chargez la table des espèces animales du fichier\n",
    "   `species.csv` et assignez le résultat à `especes_df`. (3 min.)"
   ]
  },
  {
   "cell_type": "markdown",
   "id": "218c9c96-5c21-4533-b9cc-418fb5781123",
   "metadata": {
    "lang": "en"
   },
   "source": [
    "### Exercises - DataFrame and Series\n",
    "\n",
    "1. Load the table of species from the `species.csv`\n",
    "   file and assign the result to `species_df`. (3 min.)"
   ]
  },
  {
   "cell_type": "code",
   "execution_count": null,
   "id": "a473ac0c-8941-436b-93d5-93b6239487ff",
   "metadata": {
    "lang": "fr",
    "tags": [
     "soln"
    ]
   },
   "outputs": [],
   "source": [
    "especes_df = pd.read_csv('../data/species.csv')"
   ]
  },
  {
   "cell_type": "code",
   "execution_count": null,
   "id": "7f8e9474-59d3-4c55-be9c-3e4aaf3240a6",
   "metadata": {
    "lang": "en",
    "tags": [
     "soln"
    ]
   },
   "outputs": [],
   "source": [
    "species_df = pd.read_csv('../data/species.csv')"
   ]
  },
  {
   "cell_type": "code",
   "execution_count": null,
   "id": "6c055d32-aa23-4adf-82c0-861c6becfe55",
   "metadata": {
    "tags": [
     "exer"
    ]
   },
   "outputs": [],
   "source": []
  },
  {
   "cell_type": "markdown",
   "id": "5ab5b372-8f20-4218-84c6-82124c40559e",
   "metadata": {
    "lang": "fr"
   },
   "source": [
    "2. Utilisez la méthode `.unique()` pour obtenir la\n",
    "   liste des différents taxons (colonne `taxa`). (2 min.)"
   ]
  },
  {
   "cell_type": "markdown",
   "id": "6a7dbec3-6fb3-4205-aefc-acb5cf93b0ad",
   "metadata": {
    "lang": "en"
   },
   "source": [
    "2. Use the `.unique()` function to get\n",
    "   the list of all different `taxa`. (2 min.)"
   ]
  },
  {
   "cell_type": "code",
   "execution_count": null,
   "id": "d6137b09-75f6-48fb-a4b0-14089485f8f8",
   "metadata": {
    "lang": "fr",
    "tags": [
     "soln"
    ]
   },
   "outputs": [],
   "source": [
    "especes_df['taxa'].unique()"
   ]
  },
  {
   "cell_type": "code",
   "execution_count": null,
   "id": "a52e8ff1-de10-4564-b7fb-cbeffdfbe644",
   "metadata": {
    "lang": "fr",
    "tags": [
     "exer"
    ]
   },
   "outputs": [],
   "source": [
    "especes_df###"
   ]
  },
  {
   "cell_type": "code",
   "execution_count": null,
   "id": "a9830297-7173-4c33-9584-65a298f19e95",
   "metadata": {
    "lang": "en",
    "tags": [
     "soln"
    ]
   },
   "outputs": [],
   "source": [
    "species_df['taxa'].unique()"
   ]
  },
  {
   "cell_type": "code",
   "execution_count": null,
   "id": "a89051b2-d5f3-4f86-8a06-f46d720c550e",
   "metadata": {
    "lang": "en",
    "tags": [
     "exer"
    ]
   },
   "outputs": [],
   "source": [
    "species_df###"
   ]
  },
  {
   "cell_type": "markdown",
   "id": "bfc89490-6735-4c42-a1e8-39939fc0227c",
   "metadata": {
    "lang": "fr"
   },
   "source": [
    "3. Utilisez la méthode `.nunique()` pour obtenir\n",
    "   le nombre de différents taxons. (1 min.)"
   ]
  },
  {
   "cell_type": "markdown",
   "id": "6c1333b1-8a54-4122-ae1c-5464bfd6329b",
   "metadata": {
    "lang": "en"
   },
   "source": [
    "3. Use the `.nunique()` function to\n",
    "   get the number of different taxa. (1 min.)"
   ]
  },
  {
   "cell_type": "code",
   "execution_count": null,
   "id": "12de3b0b-2787-483a-8a18-c4a7f76f36dc",
   "metadata": {
    "lang": "fr",
    "tags": [
     "soln"
    ]
   },
   "outputs": [],
   "source": [
    "especes_df['taxa'].nunique()"
   ]
  },
  {
   "cell_type": "code",
   "execution_count": null,
   "id": "bfa62205-2efa-4be5-9fda-96d5bda99108",
   "metadata": {
    "lang": "fr",
    "tags": [
     "exer"
    ]
   },
   "outputs": [],
   "source": [
    "especes_df###"
   ]
  },
  {
   "cell_type": "code",
   "execution_count": null,
   "id": "e70e3001-9d56-48bb-a71c-aaaec05c905b",
   "metadata": {
    "lang": "en",
    "tags": [
     "soln"
    ]
   },
   "outputs": [],
   "source": [
    "species_df['taxa'].nunique()"
   ]
  },
  {
   "cell_type": "code",
   "execution_count": null,
   "id": "e3e06737-b06e-4734-bbea-4f0d02a837f7",
   "metadata": {
    "lang": "en",
    "tags": [
     "exer"
    ]
   },
   "outputs": [],
   "source": [
    "species_df###"
   ]
  },
  {
   "cell_type": "markdown",
   "id": "ec4f39dd-bbe5-4ca1-ac25-9498ac7f839f",
   "metadata": {
    "lang": "fr"
   },
   "source": [
    "## Grouper des données"
   ]
  },
  {
   "cell_type": "markdown",
   "id": "2ad50f69-2afb-4008-a239-57ff69ff7f2e",
   "metadata": {
    "lang": "en"
   },
   "source": [
    "## Groups in Pandas"
   ]
  },
  {
   "cell_type": "code",
   "execution_count": null,
   "id": "32293e04-8d67-430b-8cc3-a083b131567f",
   "metadata": {
    "lang": "fr"
   },
   "outputs": [],
   "source": [
    "# Grouper les données par sexe\n",
    "surveys_df.groupby('sex')"
   ]
  },
  {
   "cell_type": "code",
   "execution_count": null,
   "id": "d4c68b28-b981-4710-8906-69af8d331c09",
   "metadata": {
    "lang": "en"
   },
   "outputs": [],
   "source": [
    "# Group data by sex\n",
    "surveys_df.groupby('sex')"
   ]
  },
  {
   "cell_type": "code",
   "execution_count": null,
   "id": "b24bc35c-2513-4b72-ac3b-70ef6c239ac3",
   "metadata": {
    "lang": "fr"
   },
   "outputs": [],
   "source": [
    "# Nombre de valeurs dans chaque colonne par sexe\n",
    "surveys_df.groupby('sex').count()"
   ]
  },
  {
   "cell_type": "code",
   "execution_count": null,
   "id": "ca4fb05e-701d-40f8-8077-e18137fe074e",
   "metadata": {
    "lang": "en"
   },
   "outputs": [],
   "source": [
    "# Provide the number of values for each column by sex\n",
    "surveys_df.groupby('sex').count()"
   ]
  },
  {
   "cell_type": "code",
   "execution_count": null,
   "id": "30290cef-7efd-4386-896b-3920bdf432d0",
   "metadata": {
    "lang": "fr"
   },
   "outputs": [],
   "source": [
    "# Moyenne de chaque colonne à valeurs numériques par sexe\n",
    "surveys_df.groupby('sex').mean(numeric_only=True)"
   ]
  },
  {
   "cell_type": "code",
   "execution_count": null,
   "id": "99ae24fb-e4bc-488d-ba3c-19490b927f45",
   "metadata": {
    "lang": "en"
   },
   "outputs": [],
   "source": [
    "# Provide the mean for each numeric column by sex\n",
    "surveys_df.groupby('sex').mean(numeric_only=True)"
   ]
  },
  {
   "cell_type": "code",
   "execution_count": null,
   "id": "ec43427e-dbe8-4ce4-96f9-32b543334bb4",
   "metadata": {
    "lang": "fr",
    "tags": [
     "soln"
    ]
   },
   "outputs": [],
   "source": [
    "# Obtenir le nombre d'enregistrements par code d'espèce\n",
    "surveys_df.groupby('species_id')['record_id'].count()"
   ]
  },
  {
   "cell_type": "code",
   "execution_count": null,
   "id": "94bf4d11-9733-442e-ad97-9ea281fe94a0",
   "metadata": {
    "lang": "fr",
    "tags": [
     "exer"
    ]
   },
   "outputs": [],
   "source": [
    "# Obtenir le nombre d'enregistrements par code d'espèce\n",
    "surveys_df.groupby('species_id').count()#['record_id']"
   ]
  },
  {
   "cell_type": "code",
   "execution_count": null,
   "id": "420ea5c6-15a8-4077-8adc-f0df1598d398",
   "metadata": {
    "lang": "en",
    "tags": [
     "soln"
    ]
   },
   "outputs": [],
   "source": [
    "# Get the number of records per species ID\n",
    "surveys_df.groupby('species_id')['record_id'].count()"
   ]
  },
  {
   "cell_type": "code",
   "execution_count": null,
   "id": "c8a5d9c4-2182-4e14-9d9c-1c386831c151",
   "metadata": {
    "lang": "en",
    "tags": [
     "exer"
    ]
   },
   "outputs": [],
   "source": [
    "# Get the number of records per species ID\n",
    "surveys_df.groupby('species_id').count()#['record_id']"
   ]
  },
  {
   "cell_type": "code",
   "execution_count": null,
   "id": "1190a3ff-64b2-4ad4-9614-aa0a2ace6ee6",
   "metadata": {
    "lang": "fr"
   },
   "outputs": [],
   "source": [
    "# Moyennes et déviations standards des poids par code d'espèce\n",
    "surveys_df.groupby('species_id')['weight'].aggregate(['mean', 'std'])"
   ]
  },
  {
   "cell_type": "code",
   "execution_count": null,
   "id": "01b06799-19e0-409a-9925-4bb7816f88cc",
   "metadata": {
    "lang": "en"
   },
   "outputs": [],
   "source": [
    "# Mean values and standard deviations of weights per species ID\n",
    "surveys_df.groupby('species_id')['weight'].aggregate(['mean', 'std'])"
   ]
  },
  {
   "cell_type": "markdown",
   "id": "16c50364-d666-40f3-829d-4940cf94aa5e",
   "metadata": {
    "lang": "fr"
   },
   "source": [
    "### Exercices - Grouper des données\n",
    "1. Faites calculer un sommaire des statistiques descriptives des\n",
    "   poids (`weight`) pour chaque espèce (`species_id`). (4 min.)"
   ]
  },
  {
   "cell_type": "markdown",
   "id": "4c3c01d3-c97d-41fd-8d76-4a4540dcaeca",
   "metadata": {
    "lang": "en"
   },
   "source": [
    "### Exercises - Grouping data\n",
    "1. Summarize `weight` values for each\n",
    "   species (`species_id`) in your data. (4 min.)"
   ]
  },
  {
   "cell_type": "code",
   "execution_count": null,
   "id": "d0b5b58a-0aa5-4e14-afad-21252299ae9b",
   "metadata": {
    "lang": "en,fr",
    "tags": [
     "soln"
    ]
   },
   "outputs": [],
   "source": [
    "surveys_df.groupby('species_id')['weight'].describe()"
   ]
  },
  {
   "cell_type": "code",
   "execution_count": null,
   "id": "af3cc7b1-4d3c-447b-ae51-8ba000ae1466",
   "metadata": {
    "lang": "en,fr",
    "tags": [
     "exer"
    ]
   },
   "outputs": [],
   "source": [
    "surveys_df###"
   ]
  },
  {
   "cell_type": "markdown",
   "id": "0bb3a9d5-a59e-41d7-84a5-c30f02d5e01b",
   "metadata": {
    "lang": "fr"
   },
   "source": [
    "2. Qu'arrive-t-il si on groupe par deux colonnes\n",
    "   et si on recalcule les moyennes? (2 min.)"
   ]
  },
  {
   "cell_type": "markdown",
   "id": "520f326b-132b-47fa-b735-2a484eff27af",
   "metadata": {
    "lang": "en"
   },
   "source": [
    "2. What happens when you group by two columns using\n",
    "   the following syntax and then grab mean values? (2 min.)"
   ]
  },
  {
   "cell_type": "code",
   "execution_count": null,
   "id": "251b6c52-c2e0-4fa8-9a79-6570c42df687",
   "metadata": {
    "lang": "en,fr",
    "tags": [
     "soln"
    ]
   },
   "outputs": [],
   "source": [
    "surveys_df.groupby(['species_id', 'sex']).mean(numeric_only=True)"
   ]
  },
  {
   "cell_type": "code",
   "execution_count": null,
   "id": "ff0779a4-fdd8-4500-84b2-40da7dac1a26",
   "metadata": {
    "lang": "en,fr",
    "tags": [
     "exer"
    ]
   },
   "outputs": [],
   "source": [
    "surveys_df.groupby(['species_id', 'sex'])###"
   ]
  },
  {
   "cell_type": "markdown",
   "id": "a96f6358-ba62-4a01-b95f-df05e771fceb",
   "metadata": {
    "lang": "fr"
   },
   "source": [
    "## Résumé technique\n",
    "* **Importer le module Pandas** : `import pandas as pd`\n",
    "* **Chargement des données** : `pd.read_csv()`\n",
    "  * Argument obligatoire : le **nom du fichier**\n",
    "  * `index_col` : pour spécifier la colonne qui sera l'index\n",
    "* Pour un **DataFrame** :\n",
    "  * **Attributs** : `shape`, `index`, `columns`\n",
    "  * **Méthodes** : `head()`, `tail()`, `describe()`\n",
    "* Pour une **colonne** :\n",
    "  * **Sélection** : `df['nom_colonne']`\n",
    "  * **Méthodes** :\n",
    "    * Statistiques descriptives :\n",
    "      `count()`, `mean()`, `median()`, `min()`, `max()`\n",
    "    * Autres : `describe()`, `nunique()`, `unique()`\n",
    "* **Grouper selon les valeurs** d'une ou plusieurs colonnes :\n",
    "  * `groupby(nom_col)`\n",
    "  * `groupby([nom_col1, nom_col2])`\n",
    "* **Transformer le DataFrame** : `unstack()`"
   ]
  },
  {
   "cell_type": "markdown",
   "id": "ccff77fd-99c7-428e-854e-f771da6851a1",
   "metadata": {
    "lang": "en"
   },
   "source": [
    "## Technical Summary\n",
    "* **Import Pandas**: `import pandas as pd`\n",
    "* **Load data**: `pd.read_csv()`\n",
    "  * Argument: the **filename**\n",
    "  * `index_col`: the column to interpret as the DataFrame index\n",
    "* **DataFrame** object:\n",
    "  * **Attributes**: `shape`, `index`, `columns`\n",
    "  * **Methods**: `head()`, `tail()`, `describe()`\n",
    "* Series object or **column**:\n",
    "  * **Selection**: `df['column_name']`\n",
    "  * **Methods**:\n",
    "    * Descriptive statistics:\n",
    "      `count()`, `mean()`, `median()`, `min()`, `max()`\n",
    "    * Others: `describe()`, `nunique()`, `unique()`\n",
    "* **Grouping by values** of one or many columns:\n",
    "  * `groupby(column_name)`\n",
    "  * `groupby([column_name1, column_name2])`\n",
    "* **Reshaping a DataFrame** from values in the index: `unstack()`"
   ]
  },
  {
   "cell_type": "code",
   "execution_count": null,
   "id": "e1b5adc9-5fdf-4c19-be45-999249dbd57d",
   "metadata": {},
   "outputs": [],
   "source": []
  }
 ],
 "metadata": {
  "kernelspec": {
   "display_name": "Python 3 (ipykernel)",
   "language": "python",
   "name": "python3"
  },
  "language_info": {
   "codemirror_mode": {
    "name": "ipython",
    "version": 3
   },
   "file_extension": ".py",
   "mimetype": "text/x-python",
   "name": "python",
   "nbconvert_exporter": "python",
   "pygments_lexer": "ipython3",
   "version": "3.11.7"
  }
 },
 "nbformat": 4,
 "nbformat_minor": 5
}
