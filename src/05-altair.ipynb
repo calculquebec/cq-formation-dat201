{
 "cells": [
  {
   "cell_type": "markdown",
   "id": "9d214dd4-7850-46d2-b4b0-e6da9ea18b89",
   "metadata": {
    "lang": "fr"
   },
   "source": [
    "# Analyse et visualisation de données avec Python\n",
    "## Créer des graphiques avec Altair\n",
    "Questions\n",
    "* Comment faire davantage de visualisation en Python?\n",
    "* Comment faire des graphiques modernes et interactifs?\n",
    "* Qu'est-ce que la \"grammaire des graphiques\"?\n",
    "\n",
    "Objectifs\n",
    "* Créer un objet `alt.Chart`.\n",
    "* Créer différents types de graphiques.\n",
    "* Modifier l'apparence du graphique:\n",
    "  * Configurer les couleurs.\n",
    "  * Éditer le titre et le nom des axes.\n",
    "* Diviser une figure en facettes.\n",
    "* Sauvegarder une figure en image et en version interactive."
   ]
  },
  {
   "cell_type": "markdown",
   "id": "76be5b81-61a4-4ddb-85ce-0eff9acb34bc",
   "metadata": {
    "lang": "en"
   },
   "source": [
    "# Data Analysis and Visualization in Python\n",
    "## Making Plots With Altair\n",
    "Questions\n",
    "* How can I visualize data in Python?\n",
    "* How to create modern and interactive plots?\n",
    "* What is ‘grammar of graphics’?\n",
    "\n",
    "Objectives\n",
    "* Create an `alt.Chart` object.\n",
    "* Build complex plots using a step-by-step approach.\n",
    "  * Change the aesthetics of a plot such as color.\n",
    "  * Edit the title and the axis labels.\n",
    "* Create scatter plots, time series plots and box plots.\n",
    "* Create a collection of plots splitting the data by a \"factor\" variable.\n",
    "* Save a figure as an image or as an interactive version."
   ]
  },
  {
   "cell_type": "code",
   "execution_count": null,
   "id": "9dcc4806-bf36-48ea-88a6-5237d5329e4d",
   "metadata": {
    "lang": "fr"
   },
   "outputs": [],
   "source": [
    "import numpy as np\n",
    "import pandas as pd\n",
    "\n",
    "# Charger et nettoyer les données\n",
    "surveys_complet = pd.read_csv('../data/surveys.csv')\n",
    "surveys_complet = surveys_complet.dropna()\n",
    "surveys_complet"
   ]
  },
  {
   "cell_type": "code",
   "execution_count": null,
   "id": "f45113c1-b495-44c7-b365-9085229ad650",
   "metadata": {
    "lang": "en"
   },
   "outputs": [],
   "source": [
    "import numpy as np\n",
    "import pandas as pd\n",
    "\n",
    "# Load and clean the data\n",
    "surveys_complete = pd.read_csv('../data/surveys.csv')\n",
    "surveys_complete = surveys_complete.dropna()\n",
    "surveys_complete"
   ]
  },
  {
   "cell_type": "markdown",
   "id": "5f0128a6-411d-4aa1-ad73-3ff6af52e787",
   "metadata": {
    "lang": "fr"
   },
   "source": [
    "## Pourquoi `altair`? Pourquoi pas `matplotlib`?\n",
    "\n",
    "Bien que `matplotlib` soit une bibliothèque de visualisation\n",
    "largement répandue et relativement flexible, la programmation\n",
    "des graphiques ne suit pas une *grammaire* spécifique.\n",
    "\n",
    "Ainsi, pour ce chapitre, nous avons fait le choix\n",
    "de vous présenter la bibliothèque `altair` qui\n",
    "[facilite la création de graphiques hautement informatifs](https://altair-viz.github.io/index.html)\n",
    "tout en s'intégrant bien avec Pandas. Le fonctionnement de\n",
    "`altair` se base sur la grammaire des graphiques interactifs\n",
    "de [Vega-Lite](https://vega.github.io/vega-lite/),\n",
    "ce qui rend la programmation à la fois élégante et puissante.\n",
    "\n",
    "Nous verrons différents concepts de visualisation qui peuvent être\n",
    "reproduits plus ou moins facilement avec d'autres bibliothèques\n",
    "telles que `matplotlib`, `plotnine`, `plotly` et `seaborn`."
   ]
  },
  {
   "cell_type": "markdown",
   "id": "5af1ecd3-74a6-4fe2-950b-99dba4434fe8",
   "metadata": {
    "lang": "en"
   },
   "source": [
    "## Why `altair`? Why not `matplotlib`?\n",
    "\n",
    "While `matplotlib` is a widely used and\n",
    "quite flexible visualization library, the plots\n",
    "programming does not follow a specific *grammar*.\n",
    "\n",
    "In this chapter, we have decided to present the `altair` library which\n",
    "[facilitates the creation of highly informative charts](https://altair-viz.github.io/index.html)\n",
    "from data stored in Pandas objects.\n",
    "It is based on the grammar of interactive graphics of\n",
    "[Vega-Lite](https://vega.github.io/vega-lite/),\n",
    "which makes the programming both elegant and powerful.\n",
    "\n",
    "We will see different visualization concepts that can\n",
    "be reproduced more or less easily with other libraries\n",
    "such as `matplotlib`, `plotnine`, `plotly` and `seaborn`."
   ]
  },
  {
   "cell_type": "code",
   "execution_count": null,
   "id": "15c7e41b-8f79-46d6-b4f0-19e56137ee02",
   "metadata": {
    "lang": "en,fr"
   },
   "outputs": [],
   "source": [
    "import altair as alt"
   ]
  },
  {
   "cell_type": "markdown",
   "id": "df5313bb-c969-4774-a67f-28e717ce9655",
   "metadata": {
    "lang": "fr"
   },
   "source": [
    "Étant donné que les graphiques générés par Altair ne sont pas que des\n",
    "images statiques, l'information générée est parfois très lourde et\n",
    "elle s'accumule dans le notebook s'il y a plusieurs graphiques.\n",
    "Néanmoins, pour contourner la limite de 5000 rangées dans le DataFrame\n",
    "de données, on peut désactiver cette limite, à nos risques."
   ]
  },
  {
   "cell_type": "markdown",
   "id": "87a40b97-54a7-48cb-b24e-23ae808f6a3a",
   "metadata": {
    "lang": "en"
   },
   "source": [
    "Because the graphics generated by Altair are not just static\n",
    "images, the generated information can be quite heavy and\n",
    "it accumulates if there are multiple plots in a notebook.\n",
    "By default, Altair processes DataFrames of up to 5000 records,\n",
    "but we can disable that limit to our own risks."
   ]
  },
  {
   "cell_type": "code",
   "execution_count": null,
   "id": "6fda5a57-edd5-4b97-982e-4f41d2858abd",
   "metadata": {
    "lang": "en,fr"
   },
   "outputs": [],
   "source": [
    "alt.data_transformers.disable_max_rows()"
   ]
  },
  {
   "cell_type": "markdown",
   "id": "1820a9ec-b34d-41ff-9079-f862c093edee",
   "metadata": {
    "lang": "fr"
   },
   "source": [
    "## Générer des graphiques avec `altair`\n",
    "Les graphiques `altair` sont construits étape par étape à partir\n",
    "d'un objet de type `Chart`:\n",
    "* **Création du graphique** - La première méthode obligatoire débute\n",
    "  par `mark_`. Par exemple, `mark_point()`.\n",
    "  À ce stade, c'est normal que tout soit concentré en un point."
   ]
  },
  {
   "cell_type": "markdown",
   "id": "b3b8bd1e-29d1-4127-a541-464ae214d2f5",
   "metadata": {
    "lang": "en"
   },
   "source": [
    "## Plotting with `altair`\n",
    "`altair` graphics are built step by step from\n",
    "a `Chart` object constructed with a DataFrame:\n",
    "* **Choosing the type of graphic** -\n",
    "  The first mandatory method starts with `mark_`.\n",
    "  For example, `mark_point()`.\n",
    "  By default, all points are overlapping and this is normal."
   ]
  },
  {
   "cell_type": "code",
   "execution_count": null,
   "id": "4bf487ea-c644-4c00-a0e4-6a32d4a50f68",
   "metadata": {
    "lang": "fr"
   },
   "outputs": [],
   "source": [
    "# Création de l'objet Chart et choix du type de graphique\n",
    "alt.Chart(surveys_complet).mark_point()"
   ]
  },
  {
   "cell_type": "code",
   "execution_count": null,
   "id": "3df9870c-6ae0-41f6-94e4-ceb2b7469d30",
   "metadata": {
    "lang": "en"
   },
   "outputs": [],
   "source": [
    "# New Chart object and choice of type of graphic\n",
    "alt.Chart(surveys_complete).mark_point()"
   ]
  },
  {
   "cell_type": "markdown",
   "id": "85969e9f-d7cd-4514-a312-2ac9869df8e9",
   "metadata": {
    "lang": "fr"
   },
   "source": [
    "* **Encodage des canaux** - La prochaine étape consiste à\n",
    "  [encoder](https://altair-viz.github.io/user_guide/encodings/)\n",
    "  des canaux liant certaines variables du DataFrame à divers éléments\n",
    "  du graphiques. Les principaux paramètres de `encode()` sont :\n",
    "  `x`, `y`, `color`, `shape` et `size`."
   ]
  },
  {
   "cell_type": "markdown",
   "id": "b1bdf4e1-4bd5-4164-bb96-4227b5b75a81",
   "metadata": {
    "lang": "en"
   },
   "source": [
    "* **Encoding channels** - Then we need to\n",
    "  [encode channels](https://altair-viz.github.io/user_guide/encodings/)\n",
    "  that are linking some fields of the DataFrame to elements\n",
    "  of the graphic. The main parameters of `encode()` are:\n",
    "  `x`, `y`, `color`, `shape` and `size`."
   ]
  },
  {
   "cell_type": "code",
   "execution_count": null,
   "id": "a4e8f5e4-a401-4640-aab7-3c9a344fbd26",
   "metadata": {
    "lang": "fr"
   },
   "outputs": [],
   "source": [
    "# Définition des axes ; les points prennent leur position\n",
    "alt.Chart(surveys_complet).mark_point().encode(\n",
    "    x=alt.X('hindfoot_length'),\n",
    "    y=alt.Y('weight'),\n",
    ")"
   ]
  },
  {
   "cell_type": "code",
   "execution_count": null,
   "id": "7209d12a-b583-42a8-9a3a-1141477ab150",
   "metadata": {
    "lang": "en"
   },
   "outputs": [],
   "source": [
    "# Once the axises are defined, the points take their position\n",
    "alt.Chart(surveys_complete).mark_point().encode(\n",
    "    x=alt.X('hindfoot_length'),\n",
    "    y=alt.Y('weight'),\n",
    ")"
   ]
  },
  {
   "cell_type": "markdown",
   "id": "c8bd1850-bae4-409c-a519-82a6a4091760",
   "metadata": {
    "lang": "fr"
   },
   "source": [
    "* **Navigation interactive** - On peut ensuite rendre le graphique\n",
    "  interactif, ce qui permet de naviguer dans le graphique à l'aide\n",
    "  de la souris."
   ]
  },
  {
   "cell_type": "markdown",
   "id": "47673458-5327-4c14-9cd0-82fc4a6d5007",
   "metadata": {
    "lang": "en"
   },
   "source": [
    "* **Interactive navigation** - When a chart is made _interactive_,\n",
    "  it allows to zoom in & out, and to drag the graphic with the mouse."
   ]
  },
  {
   "cell_type": "code",
   "execution_count": null,
   "id": "f4a577ab-9f84-4bed-93bd-9dc8c60937ae",
   "metadata": {
    "lang": "fr"
   },
   "outputs": [],
   "source": [
    "# Permettre les interactions avec la souris\n",
    "alt.Chart(surveys_complet).mark_point().encode(\n",
    "    x=alt.X('hindfoot_length'),\n",
    "    y=alt.Y('weight'),\n",
    ").interactive()"
   ]
  },
  {
   "cell_type": "code",
   "execution_count": null,
   "id": "b151409a-b92e-43b1-bc51-7e1362a8cd5d",
   "metadata": {
    "lang": "en"
   },
   "outputs": [],
   "source": [
    "# Enable interactions with the mouse\n",
    "alt.Chart(surveys_complete).mark_point().encode(\n",
    "    x=alt.X('hindfoot_length'),\n",
    "    y=alt.Y('weight'),\n",
    ").interactive()"
   ]
  },
  {
   "cell_type": "code",
   "execution_count": null,
   "id": "7ad67a32-51c6-4820-a947-dfcd1b2f0911",
   "metadata": {
    "lang": "fr"
   },
   "outputs": [],
   "source": [
    "# Ajouter du bruit aux longueurs et aux poids\n",
    "N = len(surveys_complet)\n",
    "surveys_complet['longueur_bruitee'] = (\n",
    "    surveys_complet['hindfoot_length'] + np.random.uniform(-0.5, 0.5, N)\n",
    ")\n",
    "surveys_complet['poids_bruite'] = (\n",
    "    surveys_complet['weight'] + np.random.uniform(-0.5, 0.5, N)\n",
    ")\n",
    "surveys_complet.columns"
   ]
  },
  {
   "cell_type": "code",
   "execution_count": null,
   "id": "d2826a0c-a260-40f8-80c6-768c0cee59e7",
   "metadata": {
    "lang": "en"
   },
   "outputs": [],
   "source": [
    "# Let's add some noise to the points' coordinates\n",
    "N = len(surveys_complete)\n",
    "surveys_complete['noisy_length'] = (\n",
    "    surveys_complete['hindfoot_length'] + np.random.uniform(-0.5, 0.5, N)\n",
    ")\n",
    "surveys_complete['noisy_weight'] = (\n",
    "    surveys_complete['weight'] + np.random.uniform(-0.5, 0.5, N)\n",
    ")\n",
    "surveys_complete.columns"
   ]
  },
  {
   "cell_type": "markdown",
   "id": "37f81aca-74dd-4bf7-aa96-585d7f6c66a9",
   "metadata": {
    "lang": "fr"
   },
   "source": [
    "* **Affichage interactif des valeurs** - Encoder le canal `tooltip`\n",
    "  avec une liste de variables à afficher au passage de la souris."
   ]
  },
  {
   "cell_type": "markdown",
   "id": "938a9e07-a8fe-49d4-abf5-bcc3f88637f5",
   "metadata": {
    "lang": "en"
   },
   "source": [
    "* **Having values displayed interactively** -\n",
    "  Encode the `tooltip` channel with a list of\n",
    "  fields to display when moving the mouse pointer."
   ]
  },
  {
   "cell_type": "code",
   "execution_count": null,
   "id": "1103b080-f795-418a-9881-c11f1ef69de1",
   "metadata": {
    "lang": "fr"
   },
   "outputs": [],
   "source": [
    "# Permettre de voir les valeurs associées aux points\n",
    "graphique = alt.Chart(surveys_complet).mark_point().encode(\n",
    "    x=alt.X('longueur_bruitee'),\n",
    "    y=alt.Y('poids_bruite'),\n",
    "    tooltip=['plot_id', 'species_id', 'hindfoot_length', 'weight'],\n",
    ")\n",
    "graphique"
   ]
  },
  {
   "cell_type": "code",
   "execution_count": null,
   "id": "65a62668-f6e8-4de2-8869-31ca35ec9f13",
   "metadata": {
    "lang": "en"
   },
   "outputs": [],
   "source": [
    "# Display values of selected fields when moving the mouse\n",
    "graphique = alt.Chart(surveys_complete).mark_point().encode(\n",
    "    x=alt.X('noisy_length'),\n",
    "    y=alt.Y('noisy_weight'),\n",
    "    tooltip=['plot_id', 'species_id', 'hindfoot_length', 'weight'],\n",
    ")\n",
    "graphique"
   ]
  },
  {
   "cell_type": "markdown",
   "id": "514affec-c983-47c6-ac65-9b0edfa45798",
   "metadata": {
    "lang": "fr"
   },
   "source": [
    "* **Sauvegarde du graphique** - C'est possible de le sauvegarder dans le format de notre choix."
   ]
  },
  {
   "cell_type": "markdown",
   "id": "4c36a5ca-700e-4165-8622-3795c65e4f36",
   "metadata": {
    "lang": "en"
   },
   "source": [
    "* **Saving the figure** -\n",
    "  It is possible to save the chart in the format of our choice."
   ]
  },
  {
   "cell_type": "code",
   "execution_count": null,
   "id": "97639209-e70a-4331-8258-d4c0e89234f9",
   "metadata": {
    "lang": "fr"
   },
   "outputs": [],
   "source": [
    "graphique.save('poids_longueur.html')"
   ]
  },
  {
   "cell_type": "code",
   "execution_count": null,
   "id": "bb47d0fc-1d97-48f1-bc75-70f8074b7ab0",
   "metadata": {
    "lang": "en"
   },
   "outputs": [],
   "source": [
    "graphique.save('weight_length.html')"
   ]
  },
  {
   "cell_type": "code",
   "execution_count": null,
   "id": "af2cdd20-5d82-43e6-a80f-d68b43cd4b61",
   "metadata": {
    "lang": "fr"
   },
   "outputs": [],
   "source": [
    "try:\n",
    "    graphique.save('poids_longueur.png')\n",
    "except BaseException as err:\n",
    "    print('Erreur:', err)\n",
    "    print('-> Il vaut mieux utiliser le bouton (•••)')"
   ]
  },
  {
   "cell_type": "code",
   "execution_count": null,
   "id": "b4feee29-844c-48bd-bace-17cb10e412ac",
   "metadata": {
    "lang": "en"
   },
   "outputs": [],
   "source": [
    "try:\n",
    "    graphique.save('weight_length.png')\n",
    "except BaseException as err:\n",
    "    print('Error:', err)\n",
    "    print('-> We better use the (•••) button')"
   ]
  },
  {
   "cell_type": "markdown",
   "id": "6185f118-d9c3-4bae-b8a1-df200475b7d7",
   "metadata": {
    "lang": "fr"
   },
   "source": [
    "### Exercice - Créer un histogramme\n",
    "À partir du DataFrame `surveys_complet`, faites afficher le\n",
    "décompte du nombre d'enregistrements pour chaque `plot_id`. Instructions :\n",
    "* Utilisez\n",
    "  [`mark_bar()`](https://altair-viz.github.io/gallery/simple_bar_chart.html)\n",
    "  pour générer\n",
    "  [l'histogramme](https://altair-viz.github.io/gallery/simple_histogram.html)\n",
    "* Sur l'axe horizontal, spécifiez la variable `'plot_id'` et le\n",
    "  [type `'ordinal'`](https://altair-viz.github.io/user_guide/encodings/#encoding-data-types)\n",
    "* Sur l'axe vertical, spécifiez `'count()'` comme variable pour que\n",
    "  Altair fasse automatiquement le décompte, ce qui évite de passer\n",
    "  par la méthode `groupby()` du DataFrame"
   ]
  },
  {
   "cell_type": "markdown",
   "id": "450ea28d-4f45-4b8f-b228-4da1ab057266",
   "metadata": {
    "lang": "en"
   },
   "source": [
    "### Exercise - Create an histogram\n",
    "From the `surveys_complete` DataFrame, create an histogram that\n",
    "shows the count of records for each `plot_id`. Instructions:\n",
    "* Use\n",
    "  [`mark_bar()`](https://altair-viz.github.io/gallery/simple_bar_chart.html)\n",
    "  to generate the\n",
    "  [histogram](https://altair-viz.github.io/gallery/simple_histogram.html)\n",
    "* For the X axis, specify the `'plot_id'` field and the\n",
    "  [`'ordinal'` type](https://altair-viz.github.io/user_guide/encodings/#encoding-data-types)\n",
    "* For the Y axis, specify `'count()'` as a temporary field computed\n",
    "  automatically by Altair, which saves us from using `groupby()`"
   ]
  },
  {
   "cell_type": "code",
   "execution_count": null,
   "id": "2c981ddf-5aa1-4f75-a526-b854aba71108",
   "metadata": {
    "lang": "fr",
    "tags": [
     "soln"
    ]
   },
   "outputs": [],
   "source": [
    "alt.Chart(surveys_complet).mark_bar().encode(\n",
    "    x=alt.X('plot_id').type('ordinal'),\n",
    "    y=alt.Y('count()'),\n",
    ")"
   ]
  },
  {
   "cell_type": "code",
   "execution_count": null,
   "id": "32fa3b01-41b3-4fc4-9977-3acfaf9c1bcb",
   "metadata": {
    "lang": "fr",
    "tags": [
     "exer"
    ]
   },
   "outputs": [],
   "source": [
    "###(surveys_complet)###\n",
    "    ###('plot_id').type('ordinal'),\n",
    "    ###('count()'),\n",
    ")"
   ]
  },
  {
   "cell_type": "code",
   "execution_count": null,
   "id": "858419e3-9bba-4cbf-a167-b20945784565",
   "metadata": {
    "lang": "en",
    "tags": [
     "soln"
    ]
   },
   "outputs": [],
   "source": [
    "alt.Chart(surveys_complete).mark_bar().encode(\n",
    "    x=alt.X('plot_id').type('ordinal'),\n",
    "    y=alt.Y('count()'),\n",
    ")"
   ]
  },
  {
   "cell_type": "code",
   "execution_count": null,
   "id": "5bd99e3a-10eb-4d77-af33-7e36dfdb80c0",
   "metadata": {
    "lang": "en",
    "tags": [
     "exer"
    ]
   },
   "outputs": [],
   "source": [
    "###(surveys_complete)###\n",
    "    ###('plot_id').type('ordinal'),\n",
    "    ###('count()'),\n",
    ")"
   ]
  },
  {
   "cell_type": "markdown",
   "id": "cc3bf89e-5a1e-42f6-a62f-4ed637ad78f7",
   "metadata": {
    "lang": "fr"
   },
   "source": [
    "## Construire un graphique par étapes\n",
    "Rappel : les éléments de base de tout graphique Altair sont\n",
    "le `Chart()` avec le DataFrame, un type de graphique `mark_*()`\n",
    "et des variables utilisées dans `encode()`.\n",
    "\n",
    "* Ensuite, on commence à modifier le graphique pour en extraire\n",
    "  davantage d'information. Par exemple, avec de la transparence :"
   ]
  },
  {
   "cell_type": "markdown",
   "id": "2ec9ffb2-3a39-4a50-84bb-1ac373bfe456",
   "metadata": {
    "lang": "en"
   },
   "source": [
    "## Building your plots iteratively\n",
    "Reminder: every Altair graphics are `Chart()`\n",
    "objects constructed with a DataFrame.\n",
    "Then, a `mark_*()` method is called to specify the\n",
    "type of graphic, and some data fields are assigned\n",
    "to encoding channels via the `encode()` method.\n",
    "\n",
    "* We can then modify the graphic in order to display more information.\n",
    "  For example, with transparency:"
   ]
  },
  {
   "cell_type": "code",
   "execution_count": null,
   "id": "122caa5d-e1a8-4b01-bb7b-f86b389aed56",
   "metadata": {
    "lang": "fr"
   },
   "outputs": [],
   "source": [
    "alt.Chart(surveys_complet).mark_point().encode(\n",
    "    x=alt.X('longueur_bruitee'),\n",
    "    y=alt.Y('poids_bruite'),\n",
    ").configure_mark(\n",
    "    opacity=0.05,\n",
    ")"
   ]
  },
  {
   "cell_type": "code",
   "execution_count": null,
   "id": "f2c170d6-651a-449d-bf2a-a34db8eebba3",
   "metadata": {
    "lang": "en"
   },
   "outputs": [],
   "source": [
    "alt.Chart(surveys_complete).mark_point().encode(\n",
    "    x=alt.X('noisy_length'),\n",
    "    y=alt.Y('noisy_weight'),\n",
    ").configure_mark(\n",
    "    opacity=0.05,\n",
    ")"
   ]
  },
  {
   "cell_type": "markdown",
   "id": "11d6bafa-7fb7-4b57-b04a-9b9ab27594ac",
   "metadata": {
    "lang": "fr"
   },
   "source": [
    "* Pour avoir une couleur différente pour chaque type d'espèce,\n",
    "  il faut lier la variable `species_id` au canal `color` :"
   ]
  },
  {
   "cell_type": "markdown",
   "id": "ae0b5509-15c2-4e68-a55d-2da249ce3df8",
   "metadata": {
    "lang": "en"
   },
   "source": [
    "* To get a unique color per species, we need to encode\n",
    "  the `species_id` field to the `color` channel:"
   ]
  },
  {
   "cell_type": "code",
   "execution_count": null,
   "id": "6f1e67ce-211a-4ac7-bf58-beb09127914b",
   "metadata": {
    "lang": "fr"
   },
   "outputs": [],
   "source": [
    "alt.Chart(surveys_complet).mark_point().encode(\n",
    "    x=alt.X('longueur_bruitee'),\n",
    "    y=alt.Y('poids_bruite'),\n",
    "    color=alt.Color('species_id'),\n",
    ").configure_mark(\n",
    "    opacity=0.05,\n",
    ")"
   ]
  },
  {
   "cell_type": "code",
   "execution_count": null,
   "id": "909c76be-cdb9-4aa9-bb48-7b7576ca1d79",
   "metadata": {
    "lang": "en"
   },
   "outputs": [],
   "source": [
    "alt.Chart(surveys_complete).mark_point().encode(\n",
    "    x=alt.X('noisy_length'),\n",
    "    y=alt.Y('noisy_weight'),\n",
    "    color=alt.Color('species_id'),\n",
    ").configure_mark(\n",
    "    opacity=0.05,\n",
    ")"
   ]
  },
  {
   "cell_type": "markdown",
   "id": "b4eb4080-c181-4709-a949-8725603d90a8",
   "metadata": {
    "lang": "fr"
   },
   "source": [
    "* Étant donné la similarité de certaines couleurs, on peut ensuite\n",
    "  activer les `tooltip` avec les identifiants de `species_id` :"
   ]
  },
  {
   "cell_type": "markdown",
   "id": "b82bc94d-1f3c-481e-b36f-fc7f75182deb",
   "metadata": {
    "lang": "en"
   },
   "source": [
    "* Because the colors are reused for multiple species, we\n",
    "  better activate the `tooltip` channel with `species_id`:"
   ]
  },
  {
   "cell_type": "code",
   "execution_count": null,
   "id": "67954c84-dd4d-4965-8c57-c1cee5583153",
   "metadata": {
    "lang": "fr"
   },
   "outputs": [],
   "source": [
    "alt.Chart(surveys_complet).mark_point().encode(\n",
    "    x=alt.X('longueur_bruitee'),\n",
    "    y=alt.Y('poids_bruite'),\n",
    "    color=alt.Color('species_id'),\n",
    "    tooltip=['species_id'],\n",
    ").configure_mark(\n",
    "    opacity=0.05,\n",
    ")"
   ]
  },
  {
   "cell_type": "code",
   "execution_count": null,
   "id": "a5dc6329-2e1d-46f6-a9ae-8a92b3ef4a11",
   "metadata": {
    "lang": "en"
   },
   "outputs": [],
   "source": [
    "alt.Chart(surveys_complete).mark_point().encode(\n",
    "    x=alt.X('noisy_length'),\n",
    "    y=alt.Y('noisy_weight'),\n",
    "    color=alt.Color('species_id'),\n",
    "    tooltip=['species_id'],\n",
    ").configure_mark(\n",
    "    opacity=0.05,\n",
    ")"
   ]
  },
  {
   "cell_type": "markdown",
   "id": "ce0a062c-3f3c-4460-b023-f1b4407fef01",
   "metadata": {
    "lang": "fr"
   },
   "source": [
    "* Utiliser une échelle verticale semi-log :"
   ]
  },
  {
   "cell_type": "markdown",
   "id": "19755938-b60f-42e1-97e2-91a75386d083",
   "metadata": {
    "lang": "en"
   },
   "source": [
    "* The Y axis can be configured with a logarithmic scale:"
   ]
  },
  {
   "cell_type": "code",
   "execution_count": null,
   "id": "90db3714-0fd5-4c1d-a585-e091df442431",
   "metadata": {
    "lang": "fr"
   },
   "outputs": [],
   "source": [
    "alt.Chart(surveys_complet).mark_point().encode(\n",
    "    x=alt.X('longueur_bruitee'),\n",
    "    y=alt.Y('poids_bruite').scale(type='log', base=2),\n",
    "    color=alt.Color('species_id'),\n",
    "    tooltip=['species_id'],\n",
    ").configure_mark(\n",
    "    opacity=0.05,\n",
    ").properties(\n",
    "    height=384,\n",
    ")"
   ]
  },
  {
   "cell_type": "code",
   "execution_count": null,
   "id": "3fdcff3d-4b99-4863-8978-ca7a42bb9e6b",
   "metadata": {
    "lang": "en"
   },
   "outputs": [],
   "source": [
    "alt.Chart(surveys_complete).mark_point().encode(\n",
    "    x=alt.X('noisy_length'),\n",
    "    y=alt.Y('noisy_weight').scale(type='log', base=2),\n",
    "    color=alt.Color('species_id'),\n",
    "    tooltip=['species_id'],\n",
    ").configure_mark(\n",
    "    opacity=0.05,\n",
    ").properties(\n",
    "    height=384,\n",
    ")"
   ]
  },
  {
   "cell_type": "markdown",
   "id": "78548080-4047-4f66-9c29-379e977acebe",
   "metadata": {
    "lang": "fr"
   },
   "source": [
    "* Modifier le nom des axes :"
   ]
  },
  {
   "cell_type": "markdown",
   "id": "82f86beb-e7f5-42dd-a00d-1213b9c97dee",
   "metadata": {
    "lang": "en"
   },
   "source": [
    "* The title and axis labels can be set:"
   ]
  },
  {
   "cell_type": "code",
   "execution_count": null,
   "id": "7e06c50d-b6c5-448c-8a6a-80232af2c9b8",
   "metadata": {
    "lang": "fr"
   },
   "outputs": [],
   "source": [
    "alt.Chart(surveys_complet).mark_point().encode(\n",
    "    x=alt.X('longueur_bruitee').title('Longueur de patte (mm)'),\n",
    "    y=alt.Y('poids_bruite').scale(type='log', base=2).title('Poids (g)'),\n",
    "    color=alt.Color('species_id'),\n",
    "    tooltip=['species_id'],\n",
    ").configure_mark(\n",
    "    opacity=0.05,\n",
    ").properties(\n",
    "    height=384,\n",
    "    title='Poids selon la longueur de patte',\n",
    ")"
   ]
  },
  {
   "cell_type": "code",
   "execution_count": null,
   "id": "1fe15e0a-f2ee-4e67-a5c4-10819aced3ee",
   "metadata": {
    "lang": "en"
   },
   "outputs": [],
   "source": [
    "alt.Chart(surveys_complete).mark_point().encode(\n",
    "    x=alt.X('noisy_length').title('Hindfoot length (mm)'),\n",
    "    y=alt.Y('noisy_weight').scale(type='log', base=2).title('Weight (g)'),\n",
    "    color=alt.Color('species_id'),\n",
    "    tooltip=['species_id'],\n",
    ").configure_mark(\n",
    "    opacity=0.05,\n",
    ").properties(\n",
    "    height=384,\n",
    "    title='Weight by the hindfoot length',\n",
    ")"
   ]
  },
  {
   "cell_type": "markdown",
   "id": "9a0a41e1-e2aa-4c86-ba65-08c187ad9497",
   "metadata": {
    "lang": "fr"
   },
   "source": [
    "### Exercice - Enrichir l'histogramme\n",
    "Adaptez l'histogramme de l'exercice précédent en associant la variable\n",
    "`sex` à une échelle de couleurs spécifique :\n",
    "* L'encodage du canal `color` doit donc se faire avec la variable\n",
    "  `'sex'`. La méthode `.scale()` permet ensuite d'associer les valeurs\n",
    "  de domaine `'F'` et `'M'` aux couleurs `'orange'` et `'green'`.\n",
    "  Voir [un exemple ici](https://altair-viz.github.io/user_guide/customization.html#color-domain-and-range)\n",
    "* Activez le canal `tooltip` avec `'count()'` pour avoir le décompte\n",
    "  par sexe"
   ]
  },
  {
   "cell_type": "markdown",
   "id": "c66de045-4222-4215-9c32-ee0775204407",
   "metadata": {
    "lang": "en"
   },
   "source": [
    "### Exercise - Enrich the histogram\n",
    "Modify the histogram from the previous exercise by\n",
    "encoding the `sex` field to a specific color scale:\n",
    "* The `'sex'` field must be encoded to the `color` channel.\n",
    "  The `.scale()` method can then associate domain values `'F'`\n",
    "  and `'M'` to colors `'orange'` and `'green'`, respectively.\n",
    "  See [an example here](https://altair-viz.github.io/user_guide/customization.html#color-domain-and-range)\n",
    "* Activate the `tooltip` channel with\n",
    "  `'count()'` in order to get the count by sex"
   ]
  },
  {
   "cell_type": "code",
   "execution_count": null,
   "id": "c3adb2cc-8e98-4bc3-a295-ca5915fe3359",
   "metadata": {
    "lang": "fr",
    "tags": [
     "soln"
    ]
   },
   "outputs": [],
   "source": [
    "alt.Chart(surveys_complet).mark_bar().encode(\n",
    "    x=alt.X('plot_id').type('ordinal'),\n",
    "    y=alt.Y('count()'),\n",
    "    color=alt.Color('sex').scale(\n",
    "        domain=['F', 'M'],\n",
    "        range=['orange', 'green'],\n",
    "    ),\n",
    "    tooltip=['count()'],\n",
    ")"
   ]
  },
  {
   "cell_type": "code",
   "execution_count": null,
   "id": "6f12f493-dbbf-472d-aa0d-600e0dcb9dc3",
   "metadata": {
    "lang": "fr",
    "tags": [
     "exer"
    ]
   },
   "outputs": [],
   "source": [
    "alt.Chart(surveys_complet).mark_bar().encode(\n",
    "    x=alt.X('plot_id').type('ordinal'),\n",
    "    y=alt.Y('count()'),\n",
    "    color=alt.###(###).scale(\n",
    "        ###=['F', 'M'],\n",
    "        ###=['orange', 'green'],\n",
    "    ),\n",
    "    ###['count()'],\n",
    ")"
   ]
  },
  {
   "cell_type": "code",
   "execution_count": null,
   "id": "ff021243-b321-415a-a997-16e7a6ec7c5a",
   "metadata": {
    "lang": "en",
    "tags": [
     "soln"
    ]
   },
   "outputs": [],
   "source": [
    "alt.Chart(surveys_complete).mark_bar().encode(\n",
    "    x=alt.X('plot_id').type('ordinal'),\n",
    "    y=alt.Y('count()'),\n",
    "    color=alt.Color('sex').scale(\n",
    "        domain=['F', 'M'],\n",
    "        range=['orange', 'green'],\n",
    "    ),\n",
    "    tooltip=['count()'],\n",
    ")"
   ]
  },
  {
   "cell_type": "code",
   "execution_count": null,
   "id": "ab238160-c451-48a9-9bff-b52e997f518e",
   "metadata": {
    "lang": "en",
    "tags": [
     "exer"
    ]
   },
   "outputs": [],
   "source": [
    "alt.Chart(surveys_complete).mark_bar().encode(\n",
    "    x=alt.X('plot_id').type('ordinal'),\n",
    "    y=alt.Y('count()'),\n",
    "    color=alt.###(###).scale(\n",
    "        ###=['F', 'M'],\n",
    "        ###=['orange', 'green'],\n",
    "    ),\n",
    "    ###['count()'],\n",
    ")"
   ]
  },
  {
   "cell_type": "markdown",
   "id": "9e48a84b-897d-4a6a-8882-a15326c6215a",
   "metadata": {
    "lang": "fr"
   },
   "source": [
    "## Visualiser des données selon le temps\n",
    "* Nombre d'enregistrements par type d'espèce pour chaque année :"
   ]
  },
  {
   "cell_type": "markdown",
   "id": "cadd629c-3788-447d-9e2f-925d0f48084a",
   "metadata": {
    "lang": "en"
   },
   "source": [
    "## Plotting time series data\n",
    "* Let’s visualize the number of records per year for each species"
   ]
  },
  {
   "cell_type": "code",
   "execution_count": null,
   "id": "6e2bab8f-1975-4f60-8f1f-928a7408e723",
   "metadata": {
    "lang": "fr"
   },
   "outputs": [],
   "source": [
    "alt.Chart(surveys_complet).mark_line().encode(\n",
    "    x=alt.X('year').type('ordinal'),\n",
    "    y=alt.Y('count()').scale(type='log', base=2),\n",
    "    color=alt.Color('species_id'),\n",
    ")"
   ]
  },
  {
   "cell_type": "code",
   "execution_count": null,
   "id": "f86c683f-d664-41c3-8253-6e84d701879b",
   "metadata": {
    "lang": "en"
   },
   "outputs": [],
   "source": [
    "alt.Chart(surveys_complete).mark_line().encode(\n",
    "    x=alt.X('year').type('ordinal'),\n",
    "    y=alt.Y('count()').scale(type='log', base=2),\n",
    "    color=alt.Color('species_id'),\n",
    ")"
   ]
  },
  {
   "cell_type": "markdown",
   "id": "14635c5f-29f8-47c5-b1f7-71c1f9ad7931",
   "metadata": {
    "lang": "fr"
   },
   "source": [
    "* Poids médian par type d'espèce pour chaque mois :"
   ]
  },
  {
   "cell_type": "markdown",
   "id": "70f75c59-230c-4871-b3d4-ad3cafd1e2af",
   "metadata": {
    "lang": "en"
   },
   "source": [
    "* And now, the median weight per month for each species"
   ]
  },
  {
   "cell_type": "code",
   "execution_count": null,
   "id": "f341e448-4aa2-48a2-8668-b5ad6262255c",
   "metadata": {
    "lang": "fr"
   },
   "outputs": [],
   "source": [
    "alt.Chart(surveys_complet).mark_line().encode(\n",
    "    x=alt.X('month').type('ordinal'),\n",
    "    y=alt.Y('weight').aggregate('median'),\n",
    "    color=alt.Color('species_id'),\n",
    "    tooltip=['species_id'],\n",
    ")"
   ]
  },
  {
   "cell_type": "code",
   "execution_count": null,
   "id": "7e219865-7bc0-47ac-8901-c0e388b71cca",
   "metadata": {
    "lang": "en"
   },
   "outputs": [],
   "source": [
    "alt.Chart(surveys_complete).mark_line().encode(\n",
    "    x=alt.X('month').type('ordinal'),\n",
    "    y=alt.Y('weight').aggregate('median'),\n",
    "    color=alt.Color('species_id'),\n",
    "    tooltip=['species_id'],\n",
    ")"
   ]
  },
  {
   "cell_type": "markdown",
   "id": "e03d0557-db3e-42eb-9390-52255dcab73d",
   "metadata": {
    "lang": "fr"
   },
   "source": [
    "### Exercice - Visualisation selon le temps\n",
    "`1`. Utilisez la fonction `pd.to_datetime()` pour générer une colonne\n",
    "     de dates à partir des colonnes `year`, `month` et `day`."
   ]
  },
  {
   "cell_type": "markdown",
   "id": "a4e78289-c8f2-467e-9a01-7367d5041ba1",
   "metadata": {
    "lang": "en"
   },
   "source": [
    "### Exercise - Plotting time series data\n",
    "`1`. Use the `pd.to_datetime()` function to generate a new\n",
    "`date` column from the columns `year`, `month` and `day`."
   ]
  },
  {
   "cell_type": "code",
   "execution_count": null,
   "id": "5e3e25ef-da8a-4343-bafb-682d7dae3d4a",
   "metadata": {
    "lang": "fr",
    "tags": [
     "soln"
    ]
   },
   "outputs": [],
   "source": [
    "# Décennie 1990 - pour éviter avril et septembre 2000\n",
    "dec_1990 = surveys_complet[\n",
    "    surveys_complet['year'] // 10 == 199].copy()\n",
    "\n",
    "dec_1990['date'] = pd.to_datetime(dec_1990[['year', 'month', 'day']])\n",
    "dec_1990['date']"
   ]
  },
  {
   "cell_type": "code",
   "execution_count": null,
   "id": "85e2a329-9a48-42f4-ad4f-2c2b1ded1486",
   "metadata": {
    "lang": "fr",
    "tags": [
     "exer"
    ]
   },
   "outputs": [],
   "source": [
    "# Décennie 1990 - pour éviter avril et septembre 2000\n",
    "dec_1990 = surveys_complet[\n",
    "    surveys_complet['year'] // 10 == 199].copy()\n",
    "\n",
    "dec_1990['date'] = ###['year', 'month', 'day']###\n",
    "dec_1990['date']"
   ]
  },
  {
   "cell_type": "code",
   "execution_count": null,
   "id": "09dcd1d9-4e87-4b63-9cb3-76351c58dd1d",
   "metadata": {
    "lang": "en",
    "tags": [
     "soln"
    ]
   },
   "outputs": [],
   "source": [
    "# Decade 1990 - to avoid April and September 2000\n",
    "dec_1990 = surveys_complete[\n",
    "    surveys_complete['year'] // 10 == 199].copy()\n",
    "\n",
    "dec_1990['date'] = pd.to_datetime(dec_1990[['year', 'month', 'day']])\n",
    "dec_1990['date']"
   ]
  },
  {
   "cell_type": "code",
   "execution_count": null,
   "id": "337287ca-bf13-4733-86e2-b066a935c774",
   "metadata": {
    "lang": "en",
    "tags": [
     "exer"
    ]
   },
   "outputs": [],
   "source": [
    "# Decade 1990 - to avoid April and September 2000\n",
    "dec_1990 = surveys_complete[\n",
    "    surveys_complete['year'] // 10 == 199].copy()\n",
    "\n",
    "dec_1990['date'] = ###['year', 'month', 'day']###\n",
    "dec_1990['date']"
   ]
  },
  {
   "cell_type": "markdown",
   "id": "0e952ee4-348c-4128-8b82-449bebbd6e13",
   "metadata": {
    "lang": "fr"
   },
   "source": [
    "`2`. Affichez le poids médian de chaque espèce selon la `date`."
   ]
  },
  {
   "cell_type": "markdown",
   "id": "c3e378fd-8944-4a58-b9c7-e6185903bfae",
   "metadata": {
    "lang": "en"
   },
   "source": [
    "`2`. Visualize the median weight of each species by the `date`."
   ]
  },
  {
   "cell_type": "code",
   "execution_count": null,
   "id": "04d5b012-b557-402a-87b2-ec9fdca68efe",
   "metadata": {
    "lang": "en,fr",
    "tags": [
     "soln"
    ]
   },
   "outputs": [],
   "source": [
    "alt.Chart(dec_1990).mark_line().encode(\n",
    "    x=alt.X('date'),\n",
    "    y=alt.Y('weight').aggregate('median'),\n",
    "    color=alt.Color('species_id'),\n",
    "    tooltip=['species_id', 'date'],\n",
    ")"
   ]
  },
  {
   "cell_type": "code",
   "execution_count": null,
   "id": "6d268b1e-065b-493b-8f59-7a48ce4b1e8e",
   "metadata": {
    "lang": "en,fr",
    "tags": [
     "exer"
    ]
   },
   "outputs": [],
   "source": [
    "alt.Chart(###).mark_line().encode(\n",
    "    x=alt.X(###),\n",
    "    y=alt.Y('weight').###('median'),\n",
    "    color=alt.Color('species_id'),\n",
    "    tooltip=['species_id', 'date'],\n",
    ")"
   ]
  },
  {
   "cell_type": "markdown",
   "id": "1e03e448-127f-4dbe-92cc-da821104c6b0",
   "metadata": {
    "lang": "fr"
   },
   "source": [
    "## Création de facettes\n",
    "`altair` a une technique spéciale appelée *création de facettes*\n",
    "permettant de diviser un graphique en plusieurs sous-graphiques\n",
    "selon les valeurs d'une variable.\n",
    "\n",
    "* Avec les différentes valeurs de `sex` :"
   ]
  },
  {
   "cell_type": "markdown",
   "id": "52b83fd8-e90f-47ef-9a15-77425bfde9f6",
   "metadata": {
    "lang": "en"
   },
   "source": [
    "## Faceting\n",
    "`altair` has a special technique called *faceting*\n",
    "that allows to split one plot into multiple plots\n",
    "based on a factor variable included in the dataset.\n",
    "\n",
    "* With the different values of `sex`:"
   ]
  },
  {
   "cell_type": "code",
   "execution_count": null,
   "id": "ec56b654-86c7-4651-b453-722057862b94",
   "metadata": {
    "lang": "fr"
   },
   "outputs": [],
   "source": [
    "alt.Chart(surveys_complet).mark_point().encode(\n",
    "    x=alt.X('longueur_bruitee'),\n",
    "    y=alt.Y('poids_bruite').scale(type='log', base=2),\n",
    "    color=alt.Color('species_id'),\n",
    "    facet=alt.Facet('sex'),\n",
    "    tooltip=['species_id'],\n",
    ").configure_mark(\n",
    "    opacity=0.05,\n",
    ").properties(\n",
    "    width=240,\n",
    "    height=384,\n",
    ")"
   ]
  },
  {
   "cell_type": "code",
   "execution_count": null,
   "id": "ffd1f67c-282e-4047-9951-e61d4fddf82b",
   "metadata": {
    "lang": "en"
   },
   "outputs": [],
   "source": [
    "alt.Chart(surveys_complete).mark_point().encode(\n",
    "    x=alt.X('noisy_length'),\n",
    "    y=alt.Y('noisy_weight').scale(type='log', base=2),\n",
    "    color=alt.Color('species_id'),\n",
    "    facet=alt.Facet('sex'),\n",
    "    tooltip=['species_id'],\n",
    ").configure_mark(\n",
    "    opacity=0.05,\n",
    ").properties(\n",
    "    width=240,\n",
    "    height=384,\n",
    ")"
   ]
  },
  {
   "cell_type": "markdown",
   "id": "9b0c89d9-161e-43b5-9606-3bc895e95573",
   "metadata": {
    "lang": "fr"
   },
   "source": [
    "* Avec les nombreuses valeurs de `plot_id` :"
   ]
  },
  {
   "cell_type": "markdown",
   "id": "6c255b97-01ae-440f-a5cf-3ca02c8b4a4a",
   "metadata": {
    "lang": "en"
   },
   "source": [
    "* With the numerous values of `plot_id`:"
   ]
  },
  {
   "cell_type": "code",
   "execution_count": null,
   "id": "c30e6b92-ac4b-4c12-96eb-83e3f583e893",
   "metadata": {
    "lang": "fr"
   },
   "outputs": [],
   "source": [
    "alt.Chart(surveys_complet).mark_point().encode(\n",
    "    x=alt.X('longueur_bruitee'),\n",
    "    y=alt.Y('poids_bruite').scale(type='log', base=2),\n",
    "    color=alt.Color('species_id'),\n",
    "    facet=alt.Facet('plot_id').columns(5),\n",
    "    tooltip=['species_id'],\n",
    ").configure_mark(\n",
    "    opacity=0.05,\n",
    ").properties(\n",
    "    width=90,\n",
    "    height=60,\n",
    ")"
   ]
  },
  {
   "cell_type": "code",
   "execution_count": null,
   "id": "7d15de99-ece6-4e57-8446-6455f7a8b2eb",
   "metadata": {
    "lang": "en"
   },
   "outputs": [],
   "source": [
    "alt.Chart(surveys_complete).mark_point().encode(\n",
    "    x=alt.X('noisy_length'),\n",
    "    y=alt.Y('noisy_weight').scale(type='log', base=2),\n",
    "    color=alt.Color('species_id'),\n",
    "    facet=alt.Facet('plot_id').columns(5),\n",
    "    tooltip=['species_id'],\n",
    ").configure_mark(\n",
    "    opacity=0.05,\n",
    ").properties(\n",
    "    width=90,\n",
    "    height=60,\n",
    ")"
   ]
  },
  {
   "cell_type": "markdown",
   "id": "ad4c88c8-299a-4861-9f01-1c212b7315ac",
   "metadata": {
    "lang": "fr"
   },
   "source": [
    "* Pour créer une grille de facettes telle qu'une variable change de\n",
    "  valeur d'une rangée à l'autre et qu'une seconde variable change\n",
    "  d'une colonne à l'autre, on utilisera les canaux `row` et `column` :"
   ]
  },
  {
   "cell_type": "markdown",
   "id": "1f90a9f3-745a-42aa-9ab0-64d0a3bb29db",
   "metadata": {
    "lang": "en"
   },
   "source": [
    "* To create a grid of facets such that each row of facets\n",
    "  corresponds to one value of a variable, and each column\n",
    "  of facets corresponds to one value of a second variable,\n",
    "  we use the encoding channels `row` and `column`:"
   ]
  },
  {
   "cell_type": "code",
   "execution_count": null,
   "id": "9ec21330-b17f-46e4-b26d-0578b5d64f1f",
   "metadata": {
    "lang": "fr"
   },
   "outputs": [],
   "source": [
    "# Garder uniquement quelques années\n",
    "surveys2000 = surveys_complet[surveys_complet['year'].isin([2000, 2001, 2002])]\n",
    "\n",
    "alt.Chart(surveys2000).mark_point().encode(\n",
    "    x=alt.X('longueur_bruitee'),\n",
    "    y=alt.Y('poids_bruite').scale(type='log', base=2),\n",
    "    color=alt.Color('species_id'),\n",
    "    row=alt.Row('sex'),\n",
    "    column=alt.Column('year'),\n",
    "    tooltip=['species_id'],\n",
    ").configure_mark(\n",
    "    opacity=0.05,\n",
    ").properties(\n",
    "    width=128,\n",
    "    height=128,\n",
    ")"
   ]
  },
  {
   "cell_type": "code",
   "execution_count": null,
   "id": "ca22c1fc-ddac-48c2-b490-634666e7a0c5",
   "metadata": {
    "lang": "en"
   },
   "outputs": [],
   "source": [
    "# Only keep three years\n",
    "surveys2000 = surveys_complete[surveys_complete['year'].isin([2000, 2001, 2002])]\n",
    "\n",
    "alt.Chart(surveys2000).mark_point().encode(\n",
    "    x=alt.X('noisy_length'),\n",
    "    y=alt.Y('noisy_weight').scale(type='log', base=2),\n",
    "    color=alt.Color('species_id'),\n",
    "    row=alt.Row('sex'),\n",
    "    column=alt.Column('year'),\n",
    "    tooltip=['species_id'],\n",
    ").configure_mark(\n",
    "    opacity=0.05,\n",
    ").properties(\n",
    "    width=128,\n",
    "    height=128,\n",
    ")"
   ]
  },
  {
   "cell_type": "markdown",
   "id": "f127e6ad-c7e1-4e53-9a20-89b42351be76",
   "metadata": {
    "lang": "fr"
   },
   "source": [
    "### Exercice - Facettes\n",
    "* Créez deux facettes selon le `sex`\n",
    "* Chaque facette aura :\n",
    "  * Les années en axe des x\n",
    "  * Le poids moyen en axe des y\n",
    "  * Une courbe de couleur par espèce"
   ]
  },
  {
   "cell_type": "markdown",
   "id": "f025411c-5af1-4e97-baa0-16ffdd32dde2",
   "metadata": {
    "lang": "en"
   },
   "source": [
    "### Exercise - Faceting\n",
    "* Create two facets by the `sex`\n",
    "* Each facet will have:\n",
    "  * Years on the X axis\n",
    "  * The average weight on the Y axis\n",
    "  * One colored line per species"
   ]
  },
  {
   "cell_type": "code",
   "execution_count": null,
   "id": "8bfc2e96-a6e4-4d0d-a9c8-7bede14c19d6",
   "metadata": {
    "lang": "fr",
    "tags": [
     "soln"
    ]
   },
   "outputs": [],
   "source": [
    "alt.Chart(surveys_complet).mark_line().encode(\n",
    "    x=alt.X('year').type('ordinal'),\n",
    "    y=alt.Y('weight').aggregate('mean'),\n",
    "    color=alt.Color('species_id'),\n",
    "    facet=alt.Facet('sex'),\n",
    ").properties(\n",
    "    width=256,\n",
    ")"
   ]
  },
  {
   "cell_type": "code",
   "execution_count": null,
   "id": "46f5e378-dfca-4b89-824e-4e962e038e81",
   "metadata": {
    "lang": "fr",
    "tags": [
     "exer"
    ]
   },
   "outputs": [],
   "source": [
    "alt.Chart(surveys_complet).###().encode(\n",
    "    x=alt.X('year').type###,\n",
    "    y=alt.Y('weight').aggregate###,\n",
    "    color=###,\n",
    "    ###('sex'),\n",
    ").properties(\n",
    "    width=256,\n",
    ")"
   ]
  },
  {
   "cell_type": "code",
   "execution_count": null,
   "id": "5c62ac1c-4029-47f3-ab77-71cb9be704d9",
   "metadata": {
    "lang": "en",
    "tags": [
     "soln"
    ]
   },
   "outputs": [],
   "source": [
    "alt.Chart(surveys_complete).mark_line().encode(\n",
    "    x=alt.X('year').type('ordinal'),\n",
    "    y=alt.Y('weight').aggregate('mean'),\n",
    "    color=alt.Color('species_id'),\n",
    "    facet=alt.Facet('sex'),\n",
    ").properties(\n",
    "    width=256,\n",
    ")"
   ]
  },
  {
   "cell_type": "code",
   "execution_count": null,
   "id": "d308fbb0-514a-449f-8a7e-6fc535523862",
   "metadata": {
    "lang": "en",
    "tags": [
     "exer"
    ]
   },
   "outputs": [],
   "source": [
    "alt.Chart(surveys_complete).###().encode(\n",
    "    x=alt.X('year').type###,\n",
    "    y=alt.Y('weight').aggregate###,\n",
    "    color=###,\n",
    "    ###('sex'),\n",
    ").properties(\n",
    "    width=256,\n",
    ")"
   ]
  },
  {
   "cell_type": "markdown",
   "id": "b93ef28b-bfb8-4ccd-adfb-b8a6573ae97c",
   "metadata": {
    "lang": "fr"
   },
   "source": [
    "## Visualiser des distributions\n",
    "* Tout d'abord, un box-plot peut être utilisé :"
   ]
  },
  {
   "cell_type": "markdown",
   "id": "dfa470af-a226-4e99-8ea9-b9c1a43a001a",
   "metadata": {
    "lang": "en"
   },
   "source": [
    "## Plotting distributions\n",
    "* A boxplot can be used:"
   ]
  },
  {
   "cell_type": "code",
   "execution_count": null,
   "id": "734e2fa7-fd82-4a55-86af-fc5aa63055d3",
   "metadata": {
    "lang": "fr"
   },
   "outputs": [],
   "source": [
    "alt.Chart(surveys_complet).mark_boxplot().encode(\n",
    "    x=alt.X('species_id').title(\"Identifiant d'espèce\"),\n",
    "    y=alt.Y('poids_bruite').scale(type='log', base=2).title('Poids (g)'),\n",
    "    color=alt.Color('species_id').legend(None),\n",
    ")"
   ]
  },
  {
   "cell_type": "code",
   "execution_count": null,
   "id": "f93bfbe1-37cf-4e2f-8225-86ff4f959a59",
   "metadata": {
    "lang": "en"
   },
   "outputs": [],
   "source": [
    "alt.Chart(surveys_complete).mark_boxplot().encode(\n",
    "    x=alt.X('species_id').title('Species identifier'),\n",
    "    y=alt.Y('noisy_weight').scale(type='log', base=2).title('Weight (g)'),\n",
    "    color=alt.Color('species_id').legend(None),\n",
    ")"
   ]
  },
  {
   "cell_type": "markdown",
   "id": "9ce6f9be-7a7e-4933-ae8f-2957bc1957a5",
   "metadata": {
    "lang": "fr"
   },
   "source": [
    "* Des facettes étroites peuvent être utilisées pour afficher\n",
    "  plusieurs nuages de points :"
   ]
  },
  {
   "cell_type": "markdown",
   "id": "a78c409b-036c-49d7-a99e-16172367638a",
   "metadata": {
    "lang": "en"
   },
   "source": [
    "* Narrow facets can be used to display multiple point clouds:"
   ]
  },
  {
   "cell_type": "code",
   "execution_count": null,
   "id": "6548fc7c-75ca-4295-be11-ca7e2e356c05",
   "metadata": {
    "lang": "fr"
   },
   "outputs": [],
   "source": [
    "alt.Chart(surveys_complet).transform_calculate(\n",
    "    bruit='random()-0.5'  # Position horizontale dans la facette\n",
    ").mark_circle(size=4).encode(\n",
    "    x=alt.X('bruit').type('quantitative').axis(None).title(None),\n",
    "    y=alt.Y('poids_bruite').scale(type='log', base=2).title('Poids (g)'),\n",
    "    color=alt.Color('species_id').legend(None),\n",
    "    column=alt.Column('species_id').title('Poids selon les espèces'),\n",
    ").configure_mark(\n",
    "    opacity=0.25,  # Transparence des mark_circle()\n",
    ").configure_facet(\n",
    "    spacing=0,     # Supprimer la marge entre les facettes\n",
    ").configure_view(\n",
    "    stroke=None,   # Enlever la boîte autour des facettes\n",
    ").properties(\n",
    "    width=18,      # Largeur des facettes\n",
    ")"
   ]
  },
  {
   "cell_type": "code",
   "execution_count": null,
   "id": "a7529e10-3992-45f3-90d7-211ae8a07252",
   "metadata": {
    "lang": "en"
   },
   "outputs": [],
   "source": [
    "alt.Chart(surveys_complete).transform_calculate(\n",
    "    noise='random()-0.5'  # Horizontal position in the facet\n",
    ").mark_circle(size=4).encode(\n",
    "    x=alt.X('noise').type('quantitative').axis(None).title(None),\n",
    "    y=alt.Y('noisy_weight').scale(type='log', base=2).title('Weight (g)'),\n",
    "    color=alt.Color('species_id').legend(None),\n",
    "    column=alt.Column('species_id').title('Weights by species'),\n",
    ").configure_mark(\n",
    "    opacity=0.25,  # Opacity factor of mark_circle()\n",
    ").configure_facet(\n",
    "    spacing=0,     # Delete the margin between each facet\n",
    ").configure_view(\n",
    "    stroke=None,   # Remove the box around each facet\n",
    ").properties(\n",
    "    width=18,      # Each facet width\n",
    ")"
   ]
  },
  {
   "cell_type": "markdown",
   "id": "bbf7e8ae-f934-4993-a7a6-923ba45344c9",
   "metadata": {
    "lang": "fr"
   },
   "source": [
    "### Exercice - Distributions\n",
    "Pour cet exercice, on cherche à avoir les vrais noms d'espèce sur\n",
    "l'axe horizontal d'un box-plot.\n",
    "\n",
    "`1`. Recalculez la jonction de gauche entre `surveys_complet` et\n",
    "     le détail des espèces dans `species.csv`."
   ]
  },
  {
   "cell_type": "markdown",
   "id": "f0a2a623-4e98-466b-9a29-39c61ab13194",
   "metadata": {
    "lang": "en"
   },
   "source": [
    "### Exercise - Distributions\n",
    "For this exercise, we want to display the\n",
    "full species names on the X axis of a boxplot.\n",
    "\n",
    "`1`. Compute the left-join of `surveys_complete`\n",
    "and all the species details in `species.csv`."
   ]
  },
  {
   "cell_type": "code",
   "execution_count": null,
   "id": "0deb8d5b-46a3-4af4-b203-730a13202659",
   "metadata": {
    "lang": "fr",
    "tags": [
     "soln"
    ]
   },
   "outputs": [],
   "source": [
    "species_df = pd.read_csv('../data/species.csv')\n",
    "\n",
    "jonc_gauche = pd.merge(\n",
    "    left=surveys_complet, right=species_df,\n",
    "    on='species_id', how='left')\n",
    "\n",
    "jonc_gauche.columns"
   ]
  },
  {
   "cell_type": "code",
   "execution_count": null,
   "id": "a0c1bf74-bc18-40db-9034-beac66ec9892",
   "metadata": {
    "lang": "fr",
    "tags": [
     "exer"
    ]
   },
   "outputs": [],
   "source": [
    "species_df = pd.read_csv('../data/species.csv')\n",
    "\n",
    "jonc_gauche = pd.###(\n",
    "    left=###, right=###,\n",
    "    on=###, how=###)\n",
    "\n",
    "jonc_gauche.columns"
   ]
  },
  {
   "cell_type": "code",
   "execution_count": null,
   "id": "b5f15f2a-b38d-49db-a62b-e77971bb0296",
   "metadata": {
    "lang": "en",
    "tags": [
     "soln"
    ]
   },
   "outputs": [],
   "source": [
    "species_df = pd.read_csv('../data/species.csv')\n",
    "\n",
    "left_join = pd.merge(\n",
    "    left=surveys_complete, right=species_df,\n",
    "    on='species_id', how='left')\n",
    "\n",
    "left_join.columns"
   ]
  },
  {
   "cell_type": "code",
   "execution_count": null,
   "id": "f5d5a2d9-8036-4807-9284-e363e64e5179",
   "metadata": {
    "lang": "en",
    "tags": [
     "exer"
    ]
   },
   "outputs": [],
   "source": [
    "species_df = pd.read_csv('../data/species.csv')\n",
    "\n",
    "left_join = pd.###(\n",
    "    left=###, right=###,\n",
    "    on=###, how=###)\n",
    "\n",
    "left_join.columns"
   ]
  },
  {
   "cell_type": "markdown",
   "id": "3adfc188-9694-4066-9d33-0310bb4792c1",
   "metadata": {
    "lang": "fr"
   },
   "source": [
    "`2`. Créez le box-plot:\n",
    "* Le nom des espèces sur l'axe horizontal, avec l'étiquette \"Espèce\"\n",
    "* Le poids bruité dans l'axe vertical, selon une échelle logarithmique\n",
    "  en base 2 et avec l'étiquette \"Poids (g)\"\n",
    "* Une couleur selon l'identifiant d'espèce\n",
    "* Un titre pour le graphique"
   ]
  },
  {
   "cell_type": "markdown",
   "id": "8526fd03-ede4-4691-9315-e44369e540b6",
   "metadata": {
    "lang": "en"
   },
   "source": [
    "`2`. Create the boxplot:\n",
    "* The full species names on the X axis, with the label \"Species\"\n",
    "* The noisy weights on the Y axis, with a logarithmic\n",
    "  scale in base 2 and with the label \"Weight (g)\"\n",
    "* One color for each species identifier\n",
    "* A title for the graphic"
   ]
  },
  {
   "cell_type": "code",
   "execution_count": null,
   "id": "51662bc7-626e-4e8b-9b0b-711d917158e9",
   "metadata": {
    "lang": "fr",
    "tags": [
     "soln"
    ]
   },
   "outputs": [],
   "source": [
    "alt.Chart(jonc_gauche).mark_boxplot().encode(\n",
    "    x=alt.X('species').title('Espèce'),\n",
    "    y=alt.Y('poids_bruite').scale(type='log', base=2).title('Poids (g)'),\n",
    "    color=alt.Color('species_id').legend(None),\n",
    ").properties(\n",
    "    title='Distribution des poids par espèce',\n",
    ")"
   ]
  },
  {
   "cell_type": "code",
   "execution_count": null,
   "id": "099d3baa-16dd-49b5-8094-32cbe3be51f4",
   "metadata": {
    "lang": "fr",
    "tags": [
     "exer"
    ]
   },
   "outputs": [],
   "source": [
    "alt.Chart(###)###.encode(\n",
    "    x=alt.X(###).title('Espèce'),\n",
    "    y=alt.Y('poids_bruite').scale(type='log', base=2).###('Poids (g)'),\n",
    "    color=alt.Color(###).legend(None),\n",
    ").properties(\n",
    "    ###='Distribution des poids par espèce',\n",
    ")"
   ]
  },
  {
   "cell_type": "code",
   "execution_count": null,
   "id": "5520be0f-d0b5-4fde-8313-4a72a094591b",
   "metadata": {
    "lang": "en",
    "tags": [
     "soln"
    ]
   },
   "outputs": [],
   "source": [
    "alt.Chart(left_join).mark_boxplot().encode(\n",
    "    x=alt.X('species').title('Species'),\n",
    "    y=alt.Y('noisy_weight').scale(type='log', base=2).title('Weight (g)'),\n",
    "    color=alt.Color('species_id').legend(None),\n",
    ").properties(\n",
    "    title='Distribution of weights by species',\n",
    ")"
   ]
  },
  {
   "cell_type": "code",
   "execution_count": null,
   "id": "f0b8f8a9-c253-4dc4-85e4-001df902dfd9",
   "metadata": {
    "lang": "en",
    "tags": [
     "exer"
    ]
   },
   "outputs": [],
   "source": [
    "alt.Chart(###)###.encode(\n",
    "    x=alt.X(###).title('Species'),\n",
    "    y=alt.Y('noisy_weight').scale(type='log', base=2).###('Weight (g)'),\n",
    "    color=alt.Color(###).legend(None),\n",
    ").properties(\n",
    "    ###='Distribution of weights by species',\n",
    ")"
   ]
  },
  {
   "cell_type": "markdown",
   "id": "78584e01-51c5-463a-8ad7-c86d95f4a86f",
   "metadata": {
    "lang": "fr"
   },
   "source": [
    "## Résumé technique\n",
    "* **Module Altair**\n",
    "  * `import altair as alt`\n",
    "  * Désactiver limite : `alt.data_transformers.disable_max_rows()`\n",
    "* **Création d'un graphique vierge**\n",
    "  * `graphique = alt.Chart(df)`\n",
    "* **Choix du type de marqueurs** à afficher\n",
    "  * `graphique.mark_point()`\n",
    "  * `graphique.mark_bar()`\n",
    "  * `graphique.mark_line()`\n",
    "  * `graphique.mark_boxplot()`\n",
    "  * `graphique.mark_circle(size=N)`\n",
    "  * `graphique.mark_area(orient='horizontal')`\n",
    "* **Assigner des variables** à des canaux du graphique\n",
    "  * `graphique.encode(...)`\n",
    "  * Différents canaux :\n",
    "    * `x=alt.X('varX')` et `y=alt.Y('varY')`\n",
    "      * `.type('type')`, avec les\n",
    "        [différents types](https://altair-viz.github.io/user_guide/encodings/index.html#encoding-data-types) :\n",
    "        * Quantités continues : `'quantitative'`, `'var:Q'`\n",
    "        * Quantités discrètes triées : `'ordinal'`, `'var:O'`\n",
    "        * Catégories discrètes : `'nominal'`, `'var:N'`\n",
    "        * Dates et heures : `'temporal'`, `'var:T'`\n",
    "      * `.aggregate('stat')`,\n",
    "        avec les statistiques `'mean'`, `'median'`, etc.\n",
    "      * `.scale(type='log', base=2)`\n",
    "      * `.title('Nom axe X ou Y')`\n",
    "    * `color=alt.Color('varCouleur')`\n",
    "      * `.legend(None)`\n",
    "      * `.scale(domain=[...], range=['#114499', ...])`\n",
    "    * `facet=alt.Facet('varFacet')`\n",
    "      * `.columns(N)`\n",
    "    * `row=alt.Row('varRangées')`\n",
    "    * `column=alt.Column('varColonne')`\n",
    "    * `tooltip=['varX', 'varY', 'varCouleur', ...]`\n",
    "* **Autres propriétés du graphique**\n",
    "  * `graphique.interactive()`\n",
    "  * `graphique.configure_mark(opacity=0.05)`\n",
    "  * `graphique.properties(...)`\n",
    "    * `width=400`\n",
    "    * `height=300`\n",
    "    * `title='Titre'`\n",
    "  * `graphique.configure_facet(spacing=0)`\n",
    "  * `graphique.configure_view(stroke=None, width=20)`\n",
    "* **Sauvegarde**\n",
    "  * `graphique.save(\"graphique.html\")`\n",
    "  * `graphique.save(\"graphique.png\")`"
   ]
  },
  {
   "cell_type": "markdown",
   "id": "32e02469-08e3-4be5-90b8-fbe1e3b7628a",
   "metadata": {
    "lang": "en"
   },
   "source": [
    "## Key points\n",
    "* **Altair module**\n",
    "  * `import altair as alt`\n",
    "  * Deactivate the limit: `alt.data_transformers.disable_max_rows()`\n",
    "* **Creating a new empty graphic**\n",
    "  * `graphic = alt.Chart(df)`\n",
    "* **Choosing a type of graphic**\n",
    "  * `graphic.mark_point()`\n",
    "  * `graphic.mark_bar()`\n",
    "  * `graphic.mark_line()`\n",
    "  * `graphic.mark_boxplot()`\n",
    "  * `graphic.mark_circle(size=N)`\n",
    "* **Assigning data fields to encoding channels**:\n",
    "  * `graphic.encode(...)`\n",
    "  * Encoding channels:\n",
    "    * `x=alt.X('varX')` and `y=alt.Y('varY')`\n",
    "      * `.type('type')`, with the\n",
    "        [different types](https://altair-viz.github.io/user_guide/encodings/index.html#encoding-data-types) :\n",
    "        * Continuous quantity: `'quantitative'`, `'var:Q'`\n",
    "        * Discrete ordered quantity: `'ordinal'`, `'var:O'`\n",
    "        * Discrete unordered category: `'nominal'`, `'var:N'`\n",
    "        * Time or date value: `'temporal'`, `'var:T'`\n",
    "      * `.aggregate(...)`,\n",
    "        with either `'mean'`, `'median'`, etc.\n",
    "      * `.scale(type='log', base=2)`\n",
    "      * `.title('Name for the X or Y axis')`\n",
    "    * `color=alt.Color('field_name_for_colors')`\n",
    "      * `.legend(None)`\n",
    "      * `.scale(domain=[...], range=['#114499', ...])`\n",
    "    * `facet=alt.Facet('field_name_for_facets')`\n",
    "      * `.columns(N)`\n",
    "    * `row=alt.Row('field_name_for_facet_rows')`\n",
    "    * `column=alt.Column('field_name_for_facet_columns')`\n",
    "    * `tooltip=['field_name1', 'field_name2', 'field_name3', ...]`\n",
    "* **Other properties of the graphic**\n",
    "  * `graphic.interactive()`\n",
    "  * `graphic.configure_mark(opacity=0.05)`\n",
    "  * `graphic.properties(...)`\n",
    "    * `width=400`\n",
    "    * `height=300`\n",
    "    * `title='Whole figure title'`\n",
    "  * `graphic.configure_facet(spacing=0)`\n",
    "  * `graphic.configure_view(stroke=None, width=20)`\n",
    "* **Saving the figure**\n",
    "  * `graphic.save(\"graphic.html\")`\n",
    "  * `graphic.save(\"graphic.png\")`"
   ]
  },
  {
   "cell_type": "code",
   "execution_count": null,
   "id": "2c51580a-3d74-499e-b47c-08d4d371892e",
   "metadata": {},
   "outputs": [],
   "source": []
  }
 ],
 "metadata": {
  "kernelspec": {
   "display_name": "Python 3 (ipykernel)",
   "language": "python",
   "name": "python3"
  },
  "language_info": {
   "codemirror_mode": {
    "name": "ipython",
    "version": 3
   },
   "file_extension": ".py",
   "mimetype": "text/x-python",
   "name": "python",
   "nbconvert_exporter": "python",
   "pygments_lexer": "ipython3",
   "version": "3.11.7"
  }
 },
 "nbformat": 4,
 "nbformat_minor": 5
}
