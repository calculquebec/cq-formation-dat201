{
 "cells": [
  {
   "cell_type": "markdown",
   "id": "8ea5f2eb-8e85-4c64-bed0-f8dd82a3aa85",
   "metadata": {
    "lang": "fr"
   },
   "source": [
    "# Analyse et visualisation de données avec Python\n",
    "## Formatage des données\n",
    "Questions\n",
    "* Quels sont les différents types de données dans Pandas?\n",
    "* Quel est l'impact des types sur les statistiques descriptives?\n",
    "* Comment gérer les valeurs non définies ou nulles?\n",
    "* Comment sauvegarder un dataframe?\n",
    "\n",
    "Objectifs\n",
    "* Manipuler les types de données\n",
    "* Créer une copie d'un dataframe.\n",
    "* Transformer ou éliminer les valeurs non définies ou nulles.\n",
    "* Écrire les données manipulées dans un fichier CSV."
   ]
  },
  {
   "cell_type": "markdown",
   "id": "4a24a22d-a82f-4bd6-a9fb-2cda373c5791",
   "metadata": {
    "lang": "en"
   },
   "source": [
    "# Data Analysis and Visualization in Python\n",
    "## Data Formatting\n",
    "Questions\n",
    "* What are the different data types in Pandas?\n",
    "* What impacts have data types on descriptive statistics?\n",
    "* How can I manage undefined (null) values?\n",
    "* How can I save a dataframe to a file?\n",
    "\n",
    "Objectives\n",
    "* Manipulate the data types.\n",
    "* Create a copy of a DataFrame.\n",
    "* Transform or remove null values.\n",
    "* Write modified data to a CSV file."
   ]
  },
  {
   "cell_type": "markdown",
   "id": "73c2d445-3e6f-4c67-bdb2-75a196007c14",
   "metadata": {
    "lang": "fr"
   },
   "source": [
    "## Charger nos données"
   ]
  },
  {
   "cell_type": "markdown",
   "id": "4dca7b28-a94e-4fab-8c2b-9066b6d16d43",
   "metadata": {
    "lang": "en"
   },
   "source": [
    "## Loading our data"
   ]
  },
  {
   "cell_type": "code",
   "execution_count": null,
   "id": "93c8fec1-0ce7-4fa4-9844-109d52d3cebe",
   "metadata": {
    "lang": "fr"
   },
   "outputs": [],
   "source": [
    "# Charger le module pandas\n",
    "import pandas as pd\n",
    "\n",
    "# Charger les données\n",
    "surveys_df = pd.read_csv(\"../data/surveys.csv\")"
   ]
  },
  {
   "cell_type": "code",
   "execution_count": null,
   "id": "5b3a9096-866e-4e41-ae5f-207882f8105b",
   "metadata": {
    "lang": "en"
   },
   "outputs": [],
   "source": [
    "# First make sure pandas is loaded\n",
    "import pandas as pd\n",
    "\n",
    "# Read in the survey csv\n",
    "surveys_df = pd.read_csv(\"../data/surveys.csv\")"
   ]
  },
  {
   "cell_type": "markdown",
   "id": "f5015805-da75-42cf-ab64-439be3177dcc",
   "metadata": {
    "lang": "fr"
   },
   "source": [
    "## Types de données\n",
    "### Vérifier le type de données pour chaque colonne"
   ]
  },
  {
   "cell_type": "markdown",
   "id": "4ddfe818-c6dc-4f16-8813-a54aeb69b4a2",
   "metadata": {
    "lang": "en"
   },
   "source": [
    "## Types of Data\n",
    "### Checking the format of our data"
   ]
  },
  {
   "cell_type": "code",
   "execution_count": null,
   "id": "f5260077-a222-40b6-b621-4764bc78df71",
   "metadata": {
    "lang": "fr"
   },
   "outputs": [],
   "source": [
    "# Obtenir le type de données pour chaque colonne\n",
    "surveys_df.dtypes"
   ]
  },
  {
   "cell_type": "code",
   "execution_count": null,
   "id": "52b2c88d-886b-4369-b632-d5302b48f303",
   "metadata": {
    "lang": "en"
   },
   "outputs": [],
   "source": [
    "# Getting the data types of all columns\n",
    "surveys_df.dtypes"
   ]
  },
  {
   "cell_type": "code",
   "execution_count": null,
   "id": "ddf2e653-5338-4256-a843-fb39af23dec7",
   "metadata": {
    "lang": "fr"
   },
   "outputs": [],
   "source": [
    "# Le type de données pour la colonne des mois\n",
    "surveys_df['month'].dtype"
   ]
  },
  {
   "cell_type": "code",
   "execution_count": null,
   "id": "57da11f7-9eae-4528-bb98-059ad69b3be9",
   "metadata": {
    "lang": "en"
   },
   "outputs": [],
   "source": [
    "# Getting the data type of a single column\n",
    "surveys_df['month'].dtype"
   ]
  },
  {
   "cell_type": "markdown",
   "id": "bff92e0f-ea1a-45c2-b6cb-ce919ac96cf1",
   "metadata": {
    "lang": "fr"
   },
   "source": [
    "Types Python | Types Pandas | Description\n",
    ":-----------:|:------------:|:-----------\n",
    "`str`        | `object`     | Type générique, aussi utilisé en cas de multiples types\n",
    "`int`        | `int64`      | Nombres entiers représentés avec 64 bits\n",
    "`float`      | `float64`    | Nombres réels représentés avec 64 bits, ou non-définis (NaN)\n",
    " N/A         | `datetime64` | Dates et heures, avec une précision allant jusqu'à la nanoseconde"
   ]
  },
  {
   "cell_type": "markdown",
   "id": "888faaed-8326-47b3-b9e7-7f24a6af09ac",
   "metadata": {
    "lang": "en"
   },
   "source": [
    "Native Python Type | Pandas Type | Description\n",
    ":-----------------:|:-----------:|:-----------\n",
    "`str`              | `object`    | The most general dtype. Will be assigned to your column if column has mixed types (numbers and strings).\n",
    "`int`              | `int64`     | 64 bits integer\n",
    "`float`            | `float64`   | Numeric characters with decimals. If a column contains numbers and NaNs(see below), pandas will default to float64.\n",
    " N/A               | `datetime64`| Values meant to hold time data."
   ]
  },
  {
   "cell_type": "markdown",
   "id": "3a66f54c-0bda-4321-a030-bb742f3ea75a",
   "metadata": {
    "lang": "fr"
   },
   "source": [
    "### Impacts sur les statistiques descriptives"
   ]
  },
  {
   "cell_type": "markdown",
   "id": "87645009-6c0c-4524-9474-fe17227ec173",
   "metadata": {
    "lang": "en"
   },
   "source": [
    "### Working With Our Survey Data"
   ]
  },
  {
   "cell_type": "code",
   "execution_count": null,
   "id": "140c3889-db47-423e-9efa-67108feb1c57",
   "metadata": {
    "lang": "fr"
   },
   "outputs": [],
   "source": [
    "# Statistiques descriptives sur les valeurs numériques\n",
    "surveys_df.describe()"
   ]
  },
  {
   "cell_type": "code",
   "execution_count": null,
   "id": "58c0ec42-0674-494c-bba5-f5971d56e6be",
   "metadata": {
    "lang": "en"
   },
   "outputs": [],
   "source": [
    "# Summary of descriptive statistics\n",
    "surveys_df.describe()"
   ]
  },
  {
   "cell_type": "code",
   "execution_count": null,
   "id": "d2be283c-28b8-44fb-af75-0d382d6b6973",
   "metadata": {
    "lang": "fr"
   },
   "outputs": [],
   "source": [
    "# Convertir les numéros de mois en valeurs nominales\n",
    "surveys_df['month'] = surveys_df['month'].astype('str')\n",
    "surveys_df['month'].dtype"
   ]
  },
  {
   "cell_type": "code",
   "execution_count": null,
   "id": "5f81ef00-77a3-40e4-b6c8-ba2f63879170",
   "metadata": {
    "lang": "en"
   },
   "outputs": [],
   "source": [
    "# Convert month numbers to nominal values\n",
    "surveys_df['month'] = surveys_df['month'].astype('str')\n",
    "surveys_df['month'].dtype"
   ]
  },
  {
   "cell_type": "code",
   "execution_count": null,
   "id": "dbc131b1-66cc-4961-a02b-326cb9746dde",
   "metadata": {
    "lang": "fr"
   },
   "outputs": [],
   "source": [
    "# Statistiques descriptives sur une variable qualitative\n",
    "surveys_df['month'].describe()"
   ]
  },
  {
   "cell_type": "code",
   "execution_count": null,
   "id": "ad7ab467-04a3-45d9-9d8c-5b7d4d213753",
   "metadata": {
    "lang": "en"
   },
   "outputs": [],
   "source": [
    "# Descriptive statistics on a categorical variable\n",
    "surveys_df['month'].describe()"
   ]
  },
  {
   "cell_type": "code",
   "execution_count": null,
   "id": "be80e0de-00af-4b9d-bf6c-7ee75a9467da",
   "metadata": {
    "lang": "fr"
   },
   "outputs": [],
   "source": [
    "# Lister les différents mois\n",
    "surveys_df['month'].unique()"
   ]
  },
  {
   "cell_type": "code",
   "execution_count": null,
   "id": "19644c2f-bdb0-43fd-a067-bf7f7cb604e1",
   "metadata": {
    "lang": "en"
   },
   "outputs": [],
   "source": [
    "# Listing all different months\n",
    "surveys_df['month'].unique()"
   ]
  },
  {
   "cell_type": "code",
   "execution_count": null,
   "id": "5ca0c7ef-645d-42ef-a798-202ce930b9a2",
   "metadata": {
    "lang": "fr"
   },
   "outputs": [],
   "source": [
    "# Lister les différentes années\n",
    "surveys_df['year'].unique()"
   ]
  },
  {
   "cell_type": "code",
   "execution_count": null,
   "id": "0b3d92d1-f692-4db3-95e9-25f0065dd9f8",
   "metadata": {
    "lang": "en"
   },
   "outputs": [],
   "source": [
    "# Listing all different years\n",
    "surveys_df['year'].unique()"
   ]
  },
  {
   "cell_type": "markdown",
   "id": "0a2549c6-117a-4954-91c4-4807e3f5d11b",
   "metadata": {
    "lang": "fr"
   },
   "source": [
    "### Démo - Types et statistiques descriptives"
   ]
  },
  {
   "cell_type": "markdown",
   "id": "62d264d5-67ef-456f-a806-e93c8019b806",
   "metadata": {
    "lang": "en"
   },
   "source": [
    "### Demo - Calculating Statistics"
   ]
  },
  {
   "cell_type": "markdown",
   "id": "79df39bd-e6c1-4ad6-9274-1cf6d98ff9d3",
   "metadata": {
    "lang": "fr"
   },
   "source": [
    "`1`. Convertir les valeurs de `weight` en entiers `int64` produira une erreur. Pourquoi?"
   ]
  },
  {
   "cell_type": "markdown",
   "id": "ee0fd37d-c1fb-4097-b026-9a77a52dbe48",
   "metadata": {
    "lang": "en"
   },
   "source": [
    "`1`. What happens if we try to convert `weight` values to `int64` integers?"
   ]
  },
  {
   "cell_type": "code",
   "execution_count": null,
   "id": "b793b8de-ca8e-441a-ba6a-d0c0c017e3c8",
   "metadata": {
    "lang": "fr"
   },
   "outputs": [],
   "source": [
    "try:\n",
    "    surveys_df['weight'].astype('int64')\n",
    "except BaseException as erreur:\n",
    "    print(f'La raison : {erreur}')"
   ]
  },
  {
   "cell_type": "code",
   "execution_count": null,
   "id": "7d3a076f-576b-4ad4-a7a2-090c05dacf41",
   "metadata": {
    "lang": "en"
   },
   "outputs": [],
   "source": [
    "try:\n",
    "    surveys_df['weight'].astype('int64')\n",
    "except BaseException as error:\n",
    "    print(f'The problem: {error}')"
   ]
  },
  {
   "cell_type": "markdown",
   "id": "6a70d004-19cd-4068-ab39-0ec8d99a3182",
   "metadata": {
    "lang": "fr"
   },
   "source": [
    "`2`. Essayez de convertir la colonne `plot_id` au type Python `float`."
   ]
  },
  {
   "cell_type": "markdown",
   "id": "9f11a874-f91b-4b32-8cc4-87780b8c5143",
   "metadata": {
    "lang": "en"
   },
   "source": [
    "`2`. Try converting the column `plot_id` to native Python `float` data type."
   ]
  },
  {
   "cell_type": "code",
   "execution_count": null,
   "id": "a03bdfa7-c696-4f19-a764-78904f39f266",
   "metadata": {
    "lang": "en,fr",
    "tags": [
     "soln"
    ]
   },
   "outputs": [],
   "source": [
    "surveys_df['plot_id'] = surveys_df['plot_id'].astype('float')\n",
    "surveys_df['plot_id'].dtype"
   ]
  },
  {
   "cell_type": "code",
   "execution_count": null,
   "id": "2f964b73-10e9-4e09-911a-05d2e68b126e",
   "metadata": {
    "lang": "en,fr",
    "tags": [
     "exer"
    ]
   },
   "outputs": [],
   "source": [
    "surveys_df['plot_id'] = ###\n",
    "surveys_df['plot_id'].dtype"
   ]
  },
  {
   "cell_type": "markdown",
   "id": "f4477bb2-8cf0-448b-a339-b2e5f3bf1ddc",
   "metadata": {
    "lang": "fr"
   },
   "source": [
    "## Sélection et nettoyage des valeurs non définies"
   ]
  },
  {
   "cell_type": "markdown",
   "id": "38c6ef4b-1d61-41e2-889d-b140cad6b044",
   "metadata": {
    "lang": "en"
   },
   "source": [
    "## Selecting and cleaning undefined values"
   ]
  },
  {
   "cell_type": "code",
   "execution_count": null,
   "id": "6b03e43d-da38-4145-9fd2-3b1de947feda",
   "metadata": {
    "lang": "fr"
   },
   "outputs": [],
   "source": [
    "# Pour chaque valeur, déterminer si non définie\n",
    "surveys_df.isna()"
   ]
  },
  {
   "cell_type": "code",
   "execution_count": null,
   "id": "04cff3ef-ac26-4494-a390-64b8c7335a48",
   "metadata": {
    "lang": "en"
   },
   "outputs": [],
   "source": [
    "# For each value, is the value undefined\n",
    "surveys_df.isna()"
   ]
  },
  {
   "cell_type": "code",
   "execution_count": null,
   "id": "e6e72e66-a5cc-4867-970f-269dca33ca81",
   "metadata": {
    "lang": "fr"
   },
   "outputs": [],
   "source": [
    "# Sélectionner les enregistrements ayant au moins une valeur NaN\n",
    "masque_nan = surveys_df.isna().any(axis='columns')\n",
    "surveys_df[masque_nan]"
   ]
  },
  {
   "cell_type": "code",
   "execution_count": null,
   "id": "bbd2cc62-1955-4c33-b791-118f1a25e7af",
   "metadata": {
    "lang": "en"
   },
   "outputs": [],
   "source": [
    "# Select rows with at least one undefined value\n",
    "nan_mask = surveys_df.isna().any(axis='columns')\n",
    "surveys_df[nan_mask]"
   ]
  },
  {
   "cell_type": "code",
   "execution_count": null,
   "id": "3912f86f-0c9b-4c7e-ad9b-2157ab040256",
   "metadata": {
    "lang": "fr"
   },
   "outputs": [],
   "source": [
    "# Qu'est-ce que le code suivant va retourner?\n",
    "une_selection = surveys_df[surveys_df['weight'].isna()]\n",
    "une_selection.groupby('species_id')['record_id'].count()"
   ]
  },
  {
   "cell_type": "code",
   "execution_count": null,
   "id": "721d602c-b67c-4a2e-b611-9883734ddd63",
   "metadata": {
    "lang": "en"
   },
   "outputs": [],
   "source": [
    "# What does this do?\n",
    "one_selection = surveys_df[surveys_df['weight'].isna()]\n",
    "one_selection.groupby('species_id')['record_id'].count()"
   ]
  },
  {
   "cell_type": "markdown",
   "id": "90d56b13-5e74-47ec-9a7e-6ac6304c39b7",
   "metadata": {
    "lang": "fr"
   },
   "source": [
    "### Recréer des données manquantes"
   ]
  },
  {
   "cell_type": "markdown",
   "id": "57ab553c-99a1-4834-8cd5-097faa9a9ac4",
   "metadata": {
    "lang": "en"
   },
   "source": [
    "### Getting Rid of the NaN’s"
   ]
  },
  {
   "cell_type": "code",
   "execution_count": null,
   "id": "93239f2a-6858-4fa1-8836-102333d3587f",
   "metadata": {
    "lang": "fr"
   },
   "outputs": [],
   "source": [
    "# Le \"avant\" - nombre et moyenne\n",
    "print(surveys_df['weight'].count(), surveys_df['weight'].mean())"
   ]
  },
  {
   "cell_type": "code",
   "execution_count": null,
   "id": "aee21507-3c7a-4faf-b530-2a449d093a2b",
   "metadata": {
    "lang": "en"
   },
   "outputs": [],
   "source": [
    "# Before the cleanup\n",
    "print(surveys_df['weight'].count(), surveys_df['weight'].mean())"
   ]
  },
  {
   "cell_type": "code",
   "execution_count": null,
   "id": "85d30535-4895-4b76-a7e5-c5639eac093e",
   "metadata": {
    "lang": "fr"
   },
   "outputs": [],
   "source": [
    "# Créer une copie pour ne pas modifier l'objet original\n",
    "copie_surveys = surveys_df.copy()"
   ]
  },
  {
   "cell_type": "code",
   "execution_count": null,
   "id": "98cc54f4-44f3-4a10-a9b5-2a07ae4c24cc",
   "metadata": {
    "lang": "en"
   },
   "outputs": [],
   "source": [
    "# Create a copy to avoid modifying the original object\n",
    "copy_surveys_df = surveys_df.copy()"
   ]
  },
  {
   "cell_type": "code",
   "execution_count": null,
   "id": "c9d6c51a-24c2-4475-9e2d-bfcb73e89354",
   "metadata": {
    "lang": "fr"
   },
   "outputs": [],
   "source": [
    "# Pour une valeur moyenne stable\n",
    "moyennePoids = copie_surveys['weight'].mean()\n",
    "copie_surveys['weight'] = copie_surveys['weight'].fillna(moyennePoids)"
   ]
  },
  {
   "cell_type": "code",
   "execution_count": null,
   "id": "e1401d0b-51dc-4d4a-83f6-e1537541a96b",
   "metadata": {
    "lang": "en"
   },
   "outputs": [],
   "source": [
    "# For a stable mean value\n",
    "averageW = copy_surveys_df['weight'].mean()\n",
    "copy_surveys_df['weight'] = copy_surveys_df['weight'].fillna(averageW)"
   ]
  },
  {
   "cell_type": "code",
   "execution_count": null,
   "id": "8dd398d4-574d-4caa-acd7-6ba5f73c1339",
   "metadata": {
    "lang": "fr"
   },
   "outputs": [],
   "source": [
    "# Le \"après\" - nombre et moyenne\n",
    "print(copie_surveys['weight'].count(), copie_surveys['weight'].mean())"
   ]
  },
  {
   "cell_type": "code",
   "execution_count": null,
   "id": "63117d63-713f-4160-87c5-38e4dbee7fed",
   "metadata": {
    "lang": "en"
   },
   "outputs": [],
   "source": [
    "# After the cleanup\n",
    "print(copy_surveys_df['weight'].count(), copy_surveys_df['weight'].mean())"
   ]
  },
  {
   "cell_type": "code",
   "execution_count": null,
   "id": "48636b4b-aabd-4f04-ae43-b56ba2b30130",
   "metadata": {
    "lang": "fr"
   },
   "outputs": [],
   "source": [
    "# Tester la conversion en entiers\n",
    "copie_surveys['weight'] = copie_surveys['weight'].astype('int64')\n",
    "copie_surveys['weight'].mean()"
   ]
  },
  {
   "cell_type": "code",
   "execution_count": null,
   "id": "04638391-7df0-46b2-a37a-cf7596dac642",
   "metadata": {
    "lang": "en"
   },
   "outputs": [],
   "source": [
    "# Can we now convert weight values to integers?\n",
    "copy_surveys_df['weight'] = copy_surveys_df['weight'].astype('int64')\n",
    "copy_surveys_df['weight'].mean()"
   ]
  },
  {
   "cell_type": "markdown",
   "id": "5225a4e2-bed5-4de5-b226-c9e66d4032c7",
   "metadata": {
    "lang": "fr"
   },
   "source": [
    "### Exercice - Nettoyage\n",
    "Dans la colonne `sex` de `copie_surveys` :\n",
    "* Remplacez les valeurs non-définies par `'F|M'`\n",
    "* Tout ce qui n'est pas `'F'`, `'M'` ou `'F|M'` est considéré\n",
    "  invalide et on veut remplacer ces valeurs par `'F|M'`\n",
    "\n",
    "(5 min.)"
   ]
  },
  {
   "cell_type": "markdown",
   "id": "10a1a0a1-5628-4f78-a132-b34e57be00b3",
   "metadata": {
    "lang": "en"
   },
   "source": [
    "### Exercise - Data Cleanup\n",
    "In the `sex` column of `copy_surveys_df`:\n",
    "* Replace undefined values by `'F|M'`\n",
    "* Any value not equal to `'F'`, `'M'` or `'F|M'` is\n",
    "  considered invalid and must be replaced by `'F|M'`\n",
    "\n",
    "(5 min.)"
   ]
  },
  {
   "cell_type": "code",
   "execution_count": null,
   "id": "086bc079-ac9c-4125-ac33-2431cc997404",
   "metadata": {
    "lang": "fr",
    "tags": [
     "soln"
    ]
   },
   "outputs": [],
   "source": [
    "# Générer des données invalides\n",
    "copie_surveys.loc[::123, 'sex'] = 'NA'\n",
    "\n",
    "# Traiter les données manquantes\n",
    "copie_surveys['sex'] = copie_surveys['sex'].fillna('F|M')\n",
    "\n",
    "# Traiter toute donnée invalide\n",
    "selection_invalides = ~copie_surveys['sex'].isin(['F', 'F|M', 'M'])\n",
    "copie_surveys.loc[selection_invalides, 'sex'] = 'F|M'\n",
    "\n",
    "copie_surveys['sex'].unique()"
   ]
  },
  {
   "cell_type": "code",
   "execution_count": null,
   "id": "2007c314-2d14-4a38-95ac-0780902f70ec",
   "metadata": {
    "lang": "fr",
    "tags": [
     "exer"
    ]
   },
   "outputs": [],
   "source": [
    "# Générer des données invalides\n",
    "copie_surveys.loc[::123, 'sex'] = 'NA'\n",
    "\n",
    "# Traiter les données manquantes\n",
    "#copie_surveys['sex'] = ###\n",
    "\n",
    "# Traiter toute donnée invalide\n",
    "#selection_invalides = ###.isin(['F', 'F|M', 'M'])\n",
    "#copie_surveys.loc[selection_invalides, ###] = ###\n",
    "\n",
    "copie_surveys['sex'].unique()"
   ]
  },
  {
   "cell_type": "code",
   "execution_count": null,
   "id": "c911964b-9b50-45f1-a911-f67ab281f1fa",
   "metadata": {
    "lang": "en",
    "tags": [
     "soln"
    ]
   },
   "outputs": [],
   "source": [
    "# Create invalid data\n",
    "copy_surveys_df.loc[::123, 'sex'] = 'NA'\n",
    "\n",
    "# Replace undefined values\n",
    "copy_surveys_df['sex'] = copy_surveys_df['sex'].fillna('F|M')\n",
    "\n",
    "# Replace invalid values\n",
    "invalid_rows = ~copy_surveys_df['sex'].isin(['F', 'F|M', 'M'])\n",
    "copy_surveys_df.loc[invalid_rows, 'sex'] = 'F|M'\n",
    "\n",
    "copy_surveys_df['sex'].unique()"
   ]
  },
  {
   "cell_type": "code",
   "execution_count": null,
   "id": "00958a77-c74f-4fc6-9f8a-fb000aa3eef9",
   "metadata": {
    "lang": "en",
    "tags": [
     "exer"
    ]
   },
   "outputs": [],
   "source": [
    "# Create invalid data\n",
    "copy_surveys_df.loc[::123, 'sex'] = 'NA'\n",
    "\n",
    "# Replace undefined values\n",
    "#copy_surveys_df['sex'] = ###\n",
    "\n",
    "# Replace invalid values\n",
    "#invalid_rows = ###.isin(['F', 'F|M', 'M'])\n",
    "#copy_surveys_df.loc[invalid_rows, ###] = ###\n",
    "\n",
    "copy_surveys_df['sex'].unique()"
   ]
  },
  {
   "cell_type": "markdown",
   "id": "29da742b-8614-4b16-9a0e-f4e11e63f0fa",
   "metadata": {
    "lang": "fr"
   },
   "source": [
    "### Sauvegarde après nettoyage"
   ]
  },
  {
   "cell_type": "markdown",
   "id": "6ef629dd-a396-4133-b526-4a730210675d",
   "metadata": {
    "lang": "en"
   },
   "source": [
    "### Writing Out Data to CSV"
   ]
  },
  {
   "cell_type": "code",
   "execution_count": null,
   "id": "fa528cf9-aee3-4ec8-a829-1169cc641a11",
   "metadata": {
    "lang": "fr"
   },
   "outputs": [],
   "source": [
    "# Ne garder que les lignes sans aucun NA\n",
    "df_sans_na = copie_surveys.dropna()\n",
    "df_sans_na"
   ]
  },
  {
   "cell_type": "code",
   "execution_count": null,
   "id": "c4e3e96e-454e-460d-94a9-d0d94c479b4c",
   "metadata": {
    "lang": "en"
   },
   "outputs": [],
   "source": [
    "# Only keep (complete) records that have no NA\n",
    "df_no_na = copy_surveys_df.dropna()\n",
    "df_no_na"
   ]
  },
  {
   "cell_type": "code",
   "execution_count": null,
   "id": "de543b44-667b-4236-9983-8d4080f4ebc3",
   "metadata": {
    "lang": "fr"
   },
   "outputs": [],
   "source": [
    "# Sauvegarder le dataframe filtré dans un fichier CSV\n",
    "df_sans_na.to_csv('surveys_sans_NA.csv', index=False)"
   ]
  },
  {
   "cell_type": "code",
   "execution_count": null,
   "id": "c8f80c37-05a7-4cae-929e-77c4f1f4c691",
   "metadata": {
    "lang": "en"
   },
   "outputs": [],
   "source": [
    "# Save the cleaned DataFrame to a CSV file\n",
    "df_no_na.to_csv('surveys_complete.csv', index=False)"
   ]
  },
  {
   "cell_type": "markdown",
   "id": "a3b9bc93-eb36-46b5-8611-121895ddcea6",
   "metadata": {
    "lang": "fr"
   },
   "source": [
    "## Résumé technique\n",
    "* **Gestion des types**\n",
    "    * Pour un **DataFrame** :\n",
    "        * Attributs : `dtypes`\n",
    "    * Pour une **série** (colonne) :\n",
    "        * Attributs : `dtype`\n",
    "        * Méthodes : `astype()`\n",
    "* **Nettoyage**\n",
    "    * `df.copy()`\n",
    "    * `isna()`, `notna()`\n",
    "    * `colonne.fillna(valeur, inplace=True)`\n",
    "* **Sauvegarde**\n",
    "    * `df.to_csv(nom_csv, index=False)`"
   ]
  },
  {
   "cell_type": "markdown",
   "id": "cffe6fd5-de9b-425a-b6f8-b465edb602fc",
   "metadata": {
    "lang": "en"
   },
   "source": [
    "## Technical Summary\n",
    "* **Managing data types**\n",
    "    * For a **DataFrame**:\n",
    "        * Attribute: `dtypes`\n",
    "    * For a **Series** (column):\n",
    "        * Attribute: `dtype`\n",
    "        * Method: `astype()`\n",
    "* **Cleaning data**\n",
    "    * `df.copy()`\n",
    "    * `isna()`, `notna()`\n",
    "    * `column.fillna(value, inplace=True)`\n",
    "* **Saving a DataFrame**\n",
    "    * `df.to_csv(csv_filename, index=False)`"
   ]
  },
  {
   "cell_type": "code",
   "execution_count": null,
   "id": "2b9fa7a9-2286-499f-99f7-836fcb03ef47",
   "metadata": {},
   "outputs": [],
   "source": []
  }
 ],
 "metadata": {
  "kernelspec": {
   "display_name": "Python 3 (ipykernel)",
   "language": "python",
   "name": "python3"
  },
  "language_info": {
   "codemirror_mode": {
    "name": "ipython",
    "version": 3
   },
   "file_extension": ".py",
   "mimetype": "text/x-python",
   "name": "python",
   "nbconvert_exporter": "python",
   "pygments_lexer": "ipython3",
   "version": "3.11.7"
  }
 },
 "nbformat": 4,
 "nbformat_minor": 5
}
