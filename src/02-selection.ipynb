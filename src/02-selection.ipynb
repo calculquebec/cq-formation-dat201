{
 "cells": [
  {
   "cell_type": "markdown",
   "id": "b1fd36b3-4405-4dcd-b44e-d323b6f2ddb4",
   "metadata": {
    "lang": "fr"
   },
   "source": [
    "# Analyse et visualisation de données avec Python\n",
    "## Sélectionner des lignes et des colonnes de données\n",
    "Questions\n",
    "* Comment accéder à des données spécifiques dans un dataframe?\n",
    "\n",
    "Objectives\n",
    "* Utiliser les tranches pour sélectionner un intervalle de données.\n",
    "* Utiliser les étiquettes de lignes de données et\n",
    "  les noms de colonnes pour délimiter une tranche.\n",
    "* Réassigner des valeurs à une sélection dans un dataframe.\n",
    "* Effectuer une sélection en utilisant un critère contenant\n",
    "  un opérateur : `=`, `!=`, `>`, `<`, `>=`, `<=`.\n",
    "* Manipuler les données avec des masques de valeurs booléennes."
   ]
  },
  {
   "cell_type": "markdown",
   "id": "44ffe0d5-251d-4ac5-9bb4-fa7d8da4d984",
   "metadata": {
    "lang": "en"
   },
   "source": [
    "# Data Analysis and Visualization in Python\n",
    "## Indexing, Slicing and Subsetting DataFrames\n",
    "Questions\n",
    "* How can I access specific data within my data set?\n",
    "\n",
    "Objectives\n",
    "* Employ slicing to select sets of data from a DataFrame.\n",
    "* Employ label and integer-based indexing\n",
    "  to select ranges of data in a dataframe.\n",
    "* Reassign values within subsets of a DataFrame.\n",
    "* Query/select a subset of data using a set of criteria using\n",
    "  the following operators: `=`, `!=`, `>`, `<`, `>=`, `<=`.\n",
    "* Manipulate data using boolean masks."
   ]
  },
  {
   "cell_type": "markdown",
   "id": "94325bfa-8b63-4dba-af81-d2ffd61798ef",
   "metadata": {
    "lang": "fr"
   },
   "source": [
    "## Charger nos données"
   ]
  },
  {
   "cell_type": "markdown",
   "id": "5670609e-958d-4e12-9888-e08f5e26bcda",
   "metadata": {
    "lang": "en"
   },
   "source": [
    "## Loading our data"
   ]
  },
  {
   "cell_type": "code",
   "execution_count": null,
   "id": "29429144-2e71-46ed-9479-9137b95ef34f",
   "metadata": {
    "lang": "fr"
   },
   "outputs": [],
   "source": [
    "# Charger le module pandas\n",
    "import pandas as pd\n",
    "\n",
    "# Charger les données\n",
    "surveys_df = pd.read_csv(\"../data/surveys.csv\")"
   ]
  },
  {
   "cell_type": "code",
   "execution_count": null,
   "id": "d7514568-c494-4838-8b28-bf649f0a1c7a",
   "metadata": {
    "lang": "en"
   },
   "outputs": [],
   "source": [
    "# First make sure pandas is loaded\n",
    "import pandas as pd\n",
    "\n",
    "# Read in the survey csv\n",
    "surveys_df = pd.read_csv(\"../data/surveys.csv\")"
   ]
  },
  {
   "cell_type": "markdown",
   "id": "8470f4e3-2faf-4930-addf-6662ed08132e",
   "metadata": {
    "lang": "fr"
   },
   "source": [
    "## Les tranches de données\n",
    "### Sélectionner des données en utilisant des noms de colonne"
   ]
  },
  {
   "cell_type": "markdown",
   "id": "3c6deb7a-554b-43ea-b644-336ab8dd89da",
   "metadata": {
    "lang": "en"
   },
   "source": [
    "## Indexing & Slicing in Python\n",
    "### Selecting Data Using Labels (Column Headings)"
   ]
  },
  {
   "cell_type": "code",
   "execution_count": null,
   "id": "a2576c3d-d1d1-4534-b299-e7053529b8e8",
   "metadata": {
    "lang": "fr",
    "tags": [
     "soln"
    ]
   },
   "outputs": [],
   "source": [
    "# Assigner la colonne des identifiants d'espèces\n",
    "id_especes = surveys_df['species_id']"
   ]
  },
  {
   "cell_type": "code",
   "execution_count": null,
   "id": "d85cbc48-7180-4574-8724-a2304bb1f8ab",
   "metadata": {
    "lang": "fr",
    "tags": [
     "exer"
    ]
   },
   "outputs": [],
   "source": [
    "# Assigner la colonne des identifiants d'espèces\n",
    "surveys_df['species_id']  # id_especes = "
   ]
  },
  {
   "cell_type": "code",
   "execution_count": null,
   "id": "5524b7a9-a717-45cd-984d-1167941cc7a1",
   "metadata": {
    "lang": "en",
    "tags": [
     "soln"
    ]
   },
   "outputs": [],
   "source": [
    "# Assign the column of species IDs\n",
    "surveys_species = surveys_df['species_id']"
   ]
  },
  {
   "cell_type": "code",
   "execution_count": null,
   "id": "7fe87a79-7c3c-4455-885d-15d3397bd34c",
   "metadata": {
    "lang": "en",
    "tags": [
     "exer"
    ]
   },
   "outputs": [],
   "source": [
    "# Assign the column of species IDs\n",
    "surveys_df['species_id']  # surveys_species = "
   ]
  },
  {
   "cell_type": "code",
   "execution_count": null,
   "id": "e197a6ad-4bd2-4e91-967b-11f6615c1099",
   "metadata": {
    "lang": "fr"
   },
   "outputs": [],
   "source": [
    "# Obtenir les dimensions de la colonne\n",
    "id_especes.shape"
   ]
  },
  {
   "cell_type": "code",
   "execution_count": null,
   "id": "388d9e8f-fa24-46bb-a54d-213fc03e19ea",
   "metadata": {
    "lang": "en"
   },
   "outputs": [],
   "source": [
    "# Get the length of the column\n",
    "surveys_species.shape"
   ]
  },
  {
   "cell_type": "code",
   "execution_count": null,
   "id": "ef96efdd-1f11-4aa1-9286-7c25445f4ad7",
   "metadata": {
    "lang": "fr"
   },
   "outputs": [],
   "source": [
    "# Sélectionner plusieurs colonnes à l'aide d'une liste\n",
    "colonnes = ['year', 'month', 'day']\n",
    "surveys_df[colonnes]"
   ]
  },
  {
   "cell_type": "code",
   "execution_count": null,
   "id": "57434df0-9646-4858-8e57-df141e7ad6ba",
   "metadata": {
    "lang": "en"
   },
   "outputs": [],
   "source": [
    "# Select many columns with a list of column names\n",
    "columns = ['year', 'month', 'day']\n",
    "surveys_df[columns]"
   ]
  },
  {
   "cell_type": "markdown",
   "id": "f1bbb48d-2803-43c8-b861-88690336d42f",
   "metadata": {
    "lang": "fr"
   },
   "source": [
    "### Faire une sélection selon des lignes et des colonnes de données\n",
    "On peut sélectionner un sous-ensemble de lignes\n",
    "et de colonnes de données avec l'attribut `loc` :\n",
    "c'est basé sur les index de ligne et de colonne."
   ]
  },
  {
   "cell_type": "markdown",
   "id": "c14f9dde-2599-408f-a33d-074c47267159",
   "metadata": {
    "lang": "en"
   },
   "source": [
    "### Slicing Subsets of Rows and Columns in Python\n",
    "We can select specific ranges of our data in both the row and\n",
    "column directions using `loc`: primarily label based indexing.\n",
    "Integers may be used but they are interpreted as a label."
   ]
  },
  {
   "cell_type": "code",
   "execution_count": null,
   "id": "23c536be-e3a0-4468-88a0-088e5b4e2af3",
   "metadata": {
    "lang": "fr"
   },
   "outputs": [],
   "source": [
    "# Qu'est-ce que cela donne?\n",
    "surveys_df.loc[0, ['species_id', 'plot_id', 'weight']]"
   ]
  },
  {
   "cell_type": "code",
   "execution_count": null,
   "id": "08f86963-5b47-44fb-884d-cc4d07b82d5d",
   "metadata": {
    "lang": "en"
   },
   "outputs": [],
   "source": [
    "# What does this do?\n",
    "surveys_df.loc[0, ['species_id', 'plot_id', 'weight']]"
   ]
  },
  {
   "cell_type": "code",
   "execution_count": null,
   "id": "a400da60-f541-48c8-a76f-82ca7d47aa5e",
   "metadata": {
    "lang": "fr"
   },
   "outputs": [],
   "source": [
    "# Sélectionner toutes les colonnes pour les lignes 0 et 10\n",
    "surveys_df.loc[[0, 10], :]"
   ]
  },
  {
   "cell_type": "code",
   "execution_count": null,
   "id": "dd739054-fdfc-4f98-91a2-c4ddb129f7bd",
   "metadata": {
    "lang": "en"
   },
   "outputs": [],
   "source": [
    "# Select all columns for rows of index values 0 and 10\n",
    "surveys_df.loc[[0, 10], :]"
   ]
  },
  {
   "cell_type": "code",
   "execution_count": null,
   "id": "2e2d84c1-c559-4302-94ff-ff1a31fcf43b",
   "metadata": {
    "lang": "fr",
    "tags": [
     "soln"
    ]
   },
   "outputs": [],
   "source": [
    "# Qu'arrive-t-il si on exécute le code ci-dessous?\n",
    "try:\n",
    "    print(surveys_df.loc[[0, 10, 35548], :])\n",
    "except BaseException as erreur:\n",
    "    print(f'Le problème : {erreur}')"
   ]
  },
  {
   "cell_type": "code",
   "execution_count": null,
   "id": "384110f3-b095-48f5-85bc-646a8f7ea029",
   "metadata": {
    "lang": "fr",
    "tags": [
     "exer"
    ]
   },
   "outputs": [],
   "source": [
    "# Qu'arrive-t-il si on exécute le code ci-dessous?\n",
    "try:\n",
    "    print(surveys_df.loc[[0, 10, 35549], :])\n",
    "except BaseException as erreur:\n",
    "    print(f'Le problème : {erreur}')"
   ]
  },
  {
   "cell_type": "code",
   "execution_count": null,
   "id": "20a4e3b6-56e1-4ba2-a177-9c273ff08e9b",
   "metadata": {
    "lang": "en",
    "tags": [
     "soln"
    ]
   },
   "outputs": [],
   "source": [
    "# What happens when you type the code below?\n",
    "try:\n",
    "    print(surveys_df.loc[[0, 10, 35548], :])\n",
    "except BaseException as error:\n",
    "    print(f'The problem: {error}')"
   ]
  },
  {
   "cell_type": "code",
   "execution_count": null,
   "id": "7643732e-f87e-4be8-90d7-6b40d139c32c",
   "metadata": {
    "lang": "en",
    "tags": [
     "exer"
    ]
   },
   "outputs": [],
   "source": [
    "# What happens when you type the code below?\n",
    "try:\n",
    "    print(surveys_df.loc[[0, 10, 35549], :])\n",
    "except BaseException as error:\n",
    "    print(f'The problem: {error}')"
   ]
  },
  {
   "cell_type": "markdown",
   "id": "6b25354f-75b7-43e8-be89-7fc73c087af1",
   "metadata": {
    "lang": "fr"
   },
   "source": [
    "### Démo - Un intervalle\n",
    "Qu'est-ce qui arrive si on exécute :"
   ]
  },
  {
   "cell_type": "markdown",
   "id": "10f17b04-1797-442b-8975-244888a67cfd",
   "metadata": {
    "lang": "en"
   },
   "source": [
    "### Demo - Range\n",
    "What happens when you execute:"
   ]
  },
  {
   "cell_type": "code",
   "execution_count": null,
   "id": "760bdad7-5445-40ef-b16e-55af89ea1e4a",
   "metadata": {
    "lang": "fr",
    "tags": [
     "soln"
    ]
   },
   "outputs": [],
   "source": [
    "try:\n",
    "    print(surveys_df.loc[0:4, 'month':'plot_id'])\n",
    "except BaseException as erreur:\n",
    "    print(f'Le problème : {erreur}')"
   ]
  },
  {
   "cell_type": "code",
   "execution_count": null,
   "id": "6ce59b23-1933-45b8-b570-8cf65b5cbe5f",
   "metadata": {
    "lang": "fr",
    "tags": [
     "exer"
    ]
   },
   "outputs": [],
   "source": [
    "try:\n",
    "    print(surveys_df.loc[0:4, 1:4])  # 'month':'plot_id'\n",
    "except BaseException as erreur:\n",
    "    print(f'Le problème : {erreur}')"
   ]
  },
  {
   "cell_type": "code",
   "execution_count": null,
   "id": "c3434487-cebb-4852-b052-d0ccea6154b0",
   "metadata": {
    "lang": "en",
    "tags": [
     "soln"
    ]
   },
   "outputs": [],
   "source": [
    "try:\n",
    "    print(surveys_df.loc[0:4, 'month':'plot_id'])\n",
    "except BaseException as error:\n",
    "    print(f'The problem: {error}')"
   ]
  },
  {
   "cell_type": "code",
   "execution_count": null,
   "id": "3e118cce-e465-41c7-807a-e38fbd4f180e",
   "metadata": {
    "lang": "en",
    "tags": [
     "exer"
    ]
   },
   "outputs": [],
   "source": [
    "try:\n",
    "    print(surveys_df.loc[0:4, 1:4])  # 'month':'plot_id'\n",
    "except BaseException as error:\n",
    "    print(f'The problem: {error}')"
   ]
  },
  {
   "cell_type": "markdown",
   "id": "8f2ce1e8-85cd-4df4-b129-ae9326e305dd",
   "metadata": {
    "lang": "fr"
   },
   "source": [
    "## Sélection par des critères"
   ]
  },
  {
   "cell_type": "markdown",
   "id": "f1babaa7-f6a5-4445-b15c-fdb063e00682",
   "metadata": {
    "lang": "en"
   },
   "source": [
    "## Subsetting Data Using Criteria"
   ]
  },
  {
   "cell_type": "code",
   "execution_count": null,
   "id": "9cedf7b3-25c3-4da6-a278-adaa6781bfdf",
   "metadata": {
    "lang": "fr",
    "tags": [
     "soln"
    ]
   },
   "outputs": [],
   "source": [
    "# Sélectionner les enregistrements pour l'année 2002\n",
    "surveys_df[surveys_df['year'] == 2002]"
   ]
  },
  {
   "cell_type": "code",
   "execution_count": null,
   "id": "61155f99-8c34-4f10-8434-0348b351706f",
   "metadata": {
    "lang": "fr",
    "tags": [
     "exer"
    ]
   },
   "outputs": [],
   "source": [
    "# Sélectionner les enregistrements pour l'année 2002\n",
    "surveys_df['year'] == 2002"
   ]
  },
  {
   "cell_type": "code",
   "execution_count": null,
   "id": "de434a49-5460-4f81-a994-7e97391d82bc",
   "metadata": {
    "lang": "en",
    "tags": [
     "soln"
    ]
   },
   "outputs": [],
   "source": [
    "# Select records for the year 2002\n",
    "surveys_df[surveys_df['year'] == 2002]"
   ]
  },
  {
   "cell_type": "code",
   "execution_count": null,
   "id": "f6e6137f-6112-4630-94c0-7f5031a10061",
   "metadata": {
    "lang": "en",
    "tags": [
     "exer"
    ]
   },
   "outputs": [],
   "source": [
    "# Select records for the year 2002\n",
    "surveys_df['year'] == 2002"
   ]
  },
  {
   "cell_type": "code",
   "execution_count": null,
   "id": "90ca78b2-0b88-429c-81ef-dba8dc9781f5",
   "metadata": {
    "lang": "fr"
   },
   "outputs": [],
   "source": [
    "# Sélectionner les enregistrements des autres années\n",
    "surveys_df[surveys_df['year'] != 2002]"
   ]
  },
  {
   "cell_type": "code",
   "execution_count": null,
   "id": "e0687bd0-26d4-4da6-8483-69b1f24676dc",
   "metadata": {
    "lang": "en"
   },
   "outputs": [],
   "source": [
    "# Select records for the other years\n",
    "surveys_df[surveys_df['year'] != 2002]"
   ]
  },
  {
   "cell_type": "code",
   "execution_count": null,
   "id": "76e7aa2b-3a97-49d4-93f0-4b01dbf5c084",
   "metadata": {
    "lang": "fr"
   },
   "outputs": [],
   "source": [
    "# Avec deux critères\n",
    "surveys_df[(surveys_df['year'] >= 2001) & (surveys_df['weight'] <= 8)]"
   ]
  },
  {
   "cell_type": "code",
   "execution_count": null,
   "id": "96f00934-0f94-441c-a0ad-9969c4f491a8",
   "metadata": {
    "lang": "en"
   },
   "outputs": [],
   "source": [
    "# With two conditions\n",
    "surveys_df[(surveys_df['year'] >= 2001) & (surveys_df['weight'] <= 8)]"
   ]
  },
  {
   "cell_type": "markdown",
   "id": "a7569a46-3c78-4e9b-9d90-aa770ed7ce5d",
   "metadata": {
    "lang": "fr"
   },
   "source": [
    "Voici les opérateurs de condition les plus courants :\n",
    "\n",
    "* Égal, pas égal : `==`, `!=`\n",
    "* Plus grand que, plus petit que : `>`, `<`\n",
    "* Plus grand ou égal, plus petit ou égal : `>=`, `<=`\n",
    "* Opérateurs par élément ET et OU : `&` et `|`"
   ]
  },
  {
   "cell_type": "markdown",
   "id": "97797571-bbe5-4b84-8938-5be59929f392",
   "metadata": {
    "lang": "en"
   },
   "source": [
    "Here are the most common operators for conditions:\n",
    "\n",
    "* Equal, not equal: `==`, `!=`\n",
    "* Greater than, less than: `>`, `<`\n",
    "* Greater than or equal to, less than or equal to: `>=`, `<=`\n",
    "* Element-wise AND and OR operators: `&` and `|`"
   ]
  },
  {
   "cell_type": "markdown",
   "id": "91936ad6-b35a-4ae9-8c16-3971f0f6f41e",
   "metadata": {
    "lang": "fr"
   },
   "source": [
    "### Exercices - Sélections par la présence\n",
    "`1`. Vous pouvez utiliser la méthode `isin()` pour aller chercher\n",
    "les enregistrements dont les valeurs d'une colonne correspondent\n",
    "à l'une des valeurs fournies dans une liste. Par exemple :\n",
    "```\n",
    "surveys_df[surveys_df['nom_colonne'].isin([valeur1, valeur2, ...])]\n",
    "```\n",
    "Utilisez la méthode `isin()` pour trouver tous les\n",
    "différents sites (`plot_id`) ayant certaines espèces\n",
    "(`AS`, `CQ`, `OX` et `UL`) dans le DataFrame. (4 min.)"
   ]
  },
  {
   "cell_type": "markdown",
   "id": "dc925620-4572-42d9-b42e-8de2d0a4b315",
   "metadata": {
    "lang": "en"
   },
   "source": [
    "### Exercises - Selection by presence\n",
    "`1`. You can use the `isin()` method in python to query\n",
    "a DataFrame based upon a list of values as follows:\n",
    "```\n",
    "surveys_df[surveys_df['column_name'].isin([value1, value2, ...])]\n",
    "```\n",
    "Use the `isin()` method to find all different\n",
    "sites (`plot_id`) that contain particular species\n",
    "(`AS`, `CQ`, `OX` and `UL`) in the surveys DataFrame. (4 min.)"
   ]
  },
  {
   "cell_type": "code",
   "execution_count": null,
   "id": "5258102c-a188-43bc-b3fd-4773a039d334",
   "metadata": {
    "lang": "fr",
    "tags": [
     "soln"
    ]
   },
   "outputs": [],
   "source": [
    "# Masque booléen selon le code de l'espèce\n",
    "cond_especes = surveys_df['species_id'].isin(['AS', 'CQ', 'OX', 'UL'])\n",
    "\n",
    "# Lister les différents sites\n",
    "surveys_df[cond_especes]['plot_id'].unique()"
   ]
  },
  {
   "cell_type": "code",
   "execution_count": null,
   "id": "58750d14-1c55-4f0a-b66e-a2b7d6f86464",
   "metadata": {
    "lang": "fr",
    "tags": [
     "exer"
    ]
   },
   "outputs": [],
   "source": [
    "# Masque booléen selon le code de l'espèce\n",
    "cond_especes = ###(['AS', 'CQ', 'OX', 'UL'])\n",
    "\n",
    "# Lister les différents sites\n",
    "surveys_df[###][###].unique()"
   ]
  },
  {
   "cell_type": "code",
   "execution_count": null,
   "id": "63b71bc4-1597-4d29-8747-dd910e6832d6",
   "metadata": {
    "lang": "en",
    "tags": [
     "soln"
    ]
   },
   "outputs": [],
   "source": [
    "# Boolean mask of valid species IDs\n",
    "species_mask = surveys_df['species_id'].isin(['AS', 'CQ', 'OX', 'UL'])\n",
    "\n",
    "# List all different sites\n",
    "surveys_df[species_mask]['plot_id'].unique()"
   ]
  },
  {
   "cell_type": "code",
   "execution_count": null,
   "id": "e6c79ef3-d383-4740-8dd6-46d272499a4e",
   "metadata": {
    "lang": "en",
    "tags": [
     "exer"
    ]
   },
   "outputs": [],
   "source": [
    "# Boolean mask of valid species IDs\n",
    "species_mask = ###(['AS', 'CQ', 'OX', 'UL'])\n",
    "\n",
    "# List all different sites\n",
    "surveys_df[###][###].unique()"
   ]
  },
  {
   "cell_type": "markdown",
   "id": "e5b46502-1878-4c1d-9d44-6e73a255b8c0",
   "metadata": {
    "lang": "fr"
   },
   "source": [
    "`2`. Créez un graphique de barres empilées (ou *stacked bar-plot*)\n",
    "montrant la moyenne des poids selon le site (`plot_id`),\n",
    "mais avec les résultats des femelles et des mâles superposés.\n",
    "Pour la préparation initiale des données :\n",
    "* Créez une sélection contenant seulement les enregistrements\n",
    "ayant une valeur de `sex` (soit `F` ou `M`) et ayant un poids supérieur à 0\n",
    "* Pour le graphique final, vous devez limiter les données\n",
    "aux colonnes de poids, de site et de sexe\n",
    "\n",
    "(5 min.)"
   ]
  },
  {
   "cell_type": "markdown",
   "id": "706100f9-4081-4e50-8e5a-3ec4feee99f0",
   "metadata": {
    "lang": "en"
   },
   "source": [
    "`2`. Create a stacked bar plot of average weight by site\n",
    "with male vs female values stacked for each site (`plot_id`).\n",
    "* Create a new DataFrame that contains only observations that are\n",
    "  of sex female or male and where weight values are greater than 0\n",
    "* For the final plot, only select the\n",
    "  weight, the site and the sex columns\n",
    "\n",
    "(5 min.)"
   ]
  },
  {
   "cell_type": "code",
   "execution_count": null,
   "id": "d7a071c2-a64b-4a36-93b3-e2c9225db715",
   "metadata": {
    "lang": "fr",
    "tags": [
     "soln"
    ]
   },
   "outputs": [],
   "source": [
    "# Sélection des enregistrements et des colonnes nécessaires\n",
    "cond_sexe = surveys_df['sex'].isin(['F', 'M'])\n",
    "cond_poids = surveys_df['weight'] > 0\n",
    "colonnes = ['weight', 'plot_id', 'sex']\n",
    "\n",
    "selection = surveys_df[cond_sexe & cond_poids][colonnes]\n",
    "selection.tail()"
   ]
  },
  {
   "cell_type": "code",
   "execution_count": null,
   "id": "c5b7ea25-8b83-4aaa-8308-c8997940c76d",
   "metadata": {
    "lang": "fr",
    "tags": [
     "exer"
    ]
   },
   "outputs": [],
   "source": [
    "# Sélection des enregistrements et des colonnes nécessaires\n",
    "cond_sexe = surveys_df['sex']###\n",
    "cond_poids = surveys_df['weight'] ###\n",
    "colonnes = ['weight', 'plot_id', 'sex']\n",
    "\n",
    "selection = surveys_df###\n",
    "selection.tail()"
   ]
  },
  {
   "cell_type": "code",
   "execution_count": null,
   "id": "edfaa7d7-e418-4cec-87ef-876894e141ad",
   "metadata": {
    "lang": "en",
    "tags": [
     "soln"
    ]
   },
   "outputs": [],
   "source": [
    "# Selection of the data with isin()\n",
    "sex_mask = surveys_df['sex'].isin(['F', 'M'])\n",
    "weight_mask = surveys_df['weight'] > 0\n",
    "columns = ['weight', 'plot_id', 'sex']\n",
    "\n",
    "selection = surveys_df[sex_mask & weight_mask][columns]\n",
    "selection.tail()"
   ]
  },
  {
   "cell_type": "code",
   "execution_count": null,
   "id": "21effbf5-e535-45bc-bd5a-6b89ef9dce2a",
   "metadata": {
    "lang": "en",
    "tags": [
     "exer"
    ]
   },
   "outputs": [],
   "source": [
    "# Selection of the data with isin()\n",
    "sex_mask = surveys_df['sex']###\n",
    "weight_mask = surveys_df['weight'] ###\n",
    "columns = ['weight', 'plot_id', 'sex']\n",
    "\n",
    "selection = surveys_df###\n",
    "selection.tail()"
   ]
  },
  {
   "cell_type": "code",
   "execution_count": null,
   "id": "3875322b-88fd-4d25-982a-f4ea49472304",
   "metadata": {
    "lang": "fr",
    "tags": [
     "soln"
    ]
   },
   "outputs": [],
   "source": [
    "# Grouper selon les sites et les sexes, calculer les moyennes\n",
    "moy_par_site_sexe = selection.groupby(['plot_id', 'sex']).mean()\n",
    "moy_par_site_sexe.tail()"
   ]
  },
  {
   "cell_type": "code",
   "execution_count": null,
   "id": "2cce5b19-9ea7-46cd-9e9d-e566cf962be1",
   "metadata": {
    "lang": "fr",
    "tags": [
     "exer"
    ]
   },
   "outputs": [],
   "source": [
    "# Grouper selon les sites et les sexes, calculer les moyennes\n",
    "moy_par_site_sexe = selection###\n",
    "moy_par_site_sexe.tail()"
   ]
  },
  {
   "cell_type": "code",
   "execution_count": null,
   "id": "25667d05-1ae4-4eda-bd88-4a54ae02b13d",
   "metadata": {
    "lang": "en",
    "tags": [
     "soln"
    ]
   },
   "outputs": [],
   "source": [
    "# Calculate the mean weight for each plot_id and sex combination: \n",
    "avg_by_site_sex = selection.groupby(['plot_id', 'sex']).mean()\n",
    "avg_by_site_sex.head()"
   ]
  },
  {
   "cell_type": "code",
   "execution_count": null,
   "id": "787b8a88-f86e-4dc8-8059-9e6db7b1ef71",
   "metadata": {
    "lang": "en",
    "tags": [
     "exer"
    ]
   },
   "outputs": [],
   "source": [
    "# Calculate the mean weight for each plot_id and sex combination: \n",
    "avg_by_site_sex = selection###\n",
    "avg_by_site_sex.head()"
   ]
  },
  {
   "cell_type": "code",
   "execution_count": null,
   "id": "a9657ac7-81af-4cd0-bed3-621834048043",
   "metadata": {
    "lang": "fr",
    "tags": [
     "soln"
    ]
   },
   "outputs": [],
   "source": [
    "# Transformer les catégories de sexe en noms de colonne\n",
    "table_site_sexe = moy_par_site_sexe.unstack()\n",
    "\n",
    "# L'entête contient deux niveaux. Pour enlever le premier niveau :\n",
    "table_site_sexe.columns = table_site_sexe.columns.droplevel()\n",
    "table_site_sexe.tail()"
   ]
  },
  {
   "cell_type": "code",
   "execution_count": null,
   "id": "8571c63a-6c73-43eb-89ed-e772e1e9fd1e",
   "metadata": {
    "lang": "fr",
    "tags": [
     "exer"
    ]
   },
   "outputs": [],
   "source": [
    "# Transformer les catégories de sexe en noms de colonne\n",
    "table_site_sexe = moy_par_site_sexe.unstack()\n",
    "\n",
    "# L'entête contient deux niveaux. Pour enlever le premier niveau :\n",
    "# table_site_sexe.columns = table_site_sexe.columns.droplevel()\n",
    "table_site_sexe.tail()"
   ]
  },
  {
   "cell_type": "code",
   "execution_count": null,
   "id": "f9deccad-37a1-4489-b5d9-e3f8284dda00",
   "metadata": {
    "lang": "en",
    "tags": [
     "soln"
    ]
   },
   "outputs": [],
   "source": [
    "# Transform categorical values into columns\n",
    "table_site_sex = avg_by_site_sex.unstack()\n",
    "\n",
    "# The legend header contains two levels. To remove the first level:\n",
    "table_site_sex.columns = table_site_sex.columns.droplevel()\n",
    "table_site_sex.tail()"
   ]
  },
  {
   "cell_type": "code",
   "execution_count": null,
   "id": "fc477d1c-0cdb-4312-b505-6afbaa5209f4",
   "metadata": {
    "lang": "en",
    "tags": [
     "exer"
    ]
   },
   "outputs": [],
   "source": [
    "# Transform categorical values into columns\n",
    "table_site_sex = avg_by_site_sex.unstack()\n",
    "\n",
    "# The legend header contains two levels. To remove the first level:\n",
    "# table_site_sex.columns = table_site_sex.columns.droplevel()\n",
    "table_site_sex.tail()"
   ]
  },
  {
   "cell_type": "code",
   "execution_count": null,
   "id": "dc01d427-8519-4602-8522-e9d363953836",
   "metadata": {
    "lang": "fr"
   },
   "outputs": [],
   "source": [
    "# Créer le stacked bar plot\n",
    "table_site_sexe.plot(kind='bar', stacked=True)"
   ]
  },
  {
   "cell_type": "code",
   "execution_count": null,
   "id": "f9139ad6-7662-46bf-98d5-b3c5bfadd9a7",
   "metadata": {
    "lang": "en"
   },
   "outputs": [],
   "source": [
    "# And we can make a stacked bar plot from this:\n",
    "table_site_sex.plot(kind='bar', stacked=True)"
   ]
  },
  {
   "cell_type": "markdown",
   "id": "a2584e88-879e-4a8f-bcdc-b6bd0cba34a2",
   "metadata": {
    "lang": "fr"
   },
   "source": [
    "`3`. L'opérateur `~` peut être utilisé pour retourner l'opposé d'une\n",
    "sélection. C'est l'équivalent de **n'est pas**. Écrivez une requête\n",
    "sélectionnant tous les enregistrements ne contenant ni `F`, ni `M`."
   ]
  },
  {
   "cell_type": "markdown",
   "id": "7ffd5c69-247f-46e1-99b2-32a035f1554f",
   "metadata": {
    "lang": "en"
   },
   "source": [
    "`3`. The `~` symbol in Python can be used to return the OPPOSITE\n",
    "of the selection that you specify in python. It is equivalent\n",
    "to **is not in**. Write a query that selects all rows\n",
    "that are NOT equal to `F` or `M` in the surveys data."
   ]
  },
  {
   "cell_type": "code",
   "execution_count": null,
   "id": "e62ce6d3-edc1-4fce-9474-4abaa80b4ba9",
   "metadata": {
    "lang": "fr",
    "tags": [
     "soln"
    ]
   },
   "outputs": [],
   "source": [
    "surveys_df[~cond_sexe]"
   ]
  },
  {
   "cell_type": "code",
   "execution_count": null,
   "id": "a4247e87-ca2a-47f1-9cb8-7a467fad8498",
   "metadata": {
    "lang": "fr",
    "tags": [
     "exer"
    ]
   },
   "outputs": [],
   "source": [
    "surveys_df[###cond_sexe]"
   ]
  },
  {
   "cell_type": "code",
   "execution_count": null,
   "id": "1ef4b2e5-808d-4f9b-83e2-c47a7be6f8b1",
   "metadata": {
    "lang": "en",
    "tags": [
     "soln"
    ]
   },
   "outputs": [],
   "source": [
    "surveys_df[~sex_mask]"
   ]
  },
  {
   "cell_type": "code",
   "execution_count": null,
   "id": "41f2fcb5-26a0-4b51-a143-61b4ed4fba63",
   "metadata": {
    "lang": "en",
    "tags": [
     "exer"
    ]
   },
   "outputs": [],
   "source": [
    "surveys_df[###sex_mask]"
   ]
  },
  {
   "cell_type": "markdown",
   "id": "9fcb21ff-d26b-48c5-8218-9f06d29eae21",
   "metadata": {
    "lang": "fr"
   },
   "source": [
    "## Résumé technique\n",
    "* **Sélection**\n",
    "  * `df[]` :\n",
    "    * Avec une liste : sélection de colonnes\n",
    "    * Avec un vecteur de valeurs booléennes : sélection de lignes\n",
    "  * `df.loc[lignes, colonnes]` :\n",
    "    * Avec une liste : pour des lignes ou colonnes de données\n",
    "    * Intervalle avec `:` : pour des lignes ou colonnes de données\n",
    "      * Les deux limites sont incluses\n",
    "    * Avec un vecteur de valeurs booléennes :\n",
    "      sélection de lignes de données\n",
    "    * Permet l'assignation d'une valeur selon la sélection\n",
    "  * `colonne.isin([valeur1, valeur2, ...])`\n",
    "* **Opérateurs** sur les valeurs d'une ou de deux colonnes :\n",
    "  * De comparaison : `<`, `<=`, `==`, `!=`, `>=`, `>`\n",
    "  * Booléens : `~`, `|`, `&`"
   ]
  },
  {
   "cell_type": "markdown",
   "id": "787a73d0-7757-41b7-81e1-fa3d85f64b20",
   "metadata": {
    "lang": "en"
   },
   "source": [
    "## Technical Summary\n",
    "* **Selection**\n",
    "  * `df[]` :\n",
    "    * With a list: selection of columns\n",
    "    * With a vector of boolean values: selection of rows\n",
    "  * `df.loc[rows, columns]` :\n",
    "    * With a list: for rows and columns\n",
    "    * With a range with the `:` notation: for rows and columns\n",
    "      * Both limits in the range are included\n",
    "    * With a vector of boolean values: selection of rows\n",
    "    * Allows overwriting the selection with new values\n",
    "  * `column.isin([value1, value2, ...])`\n",
    "* **Operators** on values of one or two columns:\n",
    "  * Comparison: `<`, `<=`, `==`, `!=`, `>=`, `>`\n",
    "  * Boolean: `~`, `|`, `&`"
   ]
  },
  {
   "cell_type": "code",
   "execution_count": null,
   "id": "47b7b252-bebd-4d19-9237-24b9b075f433",
   "metadata": {},
   "outputs": [],
   "source": []
  }
 ],
 "metadata": {
  "kernelspec": {
   "display_name": "Python 3 (ipykernel)",
   "language": "python",
   "name": "python3"
  },
  "language_info": {
   "codemirror_mode": {
    "name": "ipython",
    "version": 3
   },
   "file_extension": ".py",
   "mimetype": "text/x-python",
   "name": "python",
   "nbconvert_exporter": "python",
   "pygments_lexer": "ipython3",
   "version": "3.11.7"
  }
 },
 "nbformat": 4,
 "nbformat_minor": 5
}
