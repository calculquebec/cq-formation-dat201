{
 "cells": [
  {
   "cell_type": "markdown",
   "id": "8ebf5518-0d7b-4374-b382-645b577b3a0b",
   "metadata": {
    "lang": "fr"
   },
   "source": [
    "# Analyse de données avec Python\n",
    "## Combiner des DataFrames avec Pandas\n",
    "Questions\n",
    "* Peut-on travaillers avec plusieurs sources de données?\n",
    "* Comment combiner les données de deux DataFrames?\n",
    "\n",
    "Objectifs\n",
    "* Combiner les données de plusieurs fichiers en utilisant `concat` et `merge`.\n",
    "* Combiner deux DataFrames utilisant un identifiant commun."
   ]
  },
  {
   "cell_type": "markdown",
   "id": "9cfffc51-c9a5-4dc7-b1aa-6a370e3356e2",
   "metadata": {
    "lang": "en"
   },
   "source": [
    "# Data Analysis with Python\n",
    "## Combining DataFrames with pandas\n",
    "Questions\n",
    "* Can I work with data from multiple sources?\n",
    "* How can I combine data from different data sets?\n",
    "\n",
    "Objectives\n",
    "* Combine data from multiple files into a single DataFrame using `concat` and `merge`.\n",
    "* Combine two DataFrames using a unique ID found in both DataFrames."
   ]
  },
  {
   "cell_type": "markdown",
   "id": "097571c7-a0b7-4eb2-b4a4-1556dcc4e714",
   "metadata": {
    "lang": "fr"
   },
   "source": [
    "## Charger nos données"
   ]
  },
  {
   "cell_type": "markdown",
   "id": "6e68a265-f190-499f-bf65-6a6d01939d17",
   "metadata": {
    "lang": "en"
   },
   "source": [
    "## Loading our data"
   ]
  },
  {
   "cell_type": "code",
   "execution_count": null,
   "id": "3a09ffac-3947-4569-b4c2-936c75290d7b",
   "metadata": {
    "lang": "fr"
   },
   "outputs": [],
   "source": [
    "# Charger le module pandas\n",
    "import pandas as pd\n",
    "\n",
    "# Lister une collection de fichiers CSV\n",
    "from glob import glob\n",
    "glob('../data/by_year/*.csv')"
   ]
  },
  {
   "cell_type": "code",
   "execution_count": null,
   "id": "60f159db-e97b-4e25-a153-38169c6cb668",
   "metadata": {
    "lang": "en"
   },
   "outputs": [],
   "source": [
    "# First make sure pandas is loaded\n",
    "import pandas as pd\n",
    "\n",
    "# List a collection of CSV files\n",
    "from glob import glob\n",
    "glob('../data/by_year/*.csv')"
   ]
  },
  {
   "cell_type": "markdown",
   "id": "090b572f-109f-4ba9-a672-397fb1870adb",
   "metadata": {
    "lang": "fr"
   },
   "source": [
    "## Concaténer des DataFrames"
   ]
  },
  {
   "cell_type": "markdown",
   "id": "db86a855-e8f4-4398-afb9-0d65e7bcf63e",
   "metadata": {
    "lang": "en"
   },
   "source": [
    "## Concatenating DataFrames"
   ]
  },
  {
   "cell_type": "code",
   "execution_count": null,
   "id": "443bc07b-e599-4581-bbfc-532cf72fe895",
   "metadata": {
    "lang": "fr"
   },
   "outputs": [],
   "source": [
    "annee2001 = pd.read_csv('../data/by_year/surveys_2001.csv')\n",
    "annee2002 = pd.read_csv('../data/by_year/surveys_2002.csv')\n",
    "\n",
    "print(annee2001.shape, annee2002.shape)"
   ]
  },
  {
   "cell_type": "code",
   "execution_count": null,
   "id": "0244dce5-9e9d-46bf-890c-8fed49da06b1",
   "metadata": {
    "lang": "en"
   },
   "outputs": [],
   "source": [
    "year2001 = pd.read_csv('../data/by_year/surveys_2001.csv')\n",
    "year2002 = pd.read_csv('../data/by_year/surveys_2002.csv')\n",
    "\n",
    "print(year2001.shape, year2002.shape)"
   ]
  },
  {
   "cell_type": "code",
   "execution_count": null,
   "id": "415f3781-4a2c-4a89-a93b-43f4f588fb48",
   "metadata": {
    "lang": "fr"
   },
   "outputs": [],
   "source": [
    "# Concaténer les dataframes verticalement\n",
    "vertical = pd.concat([annee2001, annee2002], axis='index')\n",
    "vertical"
   ]
  },
  {
   "cell_type": "code",
   "execution_count": null,
   "id": "b341989a-9d5a-464e-85d0-4202165742b1",
   "metadata": {
    "lang": "en"
   },
   "outputs": [],
   "source": [
    "# Stack the DataFrames on top of each other\n",
    "vertical = pd.concat([year2001, year2002], axis='index')\n",
    "vertical"
   ]
  },
  {
   "cell_type": "code",
   "execution_count": null,
   "id": "1d8bcfde-4379-4ae0-9692-61e1a4fcf518",
   "metadata": {
    "lang": "fr"
   },
   "outputs": [],
   "source": [
    "# Réinitaliser l'index du dataframe\n",
    "# L'option drop=True évite l'ajout d'une colonne avec l'ancien index\n",
    "vertical = vertical.reset_index(drop=True)\n",
    "vertical"
   ]
  },
  {
   "cell_type": "code",
   "execution_count": null,
   "id": "4790592e-20d8-4581-91e1-6ab3040daa4a",
   "metadata": {
    "lang": "en"
   },
   "outputs": [],
   "source": [
    "# Reset index values of the dataframe\n",
    "# The drop=True option avoids adding new index column with old index values\n",
    "vertical = vertical.reset_index(drop=True)\n",
    "vertical"
   ]
  },
  {
   "cell_type": "code",
   "execution_count": null,
   "id": "4b6c2c9e-5fe9-47a5-b9f5-da8b9261730d",
   "metadata": {
    "lang": "fr"
   },
   "outputs": [],
   "source": [
    "# Accumuler les données de tous les fichiers de la collection\n",
    "surveys_df = pd.DataFrame()  # DataFrame vide\n",
    "\n",
    "for fichier in glob('../data/by_year/*.csv'):\n",
    "    df_annee = pd.read_csv(fichier)\n",
    "    surveys_df = pd.concat([surveys_df, df_annee], axis='index')\n",
    "\n",
    "surveys_df = surveys_df.reset_index(drop=True)\n",
    "surveys_df"
   ]
  },
  {
   "cell_type": "code",
   "execution_count": null,
   "id": "c0bf78a2-7880-4e13-9a1e-03fc5af1ca42",
   "metadata": {
    "lang": "en"
   },
   "outputs": [],
   "source": [
    "# Accumulate data from all files in the collection\n",
    "surveys_df = pd.DataFrame()  # Empty DataFrame\n",
    "\n",
    "for filename in glob('../data/by_year/*.csv'):\n",
    "    df_year = pd.read_csv(filename)\n",
    "    surveys_df = pd.concat([surveys_df, df_year], axis='index')\n",
    "\n",
    "surveys_df = surveys_df.reset_index(drop=True)\n",
    "surveys_df"
   ]
  },
  {
   "cell_type": "markdown",
   "id": "b461017c-5fce-468d-bde7-5efc9b6b5d09",
   "metadata": {
    "lang": "fr"
   },
   "source": [
    "## Exercice - Concaténer des DataFrames\n",
    "* Chargez les données de tous les fichiers CSV du répertoire\n",
    "  `../data/by_species_id/` et accumulez-les dans `surveys_sp`.\n",
    "* Réinitialisez l'index sans préserver celui accumulé.\n",
    "\n",
    "(4 min.)"
   ]
  },
  {
   "cell_type": "markdown",
   "id": "581fbb73-48de-49ca-bef7-3ab59258d5e3",
   "metadata": {
    "lang": "en"
   },
   "source": [
    "## Exercise - Concatenating DataFrames\n",
    "* Load the data from all CSV files in the directory\n",
    "  `../data/by_species_id/` and accumulate them in `surveys_sp`.\n",
    "* Reset the index while dropping the accumulated one.\n",
    "\n",
    "(4 min.)"
   ]
  },
  {
   "cell_type": "code",
   "execution_count": null,
   "id": "5ee31d9d-3250-4dee-a251-1944abf96bb2",
   "metadata": {
    "lang": "fr",
    "tags": [
     "soln"
    ]
   },
   "outputs": [],
   "source": [
    "surveys_sp = pd.DataFrame()  # DataFrame vide\n",
    "\n",
    "for fichier in glob('../data/by_species_id/*.csv'):\n",
    "    nouveau_df = pd.read_csv(fichier)\n",
    "    surveys_sp = pd.concat([surveys_sp, nouveau_df], axis='index')\n",
    "\n",
    "surveys_sp = surveys_sp.reset_index(drop=True)\n",
    "surveys_sp"
   ]
  },
  {
   "cell_type": "code",
   "execution_count": null,
   "id": "180f3161-1ae5-470a-9702-c26ac2b9de3a",
   "metadata": {
    "lang": "fr",
    "tags": [
     "exer"
    ]
   },
   "outputs": [],
   "source": [
    "surveys_sp = pd.DataFrame()  # DataFrame vide\n",
    "\n",
    "for fichier in ###('../data/by_species_id/*.csv'):\n",
    "    nouveau_df = pd.read_csv(fichier)\n",
    "    surveys_sp = pd.###([###, nouveau_df], ###='index')\n",
    "\n",
    "surveys_sp = surveys_sp.###(drop=###)\n",
    "surveys_sp"
   ]
  },
  {
   "cell_type": "code",
   "execution_count": null,
   "id": "326d5477-682d-4806-a599-cb3480c3ac90",
   "metadata": {
    "lang": "en",
    "tags": [
     "soln"
    ]
   },
   "outputs": [],
   "source": [
    "surveys_sp = pd.DataFrame()  # Empty DataFrame\n",
    "\n",
    "for filename in glob('../data/by_species_id/*.csv'):\n",
    "    new_df = pd.read_csv(filename)\n",
    "    surveys_sp = pd.concat([surveys_sp, new_df], axis='index')\n",
    "\n",
    "surveys_sp = surveys_sp.reset_index(drop=True)\n",
    "surveys_sp"
   ]
  },
  {
   "cell_type": "code",
   "execution_count": null,
   "id": "87b1c91f-2600-401e-9952-7cf1aee0e2d2",
   "metadata": {
    "lang": "en",
    "tags": [
     "exer"
    ]
   },
   "outputs": [],
   "source": [
    "surveys_sp = pd.DataFrame()  # Empty DataFrame\n",
    "\n",
    "for filename in ###('../data/by_species_id/*.csv'):\n",
    "    new_df = pd.read_csv(filename)\n",
    "    surveys_sp = pd.###([###, new_df], ###='index')\n",
    "\n",
    "surveys_sp = surveys_sp.###(drop=###)\n",
    "surveys_sp"
   ]
  },
  {
   "cell_type": "markdown",
   "id": "706b172d-43e4-4fbe-957d-dc3fda02d15f",
   "metadata": {
    "lang": "fr"
   },
   "source": [
    "* Calculez le poids moyen selon l'espèce et le sexe (1 min.)"
   ]
  },
  {
   "cell_type": "markdown",
   "id": "4eacaca5-19e9-48c4-bbe7-74e28323d13a",
   "metadata": {
    "lang": "en"
   },
   "source": [
    "* Compute the average weight by sex for each species. (1 min.)"
   ]
  },
  {
   "cell_type": "code",
   "execution_count": null,
   "id": "dc8a6498-a938-40e4-aacb-408a92da46cc",
   "metadata": {
    "lang": "fr",
    "tags": [
     "soln"
    ]
   },
   "outputs": [],
   "source": [
    "# Calculer le poids moyen par espèce et par sexe\n",
    "poids_espece = surveys_sp.groupby(\n",
    "    ['species_id', 'sex'])['weight'].mean().unstack()\n",
    "poids_espece"
   ]
  },
  {
   "cell_type": "code",
   "execution_count": null,
   "id": "4a1069d6-395d-46ba-984e-f2fce805490c",
   "metadata": {
    "lang": "fr",
    "tags": [
     "exer"
    ]
   },
   "outputs": [],
   "source": [
    "# Calculer le poids moyen par espèce et par sexe\n",
    "poids_espece = surveys_sp.groupby(\n",
    "    ['species_id', 'sex'])###.unstack()\n",
    "poids_espece"
   ]
  },
  {
   "cell_type": "code",
   "execution_count": null,
   "id": "18cc5c80-2f89-4821-9b9a-265aaffa16a5",
   "metadata": {
    "lang": "en",
    "tags": [
     "soln"
    ]
   },
   "outputs": [],
   "source": [
    "# Get the average weight by sex for each species\n",
    "weight_species = surveys_sp.groupby(\n",
    "    ['species_id', 'sex'])['weight'].mean().unstack()\n",
    "weight_species"
   ]
  },
  {
   "cell_type": "code",
   "execution_count": null,
   "id": "7fb672b3-f055-4347-98b2-c42f8d034409",
   "metadata": {
    "lang": "en",
    "tags": [
     "exer"
    ]
   },
   "outputs": [],
   "source": [
    "# Get the average weight by sex for each species\n",
    "weight_species = surveys_sp.groupby(\n",
    "    ['species_id', 'sex'])###.unstack()\n",
    "weight_species"
   ]
  },
  {
   "cell_type": "markdown",
   "id": "7bcb08cd-40d9-45c1-bcca-8bdfe1e20b01",
   "metadata": {
    "lang": "fr"
   },
   "source": [
    "* Sauvegardez le tableau des moyennes\n",
    "  dans un fichier CSV et le recharger (3 min.)"
   ]
  },
  {
   "cell_type": "markdown",
   "id": "96877605-e612-45fb-8203-438b2b72a9c1",
   "metadata": {
    "lang": "en"
   },
   "source": [
    "* Export your results as a CSV file and make sure\n",
    "  it reads back into python properly. (3 min.)"
   ]
  },
  {
   "cell_type": "code",
   "execution_count": null,
   "id": "bcfef752-2a55-4855-964f-8f74cf470d34",
   "metadata": {
    "lang": "fr",
    "tags": [
     "soln"
    ]
   },
   "outputs": [],
   "source": [
    "# Écrire dans un fichier - garder l'index 'species_id' cette fois-ci\n",
    "fichier_csv = 'poids_par_espece.csv'\n",
    "poids_espece.to_csv(fichier_csv, index=True)\n",
    "\n",
    "# Relire les données, fournir le nom de l'index\n",
    "pd.read_csv(fichier_csv, index_col='species_id')"
   ]
  },
  {
   "cell_type": "code",
   "execution_count": null,
   "id": "b5e4bfd8-8890-47b6-b30a-026d7374542e",
   "metadata": {
    "lang": "fr",
    "tags": [
     "exer"
    ]
   },
   "outputs": [],
   "source": [
    "# Écrire dans un fichier - garder l'index 'species_id' cette fois-ci\n",
    "fichier_csv = 'poids_par_espece.csv'\n",
    "poids_espece###\n",
    "\n",
    "# Relire les données, fournir le nom de l'index\n",
    "pd.read_csv(fichier_csv, index_col=###)"
   ]
  },
  {
   "cell_type": "code",
   "execution_count": null,
   "id": "17c8f9fc-72f4-45a5-902e-30e22f43d32c",
   "metadata": {
    "lang": "en",
    "tags": [
     "soln"
    ]
   },
   "outputs": [],
   "source": [
    "# Writing to file while keeping the index\n",
    "csv_file = 'weight_by_species.csv'\n",
    "weight_species.to_csv(csv_file, index=True)\n",
    "\n",
    "# Reading it back in with a specified index column\n",
    "pd.read_csv(csv_file, index_col='species_id')"
   ]
  },
  {
   "cell_type": "code",
   "execution_count": null,
   "id": "7e550995-8596-450b-bcbf-d08baf66d7e8",
   "metadata": {
    "lang": "en",
    "tags": [
     "exer"
    ]
   },
   "outputs": [],
   "source": [
    "# Writing to file while keeping the index\n",
    "csv_file = 'weight_by_species.csv'\n",
    "weight_species###\n",
    "\n",
    "# Reading it back in with a specified index column\n",
    "pd.read_csv(csv_file, index_col=###)"
   ]
  },
  {
   "cell_type": "markdown",
   "id": "dc896d73-d6c1-495b-a8c0-1696343f86c9",
   "metadata": {
    "lang": "fr"
   },
   "source": [
    "## Joindre deux DataFrames"
   ]
  },
  {
   "cell_type": "markdown",
   "id": "614e90c6-0591-4503-a36b-6f07fc0f6bbb",
   "metadata": {
    "lang": "en"
   },
   "source": [
    "## Joining Two DataFrames"
   ]
  },
  {
   "cell_type": "code",
   "execution_count": null,
   "id": "badf9df5-6d49-4df1-8991-9feb6b6a07e1",
   "metadata": {
    "lang": "fr"
   },
   "outputs": [],
   "source": [
    "# Importer un sous-ensemble des espèces pour cet exemple\n",
    "trois_especes = pd.read_csv('../data/speciesSubset.csv')\n",
    "trois_especes"
   ]
  },
  {
   "cell_type": "code",
   "execution_count": null,
   "id": "588cde42-08c6-4d94-a2eb-43dfff281316",
   "metadata": {
    "lang": "en"
   },
   "outputs": [],
   "source": [
    "# Import a small subset of the species data designed for this part of the lesson\n",
    "species_sub = pd.read_csv('../data/speciesSubset.csv')\n",
    "species_sub"
   ]
  },
  {
   "cell_type": "markdown",
   "id": "d7811c50-7961-422a-8091-d4f6dc2d6d6f",
   "metadata": {
    "lang": "fr"
   },
   "source": [
    "### Identifier les clés de jonction"
   ]
  },
  {
   "cell_type": "markdown",
   "id": "8886c399-91c5-49f9-afe5-7095d303ed78",
   "metadata": {
    "lang": "en"
   },
   "source": [
    "### Identifying join keys"
   ]
  },
  {
   "cell_type": "code",
   "execution_count": null,
   "id": "f2b0fb1d-0a90-47d1-b016-caf51a192033",
   "metadata": {
    "lang": "en,fr"
   },
   "outputs": [],
   "source": [
    "surveys_df.columns"
   ]
  },
  {
   "cell_type": "code",
   "execution_count": null,
   "id": "aecd233d-0690-452a-a1b2-3095bde38a3e",
   "metadata": {
    "lang": "fr"
   },
   "outputs": [],
   "source": [
    "trois_especes.columns"
   ]
  },
  {
   "cell_type": "code",
   "execution_count": null,
   "id": "a6d18e56-0971-48fe-943d-5c69e230c882",
   "metadata": {
    "lang": "en"
   },
   "outputs": [],
   "source": [
    "species_sub.columns"
   ]
  },
  {
   "cell_type": "markdown",
   "id": "59ea3672-6e54-4386-8a24-b19e6aac3992",
   "metadata": {
    "lang": "fr"
   },
   "source": [
    "### Une intersection ou \"inner join\""
   ]
  },
  {
   "cell_type": "markdown",
   "id": "337270c3-6552-447b-9bd4-c2871f2ff5fa",
   "metadata": {
    "lang": "en"
   },
   "source": [
    "### Inner joins"
   ]
  },
  {
   "cell_type": "markdown",
   "id": "b7884627-7d4c-42bd-8f39-01888a859a63",
   "metadata": {
    "lang": "en,fr"
   },
   "source": [
    "![Inner join of tables A and B](https://datacarpentry.org/python-ecology-lesson/fig/inner-join.png)"
   ]
  },
  {
   "cell_type": "code",
   "execution_count": null,
   "id": "ff0d7ff4-8fef-401e-8a7b-98e8553876ff",
   "metadata": {
    "lang": "fr"
   },
   "outputs": [],
   "source": [
    "premiers10 = surveys_df.head(10)\n",
    "\n",
    "# Calculer l'intersection de premiers10 et trois_especes\n",
    "cle = 'species_id'\n",
    "intersection = pd.merge(left=premiers10, right=trois_especes,\n",
    "                        left_on=cle, right_on=cle)\n",
    "# Quelle est la taille de la jonction?\n",
    "intersection.shape"
   ]
  },
  {
   "cell_type": "code",
   "execution_count": null,
   "id": "3546893f-e483-4cc0-9880-7997abc8d7ed",
   "metadata": {
    "lang": "en"
   },
   "outputs": [],
   "source": [
    "head10 = surveys_df.head(10)\n",
    "\n",
    "# Computing the inner join of head10 and species_sub\n",
    "key = 'species_id'\n",
    "merged_inner = pd.merge(left=head10, right=species_sub,\n",
    "                        left_on=key, right_on=key)\n",
    "# What's the size of the output data?\n",
    "merged_inner.shape"
   ]
  },
  {
   "cell_type": "code",
   "execution_count": null,
   "id": "6e2cfa44-d71c-45ba-a0c4-fd5feffec917",
   "metadata": {
    "lang": "fr"
   },
   "outputs": [],
   "source": [
    "intersection"
   ]
  },
  {
   "cell_type": "code",
   "execution_count": null,
   "id": "a86e40a8-485c-49b4-bf18-a190bf29dd76",
   "metadata": {
    "lang": "en"
   },
   "outputs": [],
   "source": [
    "merged_inner"
   ]
  },
  {
   "cell_type": "markdown",
   "id": "cdf28f38-42e0-4459-a68a-623bc4933f91",
   "metadata": {
    "lang": "fr"
   },
   "source": [
    "### Jonction de gauche"
   ]
  },
  {
   "cell_type": "markdown",
   "id": "2d97c671-947c-4a12-b7d1-f7cc3d9d1dcd",
   "metadata": {
    "lang": "en"
   },
   "source": [
    "### Left joins"
   ]
  },
  {
   "cell_type": "markdown",
   "id": "07ceaa41-1012-4ea2-817d-c7be7671f7d3",
   "metadata": {
    "lang": "en,fr"
   },
   "source": [
    "![Left join of tables A and B](https://datacarpentry.org/python-ecology-lesson/fig/left-join.png)"
   ]
  },
  {
   "cell_type": "code",
   "execution_count": null,
   "id": "6f8bbcbb-20a9-46c5-82fd-146230b5fc75",
   "metadata": {
    "lang": "fr"
   },
   "outputs": [],
   "source": [
    "jonc_gauche = pd.merge(left=premiers10, right=trois_especes,\n",
    "                       on=cle, how='left')\n",
    "# Quelle est la taille de la jonction?\n",
    "jonc_gauche.shape"
   ]
  },
  {
   "cell_type": "code",
   "execution_count": null,
   "id": "a2ed8150-1371-472f-ab05-ccfe447a93f3",
   "metadata": {
    "lang": "en"
   },
   "outputs": [],
   "source": [
    "merged_left = pd.merge(left=head10, right=species_sub,\n",
    "                       on=key, how='left')\n",
    "# What's the size of the output data?\n",
    "merged_left.shape"
   ]
  },
  {
   "cell_type": "code",
   "execution_count": null,
   "id": "193645c5-1ffc-43cb-8c58-a304ac29603e",
   "metadata": {
    "lang": "fr"
   },
   "outputs": [],
   "source": [
    "jonc_gauche"
   ]
  },
  {
   "cell_type": "code",
   "execution_count": null,
   "id": "d84c5d8d-97c4-439d-99b6-682884f7c813",
   "metadata": {
    "lang": "en"
   },
   "outputs": [],
   "source": [
    "merged_left"
   ]
  },
  {
   "cell_type": "markdown",
   "id": "97689730-27e0-498b-9567-b3cff0a96102",
   "metadata": {
    "lang": "fr"
   },
   "source": [
    "### Les autres types de jonction\n",
    "* `how='right'` : toutes les lignes du second DataFrame sont gardées\n",
    "* `how='outer'` : équivalent d'une union, toutes les lignes sont gardées"
   ]
  },
  {
   "cell_type": "markdown",
   "id": "534ffdf2-f5c2-443e-a1a3-f8c366fd37b9",
   "metadata": {
    "lang": "en"
   },
   "source": [
    "### Other join types\n",
    "* `how='right'` : all rows from the right DataFrame are kept\n",
    "* `how='outer'` : all pairwise combinations of rows from both DataFrames"
   ]
  },
  {
   "cell_type": "markdown",
   "id": "69ec9242-bede-4bf0-8fa7-cab8109d5f3d",
   "metadata": {
    "lang": "fr"
   },
   "source": [
    "## Exercice - Joindre toutes les données\n",
    "`1`. Créez un nouveau DataFrame tel que tous les\n",
    "enregistrements de `surveys_df` sont gardés dans une jonction\n",
    "impliquant les informations correspondantes de `species.csv`.\n",
    "(3 min.)"
   ]
  },
  {
   "cell_type": "markdown",
   "id": "c36b0730-bb64-4853-b8ec-72ce5bcfe177",
   "metadata": {
    "lang": "en"
   },
   "source": [
    "## Exercise - Joining all data\n",
    "`1`. Create a new DataFrame by joining the contents of the\n",
    "`surveys_df` and `species.csv` tables. Keep all survey records.\n",
    "(3 min.)"
   ]
  },
  {
   "cell_type": "code",
   "execution_count": null,
   "id": "917cc739-e4f1-4af2-8cc9-b2af31922c2f",
   "metadata": {
    "lang": "fr",
    "tags": [
     "soln"
    ]
   },
   "outputs": [],
   "source": [
    "species_df = pd.read_csv('../data/species.csv')\n",
    "\n",
    "jonc_gauche = pd.merge(\n",
    "    left=surveys_df, right=species_df, on='species_id', how='left')\n",
    "jonc_gauche.shape"
   ]
  },
  {
   "cell_type": "code",
   "execution_count": null,
   "id": "3287d675-cf87-4ddd-9659-704308e27f1f",
   "metadata": {
    "lang": "fr",
    "tags": [
     "exer"
    ]
   },
   "outputs": [],
   "source": [
    "species_df = pd.read_csv('../data/species.csv')\n",
    "\n",
    "jonc_gauche = pd.merge(\n",
    "    left=surveys_df, right=###, on=###, how=###)\n",
    "jonc_gauche.shape"
   ]
  },
  {
   "cell_type": "code",
   "execution_count": null,
   "id": "7384e3f2-d1a7-47d7-83d4-24c99d25bc8c",
   "metadata": {
    "lang": "en",
    "tags": [
     "soln"
    ]
   },
   "outputs": [],
   "source": [
    "species_df = pd.read_csv('../data/species.csv')\n",
    "\n",
    "merged_left = pd.merge(\n",
    "    left=surveys_df, right=species_df, on='species_id', how='left')\n",
    "merged_left.shape"
   ]
  },
  {
   "cell_type": "code",
   "execution_count": null,
   "id": "0b4c1071-e88d-49fc-97c6-d7b748ca7631",
   "metadata": {
    "lang": "en",
    "tags": [
     "exer"
    ]
   },
   "outputs": [],
   "source": [
    "species_df = pd.read_csv('../data/species.csv')\n",
    "\n",
    "merged_left = pd.merge(\n",
    "    left=surveys_df, right=###, on=###, how=###)\n",
    "merged_left.shape"
   ]
  },
  {
   "cell_type": "markdown",
   "id": "c73dbf89-6de4-49e5-b1e4-36871d6e51ce",
   "metadata": {
    "lang": "fr"
   },
   "source": [
    "`2`. Calculez et créez un graphique montrant l'évolution de la\n",
    "longueur moyenne des arrière-pieds (`'hindfoot_length'`) pour\n",
    "chaque genre d'espèce (`'genus'`) d'une année à l'autre. (3 min.)"
   ]
  },
  {
   "cell_type": "markdown",
   "id": "f05959ac-89bf-4741-9abc-103a24855936",
   "metadata": {
    "lang": "en"
   },
   "source": [
    "`2`. Calculate and plot the evolution of the average\n",
    "hindfoot length for each genus from year to year. (3 min.)"
   ]
  },
  {
   "cell_type": "code",
   "execution_count": null,
   "id": "129f208f-cd87-4e70-9d95-0b25353bff56",
   "metadata": {
    "lang": "fr",
    "tags": [
     "soln"
    ]
   },
   "outputs": [],
   "source": [
    "longueurs_moyennes = jonc_gauche.groupby(\n",
    "    ['year', 'genus'])['hindfoot_length'].mean().unstack()\n",
    "longueurs_moyennes.tail()"
   ]
  },
  {
   "cell_type": "code",
   "execution_count": null,
   "id": "4ab49a4e-1360-458f-bf1e-a27eddc923d5",
   "metadata": {
    "lang": "fr",
    "tags": [
     "exer"
    ]
   },
   "outputs": [],
   "source": [
    "longueurs_moyennes = jonc_gauche.###(\n",
    "    ###)['hindfoot_length']###\n",
    "longueurs_moyennes.tail()"
   ]
  },
  {
   "cell_type": "code",
   "execution_count": null,
   "id": "613f393e-d873-4d71-8318-e39db606d60f",
   "metadata": {
    "lang": "en",
    "tags": [
     "soln"
    ]
   },
   "outputs": [],
   "source": [
    "average_lengths = merged_left.groupby(\n",
    "    ['year', 'genus'])['hindfoot_length'].mean().unstack()\n",
    "average_lengths.tail()"
   ]
  },
  {
   "cell_type": "code",
   "execution_count": null,
   "id": "44b1c34b-313b-475a-9965-48a829107ed1",
   "metadata": {
    "lang": "en",
    "tags": [
     "exer"
    ]
   },
   "outputs": [],
   "source": [
    "average_lengths = merged_left.###(\n",
    "    ###)['hindfoot_length']###\n",
    "average_lengths.tail()"
   ]
  },
  {
   "cell_type": "code",
   "execution_count": null,
   "id": "37475258-fc0e-4c21-b778-3290460d2c0e",
   "metadata": {
    "lang": "fr"
   },
   "outputs": [],
   "source": [
    "longueurs_moyennes.plot(kind='line')"
   ]
  },
  {
   "cell_type": "code",
   "execution_count": null,
   "id": "e678c22f-2a1c-4e90-ad93-f3df07a7e09d",
   "metadata": {
    "lang": "en"
   },
   "outputs": [],
   "source": [
    "average_lengths.plot(kind='line')"
   ]
  },
  {
   "cell_type": "markdown",
   "id": "4a3a25fb-a68f-47c1-8f97-23f93e05cdb2",
   "metadata": {
    "lang": "fr"
   },
   "source": [
    "`3`. Calculez et créez un graphique (*bar-plot*) montrant\n",
    "le poids moyen selon le sexe pour chaque genre d'espèce.\n",
    "Pour cet exercice, nous allons utiliser une\n",
    "table de pivot à la place de `unstack()`.\n",
    "(2 min.)"
   ]
  },
  {
   "cell_type": "markdown",
   "id": "706256da-5ac4-49ab-b593-92611792fcc7",
   "metadata": {
    "lang": "en"
   },
   "source": [
    "`3`. Calculate and create a bar plot showing\n",
    "the average weight per sex for each genus.\n",
    "For this exercise, we will use a pivot table instead of `unstack()`.\n",
    "(2 min.)"
   ]
  },
  {
   "cell_type": "code",
   "execution_count": null,
   "id": "94b8f772-bf47-47b1-b705-18a93046e461",
   "metadata": {
    "lang": "fr",
    "tags": [
     "soln"
    ]
   },
   "outputs": [],
   "source": [
    "poids_par_genre_sexe = jonc_gauche.groupby(\n",
    "    ['genus', 'sex'])['weight'].mean().reset_index()\n",
    "poids_par_genre_sexe.tail()"
   ]
  },
  {
   "cell_type": "code",
   "execution_count": null,
   "id": "18081ffd-ee08-4136-bab6-082c3a37947f",
   "metadata": {
    "lang": "fr",
    "tags": [
     "exer"
    ]
   },
   "outputs": [],
   "source": [
    "poids_par_genre_sexe = jonc_gauche.groupby(\n",
    "    ['genus', 'sex'])['weight'].###()#.reset_index()\n",
    "poids_par_genre_sexe.tail()"
   ]
  },
  {
   "cell_type": "code",
   "execution_count": null,
   "id": "7336d1a0-8368-4829-b47e-d4538111a92e",
   "metadata": {
    "lang": "en",
    "tags": [
     "soln"
    ]
   },
   "outputs": [],
   "source": [
    "weights_by_genus_sex = merged_left.groupby(\n",
    "    ['genus', 'sex'])['weight'].mean().reset_index()\n",
    "weights_by_genus_sex.tail()"
   ]
  },
  {
   "cell_type": "code",
   "execution_count": null,
   "id": "f0d64bba-7946-4db8-89e1-de978eda2434",
   "metadata": {
    "lang": "en",
    "tags": [
     "exer"
    ]
   },
   "outputs": [],
   "source": [
    "weights_by_genus_sex = merged_left.groupby(\n",
    "    ['genus', 'sex'])['weight'].###()#.reset_index()\n",
    "weights_by_genus_sex.tail()"
   ]
  },
  {
   "cell_type": "code",
   "execution_count": null,
   "id": "1a06db73-266b-4a63-9ec8-89c24e3714fa",
   "metadata": {
    "lang": "fr"
   },
   "outputs": [],
   "source": [
    "# Utiliser pivot_table() au lieu de unstack()\n",
    "pivot_weight_genus_sex = poids_par_genre_sexe.pivot_table(\n",
    "    values='weight', index='genus', columns='sex')\n",
    "pivot_weight_genus_sex"
   ]
  },
  {
   "cell_type": "code",
   "execution_count": null,
   "id": "5542192f-8c3f-4996-b07a-78d40d035f94",
   "metadata": {
    "lang": "en"
   },
   "outputs": [],
   "source": [
    "# Use pivot_table() instead of unstack()\n",
    "pivot_weight_genus_sex = weights_by_genus_sex.pivot_table(\n",
    "    values='weight', index='genus', columns='sex')\n",
    "pivot_weight_genus_sex"
   ]
  },
  {
   "cell_type": "code",
   "execution_count": null,
   "id": "b45d6a03-66f8-429d-9fbe-d1bda91ae9f8",
   "metadata": {
    "lang": "en,fr"
   },
   "outputs": [],
   "source": [
    "pivot_weight_genus_sex.plot(kind=\"bar\")"
   ]
  },
  {
   "cell_type": "markdown",
   "id": "72d9c6d7-402c-4e8d-a31b-b3e957c5dec3",
   "metadata": {
    "lang": "fr"
   },
   "source": [
    "## Résumé technique\n",
    "* **Concaténer** des DataFrames avec `pandas.concat()`\n",
    "  * Requiert une liste de DataFrames\n",
    "  * Verticalement si `axis='index'` (par défaut)\n",
    "  * Horizontalement si `axis='columns'`\n",
    "  * Réinitialiser l'index au besoin : `reset_index(drop=True)`\n",
    "* **Joindre** des DataFrames avec `pandas.merge()`\n",
    "  * `left=`, `right=` : les deux DataFrames à joindre\n",
    "  * `left_on=`, `right_on=` : les clés de jonction de chaque DataFrame\n",
    "  * `on=` : clés de jonction communes aux deux DataFrames\n",
    "  * `how=` : `'inner'` (défaut), `'left'`, `'right'`, `'outer'`\n",
    "* **Table de pivot** : `pivot_table()`\n",
    "  * `values=colX`\n",
    "  * `index=[col_ind]`\n",
    "  * `columns=[categorie1, categorie2]`\n",
    "  * `aggfunc=numpy.mean` (défaut: moyenne)"
   ]
  },
  {
   "cell_type": "markdown",
   "id": "92341e8f-6b76-4812-b4ae-8fe5cd6b63e7",
   "metadata": {
    "lang": "en"
   },
   "source": [
    "## Technical Summary\n",
    "* **Concatenate** DataFrames with `pandas.concat()`\n",
    "  * Requires a list of DataFrames\n",
    "  * Vertically if `axis='index'` (by default)\n",
    "  * Horizontally if `axis='columns'`\n",
    "  * Resetting the index: `reset_index(drop=True)`\n",
    "* **Joining** DataFrames with `pandas.merge()`\n",
    "  * `left=`, `right=`: both DataFrames to join\n",
    "  * `left_on=`, `right_on=`: join key for each DataFrame\n",
    "  * `on=`: join key for both DataFrames\n",
    "  * `how=`: `'inner'` (default), `'left'`, `'right'`, `'outer'`\n",
    "* **Pivot table**  `pivot_table()`\n",
    "  * `values=colX`\n",
    "  * `index=[col_ind]`\n",
    "  * `columns=[category1, category2]`\n",
    "  * `aggfunc=numpy.mean` (default: mean)"
   ]
  },
  {
   "cell_type": "code",
   "execution_count": null,
   "id": "b91ca622-bb19-4f74-88d1-56b7d902bfb0",
   "metadata": {},
   "outputs": [],
   "source": []
  }
 ],
 "metadata": {
  "kernelspec": {
   "display_name": "Python 3 (ipykernel)",
   "language": "python",
   "name": "python3"
  },
  "language_info": {
   "codemirror_mode": {
    "name": "ipython",
    "version": 3
   },
   "file_extension": ".py",
   "mimetype": "text/x-python",
   "name": "python",
   "nbconvert_exporter": "python",
   "pygments_lexer": "ipython3",
   "version": "3.11.7"
  }
 },
 "nbformat": 4,
 "nbformat_minor": 5
}
